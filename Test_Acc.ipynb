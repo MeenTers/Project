{
  "nbformat": 4,
  "nbformat_minor": 0,
  "metadata": {
    "colab": {
      "name": "Test_Acc.ipynb",
      "provenance": [],
      "authorship_tag": "ABX9TyPpr+C5uzg57X114dW+qBTN",
      "include_colab_link": true
    },
    "kernelspec": {
      "name": "python3",
      "display_name": "Python 3"
    },
    "language_info": {
      "name": "python"
    },
    "accelerator": "GPU",
    "widgets": {
      "application/vnd.jupyter.widget-state+json": {
        "e219154116254e2bb4db4860495efe03": {
          "model_module": "@jupyter-widgets/controls",
          "model_name": "HBoxModel",
          "model_module_version": "1.5.0",
          "state": {
            "_dom_classes": [],
            "_model_module": "@jupyter-widgets/controls",
            "_model_module_version": "1.5.0",
            "_model_name": "HBoxModel",
            "_view_count": null,
            "_view_module": "@jupyter-widgets/controls",
            "_view_module_version": "1.5.0",
            "_view_name": "HBoxView",
            "box_style": "",
            "children": [
              "IPY_MODEL_f8f60abedc3344398dddd851cb742bc8",
              "IPY_MODEL_3897424f897148048556b694dbc454ec",
              "IPY_MODEL_10e24135f3c6421b9eb7b13fea8cb0b6"
            ],
            "layout": "IPY_MODEL_d58684dfb763403b8242b1d7968b1b63"
          }
        },
        "f8f60abedc3344398dddd851cb742bc8": {
          "model_module": "@jupyter-widgets/controls",
          "model_name": "HTMLModel",
          "model_module_version": "1.5.0",
          "state": {
            "_dom_classes": [],
            "_model_module": "@jupyter-widgets/controls",
            "_model_module_version": "1.5.0",
            "_model_name": "HTMLModel",
            "_view_count": null,
            "_view_module": "@jupyter-widgets/controls",
            "_view_module_version": "1.5.0",
            "_view_name": "HTMLView",
            "description": "",
            "description_tooltip": null,
            "layout": "IPY_MODEL_27376dcdc6314aab903ec8827b0a1bad",
            "placeholder": "​",
            "style": "IPY_MODEL_03c6b14435a84c9a9ee1175ba47ca556",
            "value": "100%"
          }
        },
        "3897424f897148048556b694dbc454ec": {
          "model_module": "@jupyter-widgets/controls",
          "model_name": "FloatProgressModel",
          "model_module_version": "1.5.0",
          "state": {
            "_dom_classes": [],
            "_model_module": "@jupyter-widgets/controls",
            "_model_module_version": "1.5.0",
            "_model_name": "FloatProgressModel",
            "_view_count": null,
            "_view_module": "@jupyter-widgets/controls",
            "_view_module_version": "1.5.0",
            "_view_name": "ProgressView",
            "bar_style": "success",
            "description": "",
            "description_tooltip": null,
            "layout": "IPY_MODEL_ae640b2766c04f17a9e4021518e659e3",
            "max": 574673361,
            "min": 0,
            "orientation": "horizontal",
            "style": "IPY_MODEL_ee6aa8e192c64d7cb63370b49f70e924",
            "value": 574673361
          }
        },
        "10e24135f3c6421b9eb7b13fea8cb0b6": {
          "model_module": "@jupyter-widgets/controls",
          "model_name": "HTMLModel",
          "model_module_version": "1.5.0",
          "state": {
            "_dom_classes": [],
            "_model_module": "@jupyter-widgets/controls",
            "_model_module_version": "1.5.0",
            "_model_name": "HTMLModel",
            "_view_count": null,
            "_view_module": "@jupyter-widgets/controls",
            "_view_module_version": "1.5.0",
            "_view_name": "HTMLView",
            "description": "",
            "description_tooltip": null,
            "layout": "IPY_MODEL_4f01177145a945a3b944feb827943aa4",
            "placeholder": "​",
            "style": "IPY_MODEL_827974973b0249acaa8fc4814ff2e7d5",
            "value": " 548M/548M [00:03&lt;00:00, 178MB/s]"
          }
        },
        "d58684dfb763403b8242b1d7968b1b63": {
          "model_module": "@jupyter-widgets/base",
          "model_name": "LayoutModel",
          "model_module_version": "1.2.0",
          "state": {
            "_model_module": "@jupyter-widgets/base",
            "_model_module_version": "1.2.0",
            "_model_name": "LayoutModel",
            "_view_count": null,
            "_view_module": "@jupyter-widgets/base",
            "_view_module_version": "1.2.0",
            "_view_name": "LayoutView",
            "align_content": null,
            "align_items": null,
            "align_self": null,
            "border": null,
            "bottom": null,
            "display": null,
            "flex": null,
            "flex_flow": null,
            "grid_area": null,
            "grid_auto_columns": null,
            "grid_auto_flow": null,
            "grid_auto_rows": null,
            "grid_column": null,
            "grid_gap": null,
            "grid_row": null,
            "grid_template_areas": null,
            "grid_template_columns": null,
            "grid_template_rows": null,
            "height": null,
            "justify_content": null,
            "justify_items": null,
            "left": null,
            "margin": null,
            "max_height": null,
            "max_width": null,
            "min_height": null,
            "min_width": null,
            "object_fit": null,
            "object_position": null,
            "order": null,
            "overflow": null,
            "overflow_x": null,
            "overflow_y": null,
            "padding": null,
            "right": null,
            "top": null,
            "visibility": null,
            "width": null
          }
        },
        "27376dcdc6314aab903ec8827b0a1bad": {
          "model_module": "@jupyter-widgets/base",
          "model_name": "LayoutModel",
          "model_module_version": "1.2.0",
          "state": {
            "_model_module": "@jupyter-widgets/base",
            "_model_module_version": "1.2.0",
            "_model_name": "LayoutModel",
            "_view_count": null,
            "_view_module": "@jupyter-widgets/base",
            "_view_module_version": "1.2.0",
            "_view_name": "LayoutView",
            "align_content": null,
            "align_items": null,
            "align_self": null,
            "border": null,
            "bottom": null,
            "display": null,
            "flex": null,
            "flex_flow": null,
            "grid_area": null,
            "grid_auto_columns": null,
            "grid_auto_flow": null,
            "grid_auto_rows": null,
            "grid_column": null,
            "grid_gap": null,
            "grid_row": null,
            "grid_template_areas": null,
            "grid_template_columns": null,
            "grid_template_rows": null,
            "height": null,
            "justify_content": null,
            "justify_items": null,
            "left": null,
            "margin": null,
            "max_height": null,
            "max_width": null,
            "min_height": null,
            "min_width": null,
            "object_fit": null,
            "object_position": null,
            "order": null,
            "overflow": null,
            "overflow_x": null,
            "overflow_y": null,
            "padding": null,
            "right": null,
            "top": null,
            "visibility": null,
            "width": null
          }
        },
        "03c6b14435a84c9a9ee1175ba47ca556": {
          "model_module": "@jupyter-widgets/controls",
          "model_name": "DescriptionStyleModel",
          "model_module_version": "1.5.0",
          "state": {
            "_model_module": "@jupyter-widgets/controls",
            "_model_module_version": "1.5.0",
            "_model_name": "DescriptionStyleModel",
            "_view_count": null,
            "_view_module": "@jupyter-widgets/base",
            "_view_module_version": "1.2.0",
            "_view_name": "StyleView",
            "description_width": ""
          }
        },
        "ae640b2766c04f17a9e4021518e659e3": {
          "model_module": "@jupyter-widgets/base",
          "model_name": "LayoutModel",
          "model_module_version": "1.2.0",
          "state": {
            "_model_module": "@jupyter-widgets/base",
            "_model_module_version": "1.2.0",
            "_model_name": "LayoutModel",
            "_view_count": null,
            "_view_module": "@jupyter-widgets/base",
            "_view_module_version": "1.2.0",
            "_view_name": "LayoutView",
            "align_content": null,
            "align_items": null,
            "align_self": null,
            "border": null,
            "bottom": null,
            "display": null,
            "flex": null,
            "flex_flow": null,
            "grid_area": null,
            "grid_auto_columns": null,
            "grid_auto_flow": null,
            "grid_auto_rows": null,
            "grid_column": null,
            "grid_gap": null,
            "grid_row": null,
            "grid_template_areas": null,
            "grid_template_columns": null,
            "grid_template_rows": null,
            "height": null,
            "justify_content": null,
            "justify_items": null,
            "left": null,
            "margin": null,
            "max_height": null,
            "max_width": null,
            "min_height": null,
            "min_width": null,
            "object_fit": null,
            "object_position": null,
            "order": null,
            "overflow": null,
            "overflow_x": null,
            "overflow_y": null,
            "padding": null,
            "right": null,
            "top": null,
            "visibility": null,
            "width": null
          }
        },
        "ee6aa8e192c64d7cb63370b49f70e924": {
          "model_module": "@jupyter-widgets/controls",
          "model_name": "ProgressStyleModel",
          "model_module_version": "1.5.0",
          "state": {
            "_model_module": "@jupyter-widgets/controls",
            "_model_module_version": "1.5.0",
            "_model_name": "ProgressStyleModel",
            "_view_count": null,
            "_view_module": "@jupyter-widgets/base",
            "_view_module_version": "1.2.0",
            "_view_name": "StyleView",
            "bar_color": null,
            "description_width": ""
          }
        },
        "4f01177145a945a3b944feb827943aa4": {
          "model_module": "@jupyter-widgets/base",
          "model_name": "LayoutModel",
          "model_module_version": "1.2.0",
          "state": {
            "_model_module": "@jupyter-widgets/base",
            "_model_module_version": "1.2.0",
            "_model_name": "LayoutModel",
            "_view_count": null,
            "_view_module": "@jupyter-widgets/base",
            "_view_module_version": "1.2.0",
            "_view_name": "LayoutView",
            "align_content": null,
            "align_items": null,
            "align_self": null,
            "border": null,
            "bottom": null,
            "display": null,
            "flex": null,
            "flex_flow": null,
            "grid_area": null,
            "grid_auto_columns": null,
            "grid_auto_flow": null,
            "grid_auto_rows": null,
            "grid_column": null,
            "grid_gap": null,
            "grid_row": null,
            "grid_template_areas": null,
            "grid_template_columns": null,
            "grid_template_rows": null,
            "height": null,
            "justify_content": null,
            "justify_items": null,
            "left": null,
            "margin": null,
            "max_height": null,
            "max_width": null,
            "min_height": null,
            "min_width": null,
            "object_fit": null,
            "object_position": null,
            "order": null,
            "overflow": null,
            "overflow_x": null,
            "overflow_y": null,
            "padding": null,
            "right": null,
            "top": null,
            "visibility": null,
            "width": null
          }
        },
        "827974973b0249acaa8fc4814ff2e7d5": {
          "model_module": "@jupyter-widgets/controls",
          "model_name": "DescriptionStyleModel",
          "model_module_version": "1.5.0",
          "state": {
            "_model_module": "@jupyter-widgets/controls",
            "_model_module_version": "1.5.0",
            "_model_name": "DescriptionStyleModel",
            "_view_count": null,
            "_view_module": "@jupyter-widgets/base",
            "_view_module_version": "1.2.0",
            "_view_name": "StyleView",
            "description_width": ""
          }
        }
      }
    }
  },
  "cells": [
    {
      "cell_type": "markdown",
      "metadata": {
        "id": "view-in-github",
        "colab_type": "text"
      },
      "source": [
        "<a href=\"https://colab.research.google.com/github/MeenTers/Project/blob/main/Test_Acc.ipynb\" target=\"_parent\"><img src=\"https://colab.research.google.com/assets/colab-badge.svg\" alt=\"Open In Colab\"/></a>"
      ]
    },
    {
      "cell_type": "code",
      "execution_count": 1,
      "metadata": {
        "colab": {
          "base_uri": "https://localhost:8080/"
        },
        "id": "9WT1_LdhIdPH",
        "outputId": "669633f0-4c6a-4680-ee6d-26e115fbad4e"
      },
      "outputs": [
        {
          "output_type": "stream",
          "name": "stdout",
          "text": [
            "Mounted at /content/drive\n"
          ]
        }
      ],
      "source": [
        "from google.colab import drive\n",
        "drive.mount('/content/drive')"
      ]
    },
    {
      "cell_type": "code",
      "source": [
        "import torch\n",
        "from torch import nn, load, utils\n",
        "from tqdm import tqdm\n",
        "import matplotlib.pyplot as plt\n",
        "import numpy as np\n",
        "from torchvision import datasets, transforms, models\n",
        "from torchvision.models.vgg import model_urls\n",
        "from os import path, listdir\n",
        "model_urls['vgg19'] = model_urls['vgg19'].replace('https://', 'http://')"
      ],
      "metadata": {
        "id": "oV99IKwOIoQb"
      },
      "execution_count": 2,
      "outputs": []
    },
    {
      "cell_type": "code",
      "source": [
        "from scipy.spatial import distance_matrix\n",
        "from scipy.spatial import distance\n",
        "import pandas as pd"
      ],
      "metadata": {
        "id": "7QIdVXkhI6Fj"
      },
      "execution_count": 3,
      "outputs": []
    },
    {
      "cell_type": "code",
      "source": [
        "import matplotlib.image as mpimg\n",
        "import matplotlib.pyplot as plt\n",
        "import cv2"
      ],
      "metadata": {
        "id": "EamHxyOFI7kH"
      },
      "execution_count": 4,
      "outputs": []
    },
    {
      "cell_type": "markdown",
      "source": [
        "# VGG model"
      ],
      "metadata": {
        "id": "YhNCsVclI-RE"
      }
    },
    {
      "cell_type": "code",
      "source": [
        "class VGG:\n",
        "\tdef __init__(self):\n",
        "\t\tmodel = models.vgg19(pretrained=True, progress=True)\n",
        "\t\tmodel.classifier = nn.Sequential(*list(model.classifier.children())[:3])\n",
        "\t\tself.model = model.cuda().eval()\n",
        "\n",
        "\tdef __call__(self, x):\n",
        "\t\treturn self.model(x)"
      ],
      "metadata": {
        "id": "3f4Q3CTcI8yY"
      },
      "execution_count": 5,
      "outputs": []
    },
    {
      "cell_type": "code",
      "source": [
        "vgg = VGG()"
      ],
      "metadata": {
        "id": "g4N3GcfBJAQm",
        "outputId": "3c672b30-e659-4897-c6a3-f6643f6f1e7e",
        "colab": {
          "base_uri": "https://localhost:8080/",
          "height": 66,
          "referenced_widgets": [
            "e219154116254e2bb4db4860495efe03",
            "f8f60abedc3344398dddd851cb742bc8",
            "3897424f897148048556b694dbc454ec",
            "10e24135f3c6421b9eb7b13fea8cb0b6",
            "d58684dfb763403b8242b1d7968b1b63",
            "27376dcdc6314aab903ec8827b0a1bad",
            "03c6b14435a84c9a9ee1175ba47ca556",
            "ae640b2766c04f17a9e4021518e659e3",
            "ee6aa8e192c64d7cb63370b49f70e924",
            "4f01177145a945a3b944feb827943aa4",
            "827974973b0249acaa8fc4814ff2e7d5"
          ]
        }
      },
      "execution_count": 6,
      "outputs": [
        {
          "output_type": "stream",
          "name": "stderr",
          "text": [
            "Downloading: \"http://download.pytorch.org/models/vgg19-dcbb9e9d.pth\" to /root/.cache/torch/hub/checkpoints/vgg19-dcbb9e9d.pth\n"
          ]
        },
        {
          "output_type": "display_data",
          "data": {
            "text/plain": [
              "  0%|          | 0.00/548M [00:00<?, ?B/s]"
            ],
            "application/vnd.jupyter.widget-view+json": {
              "version_major": 2,
              "version_minor": 0,
              "model_id": "e219154116254e2bb4db4860495efe03"
            }
          },
          "metadata": {}
        }
      ]
    },
    {
      "cell_type": "markdown",
      "source": [
        "# Create Features Extraction Function"
      ],
      "metadata": {
        "id": "XPA6_70zJDd6"
      }
    },
    {
      "cell_type": "code",
      "source": [
        "def get_features(model, loader):\n",
        "    features = []\n",
        "    with torch.no_grad():\n",
        "        for batch, _ in tqdm(loader):\n",
        "            if torch.cuda.is_available():\n",
        "                batch = batch.cuda()\n",
        "            b_features = model(batch).detach().cpu().numpy()\n",
        "            for f in b_features:\n",
        "                features.append(f)\n",
        "\n",
        "    return features"
      ],
      "metadata": {
        "id": "gLyRjsINJBzS"
      },
      "execution_count": 7,
      "outputs": []
    },
    {
      "cell_type": "markdown",
      "source": [
        "# Create Loading the data Function"
      ],
      "metadata": {
        "id": "TFMxG2gwJS4e"
      }
    },
    {
      "cell_type": "code",
      "source": [
        "def get_dataset(images_path):\n",
        "  transform = transforms.Compose([\n",
        "    transforms.Resize(size=32),\n",
        "    transforms.ToTensor(),\n",
        "    transforms.Normalize((0.4914, 0.4822, 0.4465), (0.2023, 0.1994, 0.2010)),\n",
        "  ])\n",
        "\n",
        "  dataset = datasets.ImageFolder(images_path, transform=transform)\n",
        "  loader = utils.data.DataLoader(dataset, batch_size=100, shuffle=False, num_workers=1, pin_memory=True)\n",
        "  return loader"
      ],
      "metadata": {
        "id": "8ddXIommJRMG"
      },
      "execution_count": 8,
      "outputs": []
    },
    {
      "cell_type": "code",
      "source": [
        "def get_euclidean(base_car,diff_view):\n",
        "    A = []\n",
        "    for i in range(len(diff_view)):\n",
        "        x = distance.euclidean(base_car[i],diff_view[i])\n",
        "        A.append(x)\n",
        "    return(A)"
      ],
      "metadata": {
        "id": "N3zGGxmsJU4N"
      },
      "execution_count": 9,
      "outputs": []
    },
    {
      "cell_type": "markdown",
      "source": [
        "# Test Min(75%)"
      ],
      "metadata": {
        "id": "XtNx06TDJd_F"
      }
    },
    {
      "cell_type": "code",
      "source": [
        "def get_dmg_F(eucli):\n",
        "          if eucli[0] < 2.28:\n",
        "              print('N')\n",
        "          elif   2.28 <= eucli[0] <= 9.43:\n",
        "              print('L')\n",
        "          elif 9.43 < eucli[0] <= 13.38:\n",
        "              print('M')\n",
        "          elif eucli[0] > 13.38:\n",
        "               print('H')"
      ],
      "metadata": {
        "id": "tJXUpp0r3E5_"
      },
      "execution_count": 10,
      "outputs": []
    },
    {
      "cell_type": "code",
      "source": [
        "def get_dmg_L(eucli):\n",
        "          if eucli[1] < 0.15:\n",
        "              print('N')\n",
        "          elif   0.15 <= eucli[1] <= 16.9:\n",
        "              print('L')\n",
        "          elif 16.9 < eucli[1] <= 23.11:\n",
        "              print('M')\n",
        "          elif eucli[1] > 23.11:\n",
        "               print('H')"
      ],
      "metadata": {
        "id": "mjyJBOSN3sSt"
      },
      "execution_count": 11,
      "outputs": []
    },
    {
      "cell_type": "code",
      "source": [
        "def get_dmg_B(eucli):\n",
        "          if eucli[2] < 1.42:\n",
        "              print('N')\n",
        "          elif   1.42 <= eucli[2] <= 2.61:\n",
        "              print('L')\n",
        "          elif 2.61 < eucli[2] <= 9.4:\n",
        "              print('M')\n",
        "          elif eucli[2] > 9.4:\n",
        "               print('H')"
      ],
      "metadata": {
        "id": "Bqip7Gu_396v"
      },
      "execution_count": 12,
      "outputs": []
    },
    {
      "cell_type": "code",
      "source": [
        "def get_dmg_R(eucli):\n",
        "          if eucli[3] < 0.14:\n",
        "              print('N')\n",
        "          elif   0.14 <= eucli[3] <= 13.21:\n",
        "              print('L')\n",
        "          elif 13.21 < eucli[3] <= 24.6:\n",
        "              print('M')\n",
        "          elif eucli[3] > 24.6:\n",
        "               print('H')"
      ],
      "metadata": {
        "id": "ZJAOJk3-4JEo"
      },
      "execution_count": 13,
      "outputs": []
    },
    {
      "cell_type": "code",
      "source": [
        "car1 = get_dataset(r'/content/drive/MyDrive/test_acc/base/ID01/base')\n",
        "dmg1 = get_dataset(r'/content/drive/MyDrive/test_acc/dmg/IDT01/ldmg/ldmg')"
      ],
      "metadata": {
        "id": "YT5q7N2lJWvQ"
      },
      "execution_count": 14,
      "outputs": []
    },
    {
      "cell_type": "code",
      "source": [
        "id1b = get_features(vgg,car1)\n",
        "id1v = get_features(vgg,dmg1)"
      ],
      "metadata": {
        "colab": {
          "base_uri": "https://localhost:8080/"
        },
        "id": "Zg7usBfeJwQO",
        "outputId": "676956b8-a6bc-49bc-fec1-07ac37f07360"
      },
      "execution_count": 15,
      "outputs": [
        {
          "output_type": "stream",
          "name": "stderr",
          "text": [
            "100%|██████████| 1/1 [00:01<00:00,  1.32s/it]\n",
            "100%|██████████| 1/1 [00:01<00:00,  1.43s/it]\n"
          ]
        }
      ]
    },
    {
      "cell_type": "code",
      "source": [
        "ldmg = get_euclidean(id1b,id1v)\n",
        "ldmg "
      ],
      "metadata": {
        "colab": {
          "base_uri": "https://localhost:8080/"
        },
        "id": "FioQI2sVK1QE",
        "outputId": "ffe01c3c-3c37-4062-fe40-4d4dd450c51a"
      },
      "execution_count": 16,
      "outputs": [
        {
          "output_type": "execute_result",
          "data": {
            "text/plain": [
              "[10.163106918334961,\n",
              " 13.784590721130371,\n",
              " 11.248163223266602,\n",
              " 0.7433202266693115]"
            ]
          },
          "metadata": {},
          "execution_count": 16
        }
      ]
    },
    {
      "cell_type": "code",
      "source": [
        "get_dmg_F(ldmg)\n",
        "get_dmg_L(ldmg)\n",
        "get_dmg_B(ldmg)\n",
        "get_dmg_R(ldmg)"
      ],
      "metadata": {
        "id": "tF4Oommr5RzN",
        "outputId": "1870dcab-9fbb-470d-91b6-3b5929bda5ab",
        "colab": {
          "base_uri": "https://localhost:8080/"
        }
      },
      "execution_count": 17,
      "outputs": [
        {
          "output_type": "stream",
          "name": "stdout",
          "text": [
            "M\n",
            "L\n",
            "H\n",
            "L\n"
          ]
        }
      ]
    },
    {
      "cell_type": "code",
      "source": [
        "car5 = get_dataset(r'/content/drive/MyDrive/test_acc/base/ID02/base')\n",
        "dmg5 = get_dataset(r'/content/drive/MyDrive/test_acc/dmg/IDT02/ldamage')"
      ],
      "metadata": {
        "id": "86KY1v6GNFhf"
      },
      "execution_count": 31,
      "outputs": []
    },
    {
      "cell_type": "code",
      "source": [
        "id5b = get_features(vgg,car5)\n",
        "id5v = get_features(vgg,dmg5)"
      ],
      "metadata": {
        "id": "UMcAcZCyNRBr",
        "outputId": "6b9efef6-5b36-47cd-8d0f-8b1ad27ec2b9",
        "colab": {
          "base_uri": "https://localhost:8080/"
        }
      },
      "execution_count": 32,
      "outputs": [
        {
          "output_type": "stream",
          "name": "stderr",
          "text": [
            "100%|██████████| 1/1 [00:01<00:00,  1.38s/it]\n",
            "100%|██████████| 1/1 [00:01<00:00,  1.32s/it]\n"
          ]
        }
      ]
    },
    {
      "cell_type": "code",
      "source": [
        "ldmg2 = get_euclidean(id5b,id5v)\n",
        "ldmg2"
      ],
      "metadata": {
        "id": "HeWaAGTeNTKD",
        "outputId": "7b3e83e9-a60e-4766-a284-1c6b3d7504d8",
        "colab": {
          "base_uri": "https://localhost:8080/"
        }
      },
      "execution_count": 34,
      "outputs": [
        {
          "output_type": "execute_result",
          "data": {
            "text/plain": [
              "[15.572575569152832, 2.2729170322418213, 5.5173821449279785, 2.493569850921631]"
            ]
          },
          "metadata": {},
          "execution_count": 34
        }
      ]
    },
    {
      "cell_type": "code",
      "source": [
        "get_dmg_F(ldmg2)\n",
        "get_dmg_L(ldmg2)\n",
        "get_dmg_B(ldmg2)\n",
        "get_dmg_R(ldmg2)"
      ],
      "metadata": {
        "id": "4hd1jrsTNaZn",
        "outputId": "ff539ea8-50a6-4cd5-ecf1-af54ffd7154d",
        "colab": {
          "base_uri": "https://localhost:8080/"
        }
      },
      "execution_count": 35,
      "outputs": [
        {
          "output_type": "stream",
          "name": "stdout",
          "text": [
            "H\n",
            "L\n",
            "M\n",
            "L\n"
          ]
        }
      ]
    },
    {
      "cell_type": "code",
      "source": [
        "car2 = get_dataset(r'/content/drive/MyDrive/test_acc/base/ID01/base')\n",
        "dmg2 = get_dataset(r'/content/drive/MyDrive/test_acc/dmg/IDT01/dmg/dmg')"
      ],
      "metadata": {
        "id": "mP8gyodtK8BH"
      },
      "execution_count": 18,
      "outputs": []
    },
    {
      "cell_type": "code",
      "source": [
        "id2b = get_features(vgg,car2)\n",
        "id2v = get_features(vgg,dmg2)"
      ],
      "metadata": {
        "colab": {
          "base_uri": "https://localhost:8080/"
        },
        "id": "-38qlu0GLIfm",
        "outputId": "a04b28ad-253e-448f-ae95-aff9eb190879"
      },
      "execution_count": 19,
      "outputs": [
        {
          "output_type": "stream",
          "name": "stderr",
          "text": [
            "100%|██████████| 1/1 [00:00<00:00,  4.62it/s]\n",
            "100%|██████████| 1/1 [00:01<00:00,  1.49s/it]\n"
          ]
        }
      ]
    },
    {
      "cell_type": "code",
      "source": [
        "dmg = get_euclidean(id2b,id2v)\n",
        "dmg "
      ],
      "metadata": {
        "colab": {
          "base_uri": "https://localhost:8080/"
        },
        "id": "KAHLNzklLg8R",
        "outputId": "4dd52f20-3cab-46a5-c039-14d77bfa9a41"
      },
      "execution_count": 20,
      "outputs": [
        {
          "output_type": "execute_result",
          "data": {
            "text/plain": [
              "[12.1842622756958, 24.313583374023438, 10.790995597839355, 14.052972793579102]"
            ]
          },
          "metadata": {},
          "execution_count": 20
        }
      ]
    },
    {
      "cell_type": "code",
      "source": [
        "get_dmg_F(dmg)\n",
        "get_dmg_L(dmg)\n",
        "get_dmg_B(dmg)\n",
        "get_dmg_R(dmg)"
      ],
      "metadata": {
        "id": "CNIRIcXl5sw4",
        "outputId": "6fd1efaf-796a-4af9-a0e1-12c95443f8ec",
        "colab": {
          "base_uri": "https://localhost:8080/"
        }
      },
      "execution_count": 21,
      "outputs": [
        {
          "output_type": "stream",
          "name": "stdout",
          "text": [
            "M\n",
            "H\n",
            "H\n",
            "M\n"
          ]
        }
      ]
    },
    {
      "cell_type": "code",
      "source": [
        "car6 = get_dataset(r'/content/drive/MyDrive/test_acc/base/ID02/base')\n",
        "dmg6 = get_dataset(r'/content/drive/MyDrive/test_acc/dmg/IDT02/damage')"
      ],
      "metadata": {
        "id": "UfY8Ss5fNf9Q"
      },
      "execution_count": 36,
      "outputs": []
    },
    {
      "cell_type": "code",
      "source": [
        "id6b = get_features(vgg,car6)\n",
        "id6v = get_features(vgg,dmg6)"
      ],
      "metadata": {
        "id": "2uv80lutNjc0",
        "outputId": "d58877de-3654-4672-cecc-c1df16453b65",
        "colab": {
          "base_uri": "https://localhost:8080/"
        }
      },
      "execution_count": 37,
      "outputs": [
        {
          "output_type": "stream",
          "name": "stderr",
          "text": [
            "100%|██████████| 1/1 [00:00<00:00,  4.26it/s]\n",
            "100%|██████████| 1/1 [00:01<00:00,  1.33s/it]\n"
          ]
        }
      ]
    },
    {
      "cell_type": "code",
      "source": [
        "dmg2 = get_euclidean(id6b,id6v)\n",
        "dmg2 "
      ],
      "metadata": {
        "id": "loYRdD7jNmya",
        "outputId": "b4c1b75d-223c-48c4-84bb-e4ab0afce171",
        "colab": {
          "base_uri": "https://localhost:8080/"
        }
      },
      "execution_count": 38,
      "outputs": [
        {
          "output_type": "execute_result",
          "data": {
            "text/plain": [
              "[28.40903663635254, 43.57123565673828, 20.138887405395508, 32.70841598510742]"
            ]
          },
          "metadata": {},
          "execution_count": 38
        }
      ]
    },
    {
      "cell_type": "code",
      "source": [
        "get_dmg_F(dmg)\n",
        "get_dmg_L(dmg)\n",
        "get_dmg_B(dmg)\n",
        "get_dmg_R(dmg)"
      ],
      "metadata": {
        "id": "MbZt3DFLNtMk",
        "outputId": "2fb276f0-d737-4d48-d0bf-69fa5e79dbaf",
        "colab": {
          "base_uri": "https://localhost:8080/"
        }
      },
      "execution_count": 39,
      "outputs": [
        {
          "output_type": "stream",
          "name": "stdout",
          "text": [
            "M\n",
            "H\n",
            "H\n",
            "M\n"
          ]
        }
      ]
    },
    {
      "cell_type": "code",
      "source": [
        "car3 = get_dataset(r'/content/drive/MyDrive/test_acc/base/ID01/base')\n",
        "dmg3 = get_dataset(r'/content/drive/MyDrive/test_acc/dmg/IDT01/mdmg/mdmg')"
      ],
      "metadata": {
        "id": "-EAVwsV3LkLF"
      },
      "execution_count": 22,
      "outputs": []
    },
    {
      "cell_type": "code",
      "source": [
        "id3b = get_features(vgg,car3)\n",
        "id3v = get_features(vgg,dmg3)"
      ],
      "metadata": {
        "colab": {
          "base_uri": "https://localhost:8080/"
        },
        "id": "Muj7UM1yLrDw",
        "outputId": "efe5e8b2-9dd6-485e-fd37-cac744585842"
      },
      "execution_count": 23,
      "outputs": [
        {
          "output_type": "stream",
          "name": "stderr",
          "text": [
            "100%|██████████| 1/1 [00:00<00:00,  4.42it/s]\n",
            "100%|██████████| 1/1 [00:01<00:00,  1.35s/it]\n"
          ]
        }
      ]
    },
    {
      "cell_type": "code",
      "source": [
        "mdmg = get_euclidean(id3b,id3v)\n",
        "mdmg "
      ],
      "metadata": {
        "colab": {
          "base_uri": "https://localhost:8080/"
        },
        "id": "mIObVHYbLvEJ",
        "outputId": "ad0e61dd-cec0-4157-a535-7520a3460eda"
      },
      "execution_count": 24,
      "outputs": [
        {
          "output_type": "execute_result",
          "data": {
            "text/plain": [
              "[44.37136459350586, 35.648563385009766, 28.415727615356445, 38.51735305786133]"
            ]
          },
          "metadata": {},
          "execution_count": 24
        }
      ]
    },
    {
      "cell_type": "code",
      "source": [
        "get_dmg_F(mdmg)\n",
        "get_dmg_L(mdmg)\n",
        "get_dmg_B(mdmg)\n",
        "get_dmg_R(mdmg)"
      ],
      "metadata": {
        "id": "O82foi1f54AA",
        "outputId": "5bed8cb7-4ffd-40d5-b2bf-dc310c4a8aac",
        "colab": {
          "base_uri": "https://localhost:8080/"
        }
      },
      "execution_count": 25,
      "outputs": [
        {
          "output_type": "stream",
          "name": "stdout",
          "text": [
            "H\n",
            "H\n",
            "H\n",
            "H\n"
          ]
        }
      ]
    },
    {
      "cell_type": "code",
      "source": [
        "car7 = get_dataset(r'/content/drive/MyDrive/test_acc/base/ID02/base')\n",
        "dmg7 = get_dataset(r'/content/drive/MyDrive/test_acc/dmg/IDT02/mdamage')"
      ],
      "metadata": {
        "id": "yugD4aSpNyGN"
      },
      "execution_count": 40,
      "outputs": []
    },
    {
      "cell_type": "code",
      "source": [
        "id7b = get_features(vgg,car7)\n",
        "id7v = get_features(vgg,dmg7)"
      ],
      "metadata": {
        "id": "w45w-815N2LK",
        "outputId": "17ef9e3d-897d-4023-f65b-83116fa05785",
        "colab": {
          "base_uri": "https://localhost:8080/"
        }
      },
      "execution_count": 41,
      "outputs": [
        {
          "output_type": "stream",
          "name": "stderr",
          "text": [
            "100%|██████████| 1/1 [00:00<00:00,  3.06it/s]\n",
            "100%|██████████| 1/1 [00:01<00:00,  1.49s/it]\n"
          ]
        }
      ]
    },
    {
      "cell_type": "code",
      "source": [
        "mdmg2 = get_euclidean(id7b,id7v)\n",
        "mdmg2 "
      ],
      "metadata": {
        "id": "ag-bGP70N623",
        "outputId": "0fe89475-e0f7-48d8-a783-f18348fb0abb",
        "colab": {
          "base_uri": "https://localhost:8080/"
        }
      },
      "execution_count": 42,
      "outputs": [
        {
          "output_type": "execute_result",
          "data": {
            "text/plain": [
              "[62.39018630981445, 61.76888656616211, 39.95536422729492, 50.05046081542969]"
            ]
          },
          "metadata": {},
          "execution_count": 42
        }
      ]
    },
    {
      "cell_type": "code",
      "source": [
        "get_dmg_F(mdmg2)\n",
        "get_dmg_L(mdmg2)\n",
        "get_dmg_B(mdmg2)\n",
        "get_dmg_R(mdmg2)"
      ],
      "metadata": {
        "id": "1D06-UPwN-Bs",
        "outputId": "1d6e799f-c039-4cb6-c051-70b347d3ef04",
        "colab": {
          "base_uri": "https://localhost:8080/"
        }
      },
      "execution_count": 43,
      "outputs": [
        {
          "output_type": "stream",
          "name": "stdout",
          "text": [
            "H\n",
            "H\n",
            "H\n",
            "H\n"
          ]
        }
      ]
    },
    {
      "cell_type": "code",
      "source": [
        "car4 = get_dataset(r'/content/drive/MyDrive/test_acc/base/ID01/base')\n",
        "dmg4 = get_dataset(r'/content/drive/MyDrive/test_acc/base/ID01/base')"
      ],
      "metadata": {
        "id": "CC3oauprL3dm"
      },
      "execution_count": 26,
      "outputs": []
    },
    {
      "cell_type": "code",
      "source": [
        "id4b = get_features(vgg,car4)\n",
        "id4v = get_features(vgg,dmg4)"
      ],
      "metadata": {
        "colab": {
          "base_uri": "https://localhost:8080/"
        },
        "id": "B6Yh5_muL-UW",
        "outputId": "04fea4fb-c23c-4c67-a9a8-f00425ba8374"
      },
      "execution_count": 27,
      "outputs": [
        {
          "output_type": "stream",
          "name": "stderr",
          "text": [
            "100%|██████████| 1/1 [00:00<00:00,  4.38it/s]\n",
            "100%|██████████| 1/1 [00:00<00:00,  4.61it/s]\n"
          ]
        }
      ]
    },
    {
      "cell_type": "code",
      "source": [
        "nodmg = get_euclidean(id4b,id4v)\n",
        "nodmg "
      ],
      "metadata": {
        "id": "8el_diAfM3KY",
        "outputId": "87cd7dc0-0cd2-4eb6-88d8-9537ee540480",
        "colab": {
          "base_uri": "https://localhost:8080/"
        }
      },
      "execution_count": 29,
      "outputs": [
        {
          "output_type": "execute_result",
          "data": {
            "text/plain": [
              "[0.0, 0.0, 0.0, 0.0]"
            ]
          },
          "metadata": {},
          "execution_count": 29
        }
      ]
    },
    {
      "cell_type": "code",
      "source": [
        "get_dmg_F(nodmg)\n",
        "get_dmg_L(nodmg)\n",
        "get_dmg_B(nodmg)\n",
        "get_dmg_R(nodmg)"
      ],
      "metadata": {
        "id": "QBkJQwmu6G26",
        "outputId": "c3746bbc-d948-4de9-82df-5b9f1c715ea7",
        "colab": {
          "base_uri": "https://localhost:8080/"
        }
      },
      "execution_count": 30,
      "outputs": [
        {
          "output_type": "stream",
          "name": "stdout",
          "text": [
            "N\n",
            "N\n",
            "N\n",
            "N\n"
          ]
        }
      ]
    },
    {
      "cell_type": "code",
      "source": [
        "car8 = get_dataset(r'/content/drive/MyDrive/test_acc/base/ID02/base')\n",
        "dmg8 = get_dataset(r'/content/drive/MyDrive/test_acc/base/ID02/base')"
      ],
      "metadata": {
        "id": "T9uqUSulOCKs"
      },
      "execution_count": 44,
      "outputs": []
    },
    {
      "cell_type": "code",
      "source": [
        "id8b = get_features(vgg,car8)\n",
        "id8v = get_features(vgg,dmg8)"
      ],
      "metadata": {
        "id": "HTKWnUprOJfO",
        "outputId": "d465bc6d-08f1-493e-f6bc-c72120aa8899",
        "colab": {
          "base_uri": "https://localhost:8080/"
        }
      },
      "execution_count": 45,
      "outputs": [
        {
          "output_type": "stream",
          "name": "stderr",
          "text": [
            "100%|██████████| 1/1 [00:00<00:00,  4.34it/s]\n",
            "100%|██████████| 1/1 [00:00<00:00,  4.45it/s]\n"
          ]
        }
      ]
    },
    {
      "cell_type": "code",
      "source": [
        "nodmg2 = get_euclidean(id8b,id8v)\n",
        "nodmg2 "
      ],
      "metadata": {
        "id": "dW7_qJ4cOMUJ",
        "outputId": "86c48b7d-1cbb-41d1-a8a7-bc44452141cc",
        "colab": {
          "base_uri": "https://localhost:8080/"
        }
      },
      "execution_count": 46,
      "outputs": [
        {
          "output_type": "execute_result",
          "data": {
            "text/plain": [
              "[0.0, 0.0, 0.0, 0.0]"
            ]
          },
          "metadata": {},
          "execution_count": 46
        }
      ]
    },
    {
      "cell_type": "code",
      "source": [
        "get_dmg_F(nodmg2)\n",
        "get_dmg_L(nodmg2)\n",
        "get_dmg_B(nodmg2)\n",
        "get_dmg_R(nodmg2)"
      ],
      "metadata": {
        "id": "5auRIDroOPoI",
        "outputId": "54c9e418-7203-4328-df5d-c3959dd413fc",
        "colab": {
          "base_uri": "https://localhost:8080/"
        }
      },
      "execution_count": 47,
      "outputs": [
        {
          "output_type": "stream",
          "name": "stdout",
          "text": [
            "N\n",
            "N\n",
            "N\n",
            "N\n"
          ]
        }
      ]
    },
    {
      "cell_type": "markdown",
      "source": [
        "# Test ACC MAX(46.88%)"
      ],
      "metadata": {
        "id": "Mg5BLefY6mwu"
      }
    },
    {
      "cell_type": "code",
      "source": [
        "def get_dmg_F(eucli):\n",
        "          if eucli[0] < 18.02:\n",
        "              print('N')\n",
        "          elif   18.02 <= eucli[0] <= 36.01:\n",
        "              print('L')\n",
        "          elif 36.01 < eucli[0] <= 57.25:\n",
        "              print('M')\n",
        "          elif eucli[0] > 57.25:\n",
        "               print('H')"
      ],
      "metadata": {
        "id": "Jxd9o3MB6pVj"
      },
      "execution_count": 48,
      "outputs": []
    },
    {
      "cell_type": "code",
      "source": [
        "def get_dmg_L(eucli):\n",
        "          if eucli[0] < 2.23:\n",
        "              print('N')\n",
        "          elif   2.23 <= eucli[0] <= 27.39:\n",
        "              print('L')\n",
        "          elif 27.39 < eucli[0] <= 53.79:\n",
        "              print('M')\n",
        "          elif eucli[0] > 53.79:\n",
        "               print('H')"
      ],
      "metadata": {
        "id": "_lL1npXq6sNm"
      },
      "execution_count": 49,
      "outputs": []
    },
    {
      "cell_type": "code",
      "source": [
        "def get_dmg_B(eucli):\n",
        "          if eucli[0] < 27.08:\n",
        "              print('N')\n",
        "          elif   27.08 <= eucli[0] <= 33.32:\n",
        "              print('L')\n",
        "          elif 33.32 < eucli[0] <= 79.67:\n",
        "              print('M')\n",
        "          elif eucli[0] > 79.67:\n",
        "               print('H')"
      ],
      "metadata": {
        "id": "VjtBZWUR6sjM"
      },
      "execution_count": 50,
      "outputs": []
    },
    {
      "cell_type": "code",
      "source": [
        "def get_dmg_R(eucli):\n",
        "          if eucli[0] < 12.01:\n",
        "              print('N')\n",
        "          elif   2.28 <= eucli[0] <= 45.92:\n",
        "              print('L')\n",
        "          elif 45.92 < eucli[0] <= 49.97:\n",
        "              print('M')\n",
        "          elif eucli[0] > 49.97:\n",
        "               print('H')"
      ],
      "metadata": {
        "id": "x-KMNn3f6tBE"
      },
      "execution_count": 51,
      "outputs": []
    },
    {
      "cell_type": "code",
      "source": [
        "get_dmg_F(ldmg)\n",
        "get_dmg_L(ldmg)\n",
        "get_dmg_B(ldmg)\n",
        "get_dmg_R(ldmg)"
      ],
      "metadata": {
        "id": "RAMDZeRo7mUV",
        "outputId": "9dec33a6-8915-47cd-967d-a1c90a55e2bc",
        "colab": {
          "base_uri": "https://localhost:8080/"
        }
      },
      "execution_count": 53,
      "outputs": [
        {
          "output_type": "stream",
          "name": "stdout",
          "text": [
            "N\n",
            "L\n",
            "N\n",
            "N\n"
          ]
        }
      ]
    },
    {
      "cell_type": "code",
      "source": [
        "get_dmg_F(ldmg2)\n",
        "get_dmg_L(ldmg2)\n",
        "get_dmg_B(ldmg2)\n",
        "get_dmg_R(ldmg2)"
      ],
      "metadata": {
        "id": "JU1QtDTdOszK",
        "outputId": "dc662489-3f0e-48ac-e4e8-3072283c0cbf",
        "colab": {
          "base_uri": "https://localhost:8080/"
        }
      },
      "execution_count": 54,
      "outputs": [
        {
          "output_type": "stream",
          "name": "stdout",
          "text": [
            "N\n",
            "L\n",
            "N\n",
            "L\n"
          ]
        }
      ]
    },
    {
      "cell_type": "code",
      "source": [
        "get_dmg_F(dmg)\n",
        "get_dmg_L(dmg)\n",
        "get_dmg_B(dmg)\n",
        "get_dmg_R(dmg)"
      ],
      "metadata": {
        "id": "GH_Vc8TA7rEl",
        "outputId": "aa67f1b0-f850-44ff-da83-0ddeca16c387",
        "colab": {
          "base_uri": "https://localhost:8080/"
        }
      },
      "execution_count": 55,
      "outputs": [
        {
          "output_type": "stream",
          "name": "stdout",
          "text": [
            "N\n",
            "L\n",
            "N\n",
            "L\n"
          ]
        }
      ]
    },
    {
      "cell_type": "code",
      "source": [
        "get_dmg_F(dmg2)\n",
        "get_dmg_L(dmg2)\n",
        "get_dmg_B(dmg2)\n",
        "get_dmg_R(dmg2)"
      ],
      "metadata": {
        "id": "0K4aLI-aOxYV",
        "outputId": "b8eec3ae-0246-444f-a0ed-d83a8dcefd2c",
        "colab": {
          "base_uri": "https://localhost:8080/"
        }
      },
      "execution_count": 56,
      "outputs": [
        {
          "output_type": "stream",
          "name": "stdout",
          "text": [
            "L\n",
            "M\n",
            "L\n",
            "L\n"
          ]
        }
      ]
    },
    {
      "cell_type": "code",
      "source": [
        "get_dmg_F(mdmg)\n",
        "get_dmg_L(mdmg)\n",
        "get_dmg_B(mdmg)\n",
        "get_dmg_R(mdmg)"
      ],
      "metadata": {
        "id": "yEillAfL7qm1",
        "outputId": "ab4b9987-6b69-48e9-d7c3-3c8aac9c0d23",
        "colab": {
          "base_uri": "https://localhost:8080/"
        }
      },
      "execution_count": 57,
      "outputs": [
        {
          "output_type": "stream",
          "name": "stdout",
          "text": [
            "M\n",
            "M\n",
            "M\n",
            "L\n"
          ]
        }
      ]
    },
    {
      "cell_type": "code",
      "source": [
        "get_dmg_F(mdmg2)\n",
        "get_dmg_L(mdmg2)\n",
        "get_dmg_B(mdmg2)\n",
        "get_dmg_R(mdmg2)"
      ],
      "metadata": {
        "id": "Ef7LV5QIO2E5",
        "outputId": "48bfe8df-8d94-4c21-b602-1498071de68a",
        "colab": {
          "base_uri": "https://localhost:8080/"
        }
      },
      "execution_count": 58,
      "outputs": [
        {
          "output_type": "stream",
          "name": "stdout",
          "text": [
            "H\n",
            "H\n",
            "M\n",
            "H\n"
          ]
        }
      ]
    },
    {
      "cell_type": "code",
      "source": [
        "get_dmg_F(nodmg)\n",
        "get_dmg_L(nodmg)\n",
        "get_dmg_B(nodmg)\n",
        "get_dmg_R(nodmg)"
      ],
      "metadata": {
        "id": "wBtMfF5Y7qa_",
        "outputId": "4f5a6ecd-d900-4941-da1e-18733595a05d",
        "colab": {
          "base_uri": "https://localhost:8080/"
        }
      },
      "execution_count": 59,
      "outputs": [
        {
          "output_type": "stream",
          "name": "stdout",
          "text": [
            "N\n",
            "N\n",
            "N\n",
            "N\n"
          ]
        }
      ]
    },
    {
      "cell_type": "code",
      "source": [
        "get_dmg_F(nodmg2)\n",
        "get_dmg_L(nodmg2)\n",
        "get_dmg_B(nodmg2)\n",
        "get_dmg_R(nodmg2)"
      ],
      "metadata": {
        "id": "ttpwrP8IO5nM",
        "outputId": "6160e3d1-f58e-45c6-f680-99ebb09f7ec3",
        "colab": {
          "base_uri": "https://localhost:8080/"
        }
      },
      "execution_count": 60,
      "outputs": [
        {
          "output_type": "stream",
          "name": "stdout",
          "text": [
            "N\n",
            "N\n",
            "N\n",
            "N\n"
          ]
        }
      ]
    },
    {
      "cell_type": "markdown",
      "source": [
        "# Test ACC AVG(78.13%)"
      ],
      "metadata": {
        "id": "TAdD9yjg79t3"
      }
    },
    {
      "cell_type": "code",
      "source": [
        "def get_dmg_F(eucli):\n",
        "          if eucli[0] < 9.6:\n",
        "              print('N')\n",
        "          elif   9.6 <= eucli[0] <= 21.92:\n",
        "              print('L')\n",
        "          elif 21.92 < eucli[0] <= 44.75:\n",
        "              print('M')\n",
        "          elif eucli[0] > 44.75:\n",
        "               print('H')"
      ],
      "metadata": {
        "id": "ZbeUbaf68BB7"
      },
      "execution_count": 61,
      "outputs": []
    },
    {
      "cell_type": "code",
      "source": [
        "def get_dmg_L(eucli):\n",
        "          if eucli[0] < 1.08:\n",
        "              print('N')\n",
        "          elif   1.08 <= eucli[0] <= 24.24:\n",
        "              print('L')\n",
        "          elif 24.24 < eucli[0] <= 35.84:\n",
        "              print('M')\n",
        "          elif eucli[0] > 35.84:\n",
        "               print('H')"
      ],
      "metadata": {
        "id": "fAs5YPu98A45"
      },
      "execution_count": 62,
      "outputs": []
    },
    {
      "cell_type": "code",
      "source": [
        "def get_dmg_B(eucli):\n",
        "          if eucli[0] < 8.92:\n",
        "              print('N')\n",
        "          elif   8.92 <= eucli[0] <= 13.39:\n",
        "              print('L')\n",
        "          elif 13.39 < eucli[0] <= 49.03:\n",
        "              print('M')\n",
        "          elif eucli[0] > 49.03:\n",
        "               print('H')"
      ],
      "metadata": {
        "id": "Cg28obM-8Axb"
      },
      "execution_count": 63,
      "outputs": []
    },
    {
      "cell_type": "code",
      "source": [
        "def get_dmg_R(eucli):\n",
        "          if eucli[0] < 4.48:\n",
        "              print('N')\n",
        "          elif   4.48 <= eucli[0] <= 24.76:\n",
        "              print('L')\n",
        "          elif 24.76 < eucli[0] <= 33.37:\n",
        "              print('M')\n",
        "          elif eucli[0] > 33.37:\n",
        "               print('H')"
      ],
      "metadata": {
        "id": "rntNeKZR8AJ0"
      },
      "execution_count": 64,
      "outputs": []
    },
    {
      "cell_type": "code",
      "source": [
        "get_dmg_F(ldmg)\n",
        "get_dmg_L(ldmg)\n",
        "get_dmg_B(ldmg)\n",
        "get_dmg_R(ldmg)"
      ],
      "metadata": {
        "id": "UGsTkC5C80FB",
        "outputId": "aa4ef413-73b8-4b20-c3f6-05a38206a1a9",
        "colab": {
          "base_uri": "https://localhost:8080/"
        }
      },
      "execution_count": 65,
      "outputs": [
        {
          "output_type": "stream",
          "name": "stdout",
          "text": [
            "L\n",
            "L\n",
            "L\n",
            "L\n"
          ]
        }
      ]
    },
    {
      "cell_type": "code",
      "source": [
        "get_dmg_F(ldmg2)\n",
        "get_dmg_L(ldmg2)\n",
        "get_dmg_B(ldmg2)\n",
        "get_dmg_R(ldmg2)"
      ],
      "metadata": {
        "id": "ocJLnDo9PLSk",
        "outputId": "43f3759a-20d5-436e-938e-5dc7edc85a19",
        "colab": {
          "base_uri": "https://localhost:8080/"
        }
      },
      "execution_count": 66,
      "outputs": [
        {
          "output_type": "stream",
          "name": "stdout",
          "text": [
            "L\n",
            "L\n",
            "M\n",
            "L\n"
          ]
        }
      ]
    },
    {
      "cell_type": "code",
      "source": [
        "get_dmg_F(dmg)\n",
        "get_dmg_L(dmg)\n",
        "get_dmg_B(dmg)\n",
        "get_dmg_R(dmg)"
      ],
      "metadata": {
        "id": "-PoO25qo80BG",
        "outputId": "d97195da-807c-40c3-91c9-defecb3db621",
        "colab": {
          "base_uri": "https://localhost:8080/"
        }
      },
      "execution_count": 67,
      "outputs": [
        {
          "output_type": "stream",
          "name": "stdout",
          "text": [
            "L\n",
            "L\n",
            "L\n",
            "L\n"
          ]
        }
      ]
    },
    {
      "cell_type": "code",
      "source": [
        "get_dmg_F(dmg2)\n",
        "get_dmg_L(dmg2)\n",
        "get_dmg_B(dmg2)\n",
        "get_dmg_R(dmg2)"
      ],
      "metadata": {
        "id": "6atZGw01POvg",
        "outputId": "600ec939-4a68-444e-e384-f7b8cda1aef0",
        "colab": {
          "base_uri": "https://localhost:8080/"
        }
      },
      "execution_count": 68,
      "outputs": [
        {
          "output_type": "stream",
          "name": "stdout",
          "text": [
            "M\n",
            "M\n",
            "M\n",
            "M\n"
          ]
        }
      ]
    },
    {
      "cell_type": "code",
      "source": [
        "get_dmg_F(mdmg)\n",
        "get_dmg_L(mdmg)\n",
        "get_dmg_B(mdmg)\n",
        "get_dmg_R(mdmg)"
      ],
      "metadata": {
        "id": "IDDFdqMD8z2f",
        "outputId": "1d8095c2-5ea7-4c11-bff9-f785d7863330",
        "colab": {
          "base_uri": "https://localhost:8080/"
        }
      },
      "execution_count": 69,
      "outputs": [
        {
          "output_type": "stream",
          "name": "stdout",
          "text": [
            "M\n",
            "H\n",
            "M\n",
            "H\n"
          ]
        }
      ]
    },
    {
      "cell_type": "code",
      "source": [
        "get_dmg_F(mdmg2)\n",
        "get_dmg_L(mdmg2)\n",
        "get_dmg_B(mdmg2)\n",
        "get_dmg_R(mdmg2)"
      ],
      "metadata": {
        "id": "1AHzmoitPVZR",
        "outputId": "1bf56cfb-366e-497e-958f-d891acb8cb7a",
        "colab": {
          "base_uri": "https://localhost:8080/"
        }
      },
      "execution_count": 70,
      "outputs": [
        {
          "output_type": "stream",
          "name": "stdout",
          "text": [
            "H\n",
            "H\n",
            "H\n",
            "H\n"
          ]
        }
      ]
    },
    {
      "cell_type": "code",
      "source": [
        "get_dmg_F(nodmg)\n",
        "get_dmg_L(nodmg)\n",
        "get_dmg_B(nodmg)\n",
        "get_dmg_R(nodmg)"
      ],
      "metadata": {
        "id": "OirZADzI8zyD",
        "outputId": "e4c54bf8-1cc6-46ba-ba12-b47040889b5e",
        "colab": {
          "base_uri": "https://localhost:8080/"
        }
      },
      "execution_count": 71,
      "outputs": [
        {
          "output_type": "stream",
          "name": "stdout",
          "text": [
            "N\n",
            "N\n",
            "N\n",
            "N\n"
          ]
        }
      ]
    },
    {
      "cell_type": "code",
      "source": [
        "get_dmg_F(nodmg2)\n",
        "get_dmg_L(nodmg2)\n",
        "get_dmg_B(nodmg2)\n",
        "get_dmg_R(nodmg2)"
      ],
      "metadata": {
        "id": "vdpnrI9FPYV6",
        "outputId": "cd023289-1920-4fbf-961d-946267fc6191",
        "colab": {
          "base_uri": "https://localhost:8080/"
        }
      },
      "execution_count": 72,
      "outputs": [
        {
          "output_type": "stream",
          "name": "stdout",
          "text": [
            "N\n",
            "N\n",
            "N\n",
            "N\n"
          ]
        }
      ]
    },
    {
      "cell_type": "code",
      "source": [
        "from sklearn.metrics import confusion_matrix"
      ],
      "metadata": {
        "id": "SuWFVHiMP7_Q"
      },
      "execution_count": null,
      "outputs": []
    },
    {
      "cell_type": "code",
      "source": [
        "!wget -q https://github.com/Phonbopit/sarabun-webfont/raw/master/fonts/thsarabunnew-webfont.ttf"
      ],
      "metadata": {
        "id": "zN9B7y10gD8J"
      },
      "execution_count": null,
      "outputs": []
    },
    {
      "cell_type": "code",
      "source": [
        "# !pip install -U --pre matplotlib  \n",
        "import matplotlib as mpl\n",
        "mpl.font_manager.fontManager.addfont('thsarabunnew-webfont.ttf')\n",
        "mpl.rc('font', family='TH Sarabun New')"
      ],
      "metadata": {
        "id": "JUFELZ-5gEiH"
      },
      "execution_count": null,
      "outputs": []
    },
    {
      "cell_type": "code",
      "source": [
        "# Predicted values\n",
        "y_pred = [0,0,0, 0,1,2,1,2,2,2,1,2,2,3,3,2]\n",
        "# Actual values\n",
        "y_act = [0, 0, 0, 0,1,1,1,1,2,2,2,2,3,3,3,3]"
      ],
      "metadata": {
        "id": "cvIjzwfqQabb"
      },
      "execution_count": null,
      "outputs": []
    },
    {
      "cell_type": "code",
      "source": [
        "from torchvision.transforms.functional import normalize\n",
        "confusion_matrix(y_act, y_pred,normalize='true')"
      ],
      "metadata": {
        "colab": {
          "base_uri": "https://localhost:8080/"
        },
        "id": "XZbJNHj7Ryr1",
        "outputId": "5c1fb9c0-6b83-4bdc-eb47-765b1907a879"
      },
      "execution_count": null,
      "outputs": [
        {
          "output_type": "execute_result",
          "data": {
            "text/plain": [
              "array([[1.  , 0.  , 0.  , 0.  ],\n",
              "       [0.  , 0.5 , 0.5 , 0.  ],\n",
              "       [0.  , 0.25, 0.75, 0.  ],\n",
              "       [0.  , 0.  , 0.5 , 0.5 ]])"
            ]
          },
          "metadata": {},
          "execution_count": 49
        }
      ]
    },
    {
      "cell_type": "code",
      "source": [
        "y_pred = [1,1,1,1]\n",
        "# Actual values\n",
        "y_act = [1,1,1,1]"
      ],
      "metadata": {
        "id": "LJaDPpMGXYb8"
      },
      "execution_count": null,
      "outputs": []
    },
    {
      "cell_type": "code",
      "source": [
        "cf_matrix = confusion_matrix(y_act, y_pred,normalize='true')"
      ],
      "metadata": {
        "id": "h3gl7hPMeSHZ"
      },
      "execution_count": null,
      "outputs": []
    },
    {
      "cell_type": "code",
      "source": [
        "import seaborn as sns\n",
        "\n",
        "ax = sns.heatmap(cf_matrix, annot=True, cmap='coolwarm')\n",
        "\n",
        "ax.set_title('Confusion Matrix\\n\\n');\n",
        "ax.set_xlabel('\\nPredicted')\n",
        "ax.set_ylabel('Actual');\n",
        "\n",
        "## Ticket labels - List must be in alphabetical order\n",
        "ax.xaxis.set_ticklabels(['N','L','M','H'])\n",
        "ax.yaxis.set_ticklabels(['N','L','M','H'])\n",
        "\n",
        "## Display the visualization of the Confusion Matrix.\n",
        "plt.show()"
      ],
      "metadata": {
        "id": "w4tMgAwteVaN",
        "outputId": "f5b846b2-cae4-46cf-d982-a858a5314905",
        "colab": {
          "base_uri": "https://localhost:8080/",
          "height": 334
        }
      },
      "execution_count": null,
      "outputs": [
        {
          "output_type": "display_data",
          "data": {
            "text/plain": [
              "<Figure size 432x288 with 2 Axes>"
            ],
            "image/png": "[encoded data removed]"
          },
          "metadata": {
            "needs_background": "light"
          }
        }
      ]
    },
    {
      "cell_type": "code",
      "source": [
        "from sklearn.cluster import KMeans\n",
        "import numpy as np"
      ],
      "metadata": {
        "id": "vlLwRz03ekxH"
      },
      "execution_count": null,
      "outputs": []
    },
    {
      "cell_type": "code",
      "source": [
        ""
      ],
      "metadata": {
        "id": "9Kzsvhc8mYkv"
      },
      "execution_count": null,
      "outputs": []
    }
  ]
}