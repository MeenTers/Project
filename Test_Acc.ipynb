{
  "nbformat": 4,
  "nbformat_minor": 0,
  "metadata": {
    "colab": {
      "name": "Test_Acc.ipynb",
      "provenance": [],
      "authorship_tag": "ABX9TyNe/ENlOXvZcubop3PBi9x4",
      "include_colab_link": true
    },
    "kernelspec": {
      "name": "python3",
      "display_name": "Python 3"
    },
    "language_info": {
      "name": "python"
    },
    "accelerator": "GPU",
    "widgets": {
      "application/vnd.jupyter.widget-state+json": {
        "101bd0ff97b044888169b336ec6176a4": {
          "model_module": "@jupyter-widgets/controls",
          "model_name": "HBoxModel",
          "model_module_version": "1.5.0",
          "state": {
            "_dom_classes": [],
            "_model_module": "@jupyter-widgets/controls",
            "_model_module_version": "1.5.0",
            "_model_name": "HBoxModel",
            "_view_count": null,
            "_view_module": "@jupyter-widgets/controls",
            "_view_module_version": "1.5.0",
            "_view_name": "HBoxView",
            "box_style": "",
            "children": [
              "IPY_MODEL_50f4fcad51764733b85704f4a182d42f",
              "IPY_MODEL_1ebeacb9ec0e4fd7970ecfa210a0a488",
              "IPY_MODEL_5296c54596fa43f5a96b41fe890e29b2"
            ],
            "layout": "IPY_MODEL_9f1806441ebe48de9b960addd483087e"
          }
        },
        "50f4fcad51764733b85704f4a182d42f": {
          "model_module": "@jupyter-widgets/controls",
          "model_name": "HTMLModel",
          "model_module_version": "1.5.0",
          "state": {
            "_dom_classes": [],
            "_model_module": "@jupyter-widgets/controls",
            "_model_module_version": "1.5.0",
            "_model_name": "HTMLModel",
            "_view_count": null,
            "_view_module": "@jupyter-widgets/controls",
            "_view_module_version": "1.5.0",
            "_view_name": "HTMLView",
            "description": "",
            "description_tooltip": null,
            "layout": "IPY_MODEL_e17113f13acd4676935848768eb6ecc9",
            "placeholder": "​",
            "style": "IPY_MODEL_9d631b204e5b4985ae0889dc1a281633",
            "value": "100%"
          }
        },
        "1ebeacb9ec0e4fd7970ecfa210a0a488": {
          "model_module": "@jupyter-widgets/controls",
          "model_name": "FloatProgressModel",
          "model_module_version": "1.5.0",
          "state": {
            "_dom_classes": [],
            "_model_module": "@jupyter-widgets/controls",
            "_model_module_version": "1.5.0",
            "_model_name": "FloatProgressModel",
            "_view_count": null,
            "_view_module": "@jupyter-widgets/controls",
            "_view_module_version": "1.5.0",
            "_view_name": "ProgressView",
            "bar_style": "success",
            "description": "",
            "description_tooltip": null,
            "layout": "IPY_MODEL_99f59fd3c98d464bb9ff6640e68e110e",
            "max": 574673361,
            "min": 0,
            "orientation": "horizontal",
            "style": "IPY_MODEL_d275477160114c569348b6cb9ad6554a",
            "value": 574673361
          }
        },
        "5296c54596fa43f5a96b41fe890e29b2": {
          "model_module": "@jupyter-widgets/controls",
          "model_name": "HTMLModel",
          "model_module_version": "1.5.0",
          "state": {
            "_dom_classes": [],
            "_model_module": "@jupyter-widgets/controls",
            "_model_module_version": "1.5.0",
            "_model_name": "HTMLModel",
            "_view_count": null,
            "_view_module": "@jupyter-widgets/controls",
            "_view_module_version": "1.5.0",
            "_view_name": "HTMLView",
            "description": "",
            "description_tooltip": null,
            "layout": "IPY_MODEL_e70d8cea836e4e27b1072f6b1da04fe3",
            "placeholder": "​",
            "style": "IPY_MODEL_6bdb3e9c3d574cc08ffe8ab3793c57d4",
            "value": " 548M/548M [00:02&lt;00:00, 258MB/s]"
          }
        },
        "9f1806441ebe48de9b960addd483087e": {
          "model_module": "@jupyter-widgets/base",
          "model_name": "LayoutModel",
          "model_module_version": "1.2.0",
          "state": {
            "_model_module": "@jupyter-widgets/base",
            "_model_module_version": "1.2.0",
            "_model_name": "LayoutModel",
            "_view_count": null,
            "_view_module": "@jupyter-widgets/base",
            "_view_module_version": "1.2.0",
            "_view_name": "LayoutView",
            "align_content": null,
            "align_items": null,
            "align_self": null,
            "border": null,
            "bottom": null,
            "display": null,
            "flex": null,
            "flex_flow": null,
            "grid_area": null,
            "grid_auto_columns": null,
            "grid_auto_flow": null,
            "grid_auto_rows": null,
            "grid_column": null,
            "grid_gap": null,
            "grid_row": null,
            "grid_template_areas": null,
            "grid_template_columns": null,
            "grid_template_rows": null,
            "height": null,
            "justify_content": null,
            "justify_items": null,
            "left": null,
            "margin": null,
            "max_height": null,
            "max_width": null,
            "min_height": null,
            "min_width": null,
            "object_fit": null,
            "object_position": null,
            "order": null,
            "overflow": null,
            "overflow_x": null,
            "overflow_y": null,
            "padding": null,
            "right": null,
            "top": null,
            "visibility": null,
            "width": null
          }
        },
        "e17113f13acd4676935848768eb6ecc9": {
          "model_module": "@jupyter-widgets/base",
          "model_name": "LayoutModel",
          "model_module_version": "1.2.0",
          "state": {
            "_model_module": "@jupyter-widgets/base",
            "_model_module_version": "1.2.0",
            "_model_name": "LayoutModel",
            "_view_count": null,
            "_view_module": "@jupyter-widgets/base",
            "_view_module_version": "1.2.0",
            "_view_name": "LayoutView",
            "align_content": null,
            "align_items": null,
            "align_self": null,
            "border": null,
            "bottom": null,
            "display": null,
            "flex": null,
            "flex_flow": null,
            "grid_area": null,
            "grid_auto_columns": null,
            "grid_auto_flow": null,
            "grid_auto_rows": null,
            "grid_column": null,
            "grid_gap": null,
            "grid_row": null,
            "grid_template_areas": null,
            "grid_template_columns": null,
            "grid_template_rows": null,
            "height": null,
            "justify_content": null,
            "justify_items": null,
            "left": null,
            "margin": null,
            "max_height": null,
            "max_width": null,
            "min_height": null,
            "min_width": null,
            "object_fit": null,
            "object_position": null,
            "order": null,
            "overflow": null,
            "overflow_x": null,
            "overflow_y": null,
            "padding": null,
            "right": null,
            "top": null,
            "visibility": null,
            "width": null
          }
        },
        "9d631b204e5b4985ae0889dc1a281633": {
          "model_module": "@jupyter-widgets/controls",
          "model_name": "DescriptionStyleModel",
          "model_module_version": "1.5.0",
          "state": {
            "_model_module": "@jupyter-widgets/controls",
            "_model_module_version": "1.5.0",
            "_model_name": "DescriptionStyleModel",
            "_view_count": null,
            "_view_module": "@jupyter-widgets/base",
            "_view_module_version": "1.2.0",
            "_view_name": "StyleView",
            "description_width": ""
          }
        },
        "99f59fd3c98d464bb9ff6640e68e110e": {
          "model_module": "@jupyter-widgets/base",
          "model_name": "LayoutModel",
          "model_module_version": "1.2.0",
          "state": {
            "_model_module": "@jupyter-widgets/base",
            "_model_module_version": "1.2.0",
            "_model_name": "LayoutModel",
            "_view_count": null,
            "_view_module": "@jupyter-widgets/base",
            "_view_module_version": "1.2.0",
            "_view_name": "LayoutView",
            "align_content": null,
            "align_items": null,
            "align_self": null,
            "border": null,
            "bottom": null,
            "display": null,
            "flex": null,
            "flex_flow": null,
            "grid_area": null,
            "grid_auto_columns": null,
            "grid_auto_flow": null,
            "grid_auto_rows": null,
            "grid_column": null,
            "grid_gap": null,
            "grid_row": null,
            "grid_template_areas": null,
            "grid_template_columns": null,
            "grid_template_rows": null,
            "height": null,
            "justify_content": null,
            "justify_items": null,
            "left": null,
            "margin": null,
            "max_height": null,
            "max_width": null,
            "min_height": null,
            "min_width": null,
            "object_fit": null,
            "object_position": null,
            "order": null,
            "overflow": null,
            "overflow_x": null,
            "overflow_y": null,
            "padding": null,
            "right": null,
            "top": null,
            "visibility": null,
            "width": null
          }
        },
        "d275477160114c569348b6cb9ad6554a": {
          "model_module": "@jupyter-widgets/controls",
          "model_name": "ProgressStyleModel",
          "model_module_version": "1.5.0",
          "state": {
            "_model_module": "@jupyter-widgets/controls",
            "_model_module_version": "1.5.0",
            "_model_name": "ProgressStyleModel",
            "_view_count": null,
            "_view_module": "@jupyter-widgets/base",
            "_view_module_version": "1.2.0",
            "_view_name": "StyleView",
            "bar_color": null,
            "description_width": ""
          }
        },
        "e70d8cea836e4e27b1072f6b1da04fe3": {
          "model_module": "@jupyter-widgets/base",
          "model_name": "LayoutModel",
          "model_module_version": "1.2.0",
          "state": {
            "_model_module": "@jupyter-widgets/base",
            "_model_module_version": "1.2.0",
            "_model_name": "LayoutModel",
            "_view_count": null,
            "_view_module": "@jupyter-widgets/base",
            "_view_module_version": "1.2.0",
            "_view_name": "LayoutView",
            "align_content": null,
            "align_items": null,
            "align_self": null,
            "border": null,
            "bottom": null,
            "display": null,
            "flex": null,
            "flex_flow": null,
            "grid_area": null,
            "grid_auto_columns": null,
            "grid_auto_flow": null,
            "grid_auto_rows": null,
            "grid_column": null,
            "grid_gap": null,
            "grid_row": null,
            "grid_template_areas": null,
            "grid_template_columns": null,
            "grid_template_rows": null,
            "height": null,
            "justify_content": null,
            "justify_items": null,
            "left": null,
            "margin": null,
            "max_height": null,
            "max_width": null,
            "min_height": null,
            "min_width": null,
            "object_fit": null,
            "object_position": null,
            "order": null,
            "overflow": null,
            "overflow_x": null,
            "overflow_y": null,
            "padding": null,
            "right": null,
            "top": null,
            "visibility": null,
            "width": null
          }
        },
        "6bdb3e9c3d574cc08ffe8ab3793c57d4": {
          "model_module": "@jupyter-widgets/controls",
          "model_name": "DescriptionStyleModel",
          "model_module_version": "1.5.0",
          "state": {
            "_model_module": "@jupyter-widgets/controls",
            "_model_module_version": "1.5.0",
            "_model_name": "DescriptionStyleModel",
            "_view_count": null,
            "_view_module": "@jupyter-widgets/base",
            "_view_module_version": "1.2.0",
            "_view_name": "StyleView",
            "description_width": ""
          }
        }
      }
    }
  },
  "cells": [
    {
      "cell_type": "markdown",
      "metadata": {
        "id": "view-in-github",
        "colab_type": "text"
      },
      "source": [
        "<a href=\"https://colab.research.google.com/github/MeenTers/Project/blob/main/Test_Acc.ipynb\" target=\"_parent\"><img src=\"https://colab.research.google.com/assets/colab-badge.svg\" alt=\"Open In Colab\"/></a>"
      ]
    },
    {
      "cell_type": "code",
      "execution_count": 1,
      "metadata": {
        "colab": {
          "base_uri": "https://localhost:8080/"
        },
        "id": "9WT1_LdhIdPH",
        "outputId": "9f767fcc-b4c3-4973-a539-ed1dbb018c41"
      },
      "outputs": [
        {
          "output_type": "stream",
          "name": "stdout",
          "text": [
            "Mounted at /content/drive\n"
          ]
        }
      ],
      "source": [
        "from google.colab import drive\n",
        "drive.mount('/content/drive')"
      ]
    },
    {
      "cell_type": "code",
      "source": [
        "import torch\n",
        "from torch import nn, load, utils\n",
        "from tqdm import tqdm\n",
        "import matplotlib.pyplot as plt\n",
        "import numpy as np\n",
        "from torchvision import datasets, transforms, models\n",
        "from torchvision.models.vgg import model_urls\n",
        "from os import path, listdir\n",
        "model_urls['vgg19'] = model_urls['vgg19'].replace('https://', 'http://')"
      ],
      "metadata": {
        "id": "oV99IKwOIoQb"
      },
      "execution_count": 2,
      "outputs": []
    },
    {
      "cell_type": "code",
      "source": [
        "from scipy.spatial import distance_matrix\n",
        "from scipy.spatial import distance\n",
        "import pandas as pd"
      ],
      "metadata": {
        "id": "7QIdVXkhI6Fj"
      },
      "execution_count": 3,
      "outputs": []
    },
    {
      "cell_type": "code",
      "source": [
        "import matplotlib.image as mpimg\n",
        "import matplotlib.pyplot as plt\n",
        "import cv2"
      ],
      "metadata": {
        "id": "EamHxyOFI7kH"
      },
      "execution_count": 4,
      "outputs": []
    },
    {
      "cell_type": "markdown",
      "source": [
        "# VGG model"
      ],
      "metadata": {
        "id": "YhNCsVclI-RE"
      }
    },
    {
      "cell_type": "code",
      "source": [
        "class VGG:\n",
        "\tdef __init__(self):\n",
        "\t\tmodel = models.vgg19(pretrained=True, progress=True)\n",
        "\t\tmodel.classifier = nn.Sequential(*list(model.classifier.children())[:3])\n",
        "\t\tself.model = model.cuda().eval()\n",
        "\n",
        "\tdef __call__(self, x):\n",
        "\t\treturn self.model(x)"
      ],
      "metadata": {
        "id": "3f4Q3CTcI8yY"
      },
      "execution_count": 5,
      "outputs": []
    },
    {
      "cell_type": "code",
      "source": [
        "vgg = VGG()"
      ],
      "metadata": {
        "id": "g4N3GcfBJAQm",
        "outputId": "92789b0c-23c1-4ab0-ed38-ca9df93eb27d",
        "colab": {
          "base_uri": "https://localhost:8080/",
          "height": 66,
          "referenced_widgets": [
            "101bd0ff97b044888169b336ec6176a4",
            "50f4fcad51764733b85704f4a182d42f",
            "1ebeacb9ec0e4fd7970ecfa210a0a488",
            "5296c54596fa43f5a96b41fe890e29b2",
            "9f1806441ebe48de9b960addd483087e",
            "e17113f13acd4676935848768eb6ecc9",
            "9d631b204e5b4985ae0889dc1a281633",
            "99f59fd3c98d464bb9ff6640e68e110e",
            "d275477160114c569348b6cb9ad6554a",
            "e70d8cea836e4e27b1072f6b1da04fe3",
            "6bdb3e9c3d574cc08ffe8ab3793c57d4"
          ]
        }
      },
      "execution_count": 6,
      "outputs": [
        {
          "output_type": "stream",
          "name": "stderr",
          "text": [
            "Downloading: \"http://download.pytorch.org/models/vgg19-dcbb9e9d.pth\" to /root/.cache/torch/hub/checkpoints/vgg19-dcbb9e9d.pth\n"
          ]
        },
        {
          "output_type": "display_data",
          "data": {
            "text/plain": [
              "  0%|          | 0.00/548M [00:00<?, ?B/s]"
            ],
            "application/vnd.jupyter.widget-view+json": {
              "version_major": 2,
              "version_minor": 0,
              "model_id": "101bd0ff97b044888169b336ec6176a4"
            }
          },
          "metadata": {}
        }
      ]
    },
    {
      "cell_type": "markdown",
      "source": [
        "# Create Features Extraction Function"
      ],
      "metadata": {
        "id": "XPA6_70zJDd6"
      }
    },
    {
      "cell_type": "code",
      "source": [
        "def get_features(model, loader):\n",
        "    features = []\n",
        "    with torch.no_grad():\n",
        "        for batch, _ in tqdm(loader):\n",
        "            if torch.cuda.is_available():\n",
        "                batch = batch.cuda()\n",
        "            b_features = model(batch).detach().cpu().numpy()\n",
        "            for f in b_features:\n",
        "                features.append(f)\n",
        "\n",
        "    return features"
      ],
      "metadata": {
        "id": "gLyRjsINJBzS"
      },
      "execution_count": 7,
      "outputs": []
    },
    {
      "cell_type": "markdown",
      "source": [
        "# Create Loading the data Function"
      ],
      "metadata": {
        "id": "TFMxG2gwJS4e"
      }
    },
    {
      "cell_type": "code",
      "source": [
        "def get_dataset(images_path):\n",
        "  transform = transforms.Compose([\n",
        "    transforms.Resize(size=32),\n",
        "    transforms.ToTensor(),\n",
        "    transforms.Normalize((0.4914, 0.4822, 0.4465), (0.2023, 0.1994, 0.2010)),\n",
        "  ])\n",
        "\n",
        "  dataset = datasets.ImageFolder(images_path, transform=transform)\n",
        "  loader = utils.data.DataLoader(dataset, batch_size=100, shuffle=False, num_workers=1, pin_memory=True)\n",
        "  return loader"
      ],
      "metadata": {
        "id": "8ddXIommJRMG"
      },
      "execution_count": 8,
      "outputs": []
    },
    {
      "cell_type": "code",
      "source": [
        "def get_euclidean(base_car,diff_view):\n",
        "    A = []\n",
        "    for i in range(len(diff_view)):\n",
        "        x = distance.euclidean(base_car[i],diff_view[i])\n",
        "        A.append(x)\n",
        "    return(A)"
      ],
      "metadata": {
        "id": "N3zGGxmsJU4N"
      },
      "execution_count": 9,
      "outputs": []
    },
    {
      "cell_type": "markdown",
      "source": [
        "# Test Min(62.5%)"
      ],
      "metadata": {
        "id": "XtNx06TDJd_F"
      }
    },
    {
      "cell_type": "code",
      "source": [
        "def get_dmg_F(eucli):\n",
        "          if eucli[0] < 2.28:\n",
        "              print('N')\n",
        "          elif   2.28 <= eucli[0] <= 9.43:\n",
        "              print('L')\n",
        "          elif 9.43 < eucli[0] <= 13.38:\n",
        "              print('M')\n",
        "          elif eucli[0] > 13.38:\n",
        "               print('H')"
      ],
      "metadata": {
        "id": "tJXUpp0r3E5_"
      },
      "execution_count": 10,
      "outputs": []
    },
    {
      "cell_type": "code",
      "source": [
        "def get_dmg_L(eucli):\n",
        "          if eucli[1] < 0.15:\n",
        "              print('N')\n",
        "          elif   0.15 <= eucli[1] <= 16.9:\n",
        "              print('L')\n",
        "          elif 16.9 < eucli[1] <= 23.11:\n",
        "              print('M')\n",
        "          elif eucli[1] > 23.11:\n",
        "               print('H')"
      ],
      "metadata": {
        "id": "mjyJBOSN3sSt"
      },
      "execution_count": 11,
      "outputs": []
    },
    {
      "cell_type": "code",
      "source": [
        "def get_dmg_B(eucli):\n",
        "          if eucli[2] < 1.42:\n",
        "              print('N')\n",
        "          elif   1.42 <= eucli[2] <= 2.61:\n",
        "              print('L')\n",
        "          elif 2.61 < eucli[2] <= 9.4:\n",
        "              print('M')\n",
        "          elif eucli[2] > 9.4:\n",
        "               print('H')"
      ],
      "metadata": {
        "id": "Bqip7Gu_396v"
      },
      "execution_count": 12,
      "outputs": []
    },
    {
      "cell_type": "code",
      "source": [
        "def get_dmg_R(eucli):\n",
        "          if eucli[3] < 0.14:\n",
        "              print('N')\n",
        "          elif   0.14 <= eucli[3] <= 13.21:\n",
        "              print('L')\n",
        "          elif 13.21 < eucli[3] <= 24.6:\n",
        "              print('M')\n",
        "          elif eucli[3] > 24.6:\n",
        "               print('H')"
      ],
      "metadata": {
        "id": "ZJAOJk3-4JEo"
      },
      "execution_count": 13,
      "outputs": []
    },
    {
      "cell_type": "code",
      "source": [
        "car1 = get_dataset(r'/content/drive/MyDrive/test_acc/base/base')\n",
        "dmg1 = get_dataset(r'/content/drive/MyDrive/test_acc/dmg/IDT01/ldmg')"
      ],
      "metadata": {
        "id": "YT5q7N2lJWvQ"
      },
      "execution_count": 14,
      "outputs": []
    },
    {
      "cell_type": "code",
      "source": [
        "id1b = get_features(vgg,car1)\n",
        "id1v = get_features(vgg,dmg1)"
      ],
      "metadata": {
        "colab": {
          "base_uri": "https://localhost:8080/"
        },
        "id": "Zg7usBfeJwQO",
        "outputId": "04d452f5-6c19-4809-f8d2-3d67fbae7968"
      },
      "execution_count": 15,
      "outputs": [
        {
          "output_type": "stream",
          "name": "stderr",
          "text": [
            "100%|██████████| 1/1 [00:02<00:00,  2.93s/it]\n",
            "100%|██████████| 1/1 [00:02<00:00,  2.63s/it]\n"
          ]
        }
      ]
    },
    {
      "cell_type": "code",
      "source": [
        "ldmg = get_euclidean(id1b,id1v)\n",
        "ldmg "
      ],
      "metadata": {
        "colab": {
          "base_uri": "https://localhost:8080/"
        },
        "id": "FioQI2sVK1QE",
        "outputId": "0ef945dd-ea29-4255-cfa6-2031a74abffb"
      },
      "execution_count": 18,
      "outputs": [
        {
          "output_type": "execute_result",
          "data": {
            "text/plain": [
              "[1.628711223602295, 21.440954208374023, 3.2201740741729736, 14.06984806060791]"
            ]
          },
          "metadata": {},
          "execution_count": 18
        }
      ]
    },
    {
      "cell_type": "code",
      "source": [
        "get_dmg_F(ldmg)\n",
        "get_dmg_L(ldmg)\n",
        "get_dmg_B(ldmg)\n",
        "get_dmg_R(ldmg)"
      ],
      "metadata": {
        "id": "tF4Oommr5RzN",
        "outputId": "0e943fbe-e5d6-4808-a759-ea35fbad6b70",
        "colab": {
          "base_uri": "https://localhost:8080/"
        }
      },
      "execution_count": 22,
      "outputs": [
        {
          "output_type": "stream",
          "name": "stdout",
          "text": [
            "N\n",
            "M\n",
            "H\n",
            "M\n"
          ]
        }
      ]
    },
    {
      "cell_type": "code",
      "source": [
        "car2 = get_dataset(r'/content/drive/MyDrive/test_acc/base/base')\n",
        "dmg2 = get_dataset(r'/content/drive/MyDrive/test_acc/dmg/IDT01/dmg')"
      ],
      "metadata": {
        "id": "mP8gyodtK8BH"
      },
      "execution_count": 23,
      "outputs": []
    },
    {
      "cell_type": "code",
      "source": [
        "id2b = get_features(vgg,car2)\n",
        "id2v = get_features(vgg,dmg2)"
      ],
      "metadata": {
        "colab": {
          "base_uri": "https://localhost:8080/"
        },
        "id": "-38qlu0GLIfm",
        "outputId": "15cbc123-de72-4384-976e-a56dbd61f4c7"
      },
      "execution_count": 24,
      "outputs": [
        {
          "output_type": "stream",
          "name": "stderr",
          "text": [
            "100%|██████████| 1/1 [00:00<00:00,  4.82it/s]\n",
            "100%|██████████| 1/1 [00:02<00:00,  2.84s/it]\n"
          ]
        }
      ]
    },
    {
      "cell_type": "code",
      "source": [
        "dmg = get_euclidean(id2b,id2v)\n",
        "dmg "
      ],
      "metadata": {
        "colab": {
          "base_uri": "https://localhost:8080/"
        },
        "id": "KAHLNzklLg8R",
        "outputId": "45f64eec-6dd4-47a0-a9cc-96867f9f4919"
      },
      "execution_count": 25,
      "outputs": [
        {
          "output_type": "execute_result",
          "data": {
            "text/plain": [
              "[11.785385131835938, 26.2887020111084, 4.051872730255127, 15.639073371887207]"
            ]
          },
          "metadata": {},
          "execution_count": 25
        }
      ]
    },
    {
      "cell_type": "code",
      "source": [
        "get_dmg_F(dmg)\n",
        "get_dmg_L(dmg)\n",
        "get_dmg_B(dmg)\n",
        "get_dmg_R(dmg)"
      ],
      "metadata": {
        "id": "CNIRIcXl5sw4",
        "outputId": "e930eaa1-7483-4e13-9750-6f98199cdceb",
        "colab": {
          "base_uri": "https://localhost:8080/"
        }
      },
      "execution_count": 26,
      "outputs": [
        {
          "output_type": "stream",
          "name": "stdout",
          "text": [
            "M\n",
            "H\n",
            "H\n",
            "M\n"
          ]
        }
      ]
    },
    {
      "cell_type": "code",
      "source": [
        "car3 = get_dataset(r'/content/drive/MyDrive/test_acc/base/base')\n",
        "dmg3 = get_dataset(r'/content/drive/MyDrive/test_acc/dmg/IDT01/mdmg')"
      ],
      "metadata": {
        "id": "-EAVwsV3LkLF"
      },
      "execution_count": 27,
      "outputs": []
    },
    {
      "cell_type": "code",
      "source": [
        "id3b = get_features(vgg,car3)\n",
        "id3v = get_features(vgg,dmg3)"
      ],
      "metadata": {
        "colab": {
          "base_uri": "https://localhost:8080/"
        },
        "id": "Muj7UM1yLrDw",
        "outputId": "823182a3-bf76-47d7-bcbf-dbf9b334f77a"
      },
      "execution_count": 28,
      "outputs": [
        {
          "output_type": "stream",
          "name": "stderr",
          "text": [
            "100%|██████████| 1/1 [00:00<00:00,  4.85it/s]\n",
            "100%|██████████| 1/1 [00:02<00:00,  2.56s/it]\n"
          ]
        }
      ]
    },
    {
      "cell_type": "code",
      "source": [
        "mdmg = get_euclidean(id3b,id3v)\n",
        "mdmg "
      ],
      "metadata": {
        "colab": {
          "base_uri": "https://localhost:8080/"
        },
        "id": "mIObVHYbLvEJ",
        "outputId": "3758c38c-5cfb-4235-f873-6b728baa0a0d"
      },
      "execution_count": 29,
      "outputs": [
        {
          "output_type": "execute_result",
          "data": {
            "text/plain": [
              "[26.436717987060547, 35.97279357910156, 38.56568145751953, 27.06473731994629]"
            ]
          },
          "metadata": {},
          "execution_count": 29
        }
      ]
    },
    {
      "cell_type": "code",
      "source": [
        "get_dmg_F(mdmg)\n",
        "get_dmg_L(mdmg)\n",
        "get_dmg_B(mdmg)\n",
        "get_dmg_R(mdmg)"
      ],
      "metadata": {
        "id": "O82foi1f54AA",
        "outputId": "96fab279-db3b-4b69-9184-0d00ab756853",
        "colab": {
          "base_uri": "https://localhost:8080/"
        }
      },
      "execution_count": 30,
      "outputs": [
        {
          "output_type": "stream",
          "name": "stdout",
          "text": [
            "H\n",
            "H\n",
            "H\n",
            "H\n"
          ]
        }
      ]
    },
    {
      "cell_type": "code",
      "source": [
        "car4 = get_dataset(r'/content/drive/MyDrive/test_acc/base/base')\n",
        "dmg4 = get_dataset(r'/content/drive/MyDrive/test_acc/base/base')"
      ],
      "metadata": {
        "id": "CC3oauprL3dm"
      },
      "execution_count": 31,
      "outputs": []
    },
    {
      "cell_type": "code",
      "source": [
        "id4b = get_features(vgg,car4)\n",
        "id4v = get_features(vgg,dmg4)"
      ],
      "metadata": {
        "colab": {
          "base_uri": "https://localhost:8080/"
        },
        "id": "B6Yh5_muL-UW",
        "outputId": "5da25580-89a8-4586-838f-4930c2739f9e"
      },
      "execution_count": 32,
      "outputs": [
        {
          "output_type": "stream",
          "name": "stderr",
          "text": [
            "100%|██████████| 1/1 [00:00<00:00,  3.74it/s]\n",
            "100%|██████████| 1/1 [00:00<00:00,  4.98it/s]\n"
          ]
        }
      ]
    },
    {
      "cell_type": "code",
      "source": [
        "get_dmg_F(nodmg)\n",
        "get_dmg_L(nodmg)\n",
        "get_dmg_B(nodmg)\n",
        "get_dmg_R(nodmg)"
      ],
      "metadata": {
        "id": "QBkJQwmu6G26",
        "outputId": "37c99a42-6e8d-45fb-8911-715022791472",
        "colab": {
          "base_uri": "https://localhost:8080/"
        }
      },
      "execution_count": 34,
      "outputs": [
        {
          "output_type": "stream",
          "name": "stdout",
          "text": [
            "N\n",
            "N\n",
            "N\n",
            "N\n"
          ]
        }
      ]
    },
    {
      "cell_type": "code",
      "source": [
        "get_dmg(nodmg)"
      ],
      "metadata": {
        "colab": {
          "base_uri": "https://localhost:8080/"
        },
        "id": "uHMyBU2bOaHe",
        "outputId": "9b63f937-f0b4-4cc2-8040-638540142c4b"
      },
      "execution_count": null,
      "outputs": [
        {
          "output_type": "stream",
          "name": "stdout",
          "text": [
            "N\n",
            "N\n",
            "N\n",
            "N\n"
          ]
        }
      ]
    },
    {
      "cell_type": "markdown",
      "source": [
        "# Test ACC MAX(31.25%)"
      ],
      "metadata": {
        "id": "Mg5BLefY6mwu"
      }
    },
    {
      "cell_type": "code",
      "source": [
        "def get_dmg_F(eucli):\n",
        "          if eucli[0] < 18.02:\n",
        "              print('N')\n",
        "          elif   18.02 <= eucli[0] <= 36.01:\n",
        "              print('L')\n",
        "          elif 36.01 < eucli[0] <= 57.25:\n",
        "              print('M')\n",
        "          elif eucli[0] > 57.25:\n",
        "               print('H')"
      ],
      "metadata": {
        "id": "Jxd9o3MB6pVj"
      },
      "execution_count": 35,
      "outputs": []
    },
    {
      "cell_type": "code",
      "source": [
        "def get_dmg_L(eucli):\n",
        "          if eucli[0] < 2.23:\n",
        "              print('N')\n",
        "          elif   2.23 <= eucli[0] <= 27.39:\n",
        "              print('L')\n",
        "          elif 27.39 < eucli[0] <= 53.79:\n",
        "              print('M')\n",
        "          elif eucli[0] > 53.79:\n",
        "               print('H')"
      ],
      "metadata": {
        "id": "_lL1npXq6sNm"
      },
      "execution_count": 36,
      "outputs": []
    },
    {
      "cell_type": "code",
      "source": [
        "def get_dmg_B(eucli):\n",
        "          if eucli[0] < 27.08:\n",
        "              print('N')\n",
        "          elif   27.08 <= eucli[0] <= 33.32:\n",
        "              print('L')\n",
        "          elif 33.32 < eucli[0] <= 79.67:\n",
        "              print('M')\n",
        "          elif eucli[0] > 79.67:\n",
        "               print('H')"
      ],
      "metadata": {
        "id": "VjtBZWUR6sjM"
      },
      "execution_count": null,
      "outputs": []
    },
    {
      "cell_type": "code",
      "source": [
        "def get_dmg_R(eucli):\n",
        "          if eucli[0] < 12.01:\n",
        "              print('N')\n",
        "          elif   2.28 <= eucli[0] <= 45.92:\n",
        "              print('L')\n",
        "          elif 45.92 < eucli[0] <= 49.97:\n",
        "              print('M')\n",
        "          elif eucli[0] > 49.97:\n",
        "               print('H')"
      ],
      "metadata": {
        "id": "x-KMNn3f6tBE"
      },
      "execution_count": 37,
      "outputs": []
    },
    {
      "cell_type": "code",
      "source": [
        "get_dmg_F(ldmg)\n",
        "get_dmg_L(ldmg)\n",
        "get_dmg_B(ldmg)\n",
        "get_dmg_R(ldmg)"
      ],
      "metadata": {
        "id": "RAMDZeRo7mUV",
        "outputId": "d2c0f4c1-eae2-4ac9-ff89-b6d88e53c361",
        "colab": {
          "base_uri": "https://localhost:8080/"
        }
      },
      "execution_count": 38,
      "outputs": [
        {
          "output_type": "stream",
          "name": "stdout",
          "text": [
            "N\n",
            "N\n",
            "H\n",
            "N\n"
          ]
        }
      ]
    },
    {
      "cell_type": "code",
      "source": [
        "get_dmg_F(dmg)\n",
        "get_dmg_L(dmg)\n",
        "get_dmg_B(dmg)\n",
        "get_dmg_R(dmg)"
      ],
      "metadata": {
        "id": "GH_Vc8TA7rEl",
        "outputId": "da512609-f196-4c58-c096-6474b12434f7",
        "colab": {
          "base_uri": "https://localhost:8080/"
        }
      },
      "execution_count": 39,
      "outputs": [
        {
          "output_type": "stream",
          "name": "stdout",
          "text": [
            "N\n",
            "L\n",
            "H\n",
            "N\n"
          ]
        }
      ]
    },
    {
      "cell_type": "code",
      "source": [
        "get_dmg_F(mdmg)\n",
        "get_dmg_L(mdmg)\n",
        "get_dmg_B(mdmg)\n",
        "get_dmg_R(mdmg)"
      ],
      "metadata": {
        "id": "yEillAfL7qm1",
        "outputId": "1e839909-0fa5-4c4a-b363-dcbd2baac7d7",
        "colab": {
          "base_uri": "https://localhost:8080/"
        }
      },
      "execution_count": 40,
      "outputs": [
        {
          "output_type": "stream",
          "name": "stdout",
          "text": [
            "L\n",
            "L\n",
            "H\n",
            "L\n"
          ]
        }
      ]
    },
    {
      "cell_type": "code",
      "source": [
        "get_dmg_F(nodmg)\n",
        "get_dmg_L(nodmg)\n",
        "get_dmg_B(nodmg)\n",
        "get_dmg_R(nodmg)"
      ],
      "metadata": {
        "id": "wBtMfF5Y7qa_",
        "outputId": "d2d9745a-127a-4526-8d9a-7eac938a401f",
        "colab": {
          "base_uri": "https://localhost:8080/"
        }
      },
      "execution_count": 41,
      "outputs": [
        {
          "output_type": "stream",
          "name": "stdout",
          "text": [
            "N\n",
            "N\n",
            "N\n",
            "N\n"
          ]
        }
      ]
    },
    {
      "cell_type": "markdown",
      "source": [
        "# Test ACC"
      ],
      "metadata": {
        "id": "TAdD9yjg79t3"
      }
    },
    {
      "cell_type": "code",
      "source": [
        "def get_dmg_F(eucli):\n",
        "          if eucli[0] < 9.6:\n",
        "              print('N')\n",
        "          elif   9.6 <= eucli[0] <= 21.92:\n",
        "              print('L')\n",
        "          elif 21.92 < eucli[0] <= 44.75:\n",
        "              print('M')\n",
        "          elif eucli[0] > 44.75:\n",
        "               print('H')"
      ],
      "metadata": {
        "id": "ZbeUbaf68BB7"
      },
      "execution_count": 42,
      "outputs": []
    },
    {
      "cell_type": "code",
      "source": [
        "def get_dmg_L(eucli):\n",
        "          if eucli[0] < 1.08:\n",
        "              print('N')\n",
        "          elif   1.08 <= eucli[0] <= 24.24:\n",
        "              print('L')\n",
        "          elif 24.24 < eucli[0] <= 35.84:\n",
        "              print('M')\n",
        "          elif eucli[0] > 35.84:\n",
        "               print('H')"
      ],
      "metadata": {
        "id": "fAs5YPu98A45"
      },
      "execution_count": null,
      "outputs": []
    },
    {
      "cell_type": "code",
      "source": [
        "def get_dmg_B(eucli):\n",
        "          if eucli[0] < 8.92:\n",
        "              print('N')\n",
        "          elif   8.92 <= eucli[0] <= 13.39:\n",
        "              print('L')\n",
        "          elif 13.39 < eucli[0] <= 49.03:\n",
        "              print('M')\n",
        "          elif eucli[0] > 49.03:\n",
        "               print('H')"
      ],
      "metadata": {
        "id": "Cg28obM-8Axb"
      },
      "execution_count": null,
      "outputs": []
    },
    {
      "cell_type": "code",
      "source": [
        "def get_dmg_R(eucli):\n",
        "          if eucli[0] < 4.48:\n",
        "              print('N')\n",
        "          elif   4.48 <= eucli[0] <= 24.76:\n",
        "              print('L')\n",
        "          elif 24.76 < eucli[0] <= 33.37:\n",
        "              print('M')\n",
        "          elif eucli[0] > 33.37:\n",
        "               print('H')"
      ],
      "metadata": {
        "id": "rntNeKZR8AJ0"
      },
      "execution_count": 43,
      "outputs": []
    },
    {
      "cell_type": "code",
      "source": [
        "get_dmg_F(ldmg)\n",
        "get_dmg_L(ldmg)\n",
        "get_dmg_B(ldmg)\n",
        "get_dmg_R(ldmg)"
      ],
      "metadata": {
        "id": "UGsTkC5C80FB",
        "outputId": "d4a3ffc9-c217-43ea-e91f-f48c85130b81",
        "colab": {
          "base_uri": "https://localhost:8080/"
        }
      },
      "execution_count": 44,
      "outputs": [
        {
          "output_type": "stream",
          "name": "stdout",
          "text": [
            "N\n",
            "N\n",
            "H\n",
            "N\n"
          ]
        }
      ]
    },
    {
      "cell_type": "code",
      "source": [
        "get_dmg_F(dmg)\n",
        "get_dmg_L(dmg)\n",
        "get_dmg_B(dmg)\n",
        "get_dmg_R(dmg)"
      ],
      "metadata": {
        "id": "-PoO25qo80BG",
        "outputId": "a53391ae-b7c6-48a6-995c-a4e3bb4a5563",
        "colab": {
          "base_uri": "https://localhost:8080/"
        }
      },
      "execution_count": 45,
      "outputs": [
        {
          "output_type": "stream",
          "name": "stdout",
          "text": [
            "L\n",
            "L\n",
            "H\n",
            "L\n"
          ]
        }
      ]
    },
    {
      "cell_type": "code",
      "source": [
        "get_dmg_F(mdmg)\n",
        "get_dmg_L(mdmg)\n",
        "get_dmg_B(mdmg)\n",
        "get_dmg_R(mdmg)"
      ],
      "metadata": {
        "id": "IDDFdqMD8z2f",
        "outputId": "48f37b92-6665-46b3-8a9e-07890ca02e23",
        "colab": {
          "base_uri": "https://localhost:8080/"
        }
      },
      "execution_count": 46,
      "outputs": [
        {
          "output_type": "stream",
          "name": "stdout",
          "text": [
            "M\n",
            "L\n",
            "H\n",
            "M\n"
          ]
        }
      ]
    },
    {
      "cell_type": "code",
      "source": [
        "get_dmg_F(nodmg)\n",
        "get_dmg_L(nodmg)\n",
        "get_dmg_B(nodmg)\n",
        "get_dmg_R(nodmg)"
      ],
      "metadata": {
        "id": "OirZADzI8zyD",
        "outputId": "6a17f242-08ff-48d7-fec7-604cd8cdba0c",
        "colab": {
          "base_uri": "https://localhost:8080/"
        }
      },
      "execution_count": 47,
      "outputs": [
        {
          "output_type": "stream",
          "name": "stdout",
          "text": [
            "N\n",
            "N\n",
            "N\n",
            "N\n"
          ]
        }
      ]
    },
    {
      "cell_type": "code",
      "source": [
        "from sklearn.metrics import confusion_matrix"
      ],
      "metadata": {
        "id": "SuWFVHiMP7_Q"
      },
      "execution_count": null,
      "outputs": []
    },
    {
      "cell_type": "code",
      "source": [
        "!wget -q https://github.com/Phonbopit/sarabun-webfont/raw/master/fonts/thsarabunnew-webfont.ttf"
      ],
      "metadata": {
        "id": "zN9B7y10gD8J"
      },
      "execution_count": null,
      "outputs": []
    },
    {
      "cell_type": "code",
      "source": [
        "# !pip install -U --pre matplotlib  \n",
        "import matplotlib as mpl\n",
        "mpl.font_manager.fontManager.addfont('thsarabunnew-webfont.ttf')\n",
        "mpl.rc('font', family='TH Sarabun New')"
      ],
      "metadata": {
        "id": "JUFELZ-5gEiH"
      },
      "execution_count": null,
      "outputs": []
    },
    {
      "cell_type": "code",
      "source": [
        "# Predicted values\n",
        "y_pred = [0,0,0, 0,1,2,1,2,2,2,1,2,2,3,3,2]\n",
        "# Actual values\n",
        "y_act = [0, 0, 0, 0,1,1,1,1,2,2,2,2,3,3,3,3]"
      ],
      "metadata": {
        "id": "cvIjzwfqQabb"
      },
      "execution_count": null,
      "outputs": []
    },
    {
      "cell_type": "code",
      "source": [
        "from torchvision.transforms.functional import normalize\n",
        "confusion_matrix(y_act, y_pred,normalize='true')"
      ],
      "metadata": {
        "colab": {
          "base_uri": "https://localhost:8080/"
        },
        "id": "XZbJNHj7Ryr1",
        "outputId": "5c1fb9c0-6b83-4bdc-eb47-765b1907a879"
      },
      "execution_count": null,
      "outputs": [
        {
          "output_type": "execute_result",
          "data": {
            "text/plain": [
              "array([[1.  , 0.  , 0.  , 0.  ],\n",
              "       [0.  , 0.5 , 0.5 , 0.  ],\n",
              "       [0.  , 0.25, 0.75, 0.  ],\n",
              "       [0.  , 0.  , 0.5 , 0.5 ]])"
            ]
          },
          "metadata": {},
          "execution_count": 49
        }
      ]
    },
    {
      "cell_type": "code",
      "source": [
        "y_pred = [1,1,1,1]\n",
        "# Actual values\n",
        "y_act = [1,1,1,1]"
      ],
      "metadata": {
        "id": "LJaDPpMGXYb8"
      },
      "execution_count": null,
      "outputs": []
    },
    {
      "cell_type": "code",
      "source": [
        "cf_matrix = confusion_matrix(y_act, y_pred,normalize='true')"
      ],
      "metadata": {
        "id": "h3gl7hPMeSHZ"
      },
      "execution_count": null,
      "outputs": []
    },
    {
      "cell_type": "code",
      "source": [
        "import seaborn as sns\n",
        "\n",
        "ax = sns.heatmap(cf_matrix, annot=True, cmap='coolwarm')\n",
        "\n",
        "ax.set_title('Confusion Matrix\\n\\n');\n",
        "ax.set_xlabel('\\nPredicted')\n",
        "ax.set_ylabel('Actual');\n",
        "\n",
        "## Ticket labels - List must be in alphabetical order\n",
        "ax.xaxis.set_ticklabels(['N','L','M','H'])\n",
        "ax.yaxis.set_ticklabels(['N','L','M','H'])\n",
        "\n",
        "## Display the visualization of the Confusion Matrix.\n",
        "plt.show()"
      ],
      "metadata": {
        "id": "w4tMgAwteVaN",
        "outputId": "f5b846b2-cae4-46cf-d982-a858a5314905",
        "colab": {
          "base_uri": "https://localhost:8080/",
          "height": 334
        }
      },
      "execution_count": null,
      "outputs": [
        {
          "output_type": "display_data",
          "data": {
            "text/plain": [
              "<Figure size 432x288 with 2 Axes>"
            ],
            "image/png": "[encoded data removed]"
          },
          "metadata": {
            "needs_background": "light"
          }
        }
      ]
    },
    {
      "cell_type": "code",
      "source": [
        "from sklearn.cluster import KMeans\n",
        "import numpy as np"
      ],
      "metadata": {
        "id": "vlLwRz03ekxH"
      },
      "execution_count": null,
      "outputs": []
    },
    {
      "cell_type": "code",
      "source": [
        ""
      ],
      "metadata": {
        "id": "9Kzsvhc8mYkv"
      },
      "execution_count": null,
      "outputs": []
    }
  ]
}