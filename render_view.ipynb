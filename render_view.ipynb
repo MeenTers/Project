{
  "nbformat": 4,
  "nbformat_minor": 0,
  "metadata": {
    "colab": {
      "name": "render_view.ipynb",
      "provenance": [],
      "authorship_tag": "ABX9TyNaK/ZuJvJfxz3GOCBoDqdu",
      "include_colab_link": true
    },
    "kernelspec": {
      "name": "python3",
      "display_name": "Python 3"
    },
    "language_info": {
      "name": "python"
    },
    "accelerator": "GPU"
  },
  "cells": [
    {
      "cell_type": "markdown",
      "metadata": {
        "id": "view-in-github",
        "colab_type": "text"
      },
      "source": [
        "<a href=\"https://colab.research.google.com/github/MeenTers/Project/blob/main/render_view.ipynb\" target=\"_parent\"><img src=\"https://colab.research.google.com/assets/colab-badge.svg\" alt=\"Open In Colab\"/></a>"
      ]
    },
    {
      "cell_type": "code",
      "execution_count": 1,
      "metadata": {
        "id": "00Ew-Zsphyky"
      },
      "outputs": [],
      "source": [
        "import os\n",
        "import sys\n",
        "import torch\n",
        "import numpy as np\n",
        "import json\n",
        "if torch.__version__=='1.6.0+cu101' and sys.platform.startswith('linux'):\n",
        "    !pip install pytorch3d\n",
        "else:\n",
        "    need_pytorch3d=False\n",
        "    try:\n",
        "        import pytorch3d\n",
        "    except ModuleNotFoundError:\n",
        "        need_pytorch3d=True\n",
        "    if need_pytorch3d:\n",
        "        !curl -LO https://github.com/NVIDIA/cub/archive/1.10.0.tar.gz\n",
        "        !tar xzf 1.10.0.tar.gz\n",
        "        os.environ[\"CUB_HOME\"] = os.getcwd() + \"/cub-1.10.0\"\n",
        "        !pip install 'git+https://github.com/facebookresearch/pytorch3d.git@stable'"
      ]
    },
    {
      "cell_type": "code",
      "source": [
        "!pip install utils"
      ],
      "metadata": {
        "colab": {
          "base_uri": "https://localhost:8080/"
        },
        "id": "gkCP0Ew7mzMa",
        "outputId": "50806e86-2faf-473f-e0e4-212f39d3862f"
      },
      "execution_count": 2,
      "outputs": [
        {
          "output_type": "stream",
          "name": "stdout",
          "text": [
            "Requirement already satisfied: utils in /usr/local/lib/python3.7/dist-packages (1.0.1)\n"
          ]
        }
      ]
    },
    {
      "cell_type": "code",
      "source": [
        "import matplotlib.pyplot as plt\n",
        "from skimage.io import imread\n",
        "from utils import *\n",
        "\n",
        "# Util function for loading meshes\n",
        "from pytorch3d.io import load_obj\n",
        "\n",
        "# Data structures and functions for rendering\n",
        "from pytorch3d.structures import Meshes\n",
        "from pytorch3d.renderer import (\n",
        "    look_at_view_transform,\n",
        "    FoVPerspectiveCameras, \n",
        "    FoVOrthographicCameras, \n",
        "    Materials, \n",
        "    RasterizationSettings, \n",
        "    MeshRenderer, \n",
        "    MeshRasterizer,  \n",
        "    SoftPhongShader,\n",
        "    TexturesVertex,\n",
        "    TexturesAtlas,\n",
        "    PointsRenderer,\n",
        "    PointsRasterizationSettings,\n",
        "    PointsRasterizer\n",
        ")"
      ],
      "metadata": {
        "id": "f9SowO_5h6Nb"
      },
      "execution_count": 3,
      "outputs": []
    },
    {
      "cell_type": "code",
      "source": [
        "# Set our device:\n",
        "if torch.cuda.is_available():\n",
        "    device = torch.device(\"cuda:0\")\n",
        "    torch.cuda.set_device(device)\n",
        "else:\n",
        "    device = torch.device(\"cpu\")"
      ],
      "metadata": {
        "id": "DLY4jxNrmdSl"
      },
      "execution_count": 4,
      "outputs": []
    },
    {
      "cell_type": "code",
      "source": [
        "!pip install Params"
      ],
      "metadata": {
        "colab": {
          "base_uri": "https://localhost:8080/"
        },
        "id": "Cqay3x6dm4mP",
        "outputId": "43122c69-c421-4554-9c3e-4d2c304e5120"
      },
      "execution_count": 5,
      "outputs": [
        {
          "output_type": "stream",
          "name": "stdout",
          "text": [
            "Requirement already satisfied: Params in /usr/local/lib/python3.7/dist-packages (0.9.0)\n",
            "Requirement already satisfied: six in /usr/local/lib/python3.7/dist-packages (from Params) (1.15.0)\n"
          ]
        }
      ]
    },
    {
      "cell_type": "code",
      "source": [
        "obj_filename1 = '/content/ID1.obj'"
      ],
      "metadata": {
        "id": "E_LAhm-vm7FG"
      },
      "execution_count": 6,
      "outputs": []
    },
    {
      "cell_type": "code",
      "source": [
        "params = ({\n",
        "\"image_size\": 256,\n",
        "\"camera_dist\": 3,   \n",
        "\"elevation\": 0,\n",
        "\"azim_angle\": 0,\n",
        "\"obj_filename\": \"/content/ID1.obj\"\n",
        "})"
      ],
      "metadata": {
        "id": "-tG_ogdInKOd"
      },
      "execution_count": 7,
      "outputs": []
    },
    {
      "cell_type": "code",
      "source": [
        "obj_filename1"
      ],
      "metadata": {
        "colab": {
          "base_uri": "https://localhost:8080/",
          "height": 35
        },
        "id": "gcE9INnpnY_a",
        "outputId": "5ce70c52-7f81-4697-c61a-19dc559692a6"
      },
      "execution_count": 8,
      "outputs": [
        {
          "output_type": "execute_result",
          "data": {
            "application/vnd.google.colaboratory.intrinsic+json": {
              "type": "string"
            },
            "text/plain": [
              "'/content/ID1.obj'"
            ]
          },
          "metadata": {},
          "execution_count": 8
        }
      ]
    },
    {
      "cell_type": "code",
      "source": [
        "# Get vertices, faces, and auxiliary information:\n",
        "verts, faces, aux = load_obj(\n",
        "    obj_filename1,\n",
        "    device=device,\n",
        "    load_textures=True,\n",
        "    create_texture_atlas=True,\n",
        "    texture_atlas_size=4,\n",
        "    texture_wrap=\"repeat\"\n",
        "     )\n",
        "\n",
        "# Create a textures object\n",
        "atlas = aux.texture_atlas\n",
        "\n",
        "# Initialize the mesh with vertices, faces, and textures.\n",
        "# Created Meshes object\n",
        "capsule_mesh = Meshes(\n",
        "    verts=[verts],\n",
        "    faces=[faces.verts_idx],\n",
        "    textures=TexturesAtlas(atlas=[atlas]),)"
      ],
      "metadata": {
        "colab": {
          "base_uri": "https://localhost:8080/"
        },
        "id": "eyiktFnjnaYp",
        "outputId": "672fc7ff-c2d5-454c-8e1c-ad654c847e0e"
      },
      "execution_count": 9,
      "outputs": [
        {
          "output_type": "stream",
          "name": "stderr",
          "text": [
            "/usr/local/lib/python3.7/dist-packages/pytorch3d/io/obj_io.py:533: UserWarning: Mtl file does not exist: /content/ID1.mtl\n",
            "  warnings.warn(f\"Mtl file does not exist: {f}\")\n"
          ]
        }
      ]
    },
    {
      "cell_type": "code",
      "source": [
        "print('We have {0} vertices and {1} faces.'.format(verts.shape[0], faces.verts_idx.shape[0]))"
      ],
      "metadata": {
        "colab": {
          "base_uri": "https://localhost:8080/"
        },
        "id": "Dq-6Jr8gnzWF",
        "outputId": "fcc67b41-3f75-4a17-e6f5-8a1cca0e2bda"
      },
      "execution_count": 10,
      "outputs": [
        {
          "output_type": "stream",
          "name": "stdout",
          "text": [
            "We have 32918 vertices and 22011 faces.\n"
          ]
        }
      ]
    },
    {
      "cell_type": "code",
      "source": [
        "# Initialize the camera with camera distance, elevation, and azimuth angle\n",
        "R, T = look_at_view_transform(dist = 0, elev = \n",
        "                              0, azim = 0) \n",
        "cameras = FoVPerspectiveCameras(device=device, R=R, T=T)\n",
        "\n",
        "# Here we set the output image to be of size 256 x 256 based on config.json \n",
        "raster_settings = RasterizationSettings(\n",
        "    image_size = 1024, \n",
        "    blur_radius = 0.0, \n",
        "    faces_per_pixel = 1, \n",
        ")\n",
        "\n",
        "# Initialize rasterizer by using a MeshRasterizer class\n",
        "rasterizer = MeshRasterizer(\n",
        "        cameras=cameras, \n",
        "        raster_settings=raster_settings\n",
        "    )"
      ],
      "metadata": {
        "id": "EUTaC67jn8dE"
      },
      "execution_count": 11,
      "outputs": []
    },
    {
      "cell_type": "code",
      "source": [
        "# The textured phong shader interpolates the texture uv coordinates for \n",
        "# each vertex, and samples from a texture image.\n",
        "shader = SoftPhongShader(device = device, cameras = cameras)\n",
        "\n",
        "# Create a mesh renderer by composing a rasterizer and a shader\n",
        "renderer = MeshRenderer(rasterizer, shader)"
      ],
      "metadata": {
        "id": "hlunnohFoCyj"
      },
      "execution_count": 12,
      "outputs": []
    },
    {
      "cell_type": "code",
      "source": [
        "# The batch size represents the number of different viewpoints from which we \n",
        "# want to render the mesh.\n",
        "batch_size = 6\n",
        "\n",
        "# Create a batch of meshes by repeating the capsule mesh and associated textures. \n",
        "# Meshes has a useful `extend` method which allows us do this very easily. \n",
        "meshes = capsule_mesh.extend(batch_size)\n",
        "\n",
        "# Get a batch of viewing angles. \n",
        "elev = torch.linspace(0, 360, batch_size)\n",
        "azim = [0,60,90,180,270,330]\n",
        "\n",
        "# All the cameras helper methods support mixed type inputs and broadcasting. So we can \n",
        "# view the camera from the same distance and then specify elevation and azimuth angles \n",
        "# for each viewpoint as tensors. \n",
        "R, T = look_at_view_transform(dist = 5, elev = 0, azim = azim)\n",
        "cameras = FoVPerspectiveCameras(device=device, R=R, T=T)\n",
        "# We can pass arbirary keyword arguments to the rasterizer/shader via the renderer\n",
        "# so the renderer does not need to be reinitialized if any of the settings change.\n",
        "images = renderer(meshes, cameras=cameras)"
      ],
      "metadata": {
        "id": "IaXO0MOLoHF1"
      },
      "execution_count": 17,
      "outputs": []
    },
    {
      "cell_type": "code",
      "source": [
        "plt.figure(figsize=(10, 10))\n",
        "for i in list(range(6)) :\n",
        "  plt.subplot(3,3,i+1)\n",
        "  plt.imshow(images[i].cpu().numpy())\n",
        "  plt.grid(\"off\");\n",
        "  plt.axis(\"off\");\n",
        "  plt.title(i)\n",
        "plt.show()"
      ],
      "metadata": {
        "colab": {
          "base_uri": "https://localhost:8080/",
          "height": 399
        },
        "id": "oRuwLcCAqQR_",
        "outputId": "b259f884-76d1-4a1d-a462-ce136d85f89b"
      },
      "execution_count": 18,
      "outputs": [
        {
          "output_type": "display_data",
          "data": {
            "image/png": "[encoded data removed]",
            "text/plain": [
              "<Figure size 720x720 with 6 Axes>"
            ]
          },
          "metadata": {
            "needs_background": "light"
          }
        }
      ]
    },
    {
      "cell_type": "code",
      "source": [
        ""
      ],
      "metadata": {
        "id": "U1fxykrJqX7e"
      },
      "execution_count": null,
      "outputs": []
    }
  ]
}