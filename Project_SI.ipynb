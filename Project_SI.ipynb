{
  "nbformat": 4,
  "nbformat_minor": 0,
  "metadata": {
    "colab": {
      "name": "Project_SI.ipynb",
      "provenance": [],
      "authorship_tag": "ABX9TyNFZAD9Tvgk56BYdt7IeSa5",
      "include_colab_link": true
    },
    "kernelspec": {
      "name": "python3",
      "display_name": "Python 3"
    },
    "language_info": {
      "name": "python"
    },
    "accelerator": "GPU"
  },
  "cells": [
    {
      "cell_type": "markdown",
      "metadata": {
        "id": "view-in-github",
        "colab_type": "text"
      },
      "source": [
        "<a href=\"https://colab.research.google.com/github/MeenTers/Project/blob/main/Project_SI.ipynb\" target=\"_parent\"><img src=\"https://colab.research.google.com/assets/colab-badge.svg\" alt=\"Open In Colab\"/></a>"
      ]
    },
    {
      "cell_type": "markdown",
      "metadata": {
        "id": "MGnW4Gp5Zjq0"
      },
      "source": [
        "# Import"
      ]
    },
    {
      "cell_type": "code",
      "metadata": {
        "id": "cQfK4VQRZlRl",
        "colab": {
          "base_uri": "https://localhost:8080/"
        },
        "outputId": "78b20da5-2f1a-4779-82c8-dbbb5a525dc2"
      },
      "source": [
        "from google.colab import drive\n",
        "drive.mount('/content/drive')"
      ],
      "execution_count": 1,
      "outputs": [
        {
          "output_type": "stream",
          "name": "stdout",
          "text": [
            "Drive already mounted at /content/drive; to attempt to forcibly remount, call drive.mount(\"/content/drive\", force_remount=True).\n"
          ]
        }
      ]
    },
    {
      "cell_type": "code",
      "metadata": {
        "id": "BmLooNHdZyih"
      },
      "source": [
        "import torch\n",
        "from torch import nn, load, utils\n",
        "from tqdm import tqdm\n",
        "import matplotlib.pyplot as plt\n",
        "import numpy as np\n",
        "from torchvision import datasets, transforms, models\n",
        "from torchvision.models.vgg import model_urls\n",
        "from os import path, listdir\n",
        "model_urls['vgg19'] = model_urls['vgg19'].replace('https://', 'http://')"
      ],
      "execution_count": 2,
      "outputs": []
    },
    {
      "cell_type": "code",
      "metadata": {
        "id": "G6wATIDPaI2E"
      },
      "source": [
        "from scipy.spatial import distance_matrix\n",
        "from scipy.spatial import distance"
      ],
      "execution_count": 3,
      "outputs": []
    },
    {
      "cell_type": "markdown",
      "metadata": {
        "id": "dLZDqrRwZ06r"
      },
      "source": [
        "# Prepearing the model"
      ]
    },
    {
      "cell_type": "code",
      "metadata": {
        "id": "fpBDwH-BZy2a"
      },
      "source": [
        "class VGG:\n",
        "\tdef __init__(self):\n",
        "\t\tmodel = models.vgg19(pretrained=True, progress=True)\n",
        "\t\tmodel.classifier = nn.Sequential(*list(model.classifier.children())[:3])\n",
        "\t\tself.model = model.cuda().eval()\n",
        "\n",
        "\tdef __call__(self, x):\n",
        "\t\treturn self.model(x)"
      ],
      "execution_count": 4,
      "outputs": []
    },
    {
      "cell_type": "code",
      "metadata": {
        "id": "VloBzqu6Z3X-"
      },
      "source": [
        "vgg = VGG()"
      ],
      "execution_count": 5,
      "outputs": []
    },
    {
      "cell_type": "markdown",
      "metadata": {
        "id": "rc3vy7MYZ8eq"
      },
      "source": [
        "# Features Extraction"
      ]
    },
    {
      "cell_type": "code",
      "metadata": {
        "id": "2wgrl6upZ5A9"
      },
      "source": [
        "def get_features(model, loader):\n",
        "    features = []\n",
        "    with torch.no_grad():\n",
        "        for batch, _ in tqdm(loader):\n",
        "            if torch.cuda.is_available():\n",
        "                batch = batch.cuda()\n",
        "            b_features = model(batch).detach().cpu().numpy()\n",
        "            for f in b_features:\n",
        "                features.append(f)\n",
        "\n",
        "    return features"
      ],
      "execution_count": 6,
      "outputs": []
    },
    {
      "cell_type": "markdown",
      "metadata": {
        "id": "oxaIuCe3aK_b"
      },
      "source": [
        "# Loading the data"
      ]
    },
    {
      "cell_type": "code",
      "metadata": {
        "id": "Xepfq_TqaG2P"
      },
      "source": [
        "def get_dataset(images_path):\n",
        "  transform = transforms.Compose([\n",
        "    transforms.Resize(size=32),\n",
        "    transforms.ToTensor(),\n",
        "    transforms.Normalize((0.4914, 0.4822, 0.4465), (0.2023, 0.1994, 0.2010)),\n",
        "  ])\n",
        "\n",
        "  dataset = datasets.ImageFolder(images_path, transform=transform)\n",
        "  loader = utils.data.DataLoader(dataset, batch_size=100, shuffle=False, num_workers=1, pin_memory=True)\n",
        "  return dataset, loader"
      ],
      "execution_count": 7,
      "outputs": []
    },
    {
      "cell_type": "markdown",
      "metadata": {
        "id": "utg38zrb3kGm"
      },
      "source": [
        "# Test multi-view image"
      ]
    },
    {
      "cell_type": "code",
      "metadata": {
        "id": "NLESHKl1aNM-"
      },
      "source": [
        "car_dataset , car_loader = get_dataset(r'/content/drive/MyDrive/Project_si/car_model/')"
      ],
      "execution_count": 8,
      "outputs": []
    },
    {
      "cell_type": "code",
      "metadata": {
        "id": "NcwBaVaR3qBy"
      },
      "source": [
        "damage_dataset , damage_loader = get_dataset(r'/content/drive/MyDrive/Project_si/model_damage/')"
      ],
      "execution_count": 9,
      "outputs": []
    },
    {
      "cell_type": "code",
      "metadata": {
        "id": "qRLI6vLZaUY4",
        "colab": {
          "base_uri": "https://localhost:8080/"
        },
        "outputId": "9c0ab6b0-360e-4962-a75e-e4b0385c699d"
      },
      "source": [
        "car_base = get_features(model=vgg,loader=car_loader)"
      ],
      "execution_count": 10,
      "outputs": [
        {
          "output_type": "stream",
          "name": "stderr",
          "text": [
            "100%|██████████| 1/1 [00:00<00:00,  5.26it/s]\n"
          ]
        }
      ]
    },
    {
      "cell_type": "code",
      "metadata": {
        "id": "9yReq5OfaX1o",
        "outputId": "811ffded-637f-4bc4-a87a-ce3745be6455",
        "colab": {
          "base_uri": "https://localhost:8080/"
        }
      },
      "source": [
        "len(car_base[0])"
      ],
      "execution_count": 11,
      "outputs": [
        {
          "output_type": "execute_result",
          "data": {
            "text/plain": [
              "4096"
            ]
          },
          "metadata": {},
          "execution_count": 11
        }
      ]
    },
    {
      "cell_type": "code",
      "metadata": {
        "id": "YoGDog4ZANDf",
        "outputId": "90bf92e0-39f9-4591-ffa0-395816424ad5",
        "colab": {
          "base_uri": "https://localhost:8080/"
        }
      },
      "source": [
        "car_base[0]"
      ],
      "execution_count": 12,
      "outputs": [
        {
          "output_type": "execute_result",
          "data": {
            "text/plain": [
              "array([0.      , 0.      , 3.960284, ..., 0.      , 0.      , 0.      ],\n",
              "      dtype=float32)"
            ]
          },
          "metadata": {},
          "execution_count": 12
        }
      ]
    },
    {
      "cell_type": "code",
      "metadata": {
        "id": "TpBnUavM055J",
        "outputId": "e7708b4c-fe52-4bad-fdcb-a132b71cd8eb",
        "colab": {
          "base_uri": "https://localhost:8080/"
        }
      },
      "source": [
        "car_damage = get_features(model=vgg,loader=damage_loader)"
      ],
      "execution_count": 13,
      "outputs": [
        {
          "output_type": "stream",
          "name": "stderr",
          "text": [
            "100%|██████████| 1/1 [00:00<00:00,  5.92it/s]\n"
          ]
        }
      ]
    },
    {
      "cell_type": "code",
      "metadata": {
        "id": "XWILKYxN4EwT",
        "outputId": "38c37909-48af-4f3a-add1-96562c3a92c1",
        "colab": {
          "base_uri": "https://localhost:8080/"
        }
      },
      "source": [
        "len(car_damage[0])"
      ],
      "execution_count": 14,
      "outputs": [
        {
          "output_type": "execute_result",
          "data": {
            "text/plain": [
              "4096"
            ]
          },
          "metadata": {},
          "execution_count": 14
        }
      ]
    },
    {
      "cell_type": "markdown",
      "metadata": {
        "id": "xw7anZGn5zvr"
      },
      "source": [
        "# Distance"
      ]
    },
    {
      "cell_type": "code",
      "metadata": {
        "id": "IU22zDA36Nr9"
      },
      "source": [
        "car_image = '/content/drive/MyDrive/Project_si/car_model/ID1'\n",
        "damage_image = '/content/drive/MyDrive/Project_si/model_damage/ID1'"
      ],
      "execution_count": 15,
      "outputs": []
    },
    {
      "cell_type": "code",
      "metadata": {
        "id": "2xQ0QDoD-2eD",
        "outputId": "e9d7575e-ab52-4dd5-9ee4-34c5cc8a1000",
        "colab": {
          "base_uri": "https://localhost:8080/"
        }
      },
      "source": [
        "distance.euclidean(car_base[1], car_damage[1])"
      ],
      "execution_count": 16,
      "outputs": [
        {
          "output_type": "execute_result",
          "data": {
            "text/plain": [
              "13.258048057556152"
            ]
          },
          "metadata": {},
          "execution_count": 16
        }
      ]
    },
    {
      "cell_type": "markdown",
      "source": [
        "# compute distance\n"
      ],
      "metadata": {
        "id": "UqvY0S5sPq76"
      }
    },
    {
      "cell_type": "markdown",
      "source": [
        "# ID1"
      ],
      "metadata": {
        "id": "nQ8o_LmhtCDb"
      }
    },
    {
      "cell_type": "code",
      "source": [
        "base_car_dataset, base_car_loader = get_dataset('/content/drive/MyDrive/Project_si/Test_Dist/Base_car/ID1') \n",
        "view_car_dataset, view_car_loader = get_dataset('/content/drive/MyDrive/Project_si/Test_Dist/different_view/ID1')"
      ],
      "metadata": {
        "id": "U55GrylCoi3f"
      },
      "execution_count": 30,
      "outputs": []
    },
    {
      "cell_type": "code",
      "source": [
        "base_car = get_features(vgg,base_car_loader)\n",
        "view_car = get_features(vgg,view_car_loader)"
      ],
      "metadata": {
        "id": "hKXLQfHPo0CH",
        "outputId": "49c9dc10-4d27-47ee-f8df-a2c2bca1d80a",
        "colab": {
          "base_uri": "https://localhost:8080/"
        }
      },
      "execution_count": 18,
      "outputs": [
        {
          "output_type": "stream",
          "name": "stderr",
          "text": [
            "100%|██████████| 1/1 [00:00<00:00,  7.98it/s]\n",
            "100%|██████████| 1/1 [00:04<00:00,  4.37s/it]\n"
          ]
        }
      ]
    },
    {
      "cell_type": "code",
      "source": [
        "distance.euclidean(base_car[0], view_car[0])"
      ],
      "metadata": {
        "id": "tVPMnrfBpPBa",
        "outputId": "b16f9c5d-0ce8-4593-c6fc-219cdc15afb4",
        "colab": {
          "base_uri": "https://localhost:8080/"
        }
      },
      "execution_count": 19,
      "outputs": [
        {
          "output_type": "execute_result",
          "data": {
            "text/plain": [
              "39.94890594482422"
            ]
          },
          "metadata": {},
          "execution_count": 19
        }
      ]
    },
    {
      "cell_type": "code",
      "source": [
        "distance.euclidean(base_car[0], view_car[1])"
      ],
      "metadata": {
        "id": "wUzFpJyTq9mx",
        "outputId": "200be78a-aee1-4f7b-81c8-59a2a4a01fb2",
        "colab": {
          "base_uri": "https://localhost:8080/"
        }
      },
      "execution_count": 20,
      "outputs": [
        {
          "output_type": "execute_result",
          "data": {
            "text/plain": [
              "37.413814544677734"
            ]
          },
          "metadata": {},
          "execution_count": 20
        }
      ]
    },
    {
      "cell_type": "code",
      "source": [
        "distance.euclidean(base_car[0], view_car[2])"
      ],
      "metadata": {
        "id": "vrnJBvHerAmf",
        "outputId": "5428bac9-847d-4575-b333-c020128e3046",
        "colab": {
          "base_uri": "https://localhost:8080/"
        }
      },
      "execution_count": 21,
      "outputs": [
        {
          "output_type": "execute_result",
          "data": {
            "text/plain": [
              "44.71876525878906"
            ]
          },
          "metadata": {},
          "execution_count": 21
        }
      ]
    },
    {
      "cell_type": "code",
      "source": [
        "distance.euclidean(base_car[0], view_car[3])"
      ],
      "metadata": {
        "id": "oBWW941nrCz_",
        "outputId": "864f1024-3353-41b5-8e34-f163a34131db",
        "colab": {
          "base_uri": "https://localhost:8080/"
        }
      },
      "execution_count": 22,
      "outputs": [
        {
          "output_type": "execute_result",
          "data": {
            "text/plain": [
              "49.92780685424805"
            ]
          },
          "metadata": {},
          "execution_count": 22
        }
      ]
    },
    {
      "cell_type": "code",
      "source": [
        "distance.euclidean(base_car[0], view_car[4])"
      ],
      "metadata": {
        "id": "UM672doNrFH3",
        "outputId": "7716f35c-1890-4259-92c9-12feabb8e65e",
        "colab": {
          "base_uri": "https://localhost:8080/"
        }
      },
      "execution_count": 23,
      "outputs": [
        {
          "output_type": "execute_result",
          "data": {
            "text/plain": [
              "42.918880462646484"
            ]
          },
          "metadata": {},
          "execution_count": 23
        }
      ]
    },
    {
      "cell_type": "code",
      "source": [
        "distance.euclidean(base_car[0], view_car[5])"
      ],
      "metadata": {
        "id": "EhTrSMCyrJ77",
        "outputId": "2c0c717b-1741-4728-ac64-a2b7f86947a0",
        "colab": {
          "base_uri": "https://localhost:8080/"
        }
      },
      "execution_count": 24,
      "outputs": [
        {
          "output_type": "execute_result",
          "data": {
            "text/plain": [
              "48.43491744995117"
            ]
          },
          "metadata": {},
          "execution_count": 24
        }
      ]
    },
    {
      "cell_type": "code",
      "source": [
        "distance.euclidean(base_car[0], view_car[6])"
      ],
      "metadata": {
        "id": "dRTapMqkrLoh",
        "outputId": "f3fe43f2-d851-43f4-fc07-db0a609a33c7",
        "colab": {
          "base_uri": "https://localhost:8080/"
        }
      },
      "execution_count": 25,
      "outputs": [
        {
          "output_type": "execute_result",
          "data": {
            "text/plain": [
              "43.1046142578125"
            ]
          },
          "metadata": {},
          "execution_count": 25
        }
      ]
    },
    {
      "cell_type": "markdown",
      "source": [
        "# ID2"
      ],
      "metadata": {
        "id": "6-C4kPECtFGw"
      }
    },
    {
      "cell_type": "code",
      "source": [
        "base_car1_dataset, base_car1_loader = get_dataset('/content/drive/MyDrive/Project_si/Test_Dist/Base_car/ID2') \n",
        "view_car1_dataset, view_car1_loader = get_dataset('/content/drive/MyDrive/Project_si/Test_Dist/different_view/ID2')"
      ],
      "metadata": {
        "id": "QFRZtJkkrPDT"
      },
      "execution_count": 29,
      "outputs": []
    },
    {
      "cell_type": "code",
      "source": [
        "base_car1 = get_features(vgg,base_car1_loader)\n",
        "view_car1 = get_features(vgg,view_car1_loader)"
      ],
      "metadata": {
        "id": "wKKZU3UswXp9",
        "outputId": "dc9ff7d5-d4c4-487f-fc1f-ee129e394e25",
        "colab": {
          "base_uri": "https://localhost:8080/"
        }
      },
      "execution_count": 31,
      "outputs": [
        {
          "output_type": "stream",
          "name": "stderr",
          "text": [
            "100%|██████████| 1/1 [00:00<00:00,  1.59it/s]\n",
            "100%|██████████| 1/1 [00:02<00:00,  2.76s/it]\n"
          ]
        }
      ]
    },
    {
      "cell_type": "code",
      "source": [
        "distance.euclidean(base_car1[0], view_car1[0])"
      ],
      "metadata": {
        "id": "ZCksu1iawh9u",
        "outputId": "b0962203-6a03-41e7-cd31-7966140a8772",
        "colab": {
          "base_uri": "https://localhost:8080/"
        }
      },
      "execution_count": 32,
      "outputs": [
        {
          "output_type": "execute_result",
          "data": {
            "text/plain": [
              "9.628503799438477"
            ]
          },
          "metadata": {},
          "execution_count": 32
        }
      ]
    },
    {
      "cell_type": "code",
      "source": [
        "distance.euclidean(base_car1[0], view_car1[1])"
      ],
      "metadata": {
        "id": "2OiHLkdNwoxD",
        "outputId": "c14dafc3-ac27-4db6-a707-5d9d7363b6f2",
        "colab": {
          "base_uri": "https://localhost:8080/"
        }
      },
      "execution_count": 33,
      "outputs": [
        {
          "output_type": "execute_result",
          "data": {
            "text/plain": [
              "23.583209991455078"
            ]
          },
          "metadata": {},
          "execution_count": 33
        }
      ]
    },
    {
      "cell_type": "code",
      "source": [
        "distance.euclidean(base_car1[0], view_car1[2])"
      ],
      "metadata": {
        "id": "JCAUimskwqh7",
        "outputId": "ef63854b-8398-47ba-b460-72cd71fa9955",
        "colab": {
          "base_uri": "https://localhost:8080/"
        }
      },
      "execution_count": 34,
      "outputs": [
        {
          "output_type": "execute_result",
          "data": {
            "text/plain": [
              "30.316486358642578"
            ]
          },
          "metadata": {},
          "execution_count": 34
        }
      ]
    },
    {
      "cell_type": "code",
      "source": [
        "distance.euclidean(base_car1[0], view_car1[3])"
      ],
      "metadata": {
        "id": "GqjEbDXSwrqE",
        "outputId": "0f503269-a761-4155-e06c-8ae45f1a8f6f",
        "colab": {
          "base_uri": "https://localhost:8080/"
        }
      },
      "execution_count": 35,
      "outputs": [
        {
          "output_type": "execute_result",
          "data": {
            "text/plain": [
              "28.636341094970703"
            ]
          },
          "metadata": {},
          "execution_count": 35
        }
      ]
    },
    {
      "cell_type": "code",
      "source": [
        ""
      ],
      "metadata": {
        "id": "cZ3edsKPwstv"
      },
      "execution_count": null,
      "outputs": []
    }
  ]
}