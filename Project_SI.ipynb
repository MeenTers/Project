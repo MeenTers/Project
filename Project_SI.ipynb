{
  "nbformat": 4,
  "nbformat_minor": 0,
  "metadata": {
    "colab": {
      "name": "Project_SI.ipynb",
      "provenance": [],
      "authorship_tag": "ABX9TyPMMMUb2CuUIeLzuv84XEb/",
      "include_colab_link": true
    },
    "kernelspec": {
      "name": "python3",
      "display_name": "Python 3"
    },
    "language_info": {
      "name": "python"
    },
    "accelerator": "GPU",
    "widgets": {
      "application/vnd.jupyter.widget-state+json": {
        "6de22144de224bf28ad9cf41b56fa9ef": {
          "model_module": "@jupyter-widgets/controls",
          "model_name": "HBoxModel",
          "model_module_version": "1.5.0",
          "state": {
            "_view_name": "HBoxView",
            "_dom_classes": [],
            "_model_name": "HBoxModel",
            "_view_module": "@jupyter-widgets/controls",
            "_model_module_version": "1.5.0",
            "_view_count": null,
            "_view_module_version": "1.5.0",
            "box_style": "",
            "layout": "IPY_MODEL_4e43c7a7f8d44c358d15e9385c10ca02",
            "_model_module": "@jupyter-widgets/controls",
            "children": [
              "IPY_MODEL_368179ed676240c4b6cfb8e443898467",
              "IPY_MODEL_9653a8ff05a24322837025a1746a6efa",
              "IPY_MODEL_7b9ced1e21cd4ff4bbc787d104ff1879"
            ]
          }
        },
        "4e43c7a7f8d44c358d15e9385c10ca02": {
          "model_module": "@jupyter-widgets/base",
          "model_name": "LayoutModel",
          "model_module_version": "1.2.0",
          "state": {
            "_view_name": "LayoutView",
            "grid_template_rows": null,
            "right": null,
            "justify_content": null,
            "_view_module": "@jupyter-widgets/base",
            "overflow": null,
            "_model_module_version": "1.2.0",
            "_view_count": null,
            "flex_flow": null,
            "width": null,
            "min_width": null,
            "border": null,
            "align_items": null,
            "bottom": null,
            "_model_module": "@jupyter-widgets/base",
            "top": null,
            "grid_column": null,
            "overflow_y": null,
            "overflow_x": null,
            "grid_auto_flow": null,
            "grid_area": null,
            "grid_template_columns": null,
            "flex": null,
            "_model_name": "LayoutModel",
            "justify_items": null,
            "grid_row": null,
            "max_height": null,
            "align_content": null,
            "visibility": null,
            "align_self": null,
            "height": null,
            "min_height": null,
            "padding": null,
            "grid_auto_rows": null,
            "grid_gap": null,
            "max_width": null,
            "order": null,
            "_view_module_version": "1.2.0",
            "grid_template_areas": null,
            "object_position": null,
            "object_fit": null,
            "grid_auto_columns": null,
            "margin": null,
            "display": null,
            "left": null
          }
        },
        "368179ed676240c4b6cfb8e443898467": {
          "model_module": "@jupyter-widgets/controls",
          "model_name": "HTMLModel",
          "model_module_version": "1.5.0",
          "state": {
            "_view_name": "HTMLView",
            "style": "IPY_MODEL_6f8e84405c344cebaf450bd3e5a3289c",
            "_dom_classes": [],
            "description": "",
            "_model_name": "HTMLModel",
            "placeholder": "​",
            "_view_module": "@jupyter-widgets/controls",
            "_model_module_version": "1.5.0",
            "value": "100%",
            "_view_count": null,
            "_view_module_version": "1.5.0",
            "description_tooltip": null,
            "_model_module": "@jupyter-widgets/controls",
            "layout": "IPY_MODEL_be64ef0ffb4044e58325881cc4626f4c"
          }
        },
        "9653a8ff05a24322837025a1746a6efa": {
          "model_module": "@jupyter-widgets/controls",
          "model_name": "FloatProgressModel",
          "model_module_version": "1.5.0",
          "state": {
            "_view_name": "ProgressView",
            "style": "IPY_MODEL_4acbc709a076465faf73a85fcf177c27",
            "_dom_classes": [],
            "description": "",
            "_model_name": "FloatProgressModel",
            "bar_style": "success",
            "max": 574673361,
            "_view_module": "@jupyter-widgets/controls",
            "_model_module_version": "1.5.0",
            "value": 574673361,
            "_view_count": null,
            "_view_module_version": "1.5.0",
            "orientation": "horizontal",
            "min": 0,
            "description_tooltip": null,
            "_model_module": "@jupyter-widgets/controls",
            "layout": "IPY_MODEL_0839a883f2a240ccb744780d365d95b9"
          }
        },
        "7b9ced1e21cd4ff4bbc787d104ff1879": {
          "model_module": "@jupyter-widgets/controls",
          "model_name": "HTMLModel",
          "model_module_version": "1.5.0",
          "state": {
            "_view_name": "HTMLView",
            "style": "IPY_MODEL_6d13581b05b64818ac98e3de6a1f8170",
            "_dom_classes": [],
            "description": "",
            "_model_name": "HTMLModel",
            "placeholder": "​",
            "_view_module": "@jupyter-widgets/controls",
            "_model_module_version": "1.5.0",
            "value": " 548M/548M [00:11&lt;00:00, 41.6MB/s]",
            "_view_count": null,
            "_view_module_version": "1.5.0",
            "description_tooltip": null,
            "_model_module": "@jupyter-widgets/controls",
            "layout": "IPY_MODEL_79d3c3b6db62466bad39afd434cc058d"
          }
        },
        "6f8e84405c344cebaf450bd3e5a3289c": {
          "model_module": "@jupyter-widgets/controls",
          "model_name": "DescriptionStyleModel",
          "model_module_version": "1.5.0",
          "state": {
            "_view_name": "StyleView",
            "_model_name": "DescriptionStyleModel",
            "description_width": "",
            "_view_module": "@jupyter-widgets/base",
            "_model_module_version": "1.5.0",
            "_view_count": null,
            "_view_module_version": "1.2.0",
            "_model_module": "@jupyter-widgets/controls"
          }
        },
        "be64ef0ffb4044e58325881cc4626f4c": {
          "model_module": "@jupyter-widgets/base",
          "model_name": "LayoutModel",
          "model_module_version": "1.2.0",
          "state": {
            "_view_name": "LayoutView",
            "grid_template_rows": null,
            "right": null,
            "justify_content": null,
            "_view_module": "@jupyter-widgets/base",
            "overflow": null,
            "_model_module_version": "1.2.0",
            "_view_count": null,
            "flex_flow": null,
            "width": null,
            "min_width": null,
            "border": null,
            "align_items": null,
            "bottom": null,
            "_model_module": "@jupyter-widgets/base",
            "top": null,
            "grid_column": null,
            "overflow_y": null,
            "overflow_x": null,
            "grid_auto_flow": null,
            "grid_area": null,
            "grid_template_columns": null,
            "flex": null,
            "_model_name": "LayoutModel",
            "justify_items": null,
            "grid_row": null,
            "max_height": null,
            "align_content": null,
            "visibility": null,
            "align_self": null,
            "height": null,
            "min_height": null,
            "padding": null,
            "grid_auto_rows": null,
            "grid_gap": null,
            "max_width": null,
            "order": null,
            "_view_module_version": "1.2.0",
            "grid_template_areas": null,
            "object_position": null,
            "object_fit": null,
            "grid_auto_columns": null,
            "margin": null,
            "display": null,
            "left": null
          }
        },
        "4acbc709a076465faf73a85fcf177c27": {
          "model_module": "@jupyter-widgets/controls",
          "model_name": "ProgressStyleModel",
          "model_module_version": "1.5.0",
          "state": {
            "_view_name": "StyleView",
            "_model_name": "ProgressStyleModel",
            "description_width": "",
            "_view_module": "@jupyter-widgets/base",
            "_model_module_version": "1.5.0",
            "_view_count": null,
            "_view_module_version": "1.2.0",
            "bar_color": null,
            "_model_module": "@jupyter-widgets/controls"
          }
        },
        "0839a883f2a240ccb744780d365d95b9": {
          "model_module": "@jupyter-widgets/base",
          "model_name": "LayoutModel",
          "model_module_version": "1.2.0",
          "state": {
            "_view_name": "LayoutView",
            "grid_template_rows": null,
            "right": null,
            "justify_content": null,
            "_view_module": "@jupyter-widgets/base",
            "overflow": null,
            "_model_module_version": "1.2.0",
            "_view_count": null,
            "flex_flow": null,
            "width": null,
            "min_width": null,
            "border": null,
            "align_items": null,
            "bottom": null,
            "_model_module": "@jupyter-widgets/base",
            "top": null,
            "grid_column": null,
            "overflow_y": null,
            "overflow_x": null,
            "grid_auto_flow": null,
            "grid_area": null,
            "grid_template_columns": null,
            "flex": null,
            "_model_name": "LayoutModel",
            "justify_items": null,
            "grid_row": null,
            "max_height": null,
            "align_content": null,
            "visibility": null,
            "align_self": null,
            "height": null,
            "min_height": null,
            "padding": null,
            "grid_auto_rows": null,
            "grid_gap": null,
            "max_width": null,
            "order": null,
            "_view_module_version": "1.2.0",
            "grid_template_areas": null,
            "object_position": null,
            "object_fit": null,
            "grid_auto_columns": null,
            "margin": null,
            "display": null,
            "left": null
          }
        },
        "6d13581b05b64818ac98e3de6a1f8170": {
          "model_module": "@jupyter-widgets/controls",
          "model_name": "DescriptionStyleModel",
          "model_module_version": "1.5.0",
          "state": {
            "_view_name": "StyleView",
            "_model_name": "DescriptionStyleModel",
            "description_width": "",
            "_view_module": "@jupyter-widgets/base",
            "_model_module_version": "1.5.0",
            "_view_count": null,
            "_view_module_version": "1.2.0",
            "_model_module": "@jupyter-widgets/controls"
          }
        },
        "79d3c3b6db62466bad39afd434cc058d": {
          "model_module": "@jupyter-widgets/base",
          "model_name": "LayoutModel",
          "model_module_version": "1.2.0",
          "state": {
            "_view_name": "LayoutView",
            "grid_template_rows": null,
            "right": null,
            "justify_content": null,
            "_view_module": "@jupyter-widgets/base",
            "overflow": null,
            "_model_module_version": "1.2.0",
            "_view_count": null,
            "flex_flow": null,
            "width": null,
            "min_width": null,
            "border": null,
            "align_items": null,
            "bottom": null,
            "_model_module": "@jupyter-widgets/base",
            "top": null,
            "grid_column": null,
            "overflow_y": null,
            "overflow_x": null,
            "grid_auto_flow": null,
            "grid_area": null,
            "grid_template_columns": null,
            "flex": null,
            "_model_name": "LayoutModel",
            "justify_items": null,
            "grid_row": null,
            "max_height": null,
            "align_content": null,
            "visibility": null,
            "align_self": null,
            "height": null,
            "min_height": null,
            "padding": null,
            "grid_auto_rows": null,
            "grid_gap": null,
            "max_width": null,
            "order": null,
            "_view_module_version": "1.2.0",
            "grid_template_areas": null,
            "object_position": null,
            "object_fit": null,
            "grid_auto_columns": null,
            "margin": null,
            "display": null,
            "left": null
          }
        }
      }
    }
  },
  "cells": [
    {
      "cell_type": "markdown",
      "metadata": {
        "id": "view-in-github",
        "colab_type": "text"
      },
      "source": [
        "<a href=\"https://colab.research.google.com/github/MeenTers/Project/blob/main/Project_SI.ipynb\" target=\"_parent\"><img src=\"https://colab.research.google.com/assets/colab-badge.svg\" alt=\"Open In Colab\"/></a>"
      ]
    },
    {
      "cell_type": "markdown",
      "metadata": {
        "id": "MGnW4Gp5Zjq0"
      },
      "source": [
        "# Import"
      ]
    },
    {
      "cell_type": "code",
      "metadata": {
        "id": "cQfK4VQRZlRl",
        "colab": {
          "base_uri": "https://localhost:8080/"
        },
        "outputId": "66bd0381-0611-4332-99f0-fd474711d45d"
      },
      "source": [
        "from google.colab import drive\n",
        "drive.mount('/content/drive')"
      ],
      "execution_count": 1,
      "outputs": [
        {
          "output_type": "stream",
          "name": "stdout",
          "text": [
            "Mounted at /content/drive\n"
          ]
        }
      ]
    },
    {
      "cell_type": "code",
      "metadata": {
        "id": "BmLooNHdZyih"
      },
      "source": [
        "import torch\n",
        "from torch import nn, load, utils\n",
        "from tqdm import tqdm\n",
        "import matplotlib.pyplot as plt\n",
        "import numpy as np\n",
        "from torchvision import datasets, transforms, models\n",
        "from torchvision.models.vgg import model_urls\n",
        "from os import path, listdir\n",
        "model_urls['vgg19'] = model_urls['vgg19'].replace('https://', 'http://')"
      ],
      "execution_count": 2,
      "outputs": []
    },
    {
      "cell_type": "code",
      "metadata": {
        "id": "G6wATIDPaI2E"
      },
      "source": [
        "from scipy.spatial import distance_matrix\n",
        "from scipy.spatial import distance"
      ],
      "execution_count": 46,
      "outputs": []
    },
    {
      "cell_type": "markdown",
      "metadata": {
        "id": "dLZDqrRwZ06r"
      },
      "source": [
        "# Prepearing the model"
      ]
    },
    {
      "cell_type": "code",
      "metadata": {
        "id": "fpBDwH-BZy2a"
      },
      "source": [
        "class VGG:\n",
        "\tdef __init__(self):\n",
        "\t\tmodel = models.vgg19(pretrained=True, progress=True)\n",
        "\t\tmodel.classifier = nn.Sequential(*list(model.classifier.children())[:3])\n",
        "\t\tself.model = model.cuda().eval()\n",
        "\n",
        "\tdef __call__(self, x):\n",
        "\t\treturn self.model(x)"
      ],
      "execution_count": 4,
      "outputs": []
    },
    {
      "cell_type": "code",
      "metadata": {
        "id": "VloBzqu6Z3X-",
        "colab": {
          "base_uri": "https://localhost:8080/",
          "height": 66,
          "referenced_widgets": [
            "6de22144de224bf28ad9cf41b56fa9ef",
            "4e43c7a7f8d44c358d15e9385c10ca02",
            "368179ed676240c4b6cfb8e443898467",
            "9653a8ff05a24322837025a1746a6efa",
            "7b9ced1e21cd4ff4bbc787d104ff1879",
            "6f8e84405c344cebaf450bd3e5a3289c",
            "be64ef0ffb4044e58325881cc4626f4c",
            "4acbc709a076465faf73a85fcf177c27",
            "0839a883f2a240ccb744780d365d95b9",
            "6d13581b05b64818ac98e3de6a1f8170",
            "79d3c3b6db62466bad39afd434cc058d"
          ]
        },
        "outputId": "9ba09454-30ae-44b1-e7ca-d821cc112a4d"
      },
      "source": [
        "vgg = VGG()"
      ],
      "execution_count": 5,
      "outputs": [
        {
          "output_type": "stream",
          "name": "stderr",
          "text": [
            "Downloading: \"http://download.pytorch.org/models/vgg19-dcbb9e9d.pth\" to /root/.cache/torch/hub/checkpoints/vgg19-dcbb9e9d.pth\n"
          ]
        },
        {
          "output_type": "display_data",
          "data": {
            "application/vnd.jupyter.widget-view+json": {
              "model_id": "6de22144de224bf28ad9cf41b56fa9ef",
              "version_minor": 0,
              "version_major": 2
            },
            "text/plain": [
              "  0%|          | 0.00/548M [00:00<?, ?B/s]"
            ]
          },
          "metadata": {}
        }
      ]
    },
    {
      "cell_type": "markdown",
      "metadata": {
        "id": "rc3vy7MYZ8eq"
      },
      "source": [
        "# Features Extraction"
      ]
    },
    {
      "cell_type": "code",
      "metadata": {
        "id": "2wgrl6upZ5A9"
      },
      "source": [
        "def get_features(model, loader):\n",
        "    features = []\n",
        "    with torch.no_grad():\n",
        "        for batch, _ in tqdm(loader):\n",
        "            if torch.cuda.is_available():\n",
        "                batch = batch.cuda()\n",
        "            b_features = model(batch).detach().cpu().numpy()\n",
        "            for f in b_features:\n",
        "                features.append(f)\n",
        "\n",
        "    return features"
      ],
      "execution_count": 6,
      "outputs": []
    },
    {
      "cell_type": "markdown",
      "metadata": {
        "id": "oxaIuCe3aK_b"
      },
      "source": [
        "# Loading the data"
      ]
    },
    {
      "cell_type": "code",
      "metadata": {
        "id": "Xepfq_TqaG2P"
      },
      "source": [
        "def get_dataset(images_path):\n",
        "  transform = transforms.Compose([\n",
        "    transforms.Resize(size=32),\n",
        "    transforms.ToTensor(),\n",
        "    transforms.Normalize((0.4914, 0.4822, 0.4465), (0.2023, 0.1994, 0.2010)),\n",
        "  ])\n",
        "\n",
        "  dataset = datasets.ImageFolder(images_path, transform=transform)\n",
        "  loader = utils.data.DataLoader(dataset, batch_size=100, shuffle=False, num_workers=1, pin_memory=True)\n",
        "  return dataset, loader"
      ],
      "execution_count": 7,
      "outputs": []
    },
    {
      "cell_type": "markdown",
      "metadata": {
        "id": "utg38zrb3kGm"
      },
      "source": [
        "# Test multi-view image"
      ]
    },
    {
      "cell_type": "code",
      "metadata": {
        "id": "NLESHKl1aNM-"
      },
      "source": [
        "car_dataset , car_loader = get_dataset(r'/content/drive/MyDrive/Project_si/car_model/')"
      ],
      "execution_count": 12,
      "outputs": []
    },
    {
      "cell_type": "code",
      "metadata": {
        "id": "NcwBaVaR3qBy"
      },
      "source": [
        "damage_dataset , damage_loader = get_dataset(r'/content/drive/MyDrive/Project_si/model_damage/')"
      ],
      "execution_count": 20,
      "outputs": []
    },
    {
      "cell_type": "code",
      "metadata": {
        "id": "qRLI6vLZaUY4",
        "colab": {
          "base_uri": "https://localhost:8080/"
        },
        "outputId": "3fd5f6f4-727f-4899-c6b2-064f16656a07"
      },
      "source": [
        "car_base = get_features(model=vgg,loader=car_loader)"
      ],
      "execution_count": 17,
      "outputs": [
        {
          "output_type": "stream",
          "name": "stderr",
          "text": [
            "100%|██████████| 1/1 [00:00<00:00,  5.75it/s]\n"
          ]
        }
      ]
    },
    {
      "cell_type": "code",
      "metadata": {
        "id": "9yReq5OfaX1o",
        "outputId": "d58b2df9-2160-4a2e-baa7-cf31329d21cc",
        "colab": {
          "base_uri": "https://localhost:8080/"
        }
      },
      "source": [
        "len(car_base[0])"
      ],
      "execution_count": 18,
      "outputs": [
        {
          "output_type": "execute_result",
          "data": {
            "text/plain": [
              "4096"
            ]
          },
          "metadata": {},
          "execution_count": 18
        }
      ]
    },
    {
      "cell_type": "code",
      "metadata": {
        "id": "YoGDog4ZANDf",
        "outputId": "833104a4-9888-45eb-8ad9-4d1fcdc87372",
        "colab": {
          "base_uri": "https://localhost:8080/"
        }
      },
      "source": [
        "car_base[0]"
      ],
      "execution_count": 42,
      "outputs": [
        {
          "output_type": "execute_result",
          "data": {
            "text/plain": [
              "array([0.      , 0.      , 3.960284, ..., 0.      , 0.      , 0.      ],\n",
              "      dtype=float32)"
            ]
          },
          "metadata": {},
          "execution_count": 42
        }
      ]
    },
    {
      "cell_type": "code",
      "metadata": {
        "id": "TpBnUavM055J",
        "outputId": "83d1b21a-9d6b-4536-89fc-5df77d76b428",
        "colab": {
          "base_uri": "https://localhost:8080/"
        }
      },
      "source": [
        "car_damage = get_features(model=vgg,loader=damage_loader)"
      ],
      "execution_count": 21,
      "outputs": [
        {
          "output_type": "stream",
          "name": "stderr",
          "text": [
            "100%|██████████| 1/1 [00:01<00:00,  1.06s/it]\n"
          ]
        }
      ]
    },
    {
      "cell_type": "code",
      "metadata": {
        "id": "XWILKYxN4EwT",
        "outputId": "d95def93-77ce-4d80-ebd4-0e56bb784f00",
        "colab": {
          "base_uri": "https://localhost:8080/"
        }
      },
      "source": [
        "len(car_damage[0])"
      ],
      "execution_count": 23,
      "outputs": [
        {
          "output_type": "execute_result",
          "data": {
            "text/plain": [
              "4096"
            ]
          },
          "metadata": {},
          "execution_count": 23
        }
      ]
    },
    {
      "cell_type": "markdown",
      "metadata": {
        "id": "xw7anZGn5zvr"
      },
      "source": [
        "# Distance"
      ]
    },
    {
      "cell_type": "code",
      "metadata": {
        "id": "IU22zDA36Nr9"
      },
      "source": [
        "car_image = '/content/drive/MyDrive/Project_si/car_model/ID1'\n",
        "damage_image = '/content/drive/MyDrive/Project_si/model_damage/ID1'"
      ],
      "execution_count": 27,
      "outputs": []
    },
    {
      "cell_type": "code",
      "metadata": {
        "id": "2xQ0QDoD-2eD",
        "outputId": "0c12e2b1-66f1-4cb7-bcf6-338f6e711e00",
        "colab": {
          "base_uri": "https://localhost:8080/"
        }
      },
      "source": [
        "distance.euclidean(car_base[1], car_damage[1])"
      ],
      "execution_count": 52,
      "outputs": [
        {
          "output_type": "execute_result",
          "data": {
            "text/plain": [
              "13.258048057556152"
            ]
          },
          "metadata": {},
          "execution_count": 52
        }
      ]
    },
    {
      "cell_type": "code",
      "metadata": {
        "id": "TK-E9-6NAoI6"
      },
      "source": [
        ""
      ],
      "execution_count": null,
      "outputs": []
    }
  ]
}