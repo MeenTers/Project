{
  "nbformat": 4,
  "nbformat_minor": 0,
  "metadata": {
    "colab": {
      "name": "Project_SI.ipynb",
      "provenance": [],
      "authorship_tag": "ABX9TyPOgAcSk0xo6ArYVmAEsNn+",
      "include_colab_link": true
    },
    "kernelspec": {
      "name": "python3",
      "display_name": "Python 3"
    },
    "language_info": {
      "name": "python"
    },
    "accelerator": "GPU"
  },
  "cells": [
    {
      "cell_type": "markdown",
      "metadata": {
        "id": "view-in-github",
        "colab_type": "text"
      },
      "source": [
        "<a href=\"https://colab.research.google.com/github/MeenTers/Project/blob/main/Project_SI.ipynb\" target=\"_parent\"><img src=\"https://colab.research.google.com/assets/colab-badge.svg\" alt=\"Open In Colab\"/></a>"
      ]
    },
    {
      "cell_type": "markdown",
      "metadata": {
        "id": "MGnW4Gp5Zjq0"
      },
      "source": [
        "# Import"
      ]
    },
    {
      "cell_type": "code",
      "metadata": {
        "id": "cQfK4VQRZlRl",
        "colab": {
          "base_uri": "https://localhost:8080/"
        },
        "outputId": "f103e5c6-6990-4bab-899f-120df889ac42"
      },
      "source": [
        "from google.colab import drive\n",
        "drive.mount('/content/drive')"
      ],
      "execution_count": 1,
      "outputs": [
        {
          "output_type": "stream",
          "name": "stdout",
          "text": [
            "Drive already mounted at /content/drive; to attempt to forcibly remount, call drive.mount(\"/content/drive\", force_remount=True).\n"
          ]
        }
      ]
    },
    {
      "cell_type": "code",
      "metadata": {
        "id": "BmLooNHdZyih"
      },
      "source": [
        "import torch\n",
        "from torch import nn, load, utils\n",
        "from tqdm import tqdm\n",
        "import matplotlib.pyplot as plt\n",
        "import numpy as np\n",
        "from torchvision import datasets, transforms, models\n",
        "from torchvision.models.vgg import model_urls\n",
        "from os import path, listdir\n",
        "model_urls['vgg19'] = model_urls['vgg19'].replace('https://', 'http://')"
      ],
      "execution_count": 2,
      "outputs": []
    },
    {
      "cell_type": "code",
      "metadata": {
        "id": "G6wATIDPaI2E"
      },
      "source": [
        "from scipy.spatial import distance_matrix\n",
        "from scipy.spatial import distance"
      ],
      "execution_count": 3,
      "outputs": []
    },
    {
      "cell_type": "code",
      "source": [
        "import pandas as pd"
      ],
      "metadata": {
        "id": "-aVootWtS9rY"
      },
      "execution_count": 4,
      "outputs": []
    },
    {
      "cell_type": "markdown",
      "metadata": {
        "id": "dLZDqrRwZ06r"
      },
      "source": [
        "# Prepearing the model"
      ]
    },
    {
      "cell_type": "code",
      "metadata": {
        "id": "fpBDwH-BZy2a"
      },
      "source": [
        "class VGG:\n",
        "\tdef __init__(self):\n",
        "\t\tmodel = models.vgg19(pretrained=True, progress=True)\n",
        "\t\tmodel.classifier = nn.Sequential(*list(model.classifier.children())[:3])\n",
        "\t\tself.model = model.cuda().eval()\n",
        "\n",
        "\tdef __call__(self, x):\n",
        "\t\treturn self.model(x)"
      ],
      "execution_count": 5,
      "outputs": []
    },
    {
      "cell_type": "code",
      "metadata": {
        "id": "VloBzqu6Z3X-"
      },
      "source": [
        "vgg = VGG()"
      ],
      "execution_count": 6,
      "outputs": []
    },
    {
      "cell_type": "markdown",
      "metadata": {
        "id": "rc3vy7MYZ8eq"
      },
      "source": [
        "# Features Extraction"
      ]
    },
    {
      "cell_type": "code",
      "metadata": {
        "id": "2wgrl6upZ5A9"
      },
      "source": [
        "def get_features(model, loader):\n",
        "    features = []\n",
        "    with torch.no_grad():\n",
        "        for batch, _ in tqdm(loader):\n",
        "            if torch.cuda.is_available():\n",
        "                batch = batch.cuda()\n",
        "            b_features = model(batch).detach().cpu().numpy()\n",
        "            for f in b_features:\n",
        "                features.append(f)\n",
        "\n",
        "    return features"
      ],
      "execution_count": 7,
      "outputs": []
    },
    {
      "cell_type": "markdown",
      "metadata": {
        "id": "oxaIuCe3aK_b"
      },
      "source": [
        "# Loading the data"
      ]
    },
    {
      "cell_type": "code",
      "metadata": {
        "id": "Xepfq_TqaG2P"
      },
      "source": [
        "def get_dataset(images_path):\n",
        "  transform = transforms.Compose([\n",
        "    transforms.Resize(size=32),\n",
        "    transforms.ToTensor(),\n",
        "    transforms.Normalize((0.4914, 0.4822, 0.4465), (0.2023, 0.1994, 0.2010)),\n",
        "  ])\n",
        "\n",
        "  dataset = datasets.ImageFolder(images_path, transform=transform)\n",
        "  loader = utils.data.DataLoader(dataset, batch_size=100, shuffle=False, num_workers=1, pin_memory=True)\n",
        "  return dataset, loader"
      ],
      "execution_count": 8,
      "outputs": []
    },
    {
      "cell_type": "markdown",
      "metadata": {
        "id": "utg38zrb3kGm"
      },
      "source": [
        "# Test multi-view image"
      ]
    },
    {
      "cell_type": "code",
      "metadata": {
        "id": "NLESHKl1aNM-"
      },
      "source": [
        "car_dataset , car_loader = get_dataset(r'/content/drive/MyDrive/Project_si/car_model/')"
      ],
      "execution_count": 9,
      "outputs": []
    },
    {
      "cell_type": "code",
      "metadata": {
        "id": "NcwBaVaR3qBy"
      },
      "source": [
        "damage_dataset , damage_loader = get_dataset(r'/content/drive/MyDrive/Project_si/model_damage/')"
      ],
      "execution_count": 10,
      "outputs": []
    },
    {
      "cell_type": "code",
      "metadata": {
        "id": "qRLI6vLZaUY4",
        "colab": {
          "base_uri": "https://localhost:8080/"
        },
        "outputId": "db4aad12-2218-4987-a0b3-55f01e6f1578"
      },
      "source": [
        "car_base = get_features(model=vgg,loader=car_loader)"
      ],
      "execution_count": 11,
      "outputs": [
        {
          "output_type": "stream",
          "name": "stderr",
          "text": [
            "100%|██████████| 1/1 [00:00<00:00,  3.51it/s]\n"
          ]
        }
      ]
    },
    {
      "cell_type": "code",
      "metadata": {
        "id": "9yReq5OfaX1o",
        "outputId": "3a2f12b5-4228-4fcb-ebc4-81bb7af96337",
        "colab": {
          "base_uri": "https://localhost:8080/"
        }
      },
      "source": [
        "len(car_base[0])"
      ],
      "execution_count": 12,
      "outputs": [
        {
          "output_type": "execute_result",
          "data": {
            "text/plain": [
              "4096"
            ]
          },
          "metadata": {},
          "execution_count": 12
        }
      ]
    },
    {
      "cell_type": "code",
      "metadata": {
        "id": "YoGDog4ZANDf",
        "outputId": "d2abafa4-0eb0-438e-e596-891bd75d671a",
        "colab": {
          "base_uri": "https://localhost:8080/"
        }
      },
      "source": [
        "car_base[0]"
      ],
      "execution_count": 13,
      "outputs": [
        {
          "output_type": "execute_result",
          "data": {
            "text/plain": [
              "array([0.      , 0.      , 3.960284, ..., 0.      , 0.      , 0.      ],\n",
              "      dtype=float32)"
            ]
          },
          "metadata": {},
          "execution_count": 13
        }
      ]
    },
    {
      "cell_type": "code",
      "metadata": {
        "id": "TpBnUavM055J",
        "outputId": "fcf83ec4-9b7d-4b26-da4e-891f920ed57b",
        "colab": {
          "base_uri": "https://localhost:8080/"
        }
      },
      "source": [
        "car_damage = get_features(model=vgg,loader=damage_loader)"
      ],
      "execution_count": 14,
      "outputs": [
        {
          "output_type": "stream",
          "name": "stderr",
          "text": [
            "100%|██████████| 1/1 [00:00<00:00,  4.13it/s]\n"
          ]
        }
      ]
    },
    {
      "cell_type": "code",
      "metadata": {
        "id": "XWILKYxN4EwT",
        "outputId": "ecdda2ca-5893-4589-ac10-085b96605e16",
        "colab": {
          "base_uri": "https://localhost:8080/"
        }
      },
      "source": [
        "len(car_damage[0])"
      ],
      "execution_count": 15,
      "outputs": [
        {
          "output_type": "execute_result",
          "data": {
            "text/plain": [
              "4096"
            ]
          },
          "metadata": {},
          "execution_count": 15
        }
      ]
    },
    {
      "cell_type": "markdown",
      "metadata": {
        "id": "xw7anZGn5zvr"
      },
      "source": [
        "# Distance"
      ]
    },
    {
      "cell_type": "code",
      "metadata": {
        "id": "IU22zDA36Nr9"
      },
      "source": [
        "car_image = '/content/drive/MyDrive/Project_si/car_model/ID1'\n",
        "damage_image = '/content/drive/MyDrive/Project_si/model_damage/ID1'"
      ],
      "execution_count": 16,
      "outputs": []
    },
    {
      "cell_type": "code",
      "metadata": {
        "id": "2xQ0QDoD-2eD",
        "outputId": "8a7c5c4c-8496-47c9-fa58-59800683dcae",
        "colab": {
          "base_uri": "https://localhost:8080/"
        }
      },
      "source": [
        "distance.euclidean(car_base[1], car_damage[1])"
      ],
      "execution_count": 17,
      "outputs": [
        {
          "output_type": "execute_result",
          "data": {
            "text/plain": [
              "13.258048057556152"
            ]
          },
          "metadata": {},
          "execution_count": 17
        }
      ]
    },
    {
      "cell_type": "markdown",
      "source": [
        "# compute distance\n"
      ],
      "metadata": {
        "id": "UqvY0S5sPq76"
      }
    },
    {
      "cell_type": "code",
      "source": [
        "def get_euclidean(basecar,diff_view):\n",
        "    A = []\n",
        "    for i in range(len(diff_view)):\n",
        "        x = distance.euclidean(basecar[0],diff_view[i])\n",
        "        A.append(x)\n",
        "    return(A)"
      ],
      "metadata": {
        "id": "rs8gpyelOYgF"
      },
      "execution_count": 18,
      "outputs": []
    },
    {
      "cell_type": "markdown",
      "source": [
        "# ID1"
      ],
      "metadata": {
        "id": "nQ8o_LmhtCDb"
      }
    },
    {
      "cell_type": "code",
      "source": [
        "ID1B_dataset, ID1B_loader = get_dataset(r'/content/drive/MyDrive/Project_si/Test_Dist/Base_car/ID1')\n",
        "ID1_dataset,ID1_loader    = get_dataset(r'/content/drive/MyDrive/Project_si/Test_Dist/different_view/ID1')"
      ],
      "metadata": {
        "id": "NcaxnVImQJHm"
      },
      "execution_count": 19,
      "outputs": []
    },
    {
      "cell_type": "code",
      "source": [
        "base_id1 = get_features(vgg,ID1B_loader)\n",
        "car_id1  = get_features(vgg,ID1_loader)"
      ],
      "metadata": {
        "id": "Ao4ViYvaw67F",
        "outputId": "18a3747e-3892-451d-9296-51e80f79b02e",
        "colab": {
          "base_uri": "https://localhost:8080/"
        }
      },
      "execution_count": 20,
      "outputs": [
        {
          "output_type": "stream",
          "name": "stderr",
          "text": [
            "100%|██████████| 1/1 [00:00<00:00,  4.59it/s]\n",
            "100%|██████████| 1/1 [00:00<00:00,  1.35it/s]\n"
          ]
        }
      ]
    },
    {
      "cell_type": "code",
      "source": [
        "id1 = get_euclidean(base_id1,car_id1)\n",
        "id1l = ['id1F','id1F','id1F','id1F']\n",
        "id1l1 = ['id1F1','id1F2','id1F3','id2F']"
      ],
      "metadata": {
        "id": "LhF9H1Zvxitb"
      },
      "execution_count": 21,
      "outputs": []
    },
    {
      "cell_type": "code",
      "source": [
        "dict1 = {'Model1':id1l, 'Model2':id1l1, 'Distance':id1}"
      ],
      "metadata": {
        "id": "am3xeNkGzMDF"
      },
      "execution_count": 22,
      "outputs": []
    },
    {
      "cell_type": "markdown",
      "source": [
        "# เปรียบเทียบระยะรถ ID1"
      ],
      "metadata": {
        "id": "Mnkbx3eb0KmK"
      }
    },
    {
      "cell_type": "code",
      "source": [
        "df1 = pd.DataFrame(dict1)\n",
        "df1"
      ],
      "metadata": {
        "id": "JUUmt8ybxxKK",
        "outputId": "ca9ec48f-be7c-480e-a4da-29ace474b7b2",
        "colab": {
          "base_uri": "https://localhost:8080/",
          "height": 175
        }
      },
      "execution_count": 23,
      "outputs": [
        {
          "output_type": "execute_result",
          "data": {
            "text/html": [
              "\n",
              "  <div id=\"df-2c8a87e0-63c5-406e-b655-edc220364db1\">\n",
              "    <div class=\"colab-df-container\">\n",
              "      <div>\n",
              "<style scoped>\n",
              "    .dataframe tbody tr th:only-of-type {\n",
              "        vertical-align: middle;\n",
              "    }\n",
              "\n",
              "    .dataframe tbody tr th {\n",
              "        vertical-align: top;\n",
              "    }\n",
              "\n",
              "    .dataframe thead th {\n",
              "        text-align: right;\n",
              "    }\n",
              "</style>\n",
              "<table border=\"1\" class=\"dataframe\">\n",
              "  <thead>\n",
              "    <tr style=\"text-align: right;\">\n",
              "      <th></th>\n",
              "      <th>Model1</th>\n",
              "      <th>Model2</th>\n",
              "      <th>Distance</th>\n",
              "    </tr>\n",
              "  </thead>\n",
              "  <tbody>\n",
              "    <tr>\n",
              "      <th>0</th>\n",
              "      <td>id1F</td>\n",
              "      <td>id1F1</td>\n",
              "      <td>28.068737</td>\n",
              "    </tr>\n",
              "    <tr>\n",
              "      <th>1</th>\n",
              "      <td>id1F</td>\n",
              "      <td>id1F2</td>\n",
              "      <td>36.003323</td>\n",
              "    </tr>\n",
              "    <tr>\n",
              "      <th>2</th>\n",
              "      <td>id1F</td>\n",
              "      <td>id1F3</td>\n",
              "      <td>32.046677</td>\n",
              "    </tr>\n",
              "    <tr>\n",
              "      <th>3</th>\n",
              "      <td>id1F</td>\n",
              "      <td>id2F</td>\n",
              "      <td>117.247307</td>\n",
              "    </tr>\n",
              "  </tbody>\n",
              "</table>\n",
              "</div>\n",
              "      <button class=\"colab-df-convert\" onclick=\"convertToInteractive('df-2c8a87e0-63c5-406e-b655-edc220364db1')\"\n",
              "              title=\"Convert this dataframe to an interactive table.\"\n",
              "              style=\"display:none;\">\n",
              "        \n",
              "  <svg xmlns=\"http://www.w3.org/2000/svg\" height=\"24px\"viewBox=\"0 0 24 24\"\n",
              "       width=\"24px\">\n",
              "    <path d=\"M0 0h24v24H0V0z\" fill=\"none\"/>\n",
              "    <path d=\"M18.56 5.44l.94 2.06.94-2.06 2.06-.94-2.06-.94-.94-2.06-.94 2.06-2.06.94zm-11 1L8.5 8.5l.94-2.06 2.06-.94-2.06-.94L8.5 2.5l-.94 2.06-2.06.94zm10 10l.94 2.06.94-2.06 2.06-.94-2.06-.94-.94-2.06-.94 2.06-2.06.94z\"/><path d=\"M17.41 7.96l-1.37-1.37c-.4-.4-.92-.59-1.43-.59-.52 0-1.04.2-1.43.59L10.3 9.45l-7.72 7.72c-.78.78-.78 2.05 0 2.83L4 21.41c.39.39.9.59 1.41.59.51 0 1.02-.2 1.41-.59l7.78-7.78 2.81-2.81c.8-.78.8-2.07 0-2.86zM5.41 20L4 18.59l7.72-7.72 1.47 1.35L5.41 20z\"/>\n",
              "  </svg>\n",
              "      </button>\n",
              "      \n",
              "  <style>\n",
              "    .colab-df-container {\n",
              "      display:flex;\n",
              "      flex-wrap:wrap;\n",
              "      gap: 12px;\n",
              "    }\n",
              "\n",
              "    .colab-df-convert {\n",
              "      background-color: #E8F0FE;\n",
              "      border: none;\n",
              "      border-radius: 50%;\n",
              "      cursor: pointer;\n",
              "      display: none;\n",
              "      fill: #1967D2;\n",
              "      height: 32px;\n",
              "      padding: 0 0 0 0;\n",
              "      width: 32px;\n",
              "    }\n",
              "\n",
              "    .colab-df-convert:hover {\n",
              "      background-color: #E2EBFA;\n",
              "      box-shadow: 0px 1px 2px rgba(60, 64, 67, 0.3), 0px 1px 3px 1px rgba(60, 64, 67, 0.15);\n",
              "      fill: #174EA6;\n",
              "    }\n",
              "\n",
              "    [theme=dark] .colab-df-convert {\n",
              "      background-color: #3B4455;\n",
              "      fill: #D2E3FC;\n",
              "    }\n",
              "\n",
              "    [theme=dark] .colab-df-convert:hover {\n",
              "      background-color: #434B5C;\n",
              "      box-shadow: 0px 1px 3px 1px rgba(0, 0, 0, 0.15);\n",
              "      filter: drop-shadow(0px 1px 2px rgba(0, 0, 0, 0.3));\n",
              "      fill: #FFFFFF;\n",
              "    }\n",
              "  </style>\n",
              "\n",
              "      <script>\n",
              "        const buttonEl =\n",
              "          document.querySelector('#df-2c8a87e0-63c5-406e-b655-edc220364db1 button.colab-df-convert');\n",
              "        buttonEl.style.display =\n",
              "          google.colab.kernel.accessAllowed ? 'block' : 'none';\n",
              "\n",
              "        async function convertToInteractive(key) {\n",
              "          const element = document.querySelector('#df-2c8a87e0-63c5-406e-b655-edc220364db1');\n",
              "          const dataTable =\n",
              "            await google.colab.kernel.invokeFunction('convertToInteractive',\n",
              "                                                     [key], {});\n",
              "          if (!dataTable) return;\n",
              "\n",
              "          const docLinkHtml = 'Like what you see? Visit the ' +\n",
              "            '<a target=\"_blank\" href=https://colab.research.google.com/notebooks/data_table.ipynb>data table notebook</a>'\n",
              "            + ' to learn more about interactive tables.';\n",
              "          element.innerHTML = '';\n",
              "          dataTable['output_type'] = 'display_data';\n",
              "          await google.colab.output.renderOutput(dataTable, element);\n",
              "          const docLink = document.createElement('div');\n",
              "          docLink.innerHTML = docLinkHtml;\n",
              "          element.appendChild(docLink);\n",
              "        }\n",
              "      </script>\n",
              "    </div>\n",
              "  </div>\n",
              "  "
            ],
            "text/plain": [
              "  Model1 Model2    Distance\n",
              "0   id1F  id1F1   28.068737\n",
              "1   id1F  id1F2   36.003323\n",
              "2   id1F  id1F3   32.046677\n",
              "3   id1F   id2F  117.247307"
            ]
          },
          "metadata": {},
          "execution_count": 23
        }
      ]
    },
    {
      "cell_type": "code",
      "source": [
        ""
      ],
      "metadata": {
        "id": "2_9BYQ7_zpau"
      },
      "execution_count": 23,
      "outputs": []
    }
  ]
}