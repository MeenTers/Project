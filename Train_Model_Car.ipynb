{
  "nbformat": 4,
  "nbformat_minor": 0,
  "metadata": {
    "colab": {
      "name": "Train_Model_Car.ipynb",
      "provenance": [],
      "authorship_tag": "ABX9TyOnrlpN0CkWhZ4BDHNXXspj",
      "include_colab_link": true
    },
    "kernelspec": {
      "name": "python3",
      "display_name": "Python 3"
    },
    "language_info": {
      "name": "python"
    },
    "accelerator": "GPU",
    "widgets": {
      "application/vnd.jupyter.widget-state+json": {
        "a7aef70320f8413ebc69f9675ef0cddf": {
          "model_module": "@jupyter-widgets/controls",
          "model_name": "HBoxModel",
          "model_module_version": "1.5.0",
          "state": {
            "_dom_classes": [],
            "_model_module": "@jupyter-widgets/controls",
            "_model_module_version": "1.5.0",
            "_model_name": "HBoxModel",
            "_view_count": null,
            "_view_module": "@jupyter-widgets/controls",
            "_view_module_version": "1.5.0",
            "_view_name": "HBoxView",
            "box_style": "",
            "children": [
              "IPY_MODEL_90a65396318c4b3499abc5abb3fa2308",
              "IPY_MODEL_b753692a98cb4920a671e966d508bbd0",
              "IPY_MODEL_68c701338ebc4fc9973e102c71d117b5"
            ],
            "layout": "IPY_MODEL_8bfbc43caa6949d58ed77b32c8838875"
          }
        },
        "90a65396318c4b3499abc5abb3fa2308": {
          "model_module": "@jupyter-widgets/controls",
          "model_name": "HTMLModel",
          "model_module_version": "1.5.0",
          "state": {
            "_dom_classes": [],
            "_model_module": "@jupyter-widgets/controls",
            "_model_module_version": "1.5.0",
            "_model_name": "HTMLModel",
            "_view_count": null,
            "_view_module": "@jupyter-widgets/controls",
            "_view_module_version": "1.5.0",
            "_view_name": "HTMLView",
            "description": "",
            "description_tooltip": null,
            "layout": "IPY_MODEL_0f48cc325a4345a2a0aa88a5e4afe6a2",
            "placeholder": "​",
            "style": "IPY_MODEL_e342a79c58c84c609aba65f4cad58cb8",
            "value": "100%"
          }
        },
        "b753692a98cb4920a671e966d508bbd0": {
          "model_module": "@jupyter-widgets/controls",
          "model_name": "FloatProgressModel",
          "model_module_version": "1.5.0",
          "state": {
            "_dom_classes": [],
            "_model_module": "@jupyter-widgets/controls",
            "_model_module_version": "1.5.0",
            "_model_name": "FloatProgressModel",
            "_view_count": null,
            "_view_module": "@jupyter-widgets/controls",
            "_view_module_version": "1.5.0",
            "_view_name": "ProgressView",
            "bar_style": "success",
            "description": "",
            "description_tooltip": null,
            "layout": "IPY_MODEL_4da898d02f754ea8b5b03003cc5e4dd1",
            "max": 574673361,
            "min": 0,
            "orientation": "horizontal",
            "style": "IPY_MODEL_c1f6dd5f7c2c4d7e946556e9ab442d16",
            "value": 574673361
          }
        },
        "68c701338ebc4fc9973e102c71d117b5": {
          "model_module": "@jupyter-widgets/controls",
          "model_name": "HTMLModel",
          "model_module_version": "1.5.0",
          "state": {
            "_dom_classes": [],
            "_model_module": "@jupyter-widgets/controls",
            "_model_module_version": "1.5.0",
            "_model_name": "HTMLModel",
            "_view_count": null,
            "_view_module": "@jupyter-widgets/controls",
            "_view_module_version": "1.5.0",
            "_view_name": "HTMLView",
            "description": "",
            "description_tooltip": null,
            "layout": "IPY_MODEL_bb1fedcbd55a47f88335c285a426707c",
            "placeholder": "​",
            "style": "IPY_MODEL_40385b1f5a6d4a4eb81a7402641b8cce",
            "value": " 548M/548M [00:03&lt;00:00, 168MB/s]"
          }
        },
        "8bfbc43caa6949d58ed77b32c8838875": {
          "model_module": "@jupyter-widgets/base",
          "model_name": "LayoutModel",
          "model_module_version": "1.2.0",
          "state": {
            "_model_module": "@jupyter-widgets/base",
            "_model_module_version": "1.2.0",
            "_model_name": "LayoutModel",
            "_view_count": null,
            "_view_module": "@jupyter-widgets/base",
            "_view_module_version": "1.2.0",
            "_view_name": "LayoutView",
            "align_content": null,
            "align_items": null,
            "align_self": null,
            "border": null,
            "bottom": null,
            "display": null,
            "flex": null,
            "flex_flow": null,
            "grid_area": null,
            "grid_auto_columns": null,
            "grid_auto_flow": null,
            "grid_auto_rows": null,
            "grid_column": null,
            "grid_gap": null,
            "grid_row": null,
            "grid_template_areas": null,
            "grid_template_columns": null,
            "grid_template_rows": null,
            "height": null,
            "justify_content": null,
            "justify_items": null,
            "left": null,
            "margin": null,
            "max_height": null,
            "max_width": null,
            "min_height": null,
            "min_width": null,
            "object_fit": null,
            "object_position": null,
            "order": null,
            "overflow": null,
            "overflow_x": null,
            "overflow_y": null,
            "padding": null,
            "right": null,
            "top": null,
            "visibility": null,
            "width": null
          }
        },
        "0f48cc325a4345a2a0aa88a5e4afe6a2": {
          "model_module": "@jupyter-widgets/base",
          "model_name": "LayoutModel",
          "model_module_version": "1.2.0",
          "state": {
            "_model_module": "@jupyter-widgets/base",
            "_model_module_version": "1.2.0",
            "_model_name": "LayoutModel",
            "_view_count": null,
            "_view_module": "@jupyter-widgets/base",
            "_view_module_version": "1.2.0",
            "_view_name": "LayoutView",
            "align_content": null,
            "align_items": null,
            "align_self": null,
            "border": null,
            "bottom": null,
            "display": null,
            "flex": null,
            "flex_flow": null,
            "grid_area": null,
            "grid_auto_columns": null,
            "grid_auto_flow": null,
            "grid_auto_rows": null,
            "grid_column": null,
            "grid_gap": null,
            "grid_row": null,
            "grid_template_areas": null,
            "grid_template_columns": null,
            "grid_template_rows": null,
            "height": null,
            "justify_content": null,
            "justify_items": null,
            "left": null,
            "margin": null,
            "max_height": null,
            "max_width": null,
            "min_height": null,
            "min_width": null,
            "object_fit": null,
            "object_position": null,
            "order": null,
            "overflow": null,
            "overflow_x": null,
            "overflow_y": null,
            "padding": null,
            "right": null,
            "top": null,
            "visibility": null,
            "width": null
          }
        },
        "e342a79c58c84c609aba65f4cad58cb8": {
          "model_module": "@jupyter-widgets/controls",
          "model_name": "DescriptionStyleModel",
          "model_module_version": "1.5.0",
          "state": {
            "_model_module": "@jupyter-widgets/controls",
            "_model_module_version": "1.5.0",
            "_model_name": "DescriptionStyleModel",
            "_view_count": null,
            "_view_module": "@jupyter-widgets/base",
            "_view_module_version": "1.2.0",
            "_view_name": "StyleView",
            "description_width": ""
          }
        },
        "4da898d02f754ea8b5b03003cc5e4dd1": {
          "model_module": "@jupyter-widgets/base",
          "model_name": "LayoutModel",
          "model_module_version": "1.2.0",
          "state": {
            "_model_module": "@jupyter-widgets/base",
            "_model_module_version": "1.2.0",
            "_model_name": "LayoutModel",
            "_view_count": null,
            "_view_module": "@jupyter-widgets/base",
            "_view_module_version": "1.2.0",
            "_view_name": "LayoutView",
            "align_content": null,
            "align_items": null,
            "align_self": null,
            "border": null,
            "bottom": null,
            "display": null,
            "flex": null,
            "flex_flow": null,
            "grid_area": null,
            "grid_auto_columns": null,
            "grid_auto_flow": null,
            "grid_auto_rows": null,
            "grid_column": null,
            "grid_gap": null,
            "grid_row": null,
            "grid_template_areas": null,
            "grid_template_columns": null,
            "grid_template_rows": null,
            "height": null,
            "justify_content": null,
            "justify_items": null,
            "left": null,
            "margin": null,
            "max_height": null,
            "max_width": null,
            "min_height": null,
            "min_width": null,
            "object_fit": null,
            "object_position": null,
            "order": null,
            "overflow": null,
            "overflow_x": null,
            "overflow_y": null,
            "padding": null,
            "right": null,
            "top": null,
            "visibility": null,
            "width": null
          }
        },
        "c1f6dd5f7c2c4d7e946556e9ab442d16": {
          "model_module": "@jupyter-widgets/controls",
          "model_name": "ProgressStyleModel",
          "model_module_version": "1.5.0",
          "state": {
            "_model_module": "@jupyter-widgets/controls",
            "_model_module_version": "1.5.0",
            "_model_name": "ProgressStyleModel",
            "_view_count": null,
            "_view_module": "@jupyter-widgets/base",
            "_view_module_version": "1.2.0",
            "_view_name": "StyleView",
            "bar_color": null,
            "description_width": ""
          }
        },
        "bb1fedcbd55a47f88335c285a426707c": {
          "model_module": "@jupyter-widgets/base",
          "model_name": "LayoutModel",
          "model_module_version": "1.2.0",
          "state": {
            "_model_module": "@jupyter-widgets/base",
            "_model_module_version": "1.2.0",
            "_model_name": "LayoutModel",
            "_view_count": null,
            "_view_module": "@jupyter-widgets/base",
            "_view_module_version": "1.2.0",
            "_view_name": "LayoutView",
            "align_content": null,
            "align_items": null,
            "align_self": null,
            "border": null,
            "bottom": null,
            "display": null,
            "flex": null,
            "flex_flow": null,
            "grid_area": null,
            "grid_auto_columns": null,
            "grid_auto_flow": null,
            "grid_auto_rows": null,
            "grid_column": null,
            "grid_gap": null,
            "grid_row": null,
            "grid_template_areas": null,
            "grid_template_columns": null,
            "grid_template_rows": null,
            "height": null,
            "justify_content": null,
            "justify_items": null,
            "left": null,
            "margin": null,
            "max_height": null,
            "max_width": null,
            "min_height": null,
            "min_width": null,
            "object_fit": null,
            "object_position": null,
            "order": null,
            "overflow": null,
            "overflow_x": null,
            "overflow_y": null,
            "padding": null,
            "right": null,
            "top": null,
            "visibility": null,
            "width": null
          }
        },
        "40385b1f5a6d4a4eb81a7402641b8cce": {
          "model_module": "@jupyter-widgets/controls",
          "model_name": "DescriptionStyleModel",
          "model_module_version": "1.5.0",
          "state": {
            "_model_module": "@jupyter-widgets/controls",
            "_model_module_version": "1.5.0",
            "_model_name": "DescriptionStyleModel",
            "_view_count": null,
            "_view_module": "@jupyter-widgets/base",
            "_view_module_version": "1.2.0",
            "_view_name": "StyleView",
            "description_width": ""
          }
        }
      }
    }
  },
  "cells": [
    {
      "cell_type": "markdown",
      "metadata": {
        "id": "view-in-github",
        "colab_type": "text"
      },
      "source": [
        "<a href=\"https://colab.research.google.com/github/MeenTers/Project/blob/main/Train_Model_Car.ipynb\" target=\"_parent\"><img src=\"https://colab.research.google.com/assets/colab-badge.svg\" alt=\"Open In Colab\"/></a>"
      ]
    },
    {
      "cell_type": "markdown",
      "source": [
        "# Installation Package"
      ],
      "metadata": {
        "id": "GL4MBsyo6Gwp"
      }
    },
    {
      "cell_type": "code",
      "execution_count": 1,
      "metadata": {
        "colab": {
          "base_uri": "https://localhost:8080/"
        },
        "id": "QXUdhj_L5nvn",
        "outputId": "08cc66e5-419e-4dc6-9f29-35ec076ca1e8"
      },
      "outputs": [
        {
          "output_type": "stream",
          "name": "stdout",
          "text": [
            "Mounted at /content/drive\n"
          ]
        }
      ],
      "source": [
        "from google.colab import drive\n",
        "drive.mount('/content/drive')"
      ]
    },
    {
      "cell_type": "code",
      "source": [
        "import torch\n",
        "from torch import nn, load, utils\n",
        "from tqdm import tqdm\n",
        "import matplotlib.pyplot as plt\n",
        "import numpy as np\n",
        "from torchvision import datasets, transforms, models\n",
        "from torchvision.models.vgg import model_urls\n",
        "from os import path, listdir\n",
        "model_urls['vgg19'] = model_urls['vgg19'].replace('https://', 'http://')"
      ],
      "metadata": {
        "id": "kzKpFb7e50NR"
      },
      "execution_count": 2,
      "outputs": []
    },
    {
      "cell_type": "code",
      "source": [
        "from scipy.spatial import distance_matrix\n",
        "from scipy.spatial import distance\n",
        "import pandas as pd"
      ],
      "metadata": {
        "id": "gtlG8e1z6PjP"
      },
      "execution_count": 3,
      "outputs": []
    },
    {
      "cell_type": "code",
      "source": [
        "import matplotlib.image as mpimg\n",
        "import matplotlib.pyplot as plt\n",
        "import cv2"
      ],
      "metadata": {
        "id": "vm3O0vQl6REq"
      },
      "execution_count": 4,
      "outputs": []
    },
    {
      "cell_type": "markdown",
      "source": [
        "# Create Functions"
      ],
      "metadata": {
        "id": "RdkOWyaG6TM_"
      }
    },
    {
      "cell_type": "markdown",
      "source": [
        "## VGG-19 Pretrain with ImageNet"
      ],
      "metadata": {
        "id": "o89RrcyZ6WLG"
      }
    },
    {
      "cell_type": "code",
      "source": [
        "class VGG:\n",
        "\tdef __init__(self):\n",
        "\t\tmodel = models.vgg19(pretrained=True, progress=True)\n",
        "\t\tmodel.classifier = nn.Sequential(*list(model.classifier.children())[:3])\n",
        "\t\tself.model = model.cuda().eval()\n",
        "\n",
        "\tdef __call__(self, x):\n",
        "\t\treturn self.model(x)"
      ],
      "metadata": {
        "id": "DCs4jaIS6Syq"
      },
      "execution_count": 5,
      "outputs": []
    },
    {
      "cell_type": "code",
      "source": [
        "vgg = VGG()"
      ],
      "metadata": {
        "colab": {
          "base_uri": "https://localhost:8080/",
          "height": 66,
          "referenced_widgets": [
            "a7aef70320f8413ebc69f9675ef0cddf",
            "90a65396318c4b3499abc5abb3fa2308",
            "b753692a98cb4920a671e966d508bbd0",
            "68c701338ebc4fc9973e102c71d117b5",
            "8bfbc43caa6949d58ed77b32c8838875",
            "0f48cc325a4345a2a0aa88a5e4afe6a2",
            "e342a79c58c84c609aba65f4cad58cb8",
            "4da898d02f754ea8b5b03003cc5e4dd1",
            "c1f6dd5f7c2c4d7e946556e9ab442d16",
            "bb1fedcbd55a47f88335c285a426707c",
            "40385b1f5a6d4a4eb81a7402641b8cce"
          ]
        },
        "id": "KRa0jdYe6cCc",
        "outputId": "a6de529e-6025-41b8-8fd2-5f2fcdff9f23"
      },
      "execution_count": 6,
      "outputs": [
        {
          "output_type": "stream",
          "name": "stderr",
          "text": [
            "Downloading: \"http://download.pytorch.org/models/vgg19-dcbb9e9d.pth\" to /root/.cache/torch/hub/checkpoints/vgg19-dcbb9e9d.pth\n"
          ]
        },
        {
          "output_type": "display_data",
          "data": {
            "text/plain": [
              "  0%|          | 0.00/548M [00:00<?, ?B/s]"
            ],
            "application/vnd.jupyter.widget-view+json": {
              "version_major": 2,
              "version_minor": 0,
              "model_id": "a7aef70320f8413ebc69f9675ef0cddf"
            }
          },
          "metadata": {}
        }
      ]
    },
    {
      "cell_type": "markdown",
      "source": [
        "## Features Extraction Function"
      ],
      "metadata": {
        "id": "FXY_dTIL6qF4"
      }
    },
    {
      "cell_type": "code",
      "source": [
        "def get_features(model, loader):\n",
        "    features = []\n",
        "    with torch.no_grad():\n",
        "        for batch, _ in tqdm(loader):\n",
        "            if torch.cuda.is_available():\n",
        "                batch = batch.cuda()\n",
        "            b_features = model(batch).detach().cpu().numpy()\n",
        "            for f in b_features:\n",
        "                features.append(f)\n",
        "\n",
        "    return features"
      ],
      "metadata": {
        "id": "41cdqo4L6fp0"
      },
      "execution_count": 7,
      "outputs": []
    },
    {
      "cell_type": "markdown",
      "source": [
        "## Loading the data Function"
      ],
      "metadata": {
        "id": "qWBY5sJK6uPW"
      }
    },
    {
      "cell_type": "code",
      "source": [
        "def get_dataset(images_path):\n",
        "  transform = transforms.Compose([\n",
        "    transforms.Resize(size=32),\n",
        "    transforms.ToTensor(),\n",
        "    transforms.Normalize((0.4914, 0.4822, 0.4465), (0.2023, 0.1994, 0.2010)),\n",
        "  ])\n",
        "\n",
        "  dataset = datasets.ImageFolder(images_path, transform=transform)\n",
        "  loader = utils.data.DataLoader(dataset, batch_size=100, shuffle=False, num_workers=1, pin_memory=True)\n",
        "  return loader"
      ],
      "metadata": {
        "id": "LZFeKJky6sIW"
      },
      "execution_count": 8,
      "outputs": []
    },
    {
      "cell_type": "markdown",
      "source": [
        "## Compute Distance Function"
      ],
      "metadata": {
        "id": "1s3-xrDc6y-i"
      }
    },
    {
      "cell_type": "code",
      "source": [
        "def get_euclidean(base_car,diff_view):\n",
        "    A = []\n",
        "    for i in range(len(diff_view)):\n",
        "        x = distance.euclidean(base_car[i],diff_view[i])\n",
        "        A.append(x)\n",
        "    return(A)"
      ],
      "metadata": {
        "id": "cwXty0y_6wSD"
      },
      "execution_count": 9,
      "outputs": []
    },
    {
      "cell_type": "markdown",
      "source": [
        "# Front Views"
      ],
      "metadata": {
        "id": "1Orv8BR363Tk"
      }
    },
    {
      "cell_type": "markdown",
      "source": [
        "## Little Damage"
      ],
      "metadata": {
        "id": "Iq2hFoAX66BM"
      }
    },
    {
      "cell_type": "code",
      "source": [
        "# Loading Data\n",
        "little_base_front_loader = get_dataset(r'/content/drive/MyDrive/train_model/Base/Front')\n",
        "little_dmg_front_loader  = get_dataset(r'/content/drive/MyDrive/train_model/Damage/Front/Little Damage')"
      ],
      "metadata": {
        "id": "HGIWxhcK61MV"
      },
      "execution_count": 10,
      "outputs": []
    },
    {
      "cell_type": "code",
      "source": [
        "#Extract Features\n",
        "little_base_front_feat = get_features(vgg,little_base_front_loader)\n",
        "little_dmg_front_feat  = get_features(vgg,little_dmg_front_loader)"
      ],
      "metadata": {
        "colab": {
          "base_uri": "https://localhost:8080/"
        },
        "id": "2CSNxcqb7Zkk",
        "outputId": "cdbe664b-183f-4d9f-f796-6663f3ec83c9"
      },
      "execution_count": 11,
      "outputs": [
        {
          "output_type": "stream",
          "name": "stderr",
          "text": [
            "100%|██████████| 1/1 [00:02<00:00,  2.54s/it]\n",
            "100%|██████████| 1/1 [00:01<00:00,  1.77s/it]\n"
          ]
        }
      ]
    },
    {
      "cell_type": "code",
      "source": [
        "little_front_dist = get_euclidean(little_base_front_feat,little_dmg_front_feat)\n",
        "little_front_dist"
      ],
      "metadata": {
        "colab": {
          "base_uri": "https://localhost:8080/"
        },
        "id": "5LDRPabw7viv",
        "outputId": "d04b029c-0ee7-4877-e5f2-ec28a80f2cf5"
      },
      "execution_count": 12,
      "outputs": [
        {
          "output_type": "execute_result",
          "data": {
            "text/plain": [
              "[5.304965019226074,\n",
              " 2.2764980792999268,\n",
              " 6.874874591827393,\n",
              " 10.913042068481445,\n",
              " 14.467225074768066,\n",
              " 9.235076904296875,\n",
              " 18.01740264892578]"
            ]
          },
          "metadata": {},
          "execution_count": 12
        }
      ]
    },
    {
      "cell_type": "markdown",
      "source": [
        "## Damage"
      ],
      "metadata": {
        "id": "uM9yktT08AN_"
      }
    },
    {
      "cell_type": "code",
      "source": [
        "# Loading Data\n",
        "base_front_loader = get_dataset(r'/content/drive/MyDrive/train_model/Base/Front')\n",
        "dmg_front_loader  = get_dataset(r'/content/drive/MyDrive/train_model/Damage/Front/Damage')"
      ],
      "metadata": {
        "id": "YYK1zTc478Gx"
      },
      "execution_count": 13,
      "outputs": []
    },
    {
      "cell_type": "code",
      "source": [
        "#Extract Features\n",
        "base_front_feat = get_features(vgg,base_front_loader)\n",
        "dmg_front_feat  = get_features(vgg,dmg_front_loader)"
      ],
      "metadata": {
        "colab": {
          "base_uri": "https://localhost:8080/"
        },
        "id": "bh9BkeXq8JZJ",
        "outputId": "2bb672d5-d174-42ec-d98a-a2cffceabd93"
      },
      "execution_count": 14,
      "outputs": [
        {
          "output_type": "stream",
          "name": "stderr",
          "text": [
            "100%|██████████| 1/1 [00:00<00:00,  3.22it/s]\n",
            "100%|██████████| 1/1 [00:01<00:00,  1.66s/it]\n"
          ]
        }
      ]
    },
    {
      "cell_type": "code",
      "source": [
        "front_dist = get_euclidean(base_front_feat,dmg_front_feat)\n",
        "front_dist"
      ],
      "metadata": {
        "colab": {
          "base_uri": "https://localhost:8080/"
        },
        "id": "hAU29PkY8P1m",
        "outputId": "d9d63a15-564a-424a-9402-b93f445a7f53"
      },
      "execution_count": 15,
      "outputs": [
        {
          "output_type": "execute_result",
          "data": {
            "text/plain": [
              "[27.097463607788086,\n",
              " 9.43012523651123,\n",
              " 36.0161247253418,\n",
              " 30.508304595947266,\n",
              " 15.178224563598633,\n",
              " 11.249543190002441,\n",
              " 23.93056869506836]"
            ]
          },
          "metadata": {},
          "execution_count": 15
        }
      ]
    },
    {
      "cell_type": "markdown",
      "source": [
        "## Most Damage"
      ],
      "metadata": {
        "id": "ocqj_OtS8ZpW"
      }
    },
    {
      "cell_type": "code",
      "source": [
        "# Loading Data\n",
        "base_front_loader = get_dataset(r'/content/drive/MyDrive/train_model/Base/Front')\n",
        "most_dmg_front_loader  = get_dataset(r'/content/drive/MyDrive/train_model/Damage/Front/Most Damage')"
      ],
      "metadata": {
        "id": "oBvsx5AM8W7h"
      },
      "execution_count": 16,
      "outputs": []
    },
    {
      "cell_type": "code",
      "source": [
        "#Extract Features\n",
        "base_front_feat = get_features(vgg,base_front_loader)\n",
        "most_dmg_front_feat  = get_features(vgg,most_dmg_front_loader)"
      ],
      "metadata": {
        "colab": {
          "base_uri": "https://localhost:8080/"
        },
        "id": "tueaaokx8ikB",
        "outputId": "f7be8c4d-0879-4d89-a8a0-11b840f44830"
      },
      "execution_count": 17,
      "outputs": [
        {
          "output_type": "stream",
          "name": "stderr",
          "text": [
            "100%|██████████| 1/1 [00:00<00:00,  3.24it/s]\n",
            "100%|██████████| 1/1 [00:01<00:00,  1.96s/it]\n"
          ]
        }
      ]
    },
    {
      "cell_type": "code",
      "source": [
        "most_front_dist = get_euclidean(base_front_feat,most_dmg_front_feat)\n",
        "most_front_dist"
      ],
      "metadata": {
        "colab": {
          "base_uri": "https://localhost:8080/"
        },
        "id": "lvzG9jEB8m_j",
        "outputId": "408655cc-8094-411c-95a1-0cc1edeb0469"
      },
      "execution_count": 18,
      "outputs": [
        {
          "output_type": "execute_result",
          "data": {
            "text/plain": [
              "[68.19573211669922,\n",
              " 57.24534225463867,\n",
              " 49.86717987060547,\n",
              " 46.62443923950195,\n",
              " 28.867015838623047,\n",
              " 13.375458717346191,\n",
              " 49.08580780029297]"
            ]
          },
          "metadata": {},
          "execution_count": 18
        }
      ]
    },
    {
      "cell_type": "markdown",
      "source": [
        "# Left View"
      ],
      "metadata": {
        "id": "6JvlkyhF81F3"
      }
    },
    {
      "cell_type": "markdown",
      "source": [
        "## Little Damage"
      ],
      "metadata": {
        "id": "wSHvouXF8_wH"
      }
    },
    {
      "cell_type": "code",
      "source": [
        "# Loading Data\n",
        "base_left_loader = get_dataset(r'/content/drive/MyDrive/train_model/Base/Left')\n",
        "little_dmg_left_loader  = get_dataset(r'/content/drive/MyDrive/train_model/Damage/Left/Little Damage')"
      ],
      "metadata": {
        "id": "p8tLn3NL8tP4"
      },
      "execution_count": 19,
      "outputs": []
    },
    {
      "cell_type": "code",
      "source": [
        "#Extract Features\n",
        "base_left_feat = get_features(vgg,base_left_loader)\n",
        "little_dmg_left_feat  = get_features(vgg,little_dmg_left_loader)"
      ],
      "metadata": {
        "colab": {
          "base_uri": "https://localhost:8080/"
        },
        "id": "mRv99vZ19KIh",
        "outputId": "460dfcac-3c87-4368-ac21-8132429f88af"
      },
      "execution_count": 20,
      "outputs": [
        {
          "output_type": "stream",
          "name": "stderr",
          "text": [
            "100%|██████████| 1/1 [00:01<00:00,  1.66s/it]\n",
            "100%|██████████| 1/1 [00:01<00:00,  1.97s/it]\n"
          ]
        }
      ]
    },
    {
      "cell_type": "code",
      "source": [
        "little_left_dist = get_euclidean(base_left_feat,little_dmg_left_feat)\n",
        "little_left_dist"
      ],
      "metadata": {
        "colab": {
          "base_uri": "https://localhost:8080/"
        },
        "id": "ayFJApgq9U88",
        "outputId": "40008046-a174-47e1-b4ce-0f160fe88449"
      },
      "execution_count": 21,
      "outputs": [
        {
          "output_type": "execute_result",
          "data": {
            "text/plain": [
              "[1.236898422241211,\n",
              " 0.7314380407333374,\n",
              " 0.5151318311691284,\n",
              " 2.2292003631591797,\n",
              " 0.0,\n",
              " 6.485411167144775,\n",
              " 0.15286785364151]"
            ]
          },
          "metadata": {},
          "execution_count": 21
        }
      ]
    },
    {
      "cell_type": "markdown",
      "source": [
        "## Damage"
      ],
      "metadata": {
        "id": "G93PZ8i_9nEW"
      }
    },
    {
      "cell_type": "code",
      "source": [
        "# Loading Data\n",
        "dmg_left_loader  = get_dataset(r'/content/drive/MyDrive/train_model/Damage/Left/Damage')"
      ],
      "metadata": {
        "id": "rUzqhyYB9g6i"
      },
      "execution_count": 22,
      "outputs": []
    },
    {
      "cell_type": "code",
      "source": [
        "#Extract Features\n",
        "dmg_left_feat  = get_features(vgg,dmg_left_loader)"
      ],
      "metadata": {
        "colab": {
          "base_uri": "https://localhost:8080/"
        },
        "id": "mRVZsgcU9swT",
        "outputId": "e1a10cc8-d4c2-46f5-ec22-56b988f0cf88"
      },
      "execution_count": 23,
      "outputs": [
        {
          "output_type": "stream",
          "name": "stderr",
          "text": [
            "100%|██████████| 1/1 [00:01<00:00,  1.67s/it]\n"
          ]
        }
      ]
    },
    {
      "cell_type": "code",
      "source": [
        "left_dist = get_euclidean(base_left_feat,dmg_left_feat)\n",
        "left_dist"
      ],
      "metadata": {
        "colab": {
          "base_uri": "https://localhost:8080/"
        },
        "id": "mbCpcgEZ9xL1",
        "outputId": "ec53d042-430c-46ea-dbf7-9035adc82f9b"
      },
      "execution_count": 24,
      "outputs": [
        {
          "output_type": "execute_result",
          "data": {
            "text/plain": [
              "[19.150352478027344,\n",
              " 36.80379867553711,\n",
              " 24.716638565063477,\n",
              " 27.39190673828125,\n",
              " 0.0,\n",
              " 16.895296096801758,\n",
              " 20.503732681274414]"
            ]
          },
          "metadata": {},
          "execution_count": 24
        }
      ]
    },
    {
      "cell_type": "markdown",
      "source": [
        "## Most Damage"
      ],
      "metadata": {
        "id": "wDOWhgCl95Qb"
      }
    },
    {
      "cell_type": "code",
      "source": [
        "# Loading Data\n",
        "most_dmg_left_loader  = get_dataset(r'/content/drive/MyDrive/train_model/Damage/Left/Most Damage')"
      ],
      "metadata": {
        "id": "Kikuf9uL90ci"
      },
      "execution_count": 25,
      "outputs": []
    },
    {
      "cell_type": "code",
      "source": [
        "#Extract Features\n",
        "most_dmg_left_feat  = get_features(vgg,most_dmg_left_loader)"
      ],
      "metadata": {
        "colab": {
          "base_uri": "https://localhost:8080/"
        },
        "id": "kqiDPwdE-NFG",
        "outputId": "8a80c989-6a14-4f76-af0e-bafffc5309f8"
      },
      "execution_count": 26,
      "outputs": [
        {
          "output_type": "stream",
          "name": "stderr",
          "text": [
            "100%|██████████| 1/1 [00:01<00:00,  1.67s/it]\n"
          ]
        }
      ]
    },
    {
      "cell_type": "code",
      "source": [
        "most_left_dist = get_euclidean(base_left_feat,most_dmg_left_feat)\n",
        "most_left_dist"
      ],
      "metadata": {
        "colab": {
          "base_uri": "https://localhost:8080/"
        },
        "id": "FdPEv5cf-SPK",
        "outputId": "c1895412-f677-4b95-8fcd-d5e4c1ca3a41"
      },
      "execution_count": 27,
      "outputs": [
        {
          "output_type": "execute_result",
          "data": {
            "text/plain": [
              "[38.60552215576172,\n",
              " 42.035465240478516,\n",
              " 53.78656005859375,\n",
              " 32.845802307128906,\n",
              " 25.846031188964844,\n",
              " 23.10930633544922,\n",
              " 34.61317443847656]"
            ]
          },
          "metadata": {},
          "execution_count": 27
        }
      ]
    },
    {
      "cell_type": "markdown",
      "source": [
        "# Back"
      ],
      "metadata": {
        "id": "zptI9jos-d71"
      }
    },
    {
      "cell_type": "markdown",
      "source": [
        "## Little Damage"
      ],
      "metadata": {
        "id": "mdV6jLWY-xVg"
      }
    },
    {
      "cell_type": "code",
      "source": [
        "# Loading Data\n",
        "base_back_loader = get_dataset(r'/content/drive/MyDrive/train_model/Base/Back')\n",
        "little_dmg_back_loader  = get_dataset(r'/content/drive/MyDrive/train_model/Damage/Back/Little Damage')"
      ],
      "metadata": {
        "id": "NRA2snNp-Wak"
      },
      "execution_count": 28,
      "outputs": []
    },
    {
      "cell_type": "code",
      "source": [
        "#Extract Features\n",
        "base_back_feat = get_features(vgg,base_back_loader)\n",
        "little_dmg_back_feat  = get_features(vgg,little_dmg_back_loader)"
      ],
      "metadata": {
        "colab": {
          "base_uri": "https://localhost:8080/"
        },
        "id": "S_1_llCK-mKg",
        "outputId": "e7c5c328-59ad-47c9-87a0-3d0ba19b0e18"
      },
      "execution_count": 29,
      "outputs": [
        {
          "output_type": "stream",
          "name": "stderr",
          "text": [
            "100%|██████████| 1/1 [00:02<00:00,  2.05s/it]\n",
            "100%|██████████| 1/1 [00:01<00:00,  1.63s/it]\n"
          ]
        }
      ]
    },
    {
      "cell_type": "code",
      "source": [
        "little_back_dist = get_euclidean(base_back_feat,little_dmg_back_feat)\n",
        "little_back_dist"
      ],
      "metadata": {
        "colab": {
          "base_uri": "https://localhost:8080/"
        },
        "id": "2pUOz0UG-qwE",
        "outputId": "59cc9a19-a048-40f7-bb1a-a6ef7811cbf2"
      },
      "execution_count": 30,
      "outputs": [
        {
          "output_type": "execute_result",
          "data": {
            "text/plain": [
              "[8.860122680664062,\n",
              " 2.142881393432617,\n",
              " 2.4771201610565186,\n",
              " 27.078006744384766,\n",
              " 1.4209057092666626,\n",
              " 10.339546203613281,\n",
              " 10.107410430908203]"
            ]
          },
          "metadata": {},
          "execution_count": 30
        }
      ]
    },
    {
      "cell_type": "markdown",
      "source": [
        "# Damage"
      ],
      "metadata": {
        "id": "JxEllSwD-0_t"
      }
    },
    {
      "cell_type": "code",
      "source": [
        "# Loading Data\n",
        "dmg_back_loader  = get_dataset(r'/content/drive/MyDrive/train_model/Damage/Back/Damage')"
      ],
      "metadata": {
        "id": "swDgpLO8-vKH"
      },
      "execution_count": 31,
      "outputs": []
    },
    {
      "cell_type": "code",
      "source": [
        "#Extract Features\n",
        "dmg_back_feat  = get_features(vgg,dmg_back_loader)"
      ],
      "metadata": {
        "colab": {
          "base_uri": "https://localhost:8080/"
        },
        "id": "V1bci1Dx-7WV",
        "outputId": "470d7ff8-c544-422c-aa53-e7f59c2c9119"
      },
      "execution_count": 32,
      "outputs": [
        {
          "output_type": "stream",
          "name": "stderr",
          "text": [
            "100%|██████████| 1/1 [00:01<00:00,  1.78s/it]\n"
          ]
        }
      ]
    },
    {
      "cell_type": "code",
      "source": [
        "back_dist = get_euclidean(base_back_feat,dmg_back_feat)\n",
        "back_dist"
      ],
      "metadata": {
        "colab": {
          "base_uri": "https://localhost:8080/"
        },
        "id": "fQGQI-Gv--up",
        "outputId": "af0bc2cc-adb9-4676-dc37-3cbd09f9b6ef"
      },
      "execution_count": 33,
      "outputs": [
        {
          "output_type": "execute_result",
          "data": {
            "text/plain": [
              "[8.79023551940918,\n",
              " 11.450382232666016,\n",
              " 2.6085054874420166,\n",
              " 33.32075881958008,\n",
              " 7.946778774261475,\n",
              " 11.522150039672852,\n",
              " 18.107521057128906]"
            ]
          },
          "metadata": {},
          "execution_count": 33
        }
      ]
    },
    {
      "cell_type": "markdown",
      "source": [
        "## Most Damage"
      ],
      "metadata": {
        "id": "uOcPZ2br_D7_"
      }
    },
    {
      "cell_type": "code",
      "source": [
        "# Loading Data\n",
        "most_dmg_back_loader  = get_dataset(r'/content/drive/MyDrive/train_model/Damage/Back/Most Damage')"
      ],
      "metadata": {
        "id": "XgQZPPZu_Bj7"
      },
      "execution_count": 34,
      "outputs": []
    },
    {
      "cell_type": "code",
      "source": [
        "#Extract Features\n",
        "most_dmg_back_feat  = get_features(vgg,most_dmg_back_loader)"
      ],
      "metadata": {
        "colab": {
          "base_uri": "https://localhost:8080/"
        },
        "id": "XhzeU2tJ_JTx",
        "outputId": "32f9d42e-c466-4108-b363-34e4f8c0bc9c"
      },
      "execution_count": 35,
      "outputs": [
        {
          "output_type": "stream",
          "name": "stderr",
          "text": [
            "100%|██████████| 1/1 [00:01<00:00,  1.58s/it]\n"
          ]
        }
      ]
    },
    {
      "cell_type": "code",
      "source": [
        "most_back_dist = get_euclidean(base_back_feat,most_dmg_back_feat)\n",
        "most_back_dist"
      ],
      "metadata": {
        "colab": {
          "base_uri": "https://localhost:8080/"
        },
        "id": "hKLJYEeJ_MUO",
        "outputId": "73c3c5cc-48c5-4fba-8e22-7f30a9ef49a9"
      },
      "execution_count": 36,
      "outputs": [
        {
          "output_type": "execute_result",
          "data": {
            "text/plain": [
              "[46.44422149658203,\n",
              " 72.7226791381836,\n",
              " 9.393021583557129,\n",
              " 51.96744155883789,\n",
              " 45.819881439208984,\n",
              " 37.23289489746094,\n",
              " 79.67497253417969]"
            ]
          },
          "metadata": {},
          "execution_count": 36
        }
      ]
    },
    {
      "cell_type": "markdown",
      "source": [
        "# Right"
      ],
      "metadata": {
        "id": "plwPJCxX_UVO"
      }
    },
    {
      "cell_type": "markdown",
      "source": [
        "## Little Damage"
      ],
      "metadata": {
        "id": "z-2u03mV_6-d"
      }
    },
    {
      "cell_type": "code",
      "source": [
        "# Loading Data\n",
        "base_right_loader = get_dataset(r'/content/drive/MyDrive/train_model/Base/Right')\n",
        "little_dmg_right_loader  = get_dataset(r'/content/drive/MyDrive/train_model/Damage/Right/Little Damage')"
      ],
      "metadata": {
        "id": "i1Q6Jbvr_QGM"
      },
      "execution_count": 37,
      "outputs": []
    },
    {
      "cell_type": "code",
      "source": [
        "#Extract Features\n",
        "base_right_feat = get_features(vgg,base_right_loader)\n",
        "little_dmg_right_feat  = get_features(vgg,little_dmg_right_loader)"
      ],
      "metadata": {
        "colab": {
          "base_uri": "https://localhost:8080/"
        },
        "id": "9cHGy-7o_tsu",
        "outputId": "30f1bb1e-ad88-4bc5-d4ec-63a0d11be1c0"
      },
      "execution_count": 38,
      "outputs": [
        {
          "output_type": "stream",
          "name": "stderr",
          "text": [
            "100%|██████████| 1/1 [00:02<00:00,  2.15s/it]\n",
            "100%|██████████| 1/1 [00:01<00:00,  1.70s/it]\n"
          ]
        }
      ]
    },
    {
      "cell_type": "code",
      "source": [
        "little_right_dist = get_euclidean(base_right_feat,little_dmg_right_feat)\n",
        "little_right_dist"
      ],
      "metadata": {
        "colab": {
          "base_uri": "https://localhost:8080/"
        },
        "id": "jawi2e5g_wjF",
        "outputId": "2ac29d59-10d5-45fc-d226-04c3ebd17ed6"
      },
      "execution_count": 39,
      "outputs": [
        {
          "output_type": "execute_result",
          "data": {
            "text/plain": [
              "[1.482006311416626,\n",
              " 12.650895118713379,\n",
              " 3.0052132606506348,\n",
              " 0.14384199678897858,\n",
              " 12.013653755187988,\n",
              " 0.27887779474258423,\n",
              " 0.35788145661354065]"
            ]
          },
          "metadata": {},
          "execution_count": 39
        }
      ]
    },
    {
      "cell_type": "markdown",
      "source": [
        "## Damage"
      ],
      "metadata": {
        "id": "EI7bNgZw_6Gh"
      }
    },
    {
      "cell_type": "code",
      "source": [
        "# Loading Data\n",
        "dmg_right_loader  = get_dataset(r'/content/drive/MyDrive/train_model/Damage/Right/Damage')"
      ],
      "metadata": {
        "id": "Appm7tzv_zv4"
      },
      "execution_count": 40,
      "outputs": []
    },
    {
      "cell_type": "code",
      "source": [
        "#Extract Features\n",
        "dmg_right_feat  = get_features(vgg,dmg_right_loader)"
      ],
      "metadata": {
        "colab": {
          "base_uri": "https://localhost:8080/"
        },
        "id": "bIjz54yEAC3X",
        "outputId": "27d57cfd-13d6-4d74-b1e7-adca6631b465"
      },
      "execution_count": 41,
      "outputs": [
        {
          "output_type": "stream",
          "name": "stderr",
          "text": [
            "100%|██████████| 1/1 [00:01<00:00,  1.71s/it]\n"
          ]
        }
      ]
    },
    {
      "cell_type": "code",
      "source": [
        "right_dist = get_euclidean(base_right_feat,dmg_right_feat)\n",
        "right_dist"
      ],
      "metadata": {
        "colab": {
          "base_uri": "https://localhost:8080/"
        },
        "id": "uCw9YxbwAGat",
        "outputId": "112aa234-e6f9-4a22-c481-95ac96e72642"
      },
      "execution_count": 42,
      "outputs": [
        {
          "output_type": "execute_result",
          "data": {
            "text/plain": [
              "[13.210777282714844,\n",
              " 32.16436767578125,\n",
              " 14.869745254516602,\n",
              " 21.870052337646484,\n",
              " 49.970550537109375,\n",
              " 24.162689208984375,\n",
              " 17.059917449951172]"
            ]
          },
          "metadata": {},
          "execution_count": 42
        }
      ]
    },
    {
      "cell_type": "markdown",
      "source": [
        "## Most Damage"
      ],
      "metadata": {
        "id": "WHPsEkGiAKUy"
      }
    },
    {
      "cell_type": "code",
      "source": [
        "# Loading Data\n",
        "most_dmg_right_loader  = get_dataset(r'/content/drive/MyDrive/train_model/Damage/Right/Most Damage')"
      ],
      "metadata": {
        "id": "CnyZ1G7vAIs-"
      },
      "execution_count": 43,
      "outputs": []
    },
    {
      "cell_type": "code",
      "source": [
        "#Extract Features\n",
        "most_dmg_right_feat  = get_features(vgg,most_dmg_right_loader)"
      ],
      "metadata": {
        "colab": {
          "base_uri": "https://localhost:8080/"
        },
        "id": "nOpuOcQmAPKf",
        "outputId": "037d18cf-b2cd-4553-842b-44a01824779e"
      },
      "execution_count": 44,
      "outputs": [
        {
          "output_type": "stream",
          "name": "stderr",
          "text": [
            "100%|██████████| 1/1 [00:01<00:00,  1.81s/it]\n"
          ]
        }
      ]
    },
    {
      "cell_type": "code",
      "source": [
        "most_right_dist = get_euclidean(base_right_feat,most_dmg_right_feat)\n",
        "most_right_dist"
      ],
      "metadata": {
        "colab": {
          "base_uri": "https://localhost:8080/"
        },
        "id": "ndjzpsAiAR4M",
        "outputId": "4e6d4102-5c5b-486e-c804-ed3068e647a7"
      },
      "execution_count": 45,
      "outputs": [
        {
          "output_type": "execute_result",
          "data": {
            "text/plain": [
              "[27.740497589111328,\n",
              " 29.7847843170166,\n",
              " 36.266639709472656,\n",
              " 25.08666229248047,\n",
              " 45.91991424560547,\n",
              " 24.597291946411133,\n",
              " 44.16800308227539]"
            ]
          },
          "metadata": {},
          "execution_count": 45
        }
      ]
    },
    {
      "cell_type": "code",
      "source": [
        ""
      ],
      "metadata": {
        "id": "Nfb3Mxh3AVj6"
      },
      "execution_count": 45,
      "outputs": []
    }
  ]
}