{
  "nbformat": 4,
  "nbformat_minor": 0,
  "metadata": {
    "colab": {
      "name": "Train_Model_Car.ipynb",
      "provenance": [],
      "authorship_tag": "ABX9TyOnrlpN0CkWhZ4BDHNXXspj",
      "include_colab_link": true
    },
    "kernelspec": {
      "name": "python3",
      "display_name": "Python 3"
    },
    "language_info": {
      "name": "python"
    },
    "accelerator": "GPU",
    "widgets": {
      "application/vnd.jupyter.widget-state+json": {
        "8b29d4b8a33f4fae89c040660a9557c3": {
          "model_module": "@jupyter-widgets/controls",
          "model_name": "HBoxModel",
          "model_module_version": "1.5.0",
          "state": {
            "_dom_classes": [],
            "_model_module": "@jupyter-widgets/controls",
            "_model_module_version": "1.5.0",
            "_model_name": "HBoxModel",
            "_view_count": null,
            "_view_module": "@jupyter-widgets/controls",
            "_view_module_version": "1.5.0",
            "_view_name": "HBoxView",
            "box_style": "",
            "children": [
              "IPY_MODEL_f63152116a12415981309a163803b5e8",
              "IPY_MODEL_6861902c01ef44c89e2b49a09e1793d9",
              "IPY_MODEL_e74a06d606b94e55935b923789963617"
            ],
            "layout": "IPY_MODEL_323a070b8d3f41068a8f44a6ff02c713"
          }
        },
        "f63152116a12415981309a163803b5e8": {
          "model_module": "@jupyter-widgets/controls",
          "model_name": "HTMLModel",
          "model_module_version": "1.5.0",
          "state": {
            "_dom_classes": [],
            "_model_module": "@jupyter-widgets/controls",
            "_model_module_version": "1.5.0",
            "_model_name": "HTMLModel",
            "_view_count": null,
            "_view_module": "@jupyter-widgets/controls",
            "_view_module_version": "1.5.0",
            "_view_name": "HTMLView",
            "description": "",
            "description_tooltip": null,
            "layout": "IPY_MODEL_7b38758a91ce426f8b2fc6830b432710",
            "placeholder": "​",
            "style": "IPY_MODEL_cdbf87328d684d99804ade1bdd9804ab",
            "value": "100%"
          }
        },
        "6861902c01ef44c89e2b49a09e1793d9": {
          "model_module": "@jupyter-widgets/controls",
          "model_name": "FloatProgressModel",
          "model_module_version": "1.5.0",
          "state": {
            "_dom_classes": [],
            "_model_module": "@jupyter-widgets/controls",
            "_model_module_version": "1.5.0",
            "_model_name": "FloatProgressModel",
            "_view_count": null,
            "_view_module": "@jupyter-widgets/controls",
            "_view_module_version": "1.5.0",
            "_view_name": "ProgressView",
            "bar_style": "success",
            "description": "",
            "description_tooltip": null,
            "layout": "IPY_MODEL_87f4c27049334abdbefe95fc8817d1ab",
            "max": 574673361,
            "min": 0,
            "orientation": "horizontal",
            "style": "IPY_MODEL_b5a379806dd44e03acaa9e51c61d09e0",
            "value": 574673361
          }
        },
        "e74a06d606b94e55935b923789963617": {
          "model_module": "@jupyter-widgets/controls",
          "model_name": "HTMLModel",
          "model_module_version": "1.5.0",
          "state": {
            "_dom_classes": [],
            "_model_module": "@jupyter-widgets/controls",
            "_model_module_version": "1.5.0",
            "_model_name": "HTMLModel",
            "_view_count": null,
            "_view_module": "@jupyter-widgets/controls",
            "_view_module_version": "1.5.0",
            "_view_name": "HTMLView",
            "description": "",
            "description_tooltip": null,
            "layout": "IPY_MODEL_1863717360054d5fa6ee20371f49f0cc",
            "placeholder": "​",
            "style": "IPY_MODEL_652449ef475c474c87216c8c3868260b",
            "value": " 548M/548M [00:03&lt;00:00, 171MB/s]"
          }
        },
        "323a070b8d3f41068a8f44a6ff02c713": {
          "model_module": "@jupyter-widgets/base",
          "model_name": "LayoutModel",
          "model_module_version": "1.2.0",
          "state": {
            "_model_module": "@jupyter-widgets/base",
            "_model_module_version": "1.2.0",
            "_model_name": "LayoutModel",
            "_view_count": null,
            "_view_module": "@jupyter-widgets/base",
            "_view_module_version": "1.2.0",
            "_view_name": "LayoutView",
            "align_content": null,
            "align_items": null,
            "align_self": null,
            "border": null,
            "bottom": null,
            "display": null,
            "flex": null,
            "flex_flow": null,
            "grid_area": null,
            "grid_auto_columns": null,
            "grid_auto_flow": null,
            "grid_auto_rows": null,
            "grid_column": null,
            "grid_gap": null,
            "grid_row": null,
            "grid_template_areas": null,
            "grid_template_columns": null,
            "grid_template_rows": null,
            "height": null,
            "justify_content": null,
            "justify_items": null,
            "left": null,
            "margin": null,
            "max_height": null,
            "max_width": null,
            "min_height": null,
            "min_width": null,
            "object_fit": null,
            "object_position": null,
            "order": null,
            "overflow": null,
            "overflow_x": null,
            "overflow_y": null,
            "padding": null,
            "right": null,
            "top": null,
            "visibility": null,
            "width": null
          }
        },
        "7b38758a91ce426f8b2fc6830b432710": {
          "model_module": "@jupyter-widgets/base",
          "model_name": "LayoutModel",
          "model_module_version": "1.2.0",
          "state": {
            "_model_module": "@jupyter-widgets/base",
            "_model_module_version": "1.2.0",
            "_model_name": "LayoutModel",
            "_view_count": null,
            "_view_module": "@jupyter-widgets/base",
            "_view_module_version": "1.2.0",
            "_view_name": "LayoutView",
            "align_content": null,
            "align_items": null,
            "align_self": null,
            "border": null,
            "bottom": null,
            "display": null,
            "flex": null,
            "flex_flow": null,
            "grid_area": null,
            "grid_auto_columns": null,
            "grid_auto_flow": null,
            "grid_auto_rows": null,
            "grid_column": null,
            "grid_gap": null,
            "grid_row": null,
            "grid_template_areas": null,
            "grid_template_columns": null,
            "grid_template_rows": null,
            "height": null,
            "justify_content": null,
            "justify_items": null,
            "left": null,
            "margin": null,
            "max_height": null,
            "max_width": null,
            "min_height": null,
            "min_width": null,
            "object_fit": null,
            "object_position": null,
            "order": null,
            "overflow": null,
            "overflow_x": null,
            "overflow_y": null,
            "padding": null,
            "right": null,
            "top": null,
            "visibility": null,
            "width": null
          }
        },
        "cdbf87328d684d99804ade1bdd9804ab": {
          "model_module": "@jupyter-widgets/controls",
          "model_name": "DescriptionStyleModel",
          "model_module_version": "1.5.0",
          "state": {
            "_model_module": "@jupyter-widgets/controls",
            "_model_module_version": "1.5.0",
            "_model_name": "DescriptionStyleModel",
            "_view_count": null,
            "_view_module": "@jupyter-widgets/base",
            "_view_module_version": "1.2.0",
            "_view_name": "StyleView",
            "description_width": ""
          }
        },
        "87f4c27049334abdbefe95fc8817d1ab": {
          "model_module": "@jupyter-widgets/base",
          "model_name": "LayoutModel",
          "model_module_version": "1.2.0",
          "state": {
            "_model_module": "@jupyter-widgets/base",
            "_model_module_version": "1.2.0",
            "_model_name": "LayoutModel",
            "_view_count": null,
            "_view_module": "@jupyter-widgets/base",
            "_view_module_version": "1.2.0",
            "_view_name": "LayoutView",
            "align_content": null,
            "align_items": null,
            "align_self": null,
            "border": null,
            "bottom": null,
            "display": null,
            "flex": null,
            "flex_flow": null,
            "grid_area": null,
            "grid_auto_columns": null,
            "grid_auto_flow": null,
            "grid_auto_rows": null,
            "grid_column": null,
            "grid_gap": null,
            "grid_row": null,
            "grid_template_areas": null,
            "grid_template_columns": null,
            "grid_template_rows": null,
            "height": null,
            "justify_content": null,
            "justify_items": null,
            "left": null,
            "margin": null,
            "max_height": null,
            "max_width": null,
            "min_height": null,
            "min_width": null,
            "object_fit": null,
            "object_position": null,
            "order": null,
            "overflow": null,
            "overflow_x": null,
            "overflow_y": null,
            "padding": null,
            "right": null,
            "top": null,
            "visibility": null,
            "width": null
          }
        },
        "b5a379806dd44e03acaa9e51c61d09e0": {
          "model_module": "@jupyter-widgets/controls",
          "model_name": "ProgressStyleModel",
          "model_module_version": "1.5.0",
          "state": {
            "_model_module": "@jupyter-widgets/controls",
            "_model_module_version": "1.5.0",
            "_model_name": "ProgressStyleModel",
            "_view_count": null,
            "_view_module": "@jupyter-widgets/base",
            "_view_module_version": "1.2.0",
            "_view_name": "StyleView",
            "bar_color": null,
            "description_width": ""
          }
        },
        "1863717360054d5fa6ee20371f49f0cc": {
          "model_module": "@jupyter-widgets/base",
          "model_name": "LayoutModel",
          "model_module_version": "1.2.0",
          "state": {
            "_model_module": "@jupyter-widgets/base",
            "_model_module_version": "1.2.0",
            "_model_name": "LayoutModel",
            "_view_count": null,
            "_view_module": "@jupyter-widgets/base",
            "_view_module_version": "1.2.0",
            "_view_name": "LayoutView",
            "align_content": null,
            "align_items": null,
            "align_self": null,
            "border": null,
            "bottom": null,
            "display": null,
            "flex": null,
            "flex_flow": null,
            "grid_area": null,
            "grid_auto_columns": null,
            "grid_auto_flow": null,
            "grid_auto_rows": null,
            "grid_column": null,
            "grid_gap": null,
            "grid_row": null,
            "grid_template_areas": null,
            "grid_template_columns": null,
            "grid_template_rows": null,
            "height": null,
            "justify_content": null,
            "justify_items": null,
            "left": null,
            "margin": null,
            "max_height": null,
            "max_width": null,
            "min_height": null,
            "min_width": null,
            "object_fit": null,
            "object_position": null,
            "order": null,
            "overflow": null,
            "overflow_x": null,
            "overflow_y": null,
            "padding": null,
            "right": null,
            "top": null,
            "visibility": null,
            "width": null
          }
        },
        "652449ef475c474c87216c8c3868260b": {
          "model_module": "@jupyter-widgets/controls",
          "model_name": "DescriptionStyleModel",
          "model_module_version": "1.5.0",
          "state": {
            "_model_module": "@jupyter-widgets/controls",
            "_model_module_version": "1.5.0",
            "_model_name": "DescriptionStyleModel",
            "_view_count": null,
            "_view_module": "@jupyter-widgets/base",
            "_view_module_version": "1.2.0",
            "_view_name": "StyleView",
            "description_width": ""
          }
        }
      }
    }
  },
  "cells": [
    {
      "cell_type": "markdown",
      "metadata": {
        "id": "view-in-github",
        "colab_type": "text"
      },
      "source": [
        "<a href=\"https://colab.research.google.com/github/MeenTers/Project/blob/main/Train_Model_Car.ipynb\" target=\"_parent\"><img src=\"https://colab.research.google.com/assets/colab-badge.svg\" alt=\"Open In Colab\"/></a>"
      ]
    },
    {
      "cell_type": "markdown",
      "source": [
        "# Installation Package"
      ],
      "metadata": {
        "id": "GL4MBsyo6Gwp"
      }
    },
    {
      "cell_type": "code",
      "execution_count": 1,
      "metadata": {
        "colab": {
          "base_uri": "https://localhost:8080/"
        },
        "id": "QXUdhj_L5nvn",
        "outputId": "04ab8e87-fd6d-46b8-b854-de37311d1129"
      },
      "outputs": [
        {
          "output_type": "stream",
          "name": "stdout",
          "text": [
            "Mounted at /content/drive\n"
          ]
        }
      ],
      "source": [
        "from google.colab import drive\n",
        "drive.mount('/content/drive')"
      ]
    },
    {
      "cell_type": "code",
      "source": [
        "import torch\n",
        "from torch import nn, load, utils\n",
        "from tqdm import tqdm\n",
        "import matplotlib.pyplot as plt\n",
        "import numpy as np\n",
        "from torchvision import datasets, transforms, models\n",
        "from torchvision.models.vgg import model_urls\n",
        "from os import path, listdir\n",
        "model_urls['vgg19'] = model_urls['vgg19'].replace('https://', 'http://')"
      ],
      "metadata": {
        "id": "kzKpFb7e50NR"
      },
      "execution_count": 2,
      "outputs": []
    },
    {
      "cell_type": "code",
      "source": [
        "from scipy.spatial import distance_matrix\n",
        "from scipy.spatial import distance\n",
        "import pandas as pd"
      ],
      "metadata": {
        "id": "gtlG8e1z6PjP"
      },
      "execution_count": 3,
      "outputs": []
    },
    {
      "cell_type": "code",
      "source": [
        "import matplotlib.image as mpimg\n",
        "import matplotlib.pyplot as plt\n",
        "import cv2"
      ],
      "metadata": {
        "id": "vm3O0vQl6REq"
      },
      "execution_count": 4,
      "outputs": []
    },
    {
      "cell_type": "markdown",
      "source": [
        "# Create Functions"
      ],
      "metadata": {
        "id": "RdkOWyaG6TM_"
      }
    },
    {
      "cell_type": "markdown",
      "source": [
        "## VGG-19 Pretrain with ImageNet"
      ],
      "metadata": {
        "id": "o89RrcyZ6WLG"
      }
    },
    {
      "cell_type": "code",
      "source": [
        "class VGG:\n",
        "\tdef __init__(self):\n",
        "\t\tmodel = models.vgg19(pretrained=True, progress=True)\n",
        "\t\tmodel.classifier = nn.Sequential(*list(model.classifier.children())[:3])\n",
        "\t\tself.model = model.cuda().eval()\n",
        "\n",
        "\tdef __call__(self, x):\n",
        "\t\treturn self.model(x)"
      ],
      "metadata": {
        "id": "DCs4jaIS6Syq"
      },
      "execution_count": 5,
      "outputs": []
    },
    {
      "cell_type": "code",
      "source": [
        "vgg = VGG()"
      ],
      "metadata": {
        "colab": {
          "base_uri": "https://localhost:8080/",
          "height": 66,
          "referenced_widgets": [
            "8b29d4b8a33f4fae89c040660a9557c3",
            "f63152116a12415981309a163803b5e8",
            "6861902c01ef44c89e2b49a09e1793d9",
            "e74a06d606b94e55935b923789963617",
            "323a070b8d3f41068a8f44a6ff02c713",
            "7b38758a91ce426f8b2fc6830b432710",
            "cdbf87328d684d99804ade1bdd9804ab",
            "87f4c27049334abdbefe95fc8817d1ab",
            "b5a379806dd44e03acaa9e51c61d09e0",
            "1863717360054d5fa6ee20371f49f0cc",
            "652449ef475c474c87216c8c3868260b"
          ]
        },
        "id": "KRa0jdYe6cCc",
        "outputId": "a190e6f6-2730-444b-ce43-d47ca5d8a223"
      },
      "execution_count": 6,
      "outputs": [
        {
          "output_type": "stream",
          "name": "stderr",
          "text": [
            "Downloading: \"http://download.pytorch.org/models/vgg19-dcbb9e9d.pth\" to /root/.cache/torch/hub/checkpoints/vgg19-dcbb9e9d.pth\n"
          ]
        },
        {
          "output_type": "display_data",
          "data": {
            "text/plain": [
              "  0%|          | 0.00/548M [00:00<?, ?B/s]"
            ],
            "application/vnd.jupyter.widget-view+json": {
              "version_major": 2,
              "version_minor": 0,
              "model_id": "8b29d4b8a33f4fae89c040660a9557c3"
            }
          },
          "metadata": {}
        }
      ]
    },
    {
      "cell_type": "markdown",
      "source": [
        "## Features Extraction Function"
      ],
      "metadata": {
        "id": "FXY_dTIL6qF4"
      }
    },
    {
      "cell_type": "code",
      "source": [
        "def get_features(model, loader):\n",
        "    features = []\n",
        "    with torch.no_grad():\n",
        "        for batch, _ in tqdm(loader):\n",
        "            if torch.cuda.is_available():\n",
        "                batch = batch.cuda()\n",
        "            b_features = model(batch).detach().cpu().numpy()\n",
        "            for f in b_features:\n",
        "                features.append(f)\n",
        "\n",
        "    return features"
      ],
      "metadata": {
        "id": "41cdqo4L6fp0"
      },
      "execution_count": 7,
      "outputs": []
    },
    {
      "cell_type": "markdown",
      "source": [
        "## Loading the data Function"
      ],
      "metadata": {
        "id": "qWBY5sJK6uPW"
      }
    },
    {
      "cell_type": "code",
      "source": [
        "def get_dataset(images_path):\n",
        "  transform = transforms.Compose([\n",
        "    transforms.Resize(size=32),\n",
        "    transforms.ToTensor(),\n",
        "    transforms.Normalize((0.4914, 0.4822, 0.4465), (0.2023, 0.1994, 0.2010)),\n",
        "  ])\n",
        "\n",
        "  dataset = datasets.ImageFolder(images_path, transform=transform)\n",
        "  loader = utils.data.DataLoader(dataset, batch_size=100, shuffle=False, num_workers=1, pin_memory=True)\n",
        "  return loader"
      ],
      "metadata": {
        "id": "LZFeKJky6sIW"
      },
      "execution_count": 10,
      "outputs": []
    },
    {
      "cell_type": "markdown",
      "source": [
        "## Compute Distance Function"
      ],
      "metadata": {
        "id": "1s3-xrDc6y-i"
      }
    },
    {
      "cell_type": "code",
      "source": [
        "def get_euclidean(base_car,diff_view):\n",
        "    A = []\n",
        "    for i in range(len(diff_view)):\n",
        "        x = distance.euclidean(base_car[i],diff_view[i])\n",
        "        A.append(x)\n",
        "    return(A)"
      ],
      "metadata": {
        "id": "cwXty0y_6wSD"
      },
      "execution_count": 9,
      "outputs": []
    },
    {
      "cell_type": "markdown",
      "source": [
        "# Front Views"
      ],
      "metadata": {
        "id": "1Orv8BR363Tk"
      }
    },
    {
      "cell_type": "markdown",
      "source": [
        "## Little Damage"
      ],
      "metadata": {
        "id": "Iq2hFoAX66BM"
      }
    },
    {
      "cell_type": "code",
      "source": [
        "# Loading Data\n",
        "little_base_front_loader = get_dataset(r'/content/drive/MyDrive/train_model/Base/Front')\n",
        "little_dmg_front_loader  = get_dataset(r'/content/drive/MyDrive/train_model/Damage/Front/Little Damage')"
      ],
      "metadata": {
        "id": "HGIWxhcK61MV"
      },
      "execution_count": 12,
      "outputs": []
    },
    {
      "cell_type": "code",
      "source": [
        "#Extract Features\n",
        "little_base_front_feat = get_features(vgg,little_base_front_loader)\n",
        "little_dmg_front_feat  = get_features(vgg,little_dmg_front_loader)"
      ],
      "metadata": {
        "colab": {
          "base_uri": "https://localhost:8080/"
        },
        "id": "2CSNxcqb7Zkk",
        "outputId": "c4732b80-e183-4234-cb4c-f6ad2e544ec0"
      },
      "execution_count": 13,
      "outputs": [
        {
          "output_type": "stream",
          "name": "stderr",
          "text": [
            "100%|██████████| 1/1 [00:04<00:00,  4.13s/it]\n",
            "100%|██████████| 1/1 [00:03<00:00,  3.70s/it]\n"
          ]
        }
      ]
    },
    {
      "cell_type": "code",
      "source": [
        "little_front_dist = get_euclidean(little_base_front_feat,little_dmg_front_feat)\n",
        "little_front_dist"
      ],
      "metadata": {
        "colab": {
          "base_uri": "https://localhost:8080/"
        },
        "id": "5LDRPabw7viv",
        "outputId": "ba025735-26a0-4b83-ab93-5a0c8d0e5f19"
      },
      "execution_count": 14,
      "outputs": [
        {
          "output_type": "execute_result",
          "data": {
            "text/plain": [
              "[5.304965019226074,\n",
              " 2.2764980792999268,\n",
              " 6.874874591827393,\n",
              " 10.913042068481445,\n",
              " 14.467225074768066,\n",
              " 9.235076904296875,\n",
              " 18.01740264892578]"
            ]
          },
          "metadata": {},
          "execution_count": 14
        }
      ]
    },
    {
      "cell_type": "markdown",
      "source": [
        "## Damage"
      ],
      "metadata": {
        "id": "uM9yktT08AN_"
      }
    },
    {
      "cell_type": "code",
      "source": [
        "# Loading Data\n",
        "base_front_loader = get_dataset(r'/content/drive/MyDrive/train_model/Base/Front')\n",
        "dmg_front_loader  = get_dataset(r'/content/drive/MyDrive/train_model/Damage/Front/Damage')"
      ],
      "metadata": {
        "id": "YYK1zTc478Gx"
      },
      "execution_count": 15,
      "outputs": []
    },
    {
      "cell_type": "code",
      "source": [
        "#Extract Features\n",
        "base_front_feat = get_features(vgg,base_front_loader)\n",
        "dmg_front_feat  = get_features(vgg,dmg_front_loader)"
      ],
      "metadata": {
        "colab": {
          "base_uri": "https://localhost:8080/"
        },
        "id": "bh9BkeXq8JZJ",
        "outputId": "8893c4a9-aff3-4d8c-ab63-d270717eccde"
      },
      "execution_count": 16,
      "outputs": [
        {
          "output_type": "stream",
          "name": "stderr",
          "text": [
            "100%|██████████| 1/1 [00:00<00:00,  3.10it/s]\n",
            "100%|██████████| 1/1 [00:03<00:00,  3.55s/it]\n"
          ]
        }
      ]
    },
    {
      "cell_type": "code",
      "source": [
        "front_dist = get_euclidean(base_front_feat,dmg_front_feat)\n",
        "front_dist"
      ],
      "metadata": {
        "colab": {
          "base_uri": "https://localhost:8080/"
        },
        "id": "hAU29PkY8P1m",
        "outputId": "f3455c36-31f5-4d8e-fcbc-88ce594398be"
      },
      "execution_count": 17,
      "outputs": [
        {
          "output_type": "execute_result",
          "data": {
            "text/plain": [
              "[27.097463607788086,\n",
              " 9.43012523651123,\n",
              " 36.0161247253418,\n",
              " 30.508304595947266,\n",
              " 15.178224563598633,\n",
              " 11.249543190002441,\n",
              " 23.93056869506836]"
            ]
          },
          "metadata": {},
          "execution_count": 17
        }
      ]
    },
    {
      "cell_type": "markdown",
      "source": [
        "## Most Damage"
      ],
      "metadata": {
        "id": "ocqj_OtS8ZpW"
      }
    },
    {
      "cell_type": "code",
      "source": [
        "# Loading Data\n",
        "base_front_loader = get_dataset(r'/content/drive/MyDrive/train_model/Base/Front')\n",
        "most_dmg_front_loader  = get_dataset(r'/content/drive/MyDrive/train_model/Damage/Front/Most Damage')"
      ],
      "metadata": {
        "id": "oBvsx5AM8W7h"
      },
      "execution_count": 18,
      "outputs": []
    },
    {
      "cell_type": "code",
      "source": [
        "#Extract Features\n",
        "base_front_feat = get_features(vgg,base_front_loader)\n",
        "most_dmg_front_feat  = get_features(vgg,most_dmg_front_loader)"
      ],
      "metadata": {
        "colab": {
          "base_uri": "https://localhost:8080/"
        },
        "id": "tueaaokx8ikB",
        "outputId": "f6c4f1f4-00aa-45d9-b47f-0d66e6d672e2"
      },
      "execution_count": 19,
      "outputs": [
        {
          "output_type": "stream",
          "name": "stderr",
          "text": [
            "100%|██████████| 1/1 [00:00<00:00,  3.21it/s]\n",
            "100%|██████████| 1/1 [00:03<00:00,  3.58s/it]\n"
          ]
        }
      ]
    },
    {
      "cell_type": "code",
      "source": [
        "most_front_dist = get_euclidean(base_front_feat,most_dmg_front_feat)\n",
        "most_front_dist"
      ],
      "metadata": {
        "colab": {
          "base_uri": "https://localhost:8080/"
        },
        "id": "lvzG9jEB8m_j",
        "outputId": "c901b48a-94b0-4b6b-83f3-04928cd6735d"
      },
      "execution_count": 20,
      "outputs": [
        {
          "output_type": "execute_result",
          "data": {
            "text/plain": [
              "[68.19573211669922,\n",
              " 57.24534225463867,\n",
              " 49.86717987060547,\n",
              " 46.62443923950195,\n",
              " 28.867015838623047,\n",
              " 13.375458717346191,\n",
              " 49.08580780029297]"
            ]
          },
          "metadata": {},
          "execution_count": 20
        }
      ]
    },
    {
      "cell_type": "markdown",
      "source": [
        "# Left View"
      ],
      "metadata": {
        "id": "6JvlkyhF81F3"
      }
    },
    {
      "cell_type": "markdown",
      "source": [
        "## Little Damage"
      ],
      "metadata": {
        "id": "wSHvouXF8_wH"
      }
    },
    {
      "cell_type": "code",
      "source": [
        "# Loading Data\n",
        "base_left_loader = get_dataset(r'/content/drive/MyDrive/train_model/Base/Left')\n",
        "little_dmg_left_loader  = get_dataset(r'/content/drive/MyDrive/train_model/Damage/Left/Little Damage')"
      ],
      "metadata": {
        "id": "p8tLn3NL8tP4"
      },
      "execution_count": 21,
      "outputs": []
    },
    {
      "cell_type": "code",
      "source": [
        "#Extract Features\n",
        "base_left_feat = get_features(vgg,base_left_loader)\n",
        "little_dmg_left_feat  = get_features(vgg,little_dmg_left_loader)"
      ],
      "metadata": {
        "colab": {
          "base_uri": "https://localhost:8080/"
        },
        "id": "mRv99vZ19KIh",
        "outputId": "f164d19f-d02e-45bf-a181-c828c125135f"
      },
      "execution_count": 22,
      "outputs": [
        {
          "output_type": "stream",
          "name": "stderr",
          "text": [
            "100%|██████████| 1/1 [00:03<00:00,  3.55s/it]\n",
            "100%|██████████| 1/1 [00:03<00:00,  3.81s/it]\n"
          ]
        }
      ]
    },
    {
      "cell_type": "code",
      "source": [
        "little_left_dist = get_euclidean(base_left_feat,little_dmg_left_feat)\n",
        "little_left_dist"
      ],
      "metadata": {
        "colab": {
          "base_uri": "https://localhost:8080/"
        },
        "id": "ayFJApgq9U88",
        "outputId": "5bd5987f-4a51-457d-ac8e-f5bcf46fe32c"
      },
      "execution_count": 23,
      "outputs": [
        {
          "output_type": "execute_result",
          "data": {
            "text/plain": [
              "[1.236898422241211,\n",
              " 0.7314380407333374,\n",
              " 0.0,\n",
              " 2.2292003631591797,\n",
              " 0.0,\n",
              " 0.0,\n",
              " 0.15286785364151]"
            ]
          },
          "metadata": {},
          "execution_count": 23
        }
      ]
    },
    {
      "cell_type": "markdown",
      "source": [
        "## Damage"
      ],
      "metadata": {
        "id": "G93PZ8i_9nEW"
      }
    },
    {
      "cell_type": "code",
      "source": [
        "# Loading Data\n",
        "dmg_left_loader  = get_dataset(r'/content/drive/MyDrive/train_model/Damage/Left/Damage')"
      ],
      "metadata": {
        "id": "rUzqhyYB9g6i"
      },
      "execution_count": 24,
      "outputs": []
    },
    {
      "cell_type": "code",
      "source": [
        "#Extract Features\n",
        "dmg_left_feat  = get_features(vgg,dmg_left_loader)"
      ],
      "metadata": {
        "colab": {
          "base_uri": "https://localhost:8080/"
        },
        "id": "mRVZsgcU9swT",
        "outputId": "a5798a30-201d-459f-8450-c488bae9bdc9"
      },
      "execution_count": 25,
      "outputs": [
        {
          "output_type": "stream",
          "name": "stderr",
          "text": [
            "100%|██████████| 1/1 [00:03<00:00,  3.49s/it]\n"
          ]
        }
      ]
    },
    {
      "cell_type": "code",
      "source": [
        "left_dist = get_euclidean(base_left_feat,dmg_left_feat)\n",
        "left_dist"
      ],
      "metadata": {
        "colab": {
          "base_uri": "https://localhost:8080/"
        },
        "id": "mbCpcgEZ9xL1",
        "outputId": "2aa89b26-223a-44d4-df83-68aa381a9318"
      },
      "execution_count": 26,
      "outputs": [
        {
          "output_type": "execute_result",
          "data": {
            "text/plain": [
              "[19.150352478027344,\n",
              " 36.80379867553711,\n",
              " 24.716638565063477,\n",
              " 27.39190673828125,\n",
              " 0.0,\n",
              " 16.895296096801758,\n",
              " 20.503732681274414]"
            ]
          },
          "metadata": {},
          "execution_count": 26
        }
      ]
    },
    {
      "cell_type": "markdown",
      "source": [
        "## Most Damage"
      ],
      "metadata": {
        "id": "wDOWhgCl95Qb"
      }
    },
    {
      "cell_type": "code",
      "source": [
        "# Loading Data\n",
        "most_dmg_left_loader  = get_dataset(r'/content/drive/MyDrive/train_model/Damage/Left/Most Damage')"
      ],
      "metadata": {
        "id": "Kikuf9uL90ci"
      },
      "execution_count": 27,
      "outputs": []
    },
    {
      "cell_type": "code",
      "source": [
        "#Extract Features\n",
        "most_dmg_left_feat  = get_features(vgg,most_dmg_left_loader)"
      ],
      "metadata": {
        "colab": {
          "base_uri": "https://localhost:8080/"
        },
        "id": "kqiDPwdE-NFG",
        "outputId": "36d36373-a1df-4f4f-e899-e900f6ec7639"
      },
      "execution_count": 28,
      "outputs": [
        {
          "output_type": "stream",
          "name": "stderr",
          "text": [
            "100%|██████████| 1/1 [00:03<00:00,  3.39s/it]\n"
          ]
        }
      ]
    },
    {
      "cell_type": "code",
      "source": [
        "most_left_dist = get_euclidean(base_left_feat,most_dmg_left_feat)\n",
        "most_left_dist"
      ],
      "metadata": {
        "colab": {
          "base_uri": "https://localhost:8080/"
        },
        "id": "FdPEv5cf-SPK",
        "outputId": "55e84453-dad7-4d76-cd30-e99edc016280"
      },
      "execution_count": 29,
      "outputs": [
        {
          "output_type": "execute_result",
          "data": {
            "text/plain": [
              "[38.60552215576172,\n",
              " 42.035465240478516,\n",
              " 53.78656005859375,\n",
              " 32.845802307128906,\n",
              " 25.846031188964844,\n",
              " 23.10930633544922,\n",
              " 34.61317443847656]"
            ]
          },
          "metadata": {},
          "execution_count": 29
        }
      ]
    },
    {
      "cell_type": "markdown",
      "source": [
        "# Back"
      ],
      "metadata": {
        "id": "zptI9jos-d71"
      }
    },
    {
      "cell_type": "markdown",
      "source": [
        "## Little Damage"
      ],
      "metadata": {
        "id": "mdV6jLWY-xVg"
      }
    },
    {
      "cell_type": "code",
      "source": [
        "# Loading Data\n",
        "base_back_loader = get_dataset(r'/content/drive/MyDrive/train_model/Base/Back')\n",
        "little_dmg_back_loader  = get_dataset(r'/content/drive/MyDrive/train_model/Damage/Back/Little Damage')"
      ],
      "metadata": {
        "id": "NRA2snNp-Wak"
      },
      "execution_count": 30,
      "outputs": []
    },
    {
      "cell_type": "code",
      "source": [
        "#Extract Features\n",
        "base_back_feat = get_features(vgg,base_back_loader)\n",
        "little_dmg_back_feat  = get_features(vgg,little_dmg_back_loader)"
      ],
      "metadata": {
        "colab": {
          "base_uri": "https://localhost:8080/"
        },
        "id": "S_1_llCK-mKg",
        "outputId": "03b8f023-6b51-4208-b238-5021c2908c5c"
      },
      "execution_count": 31,
      "outputs": [
        {
          "output_type": "stream",
          "name": "stderr",
          "text": [
            "100%|██████████| 1/1 [00:03<00:00,  3.84s/it]\n",
            "100%|██████████| 1/1 [00:03<00:00,  3.69s/it]\n"
          ]
        }
      ]
    },
    {
      "cell_type": "code",
      "source": [
        "little_back_dist = get_euclidean(base_back_feat,little_dmg_back_feat)\n",
        "little_back_dist"
      ],
      "metadata": {
        "colab": {
          "base_uri": "https://localhost:8080/"
        },
        "id": "2pUOz0UG-qwE",
        "outputId": "6ffe5057-2e65-412d-83a6-0da27b0a1838"
      },
      "execution_count": 32,
      "outputs": [
        {
          "output_type": "execute_result",
          "data": {
            "text/plain": [
              "[8.860122680664062,\n",
              " 2.142881393432617,\n",
              " 2.4771201610565186,\n",
              " 27.078006744384766,\n",
              " 1.4209057092666626,\n",
              " 10.339546203613281,\n",
              " 10.107410430908203]"
            ]
          },
          "metadata": {},
          "execution_count": 32
        }
      ]
    },
    {
      "cell_type": "markdown",
      "source": [
        "# Damage"
      ],
      "metadata": {
        "id": "JxEllSwD-0_t"
      }
    },
    {
      "cell_type": "code",
      "source": [
        "# Loading Data\n",
        "dmg_back_loader  = get_dataset(r'/content/drive/MyDrive/train_model/Damage/Back/Damage')"
      ],
      "metadata": {
        "id": "swDgpLO8-vKH"
      },
      "execution_count": 33,
      "outputs": []
    },
    {
      "cell_type": "code",
      "source": [
        "#Extract Features\n",
        "dmg_back_feat  = get_features(vgg,dmg_back_loader)"
      ],
      "metadata": {
        "colab": {
          "base_uri": "https://localhost:8080/"
        },
        "id": "V1bci1Dx-7WV",
        "outputId": "414213b6-c36a-44b1-9dd1-ffc2a0cabbb5"
      },
      "execution_count": 34,
      "outputs": [
        {
          "output_type": "stream",
          "name": "stderr",
          "text": [
            "100%|██████████| 1/1 [00:03<00:00,  3.43s/it]\n"
          ]
        }
      ]
    },
    {
      "cell_type": "code",
      "source": [
        "back_dist = get_euclidean(base_back_feat,dmg_back_feat)\n",
        "back_dist"
      ],
      "metadata": {
        "colab": {
          "base_uri": "https://localhost:8080/"
        },
        "id": "fQGQI-Gv--up",
        "outputId": "9f03bdf5-5b38-4ab9-a050-71c23c675cb4"
      },
      "execution_count": 35,
      "outputs": [
        {
          "output_type": "execute_result",
          "data": {
            "text/plain": [
              "[8.79023551940918,\n",
              " 11.450382232666016,\n",
              " 2.6085054874420166,\n",
              " 33.32075881958008,\n",
              " 7.946778774261475,\n",
              " 11.522150039672852,\n",
              " 18.107521057128906]"
            ]
          },
          "metadata": {},
          "execution_count": 35
        }
      ]
    },
    {
      "cell_type": "markdown",
      "source": [
        "## Most Damage"
      ],
      "metadata": {
        "id": "uOcPZ2br_D7_"
      }
    },
    {
      "cell_type": "code",
      "source": [
        "# Loading Data\n",
        "most_dmg_back_loader  = get_dataset(r'/content/drive/MyDrive/train_model/Damage/Back/Most Damage')"
      ],
      "metadata": {
        "id": "XgQZPPZu_Bj7"
      },
      "execution_count": 36,
      "outputs": []
    },
    {
      "cell_type": "code",
      "source": [
        "#Extract Features\n",
        "most_dmg_back_feat  = get_features(vgg,most_dmg_back_loader)"
      ],
      "metadata": {
        "colab": {
          "base_uri": "https://localhost:8080/"
        },
        "id": "XhzeU2tJ_JTx",
        "outputId": "94336978-5742-47ae-dd36-a5ce661ffdcd"
      },
      "execution_count": 37,
      "outputs": [
        {
          "output_type": "stream",
          "name": "stderr",
          "text": [
            "100%|██████████| 1/1 [00:03<00:00,  3.60s/it]\n"
          ]
        }
      ]
    },
    {
      "cell_type": "code",
      "source": [
        "most_back_dist = get_euclidean(base_back_feat,most_dmg_back_feat)\n",
        "most_back_dist"
      ],
      "metadata": {
        "colab": {
          "base_uri": "https://localhost:8080/"
        },
        "id": "hKLJYEeJ_MUO",
        "outputId": "b881ee32-51b0-43b7-cc2a-bf8add9617cd"
      },
      "execution_count": 38,
      "outputs": [
        {
          "output_type": "execute_result",
          "data": {
            "text/plain": [
              "[46.44422149658203,\n",
              " 72.7226791381836,\n",
              " 9.393021583557129,\n",
              " 51.96744155883789,\n",
              " 45.819881439208984,\n",
              " 37.23289489746094,\n",
              " 79.67497253417969]"
            ]
          },
          "metadata": {},
          "execution_count": 38
        }
      ]
    },
    {
      "cell_type": "markdown",
      "source": [
        "# Right"
      ],
      "metadata": {
        "id": "plwPJCxX_UVO"
      }
    },
    {
      "cell_type": "markdown",
      "source": [
        "## Little Damage"
      ],
      "metadata": {
        "id": "z-2u03mV_6-d"
      }
    },
    {
      "cell_type": "code",
      "source": [
        "# Loading Data\n",
        "base_right_loader = get_dataset(r'/content/drive/MyDrive/train_model/Base/Right')\n",
        "little_dmg_right_loader  = get_dataset(r'/content/drive/MyDrive/train_model/Damage/Right/Little Damage')"
      ],
      "metadata": {
        "id": "i1Q6Jbvr_QGM"
      },
      "execution_count": 39,
      "outputs": []
    },
    {
      "cell_type": "code",
      "source": [
        "#Extract Features\n",
        "base_right_feat = get_features(vgg,base_right_loader)\n",
        "little_dmg_right_feat  = get_features(vgg,little_dmg_right_loader)"
      ],
      "metadata": {
        "colab": {
          "base_uri": "https://localhost:8080/"
        },
        "id": "9cHGy-7o_tsu",
        "outputId": "5134d87c-6d4d-483a-f0ec-af51bd3d5c13"
      },
      "execution_count": 40,
      "outputs": [
        {
          "output_type": "stream",
          "name": "stderr",
          "text": [
            "100%|██████████| 1/1 [00:04<00:00,  4.27s/it]\n",
            "100%|██████████| 1/1 [00:04<00:00,  4.04s/it]\n"
          ]
        }
      ]
    },
    {
      "cell_type": "code",
      "source": [
        "little_right_dist = get_euclidean(base_right_feat,little_dmg_right_feat)\n",
        "little_right_dist"
      ],
      "metadata": {
        "colab": {
          "base_uri": "https://localhost:8080/"
        },
        "id": "jawi2e5g_wjF",
        "outputId": "7e91eb54-201b-44ba-d475-cfb35094492d"
      },
      "execution_count": 41,
      "outputs": [
        {
          "output_type": "execute_result",
          "data": {
            "text/plain": [
              "[1.482006311416626,\n",
              " 12.650895118713379,\n",
              " 0.0,\n",
              " 0.14384199678897858,\n",
              " 12.013653755187988,\n",
              " 0.27887779474258423,\n",
              " 0.35788145661354065]"
            ]
          },
          "metadata": {},
          "execution_count": 41
        }
      ]
    },
    {
      "cell_type": "markdown",
      "source": [
        "## Damage"
      ],
      "metadata": {
        "id": "EI7bNgZw_6Gh"
      }
    },
    {
      "cell_type": "code",
      "source": [
        "# Loading Data\n",
        "dmg_right_loader  = get_dataset(r'/content/drive/MyDrive/train_model/Damage/Right/Damage')"
      ],
      "metadata": {
        "id": "Appm7tzv_zv4"
      },
      "execution_count": 42,
      "outputs": []
    },
    {
      "cell_type": "code",
      "source": [
        "#Extract Features\n",
        "dmg_right_feat  = get_features(vgg,dmg_right_loader)"
      ],
      "metadata": {
        "colab": {
          "base_uri": "https://localhost:8080/"
        },
        "id": "bIjz54yEAC3X",
        "outputId": "94f0e8da-9bf9-4416-9e67-6ecbb2f43d0b"
      },
      "execution_count": 43,
      "outputs": [
        {
          "output_type": "stream",
          "name": "stderr",
          "text": [
            "100%|██████████| 1/1 [00:03<00:00,  3.43s/it]\n"
          ]
        }
      ]
    },
    {
      "cell_type": "code",
      "source": [
        "right_dist = get_euclidean(base_right_feat,dmg_right_feat)\n",
        "right_dist"
      ],
      "metadata": {
        "colab": {
          "base_uri": "https://localhost:8080/"
        },
        "id": "uCw9YxbwAGat",
        "outputId": "93c5e1e1-4e04-46f7-ce38-c3e1f2670035"
      },
      "execution_count": 44,
      "outputs": [
        {
          "output_type": "execute_result",
          "data": {
            "text/plain": [
              "[13.210777282714844,\n",
              " 32.16436767578125,\n",
              " 14.869745254516602,\n",
              " 21.870052337646484,\n",
              " 49.970550537109375,\n",
              " 24.162689208984375,\n",
              " 17.059917449951172]"
            ]
          },
          "metadata": {},
          "execution_count": 44
        }
      ]
    },
    {
      "cell_type": "markdown",
      "source": [
        "## Most Damage"
      ],
      "metadata": {
        "id": "WHPsEkGiAKUy"
      }
    },
    {
      "cell_type": "code",
      "source": [
        "# Loading Data\n",
        "most_dmg_right_loader  = get_dataset(r'/content/drive/MyDrive/train_model/Damage/Right/Most Damage')"
      ],
      "metadata": {
        "id": "CnyZ1G7vAIs-"
      },
      "execution_count": 45,
      "outputs": []
    },
    {
      "cell_type": "code",
      "source": [
        "#Extract Features\n",
        "most_dmg_right_feat  = get_features(vgg,most_dmg_right_loader)"
      ],
      "metadata": {
        "colab": {
          "base_uri": "https://localhost:8080/"
        },
        "id": "nOpuOcQmAPKf",
        "outputId": "36321500-be19-4fa0-bab5-68c5414ca812"
      },
      "execution_count": 46,
      "outputs": [
        {
          "output_type": "stream",
          "name": "stderr",
          "text": [
            "100%|██████████| 1/1 [00:03<00:00,  3.50s/it]\n"
          ]
        }
      ]
    },
    {
      "cell_type": "code",
      "source": [
        "most_right_dist = get_euclidean(base_right_feat,most_dmg_right_feat)\n",
        "most_right_dist"
      ],
      "metadata": {
        "colab": {
          "base_uri": "https://localhost:8080/"
        },
        "id": "ndjzpsAiAR4M",
        "outputId": "b65c6aa9-eaeb-466f-d1c7-47ba2542660e"
      },
      "execution_count": 47,
      "outputs": [
        {
          "output_type": "execute_result",
          "data": {
            "text/plain": [
              "[27.740497589111328,\n",
              " 29.7847843170166,\n",
              " 36.266639709472656,\n",
              " 25.08666229248047,\n",
              " 45.91991424560547,\n",
              " 24.597291946411133,\n",
              " 44.16800308227539]"
            ]
          },
          "metadata": {},
          "execution_count": 47
        }
      ]
    },
    {
      "cell_type": "code",
      "source": [
        ""
      ],
      "metadata": {
        "id": "Nfb3Mxh3AVj6"
      },
      "execution_count": null,
      "outputs": []
    }
  ]
}