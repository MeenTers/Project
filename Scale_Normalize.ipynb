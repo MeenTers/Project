{
  "nbformat": 4,
  "nbformat_minor": 0,
  "metadata": {
    "colab": {
      "name": "Scale_Normalize.ipynb",
      "provenance": [],
      "include_colab_link": true
    },
    "kernelspec": {
      "name": "python3",
      "display_name": "Python 3"
    },
    "language_info": {
      "name": "python"
    },
    "accelerator": "GPU",
    "widgets": {
      "application/vnd.jupyter.widget-state+json": {
        "2bc9affb32f04e08a18cac086682275a": {
          "model_module": "@jupyter-widgets/controls",
          "model_name": "HBoxModel",
          "model_module_version": "1.5.0",
          "state": {
            "_view_name": "HBoxView",
            "_dom_classes": [],
            "_model_name": "HBoxModel",
            "_view_module": "@jupyter-widgets/controls",
            "_model_module_version": "1.5.0",
            "_view_count": null,
            "_view_module_version": "1.5.0",
            "box_style": "",
            "layout": "IPY_MODEL_e9b53359ed8a4c37a1248bb301af1df3",
            "_model_module": "@jupyter-widgets/controls",
            "children": [
              "IPY_MODEL_ffca23039b854ab3ae396c415498c766",
              "IPY_MODEL_42f2c990c0b2479cae66b7a4fd92d4f1",
              "IPY_MODEL_2a97c4dde98143b8b27c2da704d20f3f"
            ]
          }
        },
        "e9b53359ed8a4c37a1248bb301af1df3": {
          "model_module": "@jupyter-widgets/base",
          "model_name": "LayoutModel",
          "model_module_version": "1.2.0",
          "state": {
            "_view_name": "LayoutView",
            "grid_template_rows": null,
            "right": null,
            "justify_content": null,
            "_view_module": "@jupyter-widgets/base",
            "overflow": null,
            "_model_module_version": "1.2.0",
            "_view_count": null,
            "flex_flow": null,
            "width": null,
            "min_width": null,
            "border": null,
            "align_items": null,
            "bottom": null,
            "_model_module": "@jupyter-widgets/base",
            "top": null,
            "grid_column": null,
            "overflow_y": null,
            "overflow_x": null,
            "grid_auto_flow": null,
            "grid_area": null,
            "grid_template_columns": null,
            "flex": null,
            "_model_name": "LayoutModel",
            "justify_items": null,
            "grid_row": null,
            "max_height": null,
            "align_content": null,
            "visibility": null,
            "align_self": null,
            "height": null,
            "min_height": null,
            "padding": null,
            "grid_auto_rows": null,
            "grid_gap": null,
            "max_width": null,
            "order": null,
            "_view_module_version": "1.2.0",
            "grid_template_areas": null,
            "object_position": null,
            "object_fit": null,
            "grid_auto_columns": null,
            "margin": null,
            "display": null,
            "left": null
          }
        },
        "ffca23039b854ab3ae396c415498c766": {
          "model_module": "@jupyter-widgets/controls",
          "model_name": "HTMLModel",
          "model_module_version": "1.5.0",
          "state": {
            "_view_name": "HTMLView",
            "style": "IPY_MODEL_c22c56bd4cfb4cde8017636d2e3c2850",
            "_dom_classes": [],
            "description": "",
            "_model_name": "HTMLModel",
            "placeholder": "​",
            "_view_module": "@jupyter-widgets/controls",
            "_model_module_version": "1.5.0",
            "value": "100%",
            "_view_count": null,
            "_view_module_version": "1.5.0",
            "description_tooltip": null,
            "_model_module": "@jupyter-widgets/controls",
            "layout": "IPY_MODEL_c6eba767ccd94407bbff1cda25eead37"
          }
        },
        "42f2c990c0b2479cae66b7a4fd92d4f1": {
          "model_module": "@jupyter-widgets/controls",
          "model_name": "FloatProgressModel",
          "model_module_version": "1.5.0",
          "state": {
            "_view_name": "ProgressView",
            "style": "IPY_MODEL_4aa48c24e9f94e3eb182df6a155f4235",
            "_dom_classes": [],
            "description": "",
            "_model_name": "FloatProgressModel",
            "bar_style": "success",
            "max": 574673361,
            "_view_module": "@jupyter-widgets/controls",
            "_model_module_version": "1.5.0",
            "value": 574673361,
            "_view_count": null,
            "_view_module_version": "1.5.0",
            "orientation": "horizontal",
            "min": 0,
            "description_tooltip": null,
            "_model_module": "@jupyter-widgets/controls",
            "layout": "IPY_MODEL_b27748eed7ae457aa884ccc6951fd633"
          }
        },
        "2a97c4dde98143b8b27c2da704d20f3f": {
          "model_module": "@jupyter-widgets/controls",
          "model_name": "HTMLModel",
          "model_module_version": "1.5.0",
          "state": {
            "_view_name": "HTMLView",
            "style": "IPY_MODEL_0e18ffc6b4ce4496b1aadf6c3b7359d1",
            "_dom_classes": [],
            "description": "",
            "_model_name": "HTMLModel",
            "placeholder": "​",
            "_view_module": "@jupyter-widgets/controls",
            "_model_module_version": "1.5.0",
            "value": " 548M/548M [00:03&lt;00:00, 135MB/s]",
            "_view_count": null,
            "_view_module_version": "1.5.0",
            "description_tooltip": null,
            "_model_module": "@jupyter-widgets/controls",
            "layout": "IPY_MODEL_6bc43d03b1df40b492eaf7e2e4e94330"
          }
        },
        "c22c56bd4cfb4cde8017636d2e3c2850": {
          "model_module": "@jupyter-widgets/controls",
          "model_name": "DescriptionStyleModel",
          "model_module_version": "1.5.0",
          "state": {
            "_view_name": "StyleView",
            "_model_name": "DescriptionStyleModel",
            "description_width": "",
            "_view_module": "@jupyter-widgets/base",
            "_model_module_version": "1.5.0",
            "_view_count": null,
            "_view_module_version": "1.2.0",
            "_model_module": "@jupyter-widgets/controls"
          }
        },
        "c6eba767ccd94407bbff1cda25eead37": {
          "model_module": "@jupyter-widgets/base",
          "model_name": "LayoutModel",
          "model_module_version": "1.2.0",
          "state": {
            "_view_name": "LayoutView",
            "grid_template_rows": null,
            "right": null,
            "justify_content": null,
            "_view_module": "@jupyter-widgets/base",
            "overflow": null,
            "_model_module_version": "1.2.0",
            "_view_count": null,
            "flex_flow": null,
            "width": null,
            "min_width": null,
            "border": null,
            "align_items": null,
            "bottom": null,
            "_model_module": "@jupyter-widgets/base",
            "top": null,
            "grid_column": null,
            "overflow_y": null,
            "overflow_x": null,
            "grid_auto_flow": null,
            "grid_area": null,
            "grid_template_columns": null,
            "flex": null,
            "_model_name": "LayoutModel",
            "justify_items": null,
            "grid_row": null,
            "max_height": null,
            "align_content": null,
            "visibility": null,
            "align_self": null,
            "height": null,
            "min_height": null,
            "padding": null,
            "grid_auto_rows": null,
            "grid_gap": null,
            "max_width": null,
            "order": null,
            "_view_module_version": "1.2.0",
            "grid_template_areas": null,
            "object_position": null,
            "object_fit": null,
            "grid_auto_columns": null,
            "margin": null,
            "display": null,
            "left": null
          }
        },
        "4aa48c24e9f94e3eb182df6a155f4235": {
          "model_module": "@jupyter-widgets/controls",
          "model_name": "ProgressStyleModel",
          "model_module_version": "1.5.0",
          "state": {
            "_view_name": "StyleView",
            "_model_name": "ProgressStyleModel",
            "description_width": "",
            "_view_module": "@jupyter-widgets/base",
            "_model_module_version": "1.5.0",
            "_view_count": null,
            "_view_module_version": "1.2.0",
            "bar_color": null,
            "_model_module": "@jupyter-widgets/controls"
          }
        },
        "b27748eed7ae457aa884ccc6951fd633": {
          "model_module": "@jupyter-widgets/base",
          "model_name": "LayoutModel",
          "model_module_version": "1.2.0",
          "state": {
            "_view_name": "LayoutView",
            "grid_template_rows": null,
            "right": null,
            "justify_content": null,
            "_view_module": "@jupyter-widgets/base",
            "overflow": null,
            "_model_module_version": "1.2.0",
            "_view_count": null,
            "flex_flow": null,
            "width": null,
            "min_width": null,
            "border": null,
            "align_items": null,
            "bottom": null,
            "_model_module": "@jupyter-widgets/base",
            "top": null,
            "grid_column": null,
            "overflow_y": null,
            "overflow_x": null,
            "grid_auto_flow": null,
            "grid_area": null,
            "grid_template_columns": null,
            "flex": null,
            "_model_name": "LayoutModel",
            "justify_items": null,
            "grid_row": null,
            "max_height": null,
            "align_content": null,
            "visibility": null,
            "align_self": null,
            "height": null,
            "min_height": null,
            "padding": null,
            "grid_auto_rows": null,
            "grid_gap": null,
            "max_width": null,
            "order": null,
            "_view_module_version": "1.2.0",
            "grid_template_areas": null,
            "object_position": null,
            "object_fit": null,
            "grid_auto_columns": null,
            "margin": null,
            "display": null,
            "left": null
          }
        },
        "0e18ffc6b4ce4496b1aadf6c3b7359d1": {
          "model_module": "@jupyter-widgets/controls",
          "model_name": "DescriptionStyleModel",
          "model_module_version": "1.5.0",
          "state": {
            "_view_name": "StyleView",
            "_model_name": "DescriptionStyleModel",
            "description_width": "",
            "_view_module": "@jupyter-widgets/base",
            "_model_module_version": "1.5.0",
            "_view_count": null,
            "_view_module_version": "1.2.0",
            "_model_module": "@jupyter-widgets/controls"
          }
        },
        "6bc43d03b1df40b492eaf7e2e4e94330": {
          "model_module": "@jupyter-widgets/base",
          "model_name": "LayoutModel",
          "model_module_version": "1.2.0",
          "state": {
            "_view_name": "LayoutView",
            "grid_template_rows": null,
            "right": null,
            "justify_content": null,
            "_view_module": "@jupyter-widgets/base",
            "overflow": null,
            "_model_module_version": "1.2.0",
            "_view_count": null,
            "flex_flow": null,
            "width": null,
            "min_width": null,
            "border": null,
            "align_items": null,
            "bottom": null,
            "_model_module": "@jupyter-widgets/base",
            "top": null,
            "grid_column": null,
            "overflow_y": null,
            "overflow_x": null,
            "grid_auto_flow": null,
            "grid_area": null,
            "grid_template_columns": null,
            "flex": null,
            "_model_name": "LayoutModel",
            "justify_items": null,
            "grid_row": null,
            "max_height": null,
            "align_content": null,
            "visibility": null,
            "align_self": null,
            "height": null,
            "min_height": null,
            "padding": null,
            "grid_auto_rows": null,
            "grid_gap": null,
            "max_width": null,
            "order": null,
            "_view_module_version": "1.2.0",
            "grid_template_areas": null,
            "object_position": null,
            "object_fit": null,
            "grid_auto_columns": null,
            "margin": null,
            "display": null,
            "left": null
          }
        }
      }
    }
  },
  "cells": [
    {
      "cell_type": "markdown",
      "metadata": {
        "id": "view-in-github",
        "colab_type": "text"
      },
      "source": [
        "<a href=\"https://colab.research.google.com/github/MeenTers/Project/blob/main/Scale_Normalize.ipynb\" target=\"_parent\"><img src=\"https://colab.research.google.com/assets/colab-badge.svg\" alt=\"Open In Colab\"/></a>"
      ]
    },
    {
      "cell_type": "markdown",
      "source": [
        "# Setup"
      ],
      "metadata": {
        "id": "XzBwysBb28pB"
      }
    },
    {
      "cell_type": "markdown",
      "source": [
        "## Import function"
      ],
      "metadata": {
        "id": "YA9pk9Dn2-le"
      }
    },
    {
      "cell_type": "code",
      "execution_count": null,
      "metadata": {
        "colab": {
          "base_uri": "https://localhost:8080/"
        },
        "id": "wtwmp9Mq2QBr",
        "outputId": "2d7a4d2c-8398-4709-b6b5-c2ec74d3dc85"
      },
      "outputs": [
        {
          "output_type": "stream",
          "name": "stdout",
          "text": [
            "Mounted at /content/drive\n"
          ]
        }
      ],
      "source": [
        "from google.colab import drive\n",
        "drive.mount('/content/drive')"
      ]
    },
    {
      "cell_type": "code",
      "source": [
        "import torch\n",
        "from torch import nn, load, utils\n",
        "from tqdm import tqdm\n",
        "import matplotlib.pyplot as plt\n",
        "import numpy as np\n",
        "from torchvision import datasets, transforms, models\n",
        "from torchvision.models.vgg import model_urls\n",
        "from os import path, listdir\n",
        "model_urls['vgg19'] = model_urls['vgg19'].replace('https://', 'http://')"
      ],
      "metadata": {
        "id": "r1fzO_692a12"
      },
      "execution_count": null,
      "outputs": []
    },
    {
      "cell_type": "code",
      "source": [
        "from scipy.spatial import distance_matrix\n",
        "from scipy.spatial import distance\n",
        "import pandas as pd"
      ],
      "metadata": {
        "id": "JNQUFVdR2zp4"
      },
      "execution_count": null,
      "outputs": []
    },
    {
      "cell_type": "code",
      "source": [
        "import matplotlib.image as mpimg\n",
        "import matplotlib.pyplot as plt\n",
        "import cv2"
      ],
      "metadata": {
        "id": "Dn_VJwa821lT"
      },
      "execution_count": null,
      "outputs": []
    },
    {
      "cell_type": "code",
      "source": [
        "class VGG:\n",
        "\tdef __init__(self):\n",
        "\t\tmodel = models.vgg19(pretrained=True, progress=True)\n",
        "\t\tmodel.classifier = nn.Sequential(*list(model.classifier.children())[:3])\n",
        "\t\tself.model = model.cuda().eval()\n",
        "\n",
        "\tdef __call__(self, x):\n",
        "\t\treturn self.model(x)"
      ],
      "metadata": {
        "id": "kH7vEp0B22tF"
      },
      "execution_count": null,
      "outputs": []
    },
    {
      "cell_type": "code",
      "source": [
        "vgg = VGG()"
      ],
      "metadata": {
        "colab": {
          "base_uri": "https://localhost:8080/",
          "height": 66,
          "referenced_widgets": [
            "2bc9affb32f04e08a18cac086682275a",
            "e9b53359ed8a4c37a1248bb301af1df3",
            "ffca23039b854ab3ae396c415498c766",
            "42f2c990c0b2479cae66b7a4fd92d4f1",
            "2a97c4dde98143b8b27c2da704d20f3f",
            "c22c56bd4cfb4cde8017636d2e3c2850",
            "c6eba767ccd94407bbff1cda25eead37",
            "4aa48c24e9f94e3eb182df6a155f4235",
            "b27748eed7ae457aa884ccc6951fd633",
            "0e18ffc6b4ce4496b1aadf6c3b7359d1",
            "6bc43d03b1df40b492eaf7e2e4e94330"
          ]
        },
        "id": "k0lxDHcI24Dj",
        "outputId": "fb8dad70-e426-409c-f1fd-9b773ac3cfc8"
      },
      "execution_count": null,
      "outputs": [
        {
          "output_type": "stream",
          "name": "stderr",
          "text": [
            "Downloading: \"http://download.pytorch.org/models/vgg19-dcbb9e9d.pth\" to /root/.cache/torch/hub/checkpoints/vgg19-dcbb9e9d.pth\n"
          ]
        },
        {
          "output_type": "display_data",
          "data": {
            "application/vnd.jupyter.widget-view+json": {
              "model_id": "2bc9affb32f04e08a18cac086682275a",
              "version_minor": 0,
              "version_major": 2
            },
            "text/plain": [
              "  0%|          | 0.00/548M [00:00<?, ?B/s]"
            ]
          },
          "metadata": {}
        }
      ]
    },
    {
      "cell_type": "code",
      "source": [
        "!wget -q https://github.com/Phonbopit/sarabun-webfont/raw/master/fonts/thsarabunnew-webfont.ttf"
      ],
      "metadata": {
        "id": "IXv189Vm3KqY"
      },
      "execution_count": null,
      "outputs": []
    },
    {
      "cell_type": "code",
      "source": [
        "# !pip install -U --pre matplotlib  \n",
        "import matplotlib as mpl\n",
        "mpl.font_manager.fontManager.addfont('thsarabunnew-webfont.ttf')\n",
        "mpl.rc('font', family='TH Sarabun New')"
      ],
      "metadata": {
        "id": "luUgIzh_3LrB"
      },
      "execution_count": null,
      "outputs": []
    },
    {
      "cell_type": "markdown",
      "source": [
        "# Create def"
      ],
      "metadata": {
        "id": "up2nBHm83Dxi"
      }
    },
    {
      "cell_type": "code",
      "source": [
        "def get_features(model, loader):\n",
        "    features = []\n",
        "    with torch.no_grad():\n",
        "        for batch, _ in tqdm(loader):\n",
        "            if torch.cuda.is_available():\n",
        "                batch = batch.cuda()\n",
        "            b_features = model(batch).detach().cpu().numpy()\n",
        "            for f in b_features:\n",
        "                features.append(f)\n",
        "\n",
        "    return features"
      ],
      "metadata": {
        "id": "dsgl1J-g255d"
      },
      "execution_count": null,
      "outputs": []
    },
    {
      "cell_type": "code",
      "source": [
        "def get_dataset(images_path):\n",
        "  transform = transforms.Compose([\n",
        "    transforms.Resize(size=32),\n",
        "    transforms.ToTensor(),\n",
        "    transforms.Normalize((0.4914, 0.4822, 0.4465), (0.2023, 0.1994, 0.2010)),\n",
        "  ])\n",
        "\n",
        "  dataset = datasets.ImageFolder(images_path, transform=transform)\n",
        "  loader = utils.data.DataLoader(dataset, batch_size=100, shuffle=False, num_workers=1, pin_memory=True)\n",
        "  return dataset, loader"
      ],
      "metadata": {
        "id": "htuuKIAC3Hby"
      },
      "execution_count": null,
      "outputs": []
    },
    {
      "cell_type": "code",
      "source": [
        "def get_euclidean(base_car,diff_view):\n",
        "    A = []\n",
        "    for i in range(len(diff_view)):\n",
        "        x = distance.euclidean(base_car[i],diff_view[i])\n",
        "        A.append(x)\n",
        "    return(A)"
      ],
      "metadata": {
        "id": "fwumeZAs3IuL"
      },
      "execution_count": null,
      "outputs": []
    },
    {
      "cell_type": "markdown",
      "source": [
        "# Step compare"
      ],
      "metadata": {
        "id": "BlSXoNeQ3Ugm"
      }
    },
    {
      "cell_type": "markdown",
      "source": [
        "## Front"
      ],
      "metadata": {
        "id": "RNv0qXAF3qPq"
      }
    },
    {
      "cell_type": "code",
      "source": [
        "car1_dataset , car1_loader = get_dataset(r'/content/drive/MyDrive/3D_Model/front/base')\n",
        "dmg1_dataset , dmg1_loader = get_dataset(r'/content/drive/MyDrive/3D_Model/front/dmg')"
      ],
      "metadata": {
        "id": "LdYczrGd3OxF"
      },
      "execution_count": null,
      "outputs": []
    },
    {
      "cell_type": "code",
      "source": [
        "id1b = get_features(vgg,car1_loader)\n",
        "id1v = get_features(vgg,dmg1_loader)"
      ],
      "metadata": {
        "colab": {
          "base_uri": "https://localhost:8080/"
        },
        "id": "jq5Emd2L3eSo",
        "outputId": "e1d1a69e-5e19-4e1d-fa10-681552d85196"
      },
      "execution_count": null,
      "outputs": [
        {
          "output_type": "stream",
          "name": "stderr",
          "text": [
            "100%|██████████| 1/1 [00:02<00:00,  2.93s/it]\n",
            "100%|██████████| 1/1 [00:03<00:00,  3.22s/it]\n"
          ]
        }
      ]
    },
    {
      "cell_type": "code",
      "source": [
        "id_front = get_euclidean(id1b,id1v)\n",
        "id_front"
      ],
      "metadata": {
        "colab": {
          "base_uri": "https://localhost:8080/"
        },
        "id": "QQQ2Ejcy3hL5",
        "outputId": "193144fc-4d46-4a38-ea46-15922fc47df2"
      },
      "execution_count": null,
      "outputs": [
        {
          "output_type": "execute_result",
          "data": {
            "text/plain": [
              "[4.7317728996276855,\n",
              " 10.689955711364746,\n",
              " 13.018025398254395,\n",
              " 4.007427215576172,\n",
              " 6.044739246368408,\n",
              " 37.66874694824219,\n",
              " 11.45502758026123,\n",
              " 3.5698158740997314,\n",
              " 21.975135803222656]"
            ]
          },
          "metadata": {},
          "execution_count": 15
        }
      ]
    },
    {
      "cell_type": "code",
      "source": [
        "min(id_front)"
      ],
      "metadata": {
        "colab": {
          "base_uri": "https://localhost:8080/"
        },
        "id": "AIMm2xMr3jOY",
        "outputId": "fd3d4b6f-6952-438c-bd3d-470c742dd86d"
      },
      "execution_count": null,
      "outputs": [
        {
          "output_type": "execute_result",
          "data": {
            "text/plain": [
              "3.5698158740997314"
            ]
          },
          "metadata": {},
          "execution_count": 16
        }
      ]
    },
    {
      "cell_type": "code",
      "source": [
        "max(id_front)"
      ],
      "metadata": {
        "colab": {
          "base_uri": "https://localhost:8080/"
        },
        "id": "5F73KQg93nwo",
        "outputId": "2be86c1f-7e2a-444e-9260-b64b7f703fc4"
      },
      "execution_count": null,
      "outputs": [
        {
          "output_type": "execute_result",
          "data": {
            "text/plain": [
              "37.66874694824219"
            ]
          },
          "metadata": {},
          "execution_count": 17
        }
      ]
    },
    {
      "cell_type": "markdown",
      "source": [
        "## Right"
      ],
      "metadata": {
        "id": "5Nv8kijR3tNP"
      }
    },
    {
      "cell_type": "code",
      "source": [
        "car2_dataset , car2_loader = get_dataset(r'/content/drive/MyDrive/3D_Model/right/base')\n",
        "dmg2_dataset , dmg2_loader = get_dataset(r'/content/drive/MyDrive/3D_Model/right/dmg')"
      ],
      "metadata": {
        "id": "ybgrUBf13o6p"
      },
      "execution_count": null,
      "outputs": []
    },
    {
      "cell_type": "code",
      "source": [
        "id2b = get_features(vgg,car2_loader)\n",
        "id2v = get_features(vgg,dmg2_loader)"
      ],
      "metadata": {
        "colab": {
          "base_uri": "https://localhost:8080/"
        },
        "id": "Bgv8Lfpe33v6",
        "outputId": "5cd385e2-4c37-41c4-84f0-4560abc42f1c"
      },
      "execution_count": null,
      "outputs": [
        {
          "output_type": "stream",
          "name": "stderr",
          "text": [
            "100%|██████████| 1/1 [00:02<00:00,  2.31s/it]\n",
            "100%|██████████| 1/1 [00:02<00:00,  2.79s/it]\n"
          ]
        }
      ]
    },
    {
      "cell_type": "code",
      "source": [
        "id_right = get_euclidean(id2b,id2v)\n",
        "id_right"
      ],
      "metadata": {
        "colab": {
          "base_uri": "https://localhost:8080/"
        },
        "id": "Kdg7wTXW36X7",
        "outputId": "95d01b8a-788f-4857-c4a4-c293f08872e9"
      },
      "execution_count": null,
      "outputs": [
        {
          "output_type": "execute_result",
          "data": {
            "text/plain": [
              "[13.149550437927246,\n",
              " 7.66989278793335,\n",
              " 14.640089988708496,\n",
              " 37.96559143066406,\n",
              " 25.131816864013672,\n",
              " 6.752721786499023,\n",
              " 4.307811260223389,\n",
              " 8.92013168334961,\n",
              " 10.341607093811035]"
            ]
          },
          "metadata": {},
          "execution_count": 20
        }
      ]
    },
    {
      "cell_type": "code",
      "source": [
        "max(id_right)"
      ],
      "metadata": {
        "colab": {
          "base_uri": "https://localhost:8080/"
        },
        "id": "WzQDF6AM39u2",
        "outputId": "f02e3b1f-6347-4ae6-d930-6f883cd3d287"
      },
      "execution_count": null,
      "outputs": [
        {
          "output_type": "execute_result",
          "data": {
            "text/plain": [
              "37.96559143066406"
            ]
          },
          "metadata": {},
          "execution_count": 21
        }
      ]
    },
    {
      "cell_type": "code",
      "source": [
        "min(id_right)"
      ],
      "metadata": {
        "colab": {
          "base_uri": "https://localhost:8080/"
        },
        "id": "4WihxecL3_xY",
        "outputId": "bfb775fe-3375-4189-e54e-3e6e0d7c5456"
      },
      "execution_count": null,
      "outputs": [
        {
          "output_type": "execute_result",
          "data": {
            "text/plain": [
              "4.307811260223389"
            ]
          },
          "metadata": {},
          "execution_count": 22
        }
      ]
    },
    {
      "cell_type": "markdown",
      "source": [
        "## Back"
      ],
      "metadata": {
        "id": "fip_8zR14CdY"
      }
    },
    {
      "cell_type": "code",
      "source": [
        "car3_dataset , car3_loader = get_dataset(r'/content/drive/MyDrive/3D_Model/back/base')\n",
        "dmg3_dataset , dmg3_loader = get_dataset(r'/content/drive/MyDrive/3D_Model/back/dmg')"
      ],
      "metadata": {
        "id": "VJCRgGUE4A_8"
      },
      "execution_count": null,
      "outputs": []
    },
    {
      "cell_type": "code",
      "source": [
        "id3b = get_features(vgg,car3_loader)\n",
        "id3v = get_features(vgg,dmg3_loader)"
      ],
      "metadata": {
        "colab": {
          "base_uri": "https://localhost:8080/"
        },
        "id": "LNmgI1Sd4Gsz",
        "outputId": "432dcd2a-4f0a-4ef1-d668-d57ff273cda5"
      },
      "execution_count": null,
      "outputs": [
        {
          "output_type": "stream",
          "name": "stderr",
          "text": [
            "100%|██████████| 1/1 [00:03<00:00,  3.54s/it]\n",
            "100%|██████████| 1/1 [00:03<00:00,  3.46s/it]\n"
          ]
        }
      ]
    },
    {
      "cell_type": "code",
      "source": [
        "id_back = get_euclidean(id3b,id3v)\n",
        "id_back"
      ],
      "metadata": {
        "colab": {
          "base_uri": "https://localhost:8080/"
        },
        "id": "L4oZAMM34OCE",
        "outputId": "0741dd35-d0d5-4d79-ab57-82bf1abec743"
      },
      "execution_count": null,
      "outputs": [
        {
          "output_type": "execute_result",
          "data": {
            "text/plain": [
              "[3.4010746479034424,\n",
              " 10.535895347595215,\n",
              " 21.090221405029297,\n",
              " 18.096752166748047,\n",
              " 7.489297866821289,\n",
              " 9.452549934387207,\n",
              " 6.244534015655518,\n",
              " 6.499981880187988,\n",
              " 3.629375457763672]"
            ]
          },
          "metadata": {},
          "execution_count": 27
        }
      ]
    },
    {
      "cell_type": "code",
      "source": [
        "min(id_back)"
      ],
      "metadata": {
        "colab": {
          "base_uri": "https://localhost:8080/"
        },
        "id": "r1Ao2Tzx4I4f",
        "outputId": "dc1ffeb5-d890-4cfc-c370-c1a45caac781"
      },
      "execution_count": null,
      "outputs": [
        {
          "output_type": "execute_result",
          "data": {
            "text/plain": [
              "3.4010746479034424"
            ]
          },
          "metadata": {},
          "execution_count": 28
        }
      ]
    },
    {
      "cell_type": "code",
      "source": [
        "max(id_back)"
      ],
      "metadata": {
        "colab": {
          "base_uri": "https://localhost:8080/"
        },
        "id": "_BrbAz384LCt",
        "outputId": "75655f34-2c2b-4599-bdd9-06fcbe0bdf97"
      },
      "execution_count": null,
      "outputs": [
        {
          "output_type": "execute_result",
          "data": {
            "text/plain": [
              "21.090221405029297"
            ]
          },
          "metadata": {},
          "execution_count": 29
        }
      ]
    },
    {
      "cell_type": "markdown",
      "source": [
        "## Left"
      ],
      "metadata": {
        "id": "oRwykGdr4VCx"
      }
    },
    {
      "cell_type": "code",
      "source": [
        "car4_dataset , car4_loader = get_dataset(r'/content/drive/MyDrive/3D_Model/Left/base')\n",
        "dmg4_dataset , dmg4_loader = get_dataset(r'/content/drive/MyDrive/3D_Model/Left/dmg')"
      ],
      "metadata": {
        "id": "jW_37tjw4WIH"
      },
      "execution_count": null,
      "outputs": []
    },
    {
      "cell_type": "code",
      "source": [
        "id4b = get_features(vgg,car4_loader)\n",
        "id4v = get_features(vgg,dmg4_loader)"
      ],
      "metadata": {
        "colab": {
          "base_uri": "https://localhost:8080/"
        },
        "id": "bvlwM7G54hcd",
        "outputId": "ad02619e-402f-404f-8929-aa3d7cbf7bb6"
      },
      "execution_count": null,
      "outputs": [
        {
          "output_type": "stream",
          "name": "stderr",
          "text": [
            "100%|██████████| 1/1 [00:03<00:00,  3.39s/it]\n",
            "100%|██████████| 1/1 [00:03<00:00,  3.56s/it]\n"
          ]
        }
      ]
    },
    {
      "cell_type": "code",
      "source": [
        "id_left = get_euclidean(id4b,id4v)\n",
        "id_left"
      ],
      "metadata": {
        "colab": {
          "base_uri": "https://localhost:8080/"
        },
        "id": "_BhsLiM24lU1",
        "outputId": "ff7e5d8a-d248-4510-aa6c-2349845ef919"
      },
      "execution_count": null,
      "outputs": [
        {
          "output_type": "execute_result",
          "data": {
            "text/plain": [
              "[29.447256088256836,\n",
              " 21.908639907836914,\n",
              " 14.333041191101074,\n",
              " 48.075035095214844,\n",
              " 29.057106018066406,\n",
              " 11.230447769165039,\n",
              " 15.831114768981934,\n",
              " 15.22034740447998,\n",
              " 23.248533248901367]"
            ]
          },
          "metadata": {},
          "execution_count": 32
        }
      ]
    },
    {
      "cell_type": "code",
      "source": [
        "min(id_left)"
      ],
      "metadata": {
        "colab": {
          "base_uri": "https://localhost:8080/"
        },
        "id": "TFeLQebr4wgZ",
        "outputId": "c045c3f6-fdd8-49bf-8448-974509af6ed6"
      },
      "execution_count": null,
      "outputs": [
        {
          "output_type": "execute_result",
          "data": {
            "text/plain": [
              "11.230447769165039"
            ]
          },
          "metadata": {},
          "execution_count": 33
        }
      ]
    },
    {
      "cell_type": "code",
      "source": [
        "max(id_left)"
      ],
      "metadata": {
        "colab": {
          "base_uri": "https://localhost:8080/"
        },
        "id": "tdmXF4oF4zhd",
        "outputId": "4ef5f511-021a-47dd-a5b5-ee32bcc8567f"
      },
      "execution_count": null,
      "outputs": [
        {
          "output_type": "execute_result",
          "data": {
            "text/plain": [
              "48.075035095214844"
            ]
          },
          "metadata": {},
          "execution_count": 34
        }
      ]
    },
    {
      "cell_type": "markdown",
      "source": [
        "## Create Scale Normalize front car"
      ],
      "metadata": {
        "id": "WTmnxkQs45io"
      }
    },
    {
      "cell_type": "code",
      "source": [
        "def get_damage(distance):\n",
        "    f_car = ((distance[0] - 3.57)/(37.564-3.57)*100)\n",
        "    r_car = ((distance[1] - 4.308)/(37.966-4.308)*100)\n",
        "    b_car = ((distance[2] - 3.401)/(21.090-3.401)*100)\n",
        "    l_car = ((distance[3] - 11.230)/(48.075-11.230)*100)\n",
        "    dmgs = [f_car,r_car,b_car,l_car]\n",
        "    return dmgs"
      ],
      "metadata": {
        "id": "Airhqt8d40wG"
      },
      "execution_count": 1,
      "outputs": []
    },
    {
      "cell_type": "code",
      "source": [
        "test = [5,20,14,15]"
      ],
      "metadata": {
        "id": "xLbMpUCGQZI7"
      },
      "execution_count": 2,
      "outputs": []
    },
    {
      "cell_type": "code",
      "source": [
        "show = get_damage(test)\n",
        "show"
      ],
      "metadata": {
        "id": "wOjVDcqSQgAh",
        "outputId": "ee277d82-162d-4b00-ddec-b9878b9e46a2",
        "colab": {
          "base_uri": "https://localhost:8080/"
        }
      },
      "execution_count": 4,
      "outputs": [
        {
          "output_type": "execute_result",
          "data": {
            "text/plain": [
              "[4.206624698476203, 46.62190266801355, 59.91859347617164, 10.232053195820328]"
            ]
          },
          "metadata": {},
          "execution_count": 4
        }
      ]
    },
    {
      "cell_type": "code",
      "source": [
        "dict_view = {0:'ด้านหน้า',1:'ด้านขวา',2:'ด้านหลัง',3:'ด้านซ้าย'}"
      ],
      "metadata": {
        "id": "7_HSj91s__L7"
      },
      "execution_count": 9,
      "outputs": []
    },
    {
      "cell_type": "code",
      "source": [
        "for i in range(len(show)):\n",
        "    if show[i] <= 0:\n",
        "       print(f'{dict_view[i]}ของรถยนต์ไม่มีความเสียหาย')\n",
        "    elif 1 <= show[i] < 21:\n",
        "       print(f'{dict_view[i]}ของรถยนต์เสียหายน้อยมาก')\n",
        "    elif 21 <= show[i] < 41:\n",
        "       print(f'{dict_view[i]}ของรถยนต์เสียหายน้อย')\n",
        "    elif 41 <= show[i] < 61:\n",
        "       print(f'{dict_view[i]}ของรถยนต์เสียหายปานกลาง')\n",
        "    elif 61 <= show[i] < 81:\n",
        "       print(f'{dict_view[i]}ของรถยนต์เสียหายรุนแรง')\n",
        "    else:\n",
        "       print(f'{dict_view[i]}ของรถยนต์เสียหายรุนแรงมาก')"
      ],
      "metadata": {
        "id": "hT48eHVU_5Vy",
        "outputId": "706137de-a6e0-4baa-e416-3941369ced64",
        "colab": {
          "base_uri": "https://localhost:8080/"
        }
      },
      "execution_count": 10,
      "outputs": [
        {
          "output_type": "stream",
          "name": "stdout",
          "text": [
            "ด้านหน้าของรถยนต์เสียหายน้อยมาก\n",
            "ด้านขวาของรถยนต์เสียหายปานกลาง\n",
            "ด้านหลังของรถยนต์เสียหายปานกลาง\n",
            "ด้านซ้ายของรถยนต์เสียหายน้อยมาก\n"
          ]
        }
      ]
    },
    {
      "cell_type": "code",
      "source": [
        ""
      ],
      "metadata": {
        "id": "z7bBpVsOTaTu"
      },
      "execution_count": null,
      "outputs": []
    }
  ]
}