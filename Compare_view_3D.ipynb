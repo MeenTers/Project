{
  "nbformat": 4,
  "nbformat_minor": 0,
  "metadata": {
    "colab": {
      "name": "Compare_view_3D.ipynb",
      "provenance": [],
      "authorship_tag": "ABX9TyNT4SzTXvJ133gDyqjVEzCr",
      "include_colab_link": true
    },
    "kernelspec": {
      "name": "python3",
      "display_name": "Python 3"
    },
    "language_info": {
      "name": "python"
    },
    "accelerator": "GPU",
    "widgets": {
      "application/vnd.jupyter.widget-state+json": {
        "14fbdc52805148339fac995789eac4ce": {
          "model_module": "@jupyter-widgets/controls",
          "model_name": "HBoxModel",
          "model_module_version": "1.5.0",
          "state": {
            "_view_name": "HBoxView",
            "_dom_classes": [],
            "_model_name": "HBoxModel",
            "_view_module": "@jupyter-widgets/controls",
            "_model_module_version": "1.5.0",
            "_view_count": null,
            "_view_module_version": "1.5.0",
            "box_style": "",
            "layout": "IPY_MODEL_3147983e57c54b85a875c782e92fbe24",
            "_model_module": "@jupyter-widgets/controls",
            "children": [
              "IPY_MODEL_9ffa0d41289f47e68768ce4cc089de0f",
              "IPY_MODEL_5ae59c2aba5f4f5694aed605462b3bbc",
              "IPY_MODEL_51f7b26aace64f60af4c7bf40885c7fa"
            ]
          }
        },
        "3147983e57c54b85a875c782e92fbe24": {
          "model_module": "@jupyter-widgets/base",
          "model_name": "LayoutModel",
          "model_module_version": "1.2.0",
          "state": {
            "_view_name": "LayoutView",
            "grid_template_rows": null,
            "right": null,
            "justify_content": null,
            "_view_module": "@jupyter-widgets/base",
            "overflow": null,
            "_model_module_version": "1.2.0",
            "_view_count": null,
            "flex_flow": null,
            "width": null,
            "min_width": null,
            "border": null,
            "align_items": null,
            "bottom": null,
            "_model_module": "@jupyter-widgets/base",
            "top": null,
            "grid_column": null,
            "overflow_y": null,
            "overflow_x": null,
            "grid_auto_flow": null,
            "grid_area": null,
            "grid_template_columns": null,
            "flex": null,
            "_model_name": "LayoutModel",
            "justify_items": null,
            "grid_row": null,
            "max_height": null,
            "align_content": null,
            "visibility": null,
            "align_self": null,
            "height": null,
            "min_height": null,
            "padding": null,
            "grid_auto_rows": null,
            "grid_gap": null,
            "max_width": null,
            "order": null,
            "_view_module_version": "1.2.0",
            "grid_template_areas": null,
            "object_position": null,
            "object_fit": null,
            "grid_auto_columns": null,
            "margin": null,
            "display": null,
            "left": null
          }
        },
        "9ffa0d41289f47e68768ce4cc089de0f": {
          "model_module": "@jupyter-widgets/controls",
          "model_name": "HTMLModel",
          "model_module_version": "1.5.0",
          "state": {
            "_view_name": "HTMLView",
            "style": "IPY_MODEL_24f259c198524eb69d4b405d74d1adcd",
            "_dom_classes": [],
            "description": "",
            "_model_name": "HTMLModel",
            "placeholder": "​",
            "_view_module": "@jupyter-widgets/controls",
            "_model_module_version": "1.5.0",
            "value": "100%",
            "_view_count": null,
            "_view_module_version": "1.5.0",
            "description_tooltip": null,
            "_model_module": "@jupyter-widgets/controls",
            "layout": "IPY_MODEL_db934798802e4e10ad78881cf1358d30"
          }
        },
        "5ae59c2aba5f4f5694aed605462b3bbc": {
          "model_module": "@jupyter-widgets/controls",
          "model_name": "FloatProgressModel",
          "model_module_version": "1.5.0",
          "state": {
            "_view_name": "ProgressView",
            "style": "IPY_MODEL_edfe19151dae40fea427341133f029e8",
            "_dom_classes": [],
            "description": "",
            "_model_name": "FloatProgressModel",
            "bar_style": "success",
            "max": 574673361,
            "_view_module": "@jupyter-widgets/controls",
            "_model_module_version": "1.5.0",
            "value": 574673361,
            "_view_count": null,
            "_view_module_version": "1.5.0",
            "orientation": "horizontal",
            "min": 0,
            "description_tooltip": null,
            "_model_module": "@jupyter-widgets/controls",
            "layout": "IPY_MODEL_c16e6954ea7d4c689cb75afe5bfbcbef"
          }
        },
        "51f7b26aace64f60af4c7bf40885c7fa": {
          "model_module": "@jupyter-widgets/controls",
          "model_name": "HTMLModel",
          "model_module_version": "1.5.0",
          "state": {
            "_view_name": "HTMLView",
            "style": "IPY_MODEL_70e1b3d2d0884f1f89ff7ec2345b8d88",
            "_dom_classes": [],
            "description": "",
            "_model_name": "HTMLModel",
            "placeholder": "​",
            "_view_module": "@jupyter-widgets/controls",
            "_model_module_version": "1.5.0",
            "value": " 548M/548M [00:03&lt;00:00, 164MB/s]",
            "_view_count": null,
            "_view_module_version": "1.5.0",
            "description_tooltip": null,
            "_model_module": "@jupyter-widgets/controls",
            "layout": "IPY_MODEL_98e6817e2e7f4ed5be092915d0a8b72d"
          }
        },
        "24f259c198524eb69d4b405d74d1adcd": {
          "model_module": "@jupyter-widgets/controls",
          "model_name": "DescriptionStyleModel",
          "model_module_version": "1.5.0",
          "state": {
            "_view_name": "StyleView",
            "_model_name": "DescriptionStyleModel",
            "description_width": "",
            "_view_module": "@jupyter-widgets/base",
            "_model_module_version": "1.5.0",
            "_view_count": null,
            "_view_module_version": "1.2.0",
            "_model_module": "@jupyter-widgets/controls"
          }
        },
        "db934798802e4e10ad78881cf1358d30": {
          "model_module": "@jupyter-widgets/base",
          "model_name": "LayoutModel",
          "model_module_version": "1.2.0",
          "state": {
            "_view_name": "LayoutView",
            "grid_template_rows": null,
            "right": null,
            "justify_content": null,
            "_view_module": "@jupyter-widgets/base",
            "overflow": null,
            "_model_module_version": "1.2.0",
            "_view_count": null,
            "flex_flow": null,
            "width": null,
            "min_width": null,
            "border": null,
            "align_items": null,
            "bottom": null,
            "_model_module": "@jupyter-widgets/base",
            "top": null,
            "grid_column": null,
            "overflow_y": null,
            "overflow_x": null,
            "grid_auto_flow": null,
            "grid_area": null,
            "grid_template_columns": null,
            "flex": null,
            "_model_name": "LayoutModel",
            "justify_items": null,
            "grid_row": null,
            "max_height": null,
            "align_content": null,
            "visibility": null,
            "align_self": null,
            "height": null,
            "min_height": null,
            "padding": null,
            "grid_auto_rows": null,
            "grid_gap": null,
            "max_width": null,
            "order": null,
            "_view_module_version": "1.2.0",
            "grid_template_areas": null,
            "object_position": null,
            "object_fit": null,
            "grid_auto_columns": null,
            "margin": null,
            "display": null,
            "left": null
          }
        },
        "edfe19151dae40fea427341133f029e8": {
          "model_module": "@jupyter-widgets/controls",
          "model_name": "ProgressStyleModel",
          "model_module_version": "1.5.0",
          "state": {
            "_view_name": "StyleView",
            "_model_name": "ProgressStyleModel",
            "description_width": "",
            "_view_module": "@jupyter-widgets/base",
            "_model_module_version": "1.5.0",
            "_view_count": null,
            "_view_module_version": "1.2.0",
            "bar_color": null,
            "_model_module": "@jupyter-widgets/controls"
          }
        },
        "c16e6954ea7d4c689cb75afe5bfbcbef": {
          "model_module": "@jupyter-widgets/base",
          "model_name": "LayoutModel",
          "model_module_version": "1.2.0",
          "state": {
            "_view_name": "LayoutView",
            "grid_template_rows": null,
            "right": null,
            "justify_content": null,
            "_view_module": "@jupyter-widgets/base",
            "overflow": null,
            "_model_module_version": "1.2.0",
            "_view_count": null,
            "flex_flow": null,
            "width": null,
            "min_width": null,
            "border": null,
            "align_items": null,
            "bottom": null,
            "_model_module": "@jupyter-widgets/base",
            "top": null,
            "grid_column": null,
            "overflow_y": null,
            "overflow_x": null,
            "grid_auto_flow": null,
            "grid_area": null,
            "grid_template_columns": null,
            "flex": null,
            "_model_name": "LayoutModel",
            "justify_items": null,
            "grid_row": null,
            "max_height": null,
            "align_content": null,
            "visibility": null,
            "align_self": null,
            "height": null,
            "min_height": null,
            "padding": null,
            "grid_auto_rows": null,
            "grid_gap": null,
            "max_width": null,
            "order": null,
            "_view_module_version": "1.2.0",
            "grid_template_areas": null,
            "object_position": null,
            "object_fit": null,
            "grid_auto_columns": null,
            "margin": null,
            "display": null,
            "left": null
          }
        },
        "70e1b3d2d0884f1f89ff7ec2345b8d88": {
          "model_module": "@jupyter-widgets/controls",
          "model_name": "DescriptionStyleModel",
          "model_module_version": "1.5.0",
          "state": {
            "_view_name": "StyleView",
            "_model_name": "DescriptionStyleModel",
            "description_width": "",
            "_view_module": "@jupyter-widgets/base",
            "_model_module_version": "1.5.0",
            "_view_count": null,
            "_view_module_version": "1.2.0",
            "_model_module": "@jupyter-widgets/controls"
          }
        },
        "98e6817e2e7f4ed5be092915d0a8b72d": {
          "model_module": "@jupyter-widgets/base",
          "model_name": "LayoutModel",
          "model_module_version": "1.2.0",
          "state": {
            "_view_name": "LayoutView",
            "grid_template_rows": null,
            "right": null,
            "justify_content": null,
            "_view_module": "@jupyter-widgets/base",
            "overflow": null,
            "_model_module_version": "1.2.0",
            "_view_count": null,
            "flex_flow": null,
            "width": null,
            "min_width": null,
            "border": null,
            "align_items": null,
            "bottom": null,
            "_model_module": "@jupyter-widgets/base",
            "top": null,
            "grid_column": null,
            "overflow_y": null,
            "overflow_x": null,
            "grid_auto_flow": null,
            "grid_area": null,
            "grid_template_columns": null,
            "flex": null,
            "_model_name": "LayoutModel",
            "justify_items": null,
            "grid_row": null,
            "max_height": null,
            "align_content": null,
            "visibility": null,
            "align_self": null,
            "height": null,
            "min_height": null,
            "padding": null,
            "grid_auto_rows": null,
            "grid_gap": null,
            "max_width": null,
            "order": null,
            "_view_module_version": "1.2.0",
            "grid_template_areas": null,
            "object_position": null,
            "object_fit": null,
            "grid_auto_columns": null,
            "margin": null,
            "display": null,
            "left": null
          }
        }
      }
    }
  },
  "cells": [
    {
      "cell_type": "markdown",
      "metadata": {
        "id": "view-in-github",
        "colab_type": "text"
      },
      "source": [
        "<a href=\"https://colab.research.google.com/github/MeenTers/Project/blob/main/Compare_view_3D.ipynb\" target=\"_parent\"><img src=\"https://colab.research.google.com/assets/colab-badge.svg\" alt=\"Open In Colab\"/></a>"
      ]
    },
    {
      "cell_type": "markdown",
      "source": [
        "#Import Function "
      ],
      "metadata": {
        "id": "RCifPWjNGF9O"
      }
    },
    {
      "cell_type": "code",
      "execution_count": 1,
      "metadata": {
        "colab": {
          "base_uri": "https://localhost:8080/"
        },
        "id": "Vs1yLYi3GACt",
        "outputId": "55015142-e804-4b52-fb82-841ac3d14eb2"
      },
      "outputs": [
        {
          "output_type": "stream",
          "name": "stdout",
          "text": [
            "Mounted at /content/drive\n"
          ]
        }
      ],
      "source": [
        "from google.colab import drive\n",
        "drive.mount('/content/drive')"
      ]
    },
    {
      "cell_type": "code",
      "source": [
        "import torch\n",
        "from torch import nn, load, utils\n",
        "from tqdm import tqdm\n",
        "import matplotlib.pyplot as plt\n",
        "import numpy as np\n",
        "from torchvision import datasets, transforms, models\n",
        "from torchvision.models.vgg import model_urls\n",
        "from os import path, listdir\n",
        "model_urls['vgg19'] = model_urls['vgg19'].replace('https://', 'http://')"
      ],
      "metadata": {
        "id": "t2dRRR1tGLNk"
      },
      "execution_count": 2,
      "outputs": []
    },
    {
      "cell_type": "code",
      "source": [
        "from scipy.spatial import distance_matrix\n",
        "from scipy.spatial import distance\n",
        "import pandas as pd"
      ],
      "metadata": {
        "id": "k4JEndSuGbIz"
      },
      "execution_count": 3,
      "outputs": []
    },
    {
      "cell_type": "code",
      "source": [
        "import matplotlib.image as mpimg\n",
        "import matplotlib.pyplot as plt\n",
        "import cv2"
      ],
      "metadata": {
        "id": "2GROTTOAHA83"
      },
      "execution_count": 4,
      "outputs": []
    },
    {
      "cell_type": "markdown",
      "source": [
        "# VGG model"
      ],
      "metadata": {
        "id": "Lyfjjxb6GfyL"
      }
    },
    {
      "cell_type": "code",
      "source": [
        "class VGG:\n",
        "\tdef __init__(self):\n",
        "\t\tmodel = models.vgg19(pretrained=True, progress=True)\n",
        "\t\tmodel.classifier = nn.Sequential(*list(model.classifier.children())[:3])\n",
        "\t\tself.model = model.cuda().eval()\n",
        "\n",
        "\tdef __call__(self, x):\n",
        "\t\treturn self.model(x)"
      ],
      "metadata": {
        "id": "bEqIhQocGc8B"
      },
      "execution_count": 5,
      "outputs": []
    },
    {
      "cell_type": "code",
      "source": [
        "vgg = VGG()"
      ],
      "metadata": {
        "colab": {
          "base_uri": "https://localhost:8080/",
          "height": 66,
          "referenced_widgets": [
            "14fbdc52805148339fac995789eac4ce",
            "3147983e57c54b85a875c782e92fbe24",
            "9ffa0d41289f47e68768ce4cc089de0f",
            "5ae59c2aba5f4f5694aed605462b3bbc",
            "51f7b26aace64f60af4c7bf40885c7fa",
            "24f259c198524eb69d4b405d74d1adcd",
            "db934798802e4e10ad78881cf1358d30",
            "edfe19151dae40fea427341133f029e8",
            "c16e6954ea7d4c689cb75afe5bfbcbef",
            "70e1b3d2d0884f1f89ff7ec2345b8d88",
            "98e6817e2e7f4ed5be092915d0a8b72d"
          ]
        },
        "id": "ZoU8n-JuGiyc",
        "outputId": "c57c18b9-067c-41fc-df83-acc0c19b24c0"
      },
      "execution_count": 6,
      "outputs": [
        {
          "output_type": "stream",
          "name": "stderr",
          "text": [
            "Downloading: \"http://download.pytorch.org/models/vgg19-dcbb9e9d.pth\" to /root/.cache/torch/hub/checkpoints/vgg19-dcbb9e9d.pth\n"
          ]
        },
        {
          "output_type": "display_data",
          "data": {
            "application/vnd.jupyter.widget-view+json": {
              "model_id": "14fbdc52805148339fac995789eac4ce",
              "version_minor": 0,
              "version_major": 2
            },
            "text/plain": [
              "  0%|          | 0.00/548M [00:00<?, ?B/s]"
            ]
          },
          "metadata": {}
        }
      ]
    },
    {
      "cell_type": "markdown",
      "source": [
        "# Create Features Extraction Function"
      ],
      "metadata": {
        "id": "Lc9HW6g9GmMr"
      }
    },
    {
      "cell_type": "code",
      "source": [
        "def get_features(model, loader):\n",
        "    features = []\n",
        "    with torch.no_grad():\n",
        "        for batch, _ in tqdm(loader):\n",
        "            if torch.cuda.is_available():\n",
        "                batch = batch.cuda()\n",
        "            b_features = model(batch).detach().cpu().numpy()\n",
        "            for f in b_features:\n",
        "                features.append(f)\n",
        "\n",
        "    return features"
      ],
      "metadata": {
        "id": "dJAfzDItGkbA"
      },
      "execution_count": 7,
      "outputs": []
    },
    {
      "cell_type": "markdown",
      "source": [
        "# Create Loading the data Function"
      ],
      "metadata": {
        "id": "vo7DZUIMGsZl"
      }
    },
    {
      "cell_type": "code",
      "source": [
        "def get_dataset(images_path):\n",
        "  transform = transforms.Compose([\n",
        "    transforms.Resize(size=32),\n",
        "    transforms.ToTensor(),\n",
        "    transforms.Normalize((0.4914, 0.4822, 0.4465), (0.2023, 0.1994, 0.2010)),\n",
        "  ])\n",
        "\n",
        "  dataset = datasets.ImageFolder(images_path, transform=transform)\n",
        "  loader = utils.data.DataLoader(dataset, batch_size=100, shuffle=False, num_workers=1, pin_memory=True)\n",
        "  return dataset, loader"
      ],
      "metadata": {
        "id": "g3ddS3VgGqff"
      },
      "execution_count": 8,
      "outputs": []
    },
    {
      "cell_type": "markdown",
      "source": [
        "# Install Font TH-SARABUN"
      ],
      "metadata": {
        "id": "RzEGaigNG2D5"
      }
    },
    {
      "cell_type": "code",
      "source": [
        "!wget -q https://github.com/Phonbopit/sarabun-webfont/raw/master/fonts/thsarabunnew-webfont.ttf"
      ],
      "metadata": {
        "id": "McraPuLYGxC6"
      },
      "execution_count": 9,
      "outputs": []
    },
    {
      "cell_type": "code",
      "source": [
        "# !pip install -U --pre matplotlib  \n",
        "import matplotlib as mpl\n",
        "mpl.font_manager.fontManager.addfont('thsarabunnew-webfont.ttf')\n",
        "mpl.rc('font', family='TH Sarabun New')"
      ],
      "metadata": {
        "id": "KyYcrXj8G8nh"
      },
      "execution_count": 10,
      "outputs": []
    },
    {
      "cell_type": "markdown",
      "source": [
        "# Create Compute Distance Function"
      ],
      "metadata": {
        "id": "TjMs0MpdHIWY"
      }
    },
    {
      "cell_type": "code",
      "source": [
        "def get_euclidean(base_car,diff_view):\n",
        "    A = []\n",
        "    for i in range(len(diff_view)):\n",
        "        x = distance.euclidean(base_car[i],diff_view[i])\n",
        "        A.append(x)\n",
        "    return(A)"
      ],
      "metadata": {
        "id": "4zXUl7NMG-rV"
      },
      "execution_count": 11,
      "outputs": []
    },
    {
      "cell_type": "markdown",
      "source": [
        "# Create Function Show Image"
      ],
      "metadata": {
        "id": "HG0OFlYSjW1z"
      }
    },
    {
      "cell_type": "markdown",
      "source": [
        "# เปรียบเทียบกระจกรถ"
      ],
      "metadata": {
        "id": "O3htIs9M1xj8"
      }
    },
    {
      "cell_type": "code",
      "source": [
        "car1_dataset , car1_loader = get_dataset(r'/content/drive/MyDrive/3D_Model/mirror/base')\n",
        "dmg1_dataset , dmg1_loader = get_dataset(r'/content/drive/MyDrive/3D_Model/mirror/dmg')"
      ],
      "metadata": {
        "id": "n678MkEi11d7"
      },
      "execution_count": 12,
      "outputs": []
    },
    {
      "cell_type": "code",
      "source": [
        "id1b = get_features(vgg,car1_loader)\n",
        "id1v = get_features(vgg,dmg1_loader)"
      ],
      "metadata": {
        "id": "wuPk-CAn2XuF",
        "outputId": "5815f07e-c492-430e-8e59-2212873c47b0",
        "colab": {
          "base_uri": "https://localhost:8080/"
        }
      },
      "execution_count": 13,
      "outputs": [
        {
          "output_type": "stream",
          "name": "stderr",
          "text": [
            "100%|██████████| 1/1 [00:07<00:00,  7.41s/it]\n",
            "100%|██████████| 1/1 [00:07<00:00,  7.14s/it]\n"
          ]
        }
      ]
    },
    {
      "cell_type": "code",
      "source": [
        "id_mir = get_euclidean(id1b,id1v)\n",
        "id_mir "
      ],
      "metadata": {
        "id": "Q-aFcBVD2mTD",
        "outputId": "ca7f2dfa-be12-4a29-f076-7494d4bdb113",
        "colab": {
          "base_uri": "https://localhost:8080/"
        }
      },
      "execution_count": 14,
      "outputs": [
        {
          "output_type": "execute_result",
          "data": {
            "text/plain": [
              "[23.092514038085938,\n",
              " 21.460731506347656,\n",
              " 12.544014930725098,\n",
              " 25.22340202331543,\n",
              " 22.758506774902344,\n",
              " 14.932454109191895,\n",
              " 11.871886253356934,\n",
              " 21.48354721069336,\n",
              " 5.219182968139648,\n",
              " 15.969411849975586]"
            ]
          },
          "metadata": {},
          "execution_count": 14
        }
      ]
    },
    {
      "cell_type": "code",
      "source": [
        "id1f = cv2.imread('/content/drive/MyDrive/3D_Model/mirror/base/test/ID1F.png')\n",
        "id1_1 = cv2.imread('/content/drive/MyDrive/3D_Model/mirror/dmg/test/ID1_1.png')\n",
        "id3f = cv2.imread('/content/drive/MyDrive/3D_Model/mirror/base/test/ID3F.png')\n",
        "id3_1 = cv2.imread('/content/drive/MyDrive/3D_Model/mirror/dmg/test/ID3_1.png')"
      ],
      "metadata": {
        "id": "TEa9m-ig4O6z"
      },
      "execution_count": 15,
      "outputs": []
    },
    {
      "cell_type": "code",
      "source": [
        "# create figure\n",
        "fig = plt.figure(figsize=(15, 10))\n",
        "  # setting values to rows and column variables\n",
        "rows = 2\n",
        "columns = 2\n",
        "  # Adds a subplot at the 1st position\n",
        "fig.add_subplot(rows, columns, 1)\n",
        "  # showing image\n",
        "plt.imshow(id1f)\n",
        "plt.axis('off')\n",
        "plt.title('ด้านหน้ารถยนต์')\n",
        "\n",
        "# Adds a subplot at the 2nd position\n",
        "fig.add_subplot(rows, columns, 2)  \n",
        "# showing image\n",
        "plt.imshow(id1_1)\n",
        "plt.axis('off')\n",
        "plt.title('กระจกมองข้างเสียหาย')\n",
        "plt.text(200,400,'Distance = '+str(round(id_mir[1],3)),fontsize = 15,bbox = dict(facecolor = 'red', alpha = 0.5))\n",
        "        \n",
        "# Adds a subplot at the 3rd position\n",
        "fig.add_subplot(rows, columns, 3)\n",
        "  # showing image\n",
        "plt.imshow(id3f)\n",
        "plt.axis('off')\n",
        "plt.title('ด้านหน้ารถยนต์')\n",
        "\n",
        "  # Adds a subplot at the 4th position\n",
        "fig.add_subplot(rows, columns, 4)\n",
        "  # showing image\n",
        "plt.imshow(id3_1)\n",
        "plt.axis('off')\n",
        "plt.title('กระจกมองข้างเสียหาย')\n",
        "plt.text(200,400,'Distance = '+str(round(id_mir[3],3)),fontsize = 15,bbox = dict(facecolor = 'red', alpha = 0.5))"
      ],
      "metadata": {
        "id": "LQsqB-Yr3Oz-",
        "outputId": "9c5636ed-bc03-4914-abdc-fb722dc64854",
        "colab": {
          "base_uri": "https://localhost:8080/",
          "height": 609
        }
      },
      "execution_count": 16,
      "outputs": [
        {
          "output_type": "execute_result",
          "data": {
            "text/plain": [
              "Text(200, 400, 'Distance = 25.223')"
            ]
          },
          "metadata": {},
          "execution_count": 16
        },
        {
          "output_type": "display_data",
          "data": {
            "image/png": "[encoded data removed]",
            "text/plain": [
              "<Figure size 1080x720 with 4 Axes>"
            ]
          },
          "metadata": {
            "needs_background": "light"
          }
        }
      ]
    },
    {
      "cell_type": "code",
      "source": [
        "id5f = cv2.imread('/content/drive/MyDrive/3D_Model/mirror/base/test/ID5F.png')\n",
        "id5_1 = cv2.imread('/content/drive/MyDrive/3D_Model/mirror/dmg/test/ID5_1.png')\n",
        "id8f = cv2.imread('/content/drive/MyDrive/3D_Model/mirror/base/test/ID8F.png')\n",
        "id8_1 = cv2.imread('/content/drive/MyDrive/3D_Model/mirror/dmg/test/ID8_1.png')"
      ],
      "metadata": {
        "id": "xEG0W33a6Qri"
      },
      "execution_count": 17,
      "outputs": []
    },
    {
      "cell_type": "code",
      "source": [
        "# create figure\n",
        "fig = plt.figure(figsize=(15, 10))\n",
        "  # setting values to rows and column variables\n",
        "rows = 2\n",
        "columns = 2\n",
        "  # Adds a subplot at the 1st position\n",
        "fig.add_subplot(rows, columns, 1)\n",
        "  # showing image\n",
        "plt.imshow(id5f)\n",
        "plt.axis('off')\n",
        "plt.title('ด้านหน้ารถยนต์')\n",
        "\n",
        "# Adds a subplot at the 2nd position\n",
        "fig.add_subplot(rows, columns, 2)  \n",
        "# showing image\n",
        "plt.imshow(id5_1)\n",
        "plt.axis('off')\n",
        "plt.title('กระจกมองข้างเสียหาย')\n",
        "plt.text(200,400,'Distance = '+str(round(id_mir[5],3)),fontsize = 15,bbox = dict(facecolor = 'red', alpha = 0.5))\n",
        "        \n",
        "# Adds a subplot at the 3rd position\n",
        "fig.add_subplot(rows, columns, 3)\n",
        "  # showing image\n",
        "plt.imshow(id8f)\n",
        "plt.axis('off')\n",
        "plt.title('ด้านหน้ารถยนต์')\n",
        "\n",
        "  # Adds a subplot at the 4th position\n",
        "fig.add_subplot(rows, columns, 4)\n",
        "  # showing image\n",
        "plt.imshow(id8_1)\n",
        "plt.axis('off')\n",
        "plt.title('กระจกมองข้างเสียหาย')\n",
        "plt.text(200,400,'Distance = '+str(round(id_mir[8],3)),fontsize = 15,bbox = dict(facecolor = 'red', alpha = 0.5))"
      ],
      "metadata": {
        "id": "l1Jw2Fl_4Hen",
        "outputId": "b03c0542-befc-48bd-fe95-20d78d25634c",
        "colab": {
          "base_uri": "https://localhost:8080/",
          "height": 609
        }
      },
      "execution_count": 18,
      "outputs": [
        {
          "output_type": "execute_result",
          "data": {
            "text/plain": [
              "Text(200, 400, 'Distance = 5.219')"
            ]
          },
          "metadata": {},
          "execution_count": 18
        },
        {
          "output_type": "display_data",
          "data": {
            "image/png": "[encoded data removed]",
            "text/plain": [
              "<Figure size 1080x720 with 4 Axes>"
            ]
          },
          "metadata": {
            "needs_background": "light"
          }
        }
      ]
    },
    {
      "cell_type": "markdown",
      "source": [
        "# เปรียบด้านหน้ารถ"
      ],
      "metadata": {
        "id": "VKXWEC36i4Hf"
      }
    },
    {
      "cell_type": "code",
      "source": [
        "car2_dataset , car2_loader = get_dataset(r'/content/drive/MyDrive/3D_Model/front/base')\n",
        "dmg2_dataset , dmg2_loader = get_dataset(r'/content/drive/MyDrive/3D_Model/front/dmg')"
      ],
      "metadata": {
        "id": "AAK1mMow6VuQ"
      },
      "execution_count": 23,
      "outputs": []
    },
    {
      "cell_type": "code",
      "source": [
        "id2b = get_features(vgg,car2_loader)\n",
        "id2v = get_features(vgg,dmg2_loader)"
      ],
      "metadata": {
        "id": "oblFPN0PjJzF",
        "outputId": "28282490-7d2a-4a23-8702-0a31743df963",
        "colab": {
          "base_uri": "https://localhost:8080/"
        }
      },
      "execution_count": 24,
      "outputs": [
        {
          "output_type": "stream",
          "name": "stderr",
          "text": [
            "100%|██████████| 1/1 [00:00<00:00,  4.71it/s]\n",
            "100%|██████████| 1/1 [00:05<00:00,  5.41s/it]\n"
          ]
        }
      ]
    },
    {
      "cell_type": "code",
      "source": [
        "id_front = get_euclidean(id2b,id2v)\n",
        "id_front"
      ],
      "metadata": {
        "id": "_efeChXAjtO-",
        "outputId": "2a269fff-2e1a-4f8d-f1a3-22a1687d106c",
        "colab": {
          "base_uri": "https://localhost:8080/"
        }
      },
      "execution_count": 25,
      "outputs": [
        {
          "output_type": "execute_result",
          "data": {
            "text/plain": [
              "[4.7317728996276855,\n",
              " 10.689955711364746,\n",
              " 13.018025398254395,\n",
              " 4.007427215576172,\n",
              " 6.044739246368408,\n",
              " 37.66874694824219,\n",
              " 11.45502758026123,\n",
              " 3.5698158740997314,\n",
              " 21.975135803222656]"
            ]
          },
          "metadata": {},
          "execution_count": 25
        }
      ]
    },
    {
      "cell_type": "code",
      "source": [
        "id1f = cv2.imread('/content/drive/MyDrive/3D_Model/mirror/base/test/ID1F.png')\n",
        "id1dmgf = cv2.imread('/content/drive/MyDrive/3D_Model/front/dmg/test/ID1dmgf.png')\n",
        "id3f = cv2.imread('/content/drive/MyDrive/3D_Model/front/base/test/ID3F.png')\n",
        "id3dmgf = cv2.imread('/content/drive/MyDrive/3D_Model/front/dmg/test/ID3dmgf.png')"
      ],
      "metadata": {
        "id": "cSv9BiiHjzAN"
      },
      "execution_count": 26,
      "outputs": []
    },
    {
      "cell_type": "code",
      "source": [
        "# create figure\n",
        "fig = plt.figure(figsize=(15, 10))\n",
        "  # setting values to rows and column variables\n",
        "rows = 2\n",
        "columns = 2\n",
        "  # Adds a subplot at the 1st position\n",
        "fig.add_subplot(rows, columns, 1)\n",
        "  # showing image\n",
        "plt.imshow(id1f)\n",
        "plt.axis('off')\n",
        "plt.title('ด้านหน้ารถยนต์')\n",
        "\n",
        "# Adds a subplot at the 2nd position\n",
        "fig.add_subplot(rows, columns, 2)  \n",
        "# showing image\n",
        "plt.imshow(id1dmgf)\n",
        "plt.axis('off')\n",
        "plt.title('หน้ารถยนต์เสียหาย')\n",
        "plt.text(200,400,'Distance = '+str(round(id_front[1],3)),fontsize = 15,bbox = dict(facecolor = 'red', alpha = 0.5))\n",
        "        \n",
        "# Adds a subplot at the 3rd position\n",
        "fig.add_subplot(rows, columns, 3)\n",
        "  # showing image\n",
        "plt.imshow(id3f)\n",
        "plt.axis('off')\n",
        "plt.title('ด้านหน้ารถยนต์')\n",
        "\n",
        "  # Adds a subplot at the 4th position\n",
        "fig.add_subplot(rows, columns, 4)\n",
        "  # showing image\n",
        "plt.imshow(id3dmgf)\n",
        "plt.axis('off')\n",
        "plt.title('หน้ารถยนต์เสียหาย')\n",
        "plt.text(200,400,'Distance = '+str(round(id_front[3],3)),fontsize = 15,bbox = dict(facecolor = 'red', alpha = 0.5))"
      ],
      "metadata": {
        "id": "40SCeV6WpafH",
        "outputId": "89b46bbd-7c31-4fa2-fcb5-d461ac5a550a",
        "colab": {
          "base_uri": "https://localhost:8080/",
          "height": 609
        }
      },
      "execution_count": 28,
      "outputs": [
        {
          "output_type": "execute_result",
          "data": {
            "text/plain": [
              "Text(200, 400, 'Distance = 4.007')"
            ]
          },
          "metadata": {},
          "execution_count": 28
        },
        {
          "output_type": "display_data",
          "data": {
            "image/png": "[encoded data removed]",
            "text/plain": [
              "<Figure size 1080x720 with 4 Axes>"
            ]
          },
          "metadata": {
            "needs_background": "light"
          }
        }
      ]
    },
    {
      "cell_type": "code",
      "source": [
        ""
      ],
      "metadata": {
        "id": "wHzvPYhJpmK2"
      },
      "execution_count": null,
      "outputs": []
    }
  ]
}