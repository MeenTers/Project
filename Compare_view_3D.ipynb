{
  "nbformat": 4,
  "nbformat_minor": 0,
  "metadata": {
    "colab": {
      "name": "Compare_view_3D.ipynb",
      "provenance": [],
      "authorship_tag": "ABX9TyN1sdjd7diwTmkCvuwvTIXo",
      "include_colab_link": true
    },
    "kernelspec": {
      "name": "python3",
      "display_name": "Python 3"
    },
    "language_info": {
      "name": "python"
    },
    "accelerator": "GPU",
    "widgets": {
      "application/vnd.jupyter.widget-state+json": {
        "47a18c97c0214ebc95114261a80cd7f6": {
          "model_module": "@jupyter-widgets/controls",
          "model_name": "HBoxModel",
          "model_module_version": "1.5.0",
          "state": {
            "_view_name": "HBoxView",
            "_dom_classes": [],
            "_model_name": "HBoxModel",
            "_view_module": "@jupyter-widgets/controls",
            "_model_module_version": "1.5.0",
            "_view_count": null,
            "_view_module_version": "1.5.0",
            "box_style": "",
            "layout": "IPY_MODEL_03eb8253b70d47cfbe027f1367b6daa7",
            "_model_module": "@jupyter-widgets/controls",
            "children": [
              "IPY_MODEL_417badad5791450e866ac8d157bc9542",
              "IPY_MODEL_1a1f223d9c7743e3aef7cde374482e5e",
              "IPY_MODEL_89d3e45081dc4852933b3f2de6e8681f"
            ]
          }
        },
        "03eb8253b70d47cfbe027f1367b6daa7": {
          "model_module": "@jupyter-widgets/base",
          "model_name": "LayoutModel",
          "model_module_version": "1.2.0",
          "state": {
            "_view_name": "LayoutView",
            "grid_template_rows": null,
            "right": null,
            "justify_content": null,
            "_view_module": "@jupyter-widgets/base",
            "overflow": null,
            "_model_module_version": "1.2.0",
            "_view_count": null,
            "flex_flow": null,
            "width": null,
            "min_width": null,
            "border": null,
            "align_items": null,
            "bottom": null,
            "_model_module": "@jupyter-widgets/base",
            "top": null,
            "grid_column": null,
            "overflow_y": null,
            "overflow_x": null,
            "grid_auto_flow": null,
            "grid_area": null,
            "grid_template_columns": null,
            "flex": null,
            "_model_name": "LayoutModel",
            "justify_items": null,
            "grid_row": null,
            "max_height": null,
            "align_content": null,
            "visibility": null,
            "align_self": null,
            "height": null,
            "min_height": null,
            "padding": null,
            "grid_auto_rows": null,
            "grid_gap": null,
            "max_width": null,
            "order": null,
            "_view_module_version": "1.2.0",
            "grid_template_areas": null,
            "object_position": null,
            "object_fit": null,
            "grid_auto_columns": null,
            "margin": null,
            "display": null,
            "left": null
          }
        },
        "417badad5791450e866ac8d157bc9542": {
          "model_module": "@jupyter-widgets/controls",
          "model_name": "HTMLModel",
          "model_module_version": "1.5.0",
          "state": {
            "_view_name": "HTMLView",
            "style": "IPY_MODEL_a9fa327ba6f2419e83d2b8c591f36d44",
            "_dom_classes": [],
            "description": "",
            "_model_name": "HTMLModel",
            "placeholder": "​",
            "_view_module": "@jupyter-widgets/controls",
            "_model_module_version": "1.5.0",
            "value": "100%",
            "_view_count": null,
            "_view_module_version": "1.5.0",
            "description_tooltip": null,
            "_model_module": "@jupyter-widgets/controls",
            "layout": "IPY_MODEL_3e78888f47f74f2bac9c528e34a041de"
          }
        },
        "1a1f223d9c7743e3aef7cde374482e5e": {
          "model_module": "@jupyter-widgets/controls",
          "model_name": "FloatProgressModel",
          "model_module_version": "1.5.0",
          "state": {
            "_view_name": "ProgressView",
            "style": "IPY_MODEL_aeff7f6a7df440748c5f74ee3ee3a4ca",
            "_dom_classes": [],
            "description": "",
            "_model_name": "FloatProgressModel",
            "bar_style": "success",
            "max": 574673361,
            "_view_module": "@jupyter-widgets/controls",
            "_model_module_version": "1.5.0",
            "value": 574673361,
            "_view_count": null,
            "_view_module_version": "1.5.0",
            "orientation": "horizontal",
            "min": 0,
            "description_tooltip": null,
            "_model_module": "@jupyter-widgets/controls",
            "layout": "IPY_MODEL_55494e6960d34d268f51d477a3c8d28a"
          }
        },
        "89d3e45081dc4852933b3f2de6e8681f": {
          "model_module": "@jupyter-widgets/controls",
          "model_name": "HTMLModel",
          "model_module_version": "1.5.0",
          "state": {
            "_view_name": "HTMLView",
            "style": "IPY_MODEL_f209bf8a2cca46bd8f405af82f53de84",
            "_dom_classes": [],
            "description": "",
            "_model_name": "HTMLModel",
            "placeholder": "​",
            "_view_module": "@jupyter-widgets/controls",
            "_model_module_version": "1.5.0",
            "value": " 548M/548M [00:29&lt;00:00, 14.0MB/s]",
            "_view_count": null,
            "_view_module_version": "1.5.0",
            "description_tooltip": null,
            "_model_module": "@jupyter-widgets/controls",
            "layout": "IPY_MODEL_9250da0908774043923b4e9dce33f4f3"
          }
        },
        "a9fa327ba6f2419e83d2b8c591f36d44": {
          "model_module": "@jupyter-widgets/controls",
          "model_name": "DescriptionStyleModel",
          "model_module_version": "1.5.0",
          "state": {
            "_view_name": "StyleView",
            "_model_name": "DescriptionStyleModel",
            "description_width": "",
            "_view_module": "@jupyter-widgets/base",
            "_model_module_version": "1.5.0",
            "_view_count": null,
            "_view_module_version": "1.2.0",
            "_model_module": "@jupyter-widgets/controls"
          }
        },
        "3e78888f47f74f2bac9c528e34a041de": {
          "model_module": "@jupyter-widgets/base",
          "model_name": "LayoutModel",
          "model_module_version": "1.2.0",
          "state": {
            "_view_name": "LayoutView",
            "grid_template_rows": null,
            "right": null,
            "justify_content": null,
            "_view_module": "@jupyter-widgets/base",
            "overflow": null,
            "_model_module_version": "1.2.0",
            "_view_count": null,
            "flex_flow": null,
            "width": null,
            "min_width": null,
            "border": null,
            "align_items": null,
            "bottom": null,
            "_model_module": "@jupyter-widgets/base",
            "top": null,
            "grid_column": null,
            "overflow_y": null,
            "overflow_x": null,
            "grid_auto_flow": null,
            "grid_area": null,
            "grid_template_columns": null,
            "flex": null,
            "_model_name": "LayoutModel",
            "justify_items": null,
            "grid_row": null,
            "max_height": null,
            "align_content": null,
            "visibility": null,
            "align_self": null,
            "height": null,
            "min_height": null,
            "padding": null,
            "grid_auto_rows": null,
            "grid_gap": null,
            "max_width": null,
            "order": null,
            "_view_module_version": "1.2.0",
            "grid_template_areas": null,
            "object_position": null,
            "object_fit": null,
            "grid_auto_columns": null,
            "margin": null,
            "display": null,
            "left": null
          }
        },
        "aeff7f6a7df440748c5f74ee3ee3a4ca": {
          "model_module": "@jupyter-widgets/controls",
          "model_name": "ProgressStyleModel",
          "model_module_version": "1.5.0",
          "state": {
            "_view_name": "StyleView",
            "_model_name": "ProgressStyleModel",
            "description_width": "",
            "_view_module": "@jupyter-widgets/base",
            "_model_module_version": "1.5.0",
            "_view_count": null,
            "_view_module_version": "1.2.0",
            "bar_color": null,
            "_model_module": "@jupyter-widgets/controls"
          }
        },
        "55494e6960d34d268f51d477a3c8d28a": {
          "model_module": "@jupyter-widgets/base",
          "model_name": "LayoutModel",
          "model_module_version": "1.2.0",
          "state": {
            "_view_name": "LayoutView",
            "grid_template_rows": null,
            "right": null,
            "justify_content": null,
            "_view_module": "@jupyter-widgets/base",
            "overflow": null,
            "_model_module_version": "1.2.0",
            "_view_count": null,
            "flex_flow": null,
            "width": null,
            "min_width": null,
            "border": null,
            "align_items": null,
            "bottom": null,
            "_model_module": "@jupyter-widgets/base",
            "top": null,
            "grid_column": null,
            "overflow_y": null,
            "overflow_x": null,
            "grid_auto_flow": null,
            "grid_area": null,
            "grid_template_columns": null,
            "flex": null,
            "_model_name": "LayoutModel",
            "justify_items": null,
            "grid_row": null,
            "max_height": null,
            "align_content": null,
            "visibility": null,
            "align_self": null,
            "height": null,
            "min_height": null,
            "padding": null,
            "grid_auto_rows": null,
            "grid_gap": null,
            "max_width": null,
            "order": null,
            "_view_module_version": "1.2.0",
            "grid_template_areas": null,
            "object_position": null,
            "object_fit": null,
            "grid_auto_columns": null,
            "margin": null,
            "display": null,
            "left": null
          }
        },
        "f209bf8a2cca46bd8f405af82f53de84": {
          "model_module": "@jupyter-widgets/controls",
          "model_name": "DescriptionStyleModel",
          "model_module_version": "1.5.0",
          "state": {
            "_view_name": "StyleView",
            "_model_name": "DescriptionStyleModel",
            "description_width": "",
            "_view_module": "@jupyter-widgets/base",
            "_model_module_version": "1.5.0",
            "_view_count": null,
            "_view_module_version": "1.2.0",
            "_model_module": "@jupyter-widgets/controls"
          }
        },
        "9250da0908774043923b4e9dce33f4f3": {
          "model_module": "@jupyter-widgets/base",
          "model_name": "LayoutModel",
          "model_module_version": "1.2.0",
          "state": {
            "_view_name": "LayoutView",
            "grid_template_rows": null,
            "right": null,
            "justify_content": null,
            "_view_module": "@jupyter-widgets/base",
            "overflow": null,
            "_model_module_version": "1.2.0",
            "_view_count": null,
            "flex_flow": null,
            "width": null,
            "min_width": null,
            "border": null,
            "align_items": null,
            "bottom": null,
            "_model_module": "@jupyter-widgets/base",
            "top": null,
            "grid_column": null,
            "overflow_y": null,
            "overflow_x": null,
            "grid_auto_flow": null,
            "grid_area": null,
            "grid_template_columns": null,
            "flex": null,
            "_model_name": "LayoutModel",
            "justify_items": null,
            "grid_row": null,
            "max_height": null,
            "align_content": null,
            "visibility": null,
            "align_self": null,
            "height": null,
            "min_height": null,
            "padding": null,
            "grid_auto_rows": null,
            "grid_gap": null,
            "max_width": null,
            "order": null,
            "_view_module_version": "1.2.0",
            "grid_template_areas": null,
            "object_position": null,
            "object_fit": null,
            "grid_auto_columns": null,
            "margin": null,
            "display": null,
            "left": null
          }
        }
      }
    }
  },
  "cells": [
    {
      "cell_type": "markdown",
      "metadata": {
        "id": "view-in-github",
        "colab_type": "text"
      },
      "source": [
        "<a href=\"https://colab.research.google.com/github/MeenTers/Project/blob/main/Compare_view_3D.ipynb\" target=\"_parent\"><img src=\"https://colab.research.google.com/assets/colab-badge.svg\" alt=\"Open In Colab\"/></a>"
      ]
    },
    {
      "cell_type": "markdown",
      "source": [
        "#Import Function "
      ],
      "metadata": {
        "id": "RCifPWjNGF9O"
      }
    },
    {
      "cell_type": "code",
      "execution_count": 2,
      "metadata": {
        "colab": {
          "base_uri": "https://localhost:8080/"
        },
        "id": "Vs1yLYi3GACt",
        "outputId": "8435be63-cafa-46f2-fb94-d8d588ffbf41"
      },
      "outputs": [
        {
          "output_type": "stream",
          "name": "stdout",
          "text": [
            "Drive already mounted at /content/drive; to attempt to forcibly remount, call drive.mount(\"/content/drive\", force_remount=True).\n"
          ]
        }
      ],
      "source": [
        "from google.colab import drive\n",
        "drive.mount('/content/drive')"
      ]
    },
    {
      "cell_type": "code",
      "source": [
        "import torch\n",
        "from torch import nn, load, utils\n",
        "from tqdm import tqdm\n",
        "import matplotlib.pyplot as plt\n",
        "import numpy as np\n",
        "from torchvision import datasets, transforms, models\n",
        "from torchvision.models.vgg import model_urls\n",
        "from os import path, listdir\n",
        "model_urls['vgg19'] = model_urls['vgg19'].replace('https://', 'http://')"
      ],
      "metadata": {
        "id": "t2dRRR1tGLNk"
      },
      "execution_count": 3,
      "outputs": []
    },
    {
      "cell_type": "code",
      "source": [
        "from scipy.spatial import distance_matrix\n",
        "from scipy.spatial import distance\n",
        "import pandas as pd"
      ],
      "metadata": {
        "id": "k4JEndSuGbIz"
      },
      "execution_count": 4,
      "outputs": []
    },
    {
      "cell_type": "code",
      "source": [
        "import matplotlib.image as mpimg\n",
        "import matplotlib.pyplot as plt\n",
        "import cv2"
      ],
      "metadata": {
        "id": "2GROTTOAHA83"
      },
      "execution_count": 5,
      "outputs": []
    },
    {
      "cell_type": "markdown",
      "source": [
        "# VGG model"
      ],
      "metadata": {
        "id": "Lyfjjxb6GfyL"
      }
    },
    {
      "cell_type": "code",
      "source": [
        "class VGG:\n",
        "\tdef __init__(self):\n",
        "\t\tmodel = models.vgg19(pretrained=True, progress=True)\n",
        "\t\tmodel.classifier = nn.Sequential(*list(model.classifier.children())[:3])\n",
        "\t\tself.model = model.cuda().eval()\n",
        "\n",
        "\tdef __call__(self, x):\n",
        "\t\treturn self.model(x)"
      ],
      "metadata": {
        "id": "bEqIhQocGc8B"
      },
      "execution_count": 6,
      "outputs": []
    },
    {
      "cell_type": "code",
      "source": [
        "vgg = VGG()"
      ],
      "metadata": {
        "colab": {
          "base_uri": "https://localhost:8080/",
          "height": 66,
          "referenced_widgets": [
            "47a18c97c0214ebc95114261a80cd7f6",
            "03eb8253b70d47cfbe027f1367b6daa7",
            "417badad5791450e866ac8d157bc9542",
            "1a1f223d9c7743e3aef7cde374482e5e",
            "89d3e45081dc4852933b3f2de6e8681f",
            "a9fa327ba6f2419e83d2b8c591f36d44",
            "3e78888f47f74f2bac9c528e34a041de",
            "aeff7f6a7df440748c5f74ee3ee3a4ca",
            "55494e6960d34d268f51d477a3c8d28a",
            "f209bf8a2cca46bd8f405af82f53de84",
            "9250da0908774043923b4e9dce33f4f3"
          ]
        },
        "id": "ZoU8n-JuGiyc",
        "outputId": "046396a0-7e7d-4300-f35e-38c3e92609e5"
      },
      "execution_count": 7,
      "outputs": [
        {
          "output_type": "stream",
          "name": "stderr",
          "text": [
            "Downloading: \"http://download.pytorch.org/models/vgg19-dcbb9e9d.pth\" to /root/.cache/torch/hub/checkpoints/vgg19-dcbb9e9d.pth\n"
          ]
        },
        {
          "output_type": "display_data",
          "data": {
            "application/vnd.jupyter.widget-view+json": {
              "model_id": "47a18c97c0214ebc95114261a80cd7f6",
              "version_minor": 0,
              "version_major": 2
            },
            "text/plain": [
              "  0%|          | 0.00/548M [00:00<?, ?B/s]"
            ]
          },
          "metadata": {}
        }
      ]
    },
    {
      "cell_type": "markdown",
      "source": [
        "# Create Features Extraction Function"
      ],
      "metadata": {
        "id": "Lc9HW6g9GmMr"
      }
    },
    {
      "cell_type": "code",
      "source": [
        "def get_features(model, loader):\n",
        "    features = []\n",
        "    with torch.no_grad():\n",
        "        for batch, _ in tqdm(loader):\n",
        "            if torch.cuda.is_available():\n",
        "                batch = batch.cuda()\n",
        "            b_features = model(batch).detach().cpu().numpy()\n",
        "            for f in b_features:\n",
        "                features.append(f)\n",
        "\n",
        "    return features"
      ],
      "metadata": {
        "id": "dJAfzDItGkbA"
      },
      "execution_count": 8,
      "outputs": []
    },
    {
      "cell_type": "markdown",
      "source": [
        "# Create Loading the data Function"
      ],
      "metadata": {
        "id": "vo7DZUIMGsZl"
      }
    },
    {
      "cell_type": "code",
      "source": [
        "def get_dataset(images_path):\n",
        "  transform = transforms.Compose([\n",
        "    transforms.Resize(size=32),\n",
        "    transforms.ToTensor(),\n",
        "    transforms.Normalize((0.4914, 0.4822, 0.4465), (0.2023, 0.1994, 0.2010)),\n",
        "  ])\n",
        "\n",
        "  dataset = datasets.ImageFolder(images_path, transform=transform)\n",
        "  loader = utils.data.DataLoader(dataset, batch_size=100, shuffle=False, num_workers=1, pin_memory=True)\n",
        "  return dataset, loader"
      ],
      "metadata": {
        "id": "g3ddS3VgGqff"
      },
      "execution_count": 9,
      "outputs": []
    },
    {
      "cell_type": "markdown",
      "source": [
        "# Install Font TH-SARABUN"
      ],
      "metadata": {
        "id": "RzEGaigNG2D5"
      }
    },
    {
      "cell_type": "code",
      "source": [
        "!wget -q https://github.com/Phonbopit/sarabun-webfont/raw/master/fonts/thsarabunnew-webfont.ttf"
      ],
      "metadata": {
        "id": "McraPuLYGxC6"
      },
      "execution_count": 10,
      "outputs": []
    },
    {
      "cell_type": "code",
      "source": [
        "# !pip install -U --pre matplotlib  \n",
        "import matplotlib as mpl\n",
        "mpl.font_manager.fontManager.addfont('thsarabunnew-webfont.ttf')\n",
        "mpl.rc('font', family='TH Sarabun New')"
      ],
      "metadata": {
        "id": "KyYcrXj8G8nh"
      },
      "execution_count": 11,
      "outputs": []
    },
    {
      "cell_type": "markdown",
      "source": [
        "# Create Compute Distance Function"
      ],
      "metadata": {
        "id": "TjMs0MpdHIWY"
      }
    },
    {
      "cell_type": "code",
      "source": [
        "def get_euclidean(base_car,diff_view):\n",
        "    A = []\n",
        "    for i in range(len(diff_view)):\n",
        "        x = distance.euclidean(base_car[i],diff_view[i])\n",
        "        A.append(x)\n",
        "    return(A)"
      ],
      "metadata": {
        "id": "4zXUl7NMG-rV"
      },
      "execution_count": 12,
      "outputs": []
    },
    {
      "cell_type": "markdown",
      "source": [
        "# Create Function Show Image"
      ],
      "metadata": {
        "id": "HG0OFlYSjW1z"
      }
    },
    {
      "cell_type": "markdown",
      "source": [
        "# เปรียบเทียบกระจกรถ"
      ],
      "metadata": {
        "id": "O3htIs9M1xj8"
      }
    },
    {
      "cell_type": "code",
      "source": [
        "car1_dataset , car1_loader = get_dataset(r'/content/drive/MyDrive/3D_Model/mirror/base')\n",
        "dmg1_dataset , dmg1_loader = get_dataset(r'/content/drive/MyDrive/3D_Model/mirror/dmg')"
      ],
      "metadata": {
        "id": "n678MkEi11d7"
      },
      "execution_count": 14,
      "outputs": []
    },
    {
      "cell_type": "code",
      "source": [
        "id1b = get_features(vgg,car1_loader)\n",
        "id1v = get_features(vgg,dmg1_loader)"
      ],
      "metadata": {
        "id": "wuPk-CAn2XuF",
        "outputId": "edc51e5e-d9fb-4e9d-9c00-4f8254860092",
        "colab": {
          "base_uri": "https://localhost:8080/"
        }
      },
      "execution_count": 27,
      "outputs": [
        {
          "output_type": "stream",
          "name": "stderr",
          "text": [
            "100%|██████████| 1/1 [00:00<00:00,  4.71it/s]\n",
            "100%|██████████| 1/1 [00:00<00:00,  4.57it/s]\n"
          ]
        }
      ]
    },
    {
      "cell_type": "code",
      "source": [
        "id_mir = get_euclidean(id1b,id1v)\n",
        "id_mir "
      ],
      "metadata": {
        "id": "Q-aFcBVD2mTD",
        "outputId": "4f2ed837-0415-45b5-d005-ce3d9b36b38b",
        "colab": {
          "base_uri": "https://localhost:8080/"
        }
      },
      "execution_count": 29,
      "outputs": [
        {
          "output_type": "execute_result",
          "data": {
            "text/plain": [
              "[23.09232521057129,\n",
              " 21.460844039916992,\n",
              " 12.544066429138184,\n",
              " 25.223430633544922,\n",
              " 22.75872039794922,\n",
              " 14.932421684265137,\n",
              " 11.871809005737305,\n",
              " 21.483619689941406,\n",
              " 5.219032287597656,\n",
              " 15.96945571899414]"
            ]
          },
          "metadata": {},
          "execution_count": 29
        }
      ]
    },
    {
      "cell_type": "code",
      "source": [
        "id1f = cv2.imread('/content/drive/MyDrive/3D_Model/mirror/base/test/ID1F.png')\n",
        "id1_1 = cv2.imread('/content/drive/MyDrive/3D_Model/mirror/dmg/test/ID1_1.png')\n",
        "id3f = cv2.imread('/content/drive/MyDrive/3D_Model/mirror/base/test/ID3F.png')\n",
        "id3_1 = cv2.imread('/content/drive/MyDrive/3D_Model/mirror/dmg/test/ID3_1.png')"
      ],
      "metadata": {
        "id": "TEa9m-ig4O6z"
      },
      "execution_count": 40,
      "outputs": []
    },
    {
      "cell_type": "code",
      "source": [
        "# create figure\n",
        "fig = plt.figure(figsize=(15, 10))\n",
        "  # setting values to rows and column variables\n",
        "rows = 2\n",
        "columns = 2\n",
        "  # Adds a subplot at the 1st position\n",
        "fig.add_subplot(rows, columns, 1)\n",
        "  # showing image\n",
        "plt.imshow(id1f)\n",
        "plt.axis('off')\n",
        "plt.title('ด้านหน้ารถยนต์')\n",
        "\n",
        "# Adds a subplot at the 2nd position\n",
        "fig.add_subplot(rows, columns, 2)  \n",
        "# showing image\n",
        "plt.imshow(id1_1)\n",
        "plt.axis('off')\n",
        "plt.title('กระจกมองข้างเสียหาย')\n",
        "plt.text(200,400,'Distance = '+str(round(id_mir[1],3)),fontsize = 15,bbox = dict(facecolor = 'red', alpha = 0.5))\n",
        "        \n",
        "# Adds a subplot at the 3rd position\n",
        "fig.add_subplot(rows, columns, 3)\n",
        "  # showing image\n",
        "plt.imshow(id3f)\n",
        "plt.axis('off')\n",
        "plt.title('ด้านหน้ารถยนต์')\n",
        "\n",
        "  # Adds a subplot at the 4th position\n",
        "fig.add_subplot(rows, columns, 4)\n",
        "  # showing image\n",
        "plt.imshow(id3_1)\n",
        "plt.axis('off')\n",
        "plt.title('กระจกมองข้างเสียหาย')\n",
        "plt.text(200,400,'Distance = '+str(round(id_mir[3],3)),fontsize = 15,bbox = dict(facecolor = 'red', alpha = 0.5))"
      ],
      "metadata": {
        "id": "LQsqB-Yr3Oz-",
        "outputId": "498ca779-1d15-4972-d370-afbda84e16dc",
        "colab": {
          "base_uri": "https://localhost:8080/",
          "height": 609
        }
      },
      "execution_count": 54,
      "outputs": [
        {
          "output_type": "execute_result",
          "data": {
            "text/plain": [
              "Text(200, 400, 'Distance = 25.223')"
            ]
          },
          "metadata": {},
          "execution_count": 54
        },
        {
          "output_type": "display_data",
          "data": {
            "image/png": "[encoded data removed]",
            "text/plain": [
              "<Figure size 1080x720 with 4 Axes>"
            ]
          },
          "metadata": {
            "needs_background": "light"
          }
        }
      ]
    },
    {
      "cell_type": "code",
      "source": [
        "id5f = cv2.imread('/content/drive/MyDrive/3D_Model/mirror/base/test/ID5F.png')\n",
        "id5_1 = cv2.imread('/content/drive/MyDrive/3D_Model/mirror/dmg/test/ID5_1.png')\n",
        "id8f = cv2.imread('/content/drive/MyDrive/3D_Model/mirror/base/test/ID8F.png')\n",
        "id8_1 = cv2.imread('/content/drive/MyDrive/3D_Model/mirror/dmg/test/ID8_1.png')"
      ],
      "metadata": {
        "id": "xEG0W33a6Qri"
      },
      "execution_count": 58,
      "outputs": []
    },
    {
      "cell_type": "code",
      "source": [
        "# create figure\n",
        "fig = plt.figure(figsize=(15, 10))\n",
        "  # setting values to rows and column variables\n",
        "rows = 2\n",
        "columns = 2\n",
        "  # Adds a subplot at the 1st position\n",
        "fig.add_subplot(rows, columns, 1)\n",
        "  # showing image\n",
        "plt.imshow(id5f)\n",
        "plt.axis('off')\n",
        "plt.title('ด้านหน้ารถยนต์')\n",
        "\n",
        "# Adds a subplot at the 2nd position\n",
        "fig.add_subplot(rows, columns, 2)  \n",
        "# showing image\n",
        "plt.imshow(id5_1)\n",
        "plt.axis('off')\n",
        "plt.title('กระจกมองข้างเสียหาย')\n",
        "plt.text(200,400,'Distance = '+str(round(id_mir[5],3)),fontsize = 15,bbox = dict(facecolor = 'red', alpha = 0.5))\n",
        "        \n",
        "# Adds a subplot at the 3rd position\n",
        "fig.add_subplot(rows, columns, 3)\n",
        "  # showing image\n",
        "plt.imshow(id8f)\n",
        "plt.axis('off')\n",
        "plt.title('ด้านหน้ารถยนต์')\n",
        "\n",
        "  # Adds a subplot at the 4th position\n",
        "fig.add_subplot(rows, columns, 4)\n",
        "  # showing image\n",
        "plt.imshow(id8_1)\n",
        "plt.axis('off')\n",
        "plt.title('กระจกมองข้างเสียหาย')\n",
        "plt.text(200,400,'Distance = '+str(round(id_mir[8],3)),fontsize = 15,bbox = dict(facecolor = 'red', alpha = 0.5))"
      ],
      "metadata": {
        "id": "l1Jw2Fl_4Hen",
        "outputId": "806a51a2-50d4-4dd7-de80-b8838e628049",
        "colab": {
          "base_uri": "https://localhost:8080/",
          "height": 609
        }
      },
      "execution_count": 60,
      "outputs": [
        {
          "output_type": "execute_result",
          "data": {
            "text/plain": [
              "Text(200, 400, 'Distance = 5.219')"
            ]
          },
          "metadata": {},
          "execution_count": 60
        },
        {
          "output_type": "display_data",
          "data": {
            "image/png": "[encoded data removed]",
            "text/plain": [
              "<Figure size 1080x720 with 4 Axes>"
            ]
          },
          "metadata": {
            "needs_background": "light"
          }
        }
      ]
    },
    {
      "cell_type": "code",
      "source": [
        " "
      ],
      "metadata": {
        "id": "AAK1mMow6VuQ"
      },
      "execution_count": null,
      "outputs": []
    }
  ]
}