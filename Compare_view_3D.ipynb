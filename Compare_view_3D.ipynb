{
  "nbformat": 4,
  "nbformat_minor": 0,
  "metadata": {
    "colab": {
      "name": "Compare_view_3D.ipynb",
      "provenance": [],
      "authorship_tag": "ABX9TyNNTPiPi0RbGixg23v+mMLu",
      "include_colab_link": true
    },
    "kernelspec": {
      "name": "python3",
      "display_name": "Python 3"
    },
    "language_info": {
      "name": "python"
    },
    "accelerator": "GPU",
    "widgets": {
      "application/vnd.jupyter.widget-state+json": {
        "f3f2788308514b33a5454340ae33517c": {
          "model_module": "@jupyter-widgets/controls",
          "model_name": "HBoxModel",
          "model_module_version": "1.5.0",
          "state": {
            "_view_name": "HBoxView",
            "_dom_classes": [],
            "_model_name": "HBoxModel",
            "_view_module": "@jupyter-widgets/controls",
            "_model_module_version": "1.5.0",
            "_view_count": null,
            "_view_module_version": "1.5.0",
            "box_style": "",
            "layout": "IPY_MODEL_141ad7c3b8df4054b0ffb1a7bd818c4d",
            "_model_module": "@jupyter-widgets/controls",
            "children": [
              "IPY_MODEL_bcf55c2832314124bc11d472c37f5893",
              "IPY_MODEL_699a289bd88e42729999af9547909e91",
              "IPY_MODEL_c19e9150aae74aa6b1cf6c24471fbb21"
            ]
          }
        },
        "141ad7c3b8df4054b0ffb1a7bd818c4d": {
          "model_module": "@jupyter-widgets/base",
          "model_name": "LayoutModel",
          "model_module_version": "1.2.0",
          "state": {
            "_view_name": "LayoutView",
            "grid_template_rows": null,
            "right": null,
            "justify_content": null,
            "_view_module": "@jupyter-widgets/base",
            "overflow": null,
            "_model_module_version": "1.2.0",
            "_view_count": null,
            "flex_flow": null,
            "width": null,
            "min_width": null,
            "border": null,
            "align_items": null,
            "bottom": null,
            "_model_module": "@jupyter-widgets/base",
            "top": null,
            "grid_column": null,
            "overflow_y": null,
            "overflow_x": null,
            "grid_auto_flow": null,
            "grid_area": null,
            "grid_template_columns": null,
            "flex": null,
            "_model_name": "LayoutModel",
            "justify_items": null,
            "grid_row": null,
            "max_height": null,
            "align_content": null,
            "visibility": null,
            "align_self": null,
            "height": null,
            "min_height": null,
            "padding": null,
            "grid_auto_rows": null,
            "grid_gap": null,
            "max_width": null,
            "order": null,
            "_view_module_version": "1.2.0",
            "grid_template_areas": null,
            "object_position": null,
            "object_fit": null,
            "grid_auto_columns": null,
            "margin": null,
            "display": null,
            "left": null
          }
        },
        "bcf55c2832314124bc11d472c37f5893": {
          "model_module": "@jupyter-widgets/controls",
          "model_name": "HTMLModel",
          "model_module_version": "1.5.0",
          "state": {
            "_view_name": "HTMLView",
            "style": "IPY_MODEL_7d5bff17192b4d7ea4bd6d4957012403",
            "_dom_classes": [],
            "description": "",
            "_model_name": "HTMLModel",
            "placeholder": "​",
            "_view_module": "@jupyter-widgets/controls",
            "_model_module_version": "1.5.0",
            "value": "100%",
            "_view_count": null,
            "_view_module_version": "1.5.0",
            "description_tooltip": null,
            "_model_module": "@jupyter-widgets/controls",
            "layout": "IPY_MODEL_a467db9117b343f2b71c155e73ac4a9d"
          }
        },
        "699a289bd88e42729999af9547909e91": {
          "model_module": "@jupyter-widgets/controls",
          "model_name": "FloatProgressModel",
          "model_module_version": "1.5.0",
          "state": {
            "_view_name": "ProgressView",
            "style": "IPY_MODEL_78e2138c12d34fc887fc41737b28984e",
            "_dom_classes": [],
            "description": "",
            "_model_name": "FloatProgressModel",
            "bar_style": "success",
            "max": 574673361,
            "_view_module": "@jupyter-widgets/controls",
            "_model_module_version": "1.5.0",
            "value": 574673361,
            "_view_count": null,
            "_view_module_version": "1.5.0",
            "orientation": "horizontal",
            "min": 0,
            "description_tooltip": null,
            "_model_module": "@jupyter-widgets/controls",
            "layout": "IPY_MODEL_c85863d494f949fc9aef026cdd0dc1d8"
          }
        },
        "c19e9150aae74aa6b1cf6c24471fbb21": {
          "model_module": "@jupyter-widgets/controls",
          "model_name": "HTMLModel",
          "model_module_version": "1.5.0",
          "state": {
            "_view_name": "HTMLView",
            "style": "IPY_MODEL_72690e04d77e48bd98cd6e62b90f4e2a",
            "_dom_classes": [],
            "description": "",
            "_model_name": "HTMLModel",
            "placeholder": "​",
            "_view_module": "@jupyter-widgets/controls",
            "_model_module_version": "1.5.0",
            "value": " 548M/548M [00:06&lt;00:00, 94.4MB/s]",
            "_view_count": null,
            "_view_module_version": "1.5.0",
            "description_tooltip": null,
            "_model_module": "@jupyter-widgets/controls",
            "layout": "IPY_MODEL_d7f2af1194a846bbbaaba8a3e009ef00"
          }
        },
        "7d5bff17192b4d7ea4bd6d4957012403": {
          "model_module": "@jupyter-widgets/controls",
          "model_name": "DescriptionStyleModel",
          "model_module_version": "1.5.0",
          "state": {
            "_view_name": "StyleView",
            "_model_name": "DescriptionStyleModel",
            "description_width": "",
            "_view_module": "@jupyter-widgets/base",
            "_model_module_version": "1.5.0",
            "_view_count": null,
            "_view_module_version": "1.2.0",
            "_model_module": "@jupyter-widgets/controls"
          }
        },
        "a467db9117b343f2b71c155e73ac4a9d": {
          "model_module": "@jupyter-widgets/base",
          "model_name": "LayoutModel",
          "model_module_version": "1.2.0",
          "state": {
            "_view_name": "LayoutView",
            "grid_template_rows": null,
            "right": null,
            "justify_content": null,
            "_view_module": "@jupyter-widgets/base",
            "overflow": null,
            "_model_module_version": "1.2.0",
            "_view_count": null,
            "flex_flow": null,
            "width": null,
            "min_width": null,
            "border": null,
            "align_items": null,
            "bottom": null,
            "_model_module": "@jupyter-widgets/base",
            "top": null,
            "grid_column": null,
            "overflow_y": null,
            "overflow_x": null,
            "grid_auto_flow": null,
            "grid_area": null,
            "grid_template_columns": null,
            "flex": null,
            "_model_name": "LayoutModel",
            "justify_items": null,
            "grid_row": null,
            "max_height": null,
            "align_content": null,
            "visibility": null,
            "align_self": null,
            "height": null,
            "min_height": null,
            "padding": null,
            "grid_auto_rows": null,
            "grid_gap": null,
            "max_width": null,
            "order": null,
            "_view_module_version": "1.2.0",
            "grid_template_areas": null,
            "object_position": null,
            "object_fit": null,
            "grid_auto_columns": null,
            "margin": null,
            "display": null,
            "left": null
          }
        },
        "78e2138c12d34fc887fc41737b28984e": {
          "model_module": "@jupyter-widgets/controls",
          "model_name": "ProgressStyleModel",
          "model_module_version": "1.5.0",
          "state": {
            "_view_name": "StyleView",
            "_model_name": "ProgressStyleModel",
            "description_width": "",
            "_view_module": "@jupyter-widgets/base",
            "_model_module_version": "1.5.0",
            "_view_count": null,
            "_view_module_version": "1.2.0",
            "bar_color": null,
            "_model_module": "@jupyter-widgets/controls"
          }
        },
        "c85863d494f949fc9aef026cdd0dc1d8": {
          "model_module": "@jupyter-widgets/base",
          "model_name": "LayoutModel",
          "model_module_version": "1.2.0",
          "state": {
            "_view_name": "LayoutView",
            "grid_template_rows": null,
            "right": null,
            "justify_content": null,
            "_view_module": "@jupyter-widgets/base",
            "overflow": null,
            "_model_module_version": "1.2.0",
            "_view_count": null,
            "flex_flow": null,
            "width": null,
            "min_width": null,
            "border": null,
            "align_items": null,
            "bottom": null,
            "_model_module": "@jupyter-widgets/base",
            "top": null,
            "grid_column": null,
            "overflow_y": null,
            "overflow_x": null,
            "grid_auto_flow": null,
            "grid_area": null,
            "grid_template_columns": null,
            "flex": null,
            "_model_name": "LayoutModel",
            "justify_items": null,
            "grid_row": null,
            "max_height": null,
            "align_content": null,
            "visibility": null,
            "align_self": null,
            "height": null,
            "min_height": null,
            "padding": null,
            "grid_auto_rows": null,
            "grid_gap": null,
            "max_width": null,
            "order": null,
            "_view_module_version": "1.2.0",
            "grid_template_areas": null,
            "object_position": null,
            "object_fit": null,
            "grid_auto_columns": null,
            "margin": null,
            "display": null,
            "left": null
          }
        },
        "72690e04d77e48bd98cd6e62b90f4e2a": {
          "model_module": "@jupyter-widgets/controls",
          "model_name": "DescriptionStyleModel",
          "model_module_version": "1.5.0",
          "state": {
            "_view_name": "StyleView",
            "_model_name": "DescriptionStyleModel",
            "description_width": "",
            "_view_module": "@jupyter-widgets/base",
            "_model_module_version": "1.5.0",
            "_view_count": null,
            "_view_module_version": "1.2.0",
            "_model_module": "@jupyter-widgets/controls"
          }
        },
        "d7f2af1194a846bbbaaba8a3e009ef00": {
          "model_module": "@jupyter-widgets/base",
          "model_name": "LayoutModel",
          "model_module_version": "1.2.0",
          "state": {
            "_view_name": "LayoutView",
            "grid_template_rows": null,
            "right": null,
            "justify_content": null,
            "_view_module": "@jupyter-widgets/base",
            "overflow": null,
            "_model_module_version": "1.2.0",
            "_view_count": null,
            "flex_flow": null,
            "width": null,
            "min_width": null,
            "border": null,
            "align_items": null,
            "bottom": null,
            "_model_module": "@jupyter-widgets/base",
            "top": null,
            "grid_column": null,
            "overflow_y": null,
            "overflow_x": null,
            "grid_auto_flow": null,
            "grid_area": null,
            "grid_template_columns": null,
            "flex": null,
            "_model_name": "LayoutModel",
            "justify_items": null,
            "grid_row": null,
            "max_height": null,
            "align_content": null,
            "visibility": null,
            "align_self": null,
            "height": null,
            "min_height": null,
            "padding": null,
            "grid_auto_rows": null,
            "grid_gap": null,
            "max_width": null,
            "order": null,
            "_view_module_version": "1.2.0",
            "grid_template_areas": null,
            "object_position": null,
            "object_fit": null,
            "grid_auto_columns": null,
            "margin": null,
            "display": null,
            "left": null
          }
        }
      }
    }
  },
  "cells": [
    {
      "cell_type": "markdown",
      "metadata": {
        "id": "view-in-github",
        "colab_type": "text"
      },
      "source": [
        "<a href=\"https://colab.research.google.com/github/MeenTers/Project/blob/main/Compare_view_3D.ipynb\" target=\"_parent\"><img src=\"https://colab.research.google.com/assets/colab-badge.svg\" alt=\"Open In Colab\"/></a>"
      ]
    },
    {
      "cell_type": "markdown",
      "source": [
        "#Import Function "
      ],
      "metadata": {
        "id": "RCifPWjNGF9O"
      }
    },
    {
      "cell_type": "code",
      "execution_count": 1,
      "metadata": {
        "colab": {
          "base_uri": "https://localhost:8080/"
        },
        "id": "Vs1yLYi3GACt",
        "outputId": "2bdbd7e5-5cc6-40a7-de86-c49d21615c45"
      },
      "outputs": [
        {
          "output_type": "stream",
          "name": "stdout",
          "text": [
            "Mounted at /content/drive\n"
          ]
        }
      ],
      "source": [
        "from google.colab import drive\n",
        "drive.mount('/content/drive')"
      ]
    },
    {
      "cell_type": "code",
      "source": [
        "import torch\n",
        "from torch import nn, load, utils\n",
        "from tqdm import tqdm\n",
        "import matplotlib.pyplot as plt\n",
        "import numpy as np\n",
        "from torchvision import datasets, transforms, models\n",
        "from torchvision.models.vgg import model_urls\n",
        "from os import path, listdir\n",
        "model_urls['vgg19'] = model_urls['vgg19'].replace('https://', 'http://')"
      ],
      "metadata": {
        "id": "t2dRRR1tGLNk"
      },
      "execution_count": 2,
      "outputs": []
    },
    {
      "cell_type": "code",
      "source": [
        "from scipy.spatial import distance_matrix\n",
        "from scipy.spatial import distance\n",
        "import pandas as pd"
      ],
      "metadata": {
        "id": "k4JEndSuGbIz"
      },
      "execution_count": 3,
      "outputs": []
    },
    {
      "cell_type": "code",
      "source": [
        "import matplotlib.image as mpimg\n",
        "import matplotlib.pyplot as plt\n",
        "import cv2"
      ],
      "metadata": {
        "id": "2GROTTOAHA83"
      },
      "execution_count": 4,
      "outputs": []
    },
    {
      "cell_type": "markdown",
      "source": [
        "# VGG model"
      ],
      "metadata": {
        "id": "Lyfjjxb6GfyL"
      }
    },
    {
      "cell_type": "code",
      "source": [
        "class VGG:\n",
        "\tdef __init__(self):\n",
        "\t\tmodel = models.vgg19(pretrained=True, progress=True)\n",
        "\t\tmodel.classifier = nn.Sequential(*list(model.classifier.children())[:3])\n",
        "\t\tself.model = model.cuda().eval()\n",
        "\n",
        "\tdef __call__(self, x):\n",
        "\t\treturn self.model(x)"
      ],
      "metadata": {
        "id": "bEqIhQocGc8B"
      },
      "execution_count": 5,
      "outputs": []
    },
    {
      "cell_type": "code",
      "source": [
        "vgg = VGG()"
      ],
      "metadata": {
        "colab": {
          "base_uri": "https://localhost:8080/",
          "height": 66,
          "referenced_widgets": [
            "f3f2788308514b33a5454340ae33517c",
            "141ad7c3b8df4054b0ffb1a7bd818c4d",
            "bcf55c2832314124bc11d472c37f5893",
            "699a289bd88e42729999af9547909e91",
            "c19e9150aae74aa6b1cf6c24471fbb21",
            "7d5bff17192b4d7ea4bd6d4957012403",
            "a467db9117b343f2b71c155e73ac4a9d",
            "78e2138c12d34fc887fc41737b28984e",
            "c85863d494f949fc9aef026cdd0dc1d8",
            "72690e04d77e48bd98cd6e62b90f4e2a",
            "d7f2af1194a846bbbaaba8a3e009ef00"
          ]
        },
        "id": "ZoU8n-JuGiyc",
        "outputId": "3042fc1f-a9f7-4707-8aba-7ff62691de6f"
      },
      "execution_count": 6,
      "outputs": [
        {
          "output_type": "stream",
          "name": "stderr",
          "text": [
            "Downloading: \"http://download.pytorch.org/models/vgg19-dcbb9e9d.pth\" to /root/.cache/torch/hub/checkpoints/vgg19-dcbb9e9d.pth\n"
          ]
        },
        {
          "output_type": "display_data",
          "data": {
            "application/vnd.jupyter.widget-view+json": {
              "model_id": "f3f2788308514b33a5454340ae33517c",
              "version_minor": 0,
              "version_major": 2
            },
            "text/plain": [
              "  0%|          | 0.00/548M [00:00<?, ?B/s]"
            ]
          },
          "metadata": {}
        }
      ]
    },
    {
      "cell_type": "markdown",
      "source": [
        "# Create Features Extraction Function"
      ],
      "metadata": {
        "id": "Lc9HW6g9GmMr"
      }
    },
    {
      "cell_type": "code",
      "source": [
        "def get_features(model, loader):\n",
        "    features = []\n",
        "    with torch.no_grad():\n",
        "        for batch, _ in tqdm(loader):\n",
        "            if torch.cuda.is_available():\n",
        "                batch = batch.cuda()\n",
        "            b_features = model(batch).detach().cpu().numpy()\n",
        "            for f in b_features:\n",
        "                features.append(f)\n",
        "\n",
        "    return features"
      ],
      "metadata": {
        "id": "dJAfzDItGkbA"
      },
      "execution_count": 7,
      "outputs": []
    },
    {
      "cell_type": "markdown",
      "source": [
        "# Create Loading the data Function"
      ],
      "metadata": {
        "id": "vo7DZUIMGsZl"
      }
    },
    {
      "cell_type": "code",
      "source": [
        "def get_dataset(images_path):\n",
        "  transform = transforms.Compose([\n",
        "    transforms.Resize(size=32),\n",
        "    transforms.ToTensor(),\n",
        "    transforms.Normalize((0.4914, 0.4822, 0.4465), (0.2023, 0.1994, 0.2010)),\n",
        "  ])\n",
        "\n",
        "  dataset = datasets.ImageFolder(images_path, transform=transform)\n",
        "  loader = utils.data.DataLoader(dataset, batch_size=100, shuffle=False, num_workers=1, pin_memory=True)\n",
        "  return dataset, loader"
      ],
      "metadata": {
        "id": "g3ddS3VgGqff"
      },
      "execution_count": 8,
      "outputs": []
    },
    {
      "cell_type": "markdown",
      "source": [
        "# Install Font TH-SARABUN"
      ],
      "metadata": {
        "id": "RzEGaigNG2D5"
      }
    },
    {
      "cell_type": "code",
      "source": [
        "!wget -q https://github.com/Phonbopit/sarabun-webfont/raw/master/fonts/thsarabunnew-webfont.ttf"
      ],
      "metadata": {
        "id": "McraPuLYGxC6"
      },
      "execution_count": 9,
      "outputs": []
    },
    {
      "cell_type": "code",
      "source": [
        "# !pip install -U --pre matplotlib  \n",
        "import matplotlib as mpl\n",
        "mpl.font_manager.fontManager.addfont('thsarabunnew-webfont.ttf')\n",
        "mpl.rc('font', family='TH Sarabun New')"
      ],
      "metadata": {
        "id": "KyYcrXj8G8nh"
      },
      "execution_count": 10,
      "outputs": []
    },
    {
      "cell_type": "markdown",
      "source": [
        "# Create Compute Distance Function"
      ],
      "metadata": {
        "id": "TjMs0MpdHIWY"
      }
    },
    {
      "cell_type": "code",
      "source": [
        "def get_euclidean(base_car,diff_view):\n",
        "    A = []\n",
        "    for i in range(len(diff_view)):\n",
        "        x = distance.euclidean(base_car[i],diff_view[i])\n",
        "        A.append(x)\n",
        "    return(A)"
      ],
      "metadata": {
        "id": "4zXUl7NMG-rV"
      },
      "execution_count": 11,
      "outputs": []
    },
    {
      "cell_type": "markdown",
      "source": [
        "# Create Function Show Image"
      ],
      "metadata": {
        "id": "HG0OFlYSjW1z"
      }
    },
    {
      "cell_type": "markdown",
      "source": [
        "# เปรียบเทียบกระจกรถ"
      ],
      "metadata": {
        "id": "O3htIs9M1xj8"
      }
    },
    {
      "cell_type": "code",
      "source": [
        "car1_dataset , car1_loader = get_dataset(r'/content/drive/MyDrive/3D_Model/mirror/base')\n",
        "dmg1_dataset , dmg1_loader = get_dataset(r'/content/drive/MyDrive/3D_Model/mirror/dmg')"
      ],
      "metadata": {
        "id": "n678MkEi11d7"
      },
      "execution_count": 12,
      "outputs": []
    },
    {
      "cell_type": "code",
      "source": [
        "id1b = get_features(vgg,car1_loader)\n",
        "id1v = get_features(vgg,dmg1_loader)"
      ],
      "metadata": {
        "id": "wuPk-CAn2XuF",
        "outputId": "935159b8-c7d3-4dd9-e553-53e5d2c0ce1c",
        "colab": {
          "base_uri": "https://localhost:8080/"
        }
      },
      "execution_count": 13,
      "outputs": [
        {
          "output_type": "stream",
          "name": "stderr",
          "text": [
            "100%|██████████| 1/1 [00:03<00:00,  3.30s/it]\n",
            "100%|██████████| 1/1 [00:02<00:00,  2.88s/it]\n"
          ]
        }
      ]
    },
    {
      "cell_type": "code",
      "source": [
        "id_mir = get_euclidean(id1b,id1v)\n",
        "id_mir "
      ],
      "metadata": {
        "id": "Q-aFcBVD2mTD",
        "outputId": "84999aaf-2189-49a6-8ae0-1b06133613b9",
        "colab": {
          "base_uri": "https://localhost:8080/"
        }
      },
      "execution_count": 14,
      "outputs": [
        {
          "output_type": "execute_result",
          "data": {
            "text/plain": [
              "[23.09232521057129,\n",
              " 21.460844039916992,\n",
              " 12.544066429138184,\n",
              " 25.223430633544922,\n",
              " 22.75872039794922,\n",
              " 14.932421684265137,\n",
              " 11.871809005737305,\n",
              " 21.483619689941406,\n",
              " 5.219032287597656,\n",
              " 15.96945571899414]"
            ]
          },
          "metadata": {},
          "execution_count": 14
        }
      ]
    },
    {
      "cell_type": "code",
      "source": [
        "id1f = cv2.imread('/content/drive/MyDrive/3D_Model/mirror/base/test/ID1F.png')\n",
        "id1_1 = cv2.imread('/content/drive/MyDrive/3D_Model/mirror/dmg/test/ID1_1.png')\n",
        "id3f = cv2.imread('/content/drive/MyDrive/3D_Model/mirror/base/test/ID3F.png')\n",
        "id3_1 = cv2.imread('/content/drive/MyDrive/3D_Model/mirror/dmg/test/ID3_1.png')"
      ],
      "metadata": {
        "id": "TEa9m-ig4O6z"
      },
      "execution_count": 15,
      "outputs": []
    },
    {
      "cell_type": "code",
      "source": [
        "# create figure\n",
        "fig = plt.figure(figsize=(15, 10))\n",
        "  # setting values to rows and column variables\n",
        "rows = 2\n",
        "columns = 2\n",
        "  # Adds a subplot at the 1st position\n",
        "fig.add_subplot(rows, columns, 1)\n",
        "  # showing image\n",
        "plt.imshow(id1f)\n",
        "plt.axis('off')\n",
        "plt.title('ด้านหน้ารถยนต์')\n",
        "\n",
        "# Adds a subplot at the 2nd position\n",
        "fig.add_subplot(rows, columns, 2)  \n",
        "# showing image\n",
        "plt.imshow(id1_1)\n",
        "plt.axis('off')\n",
        "plt.title('กระจกมองข้างเสียหาย')\n",
        "plt.text(200,400,'Distance = '+str(round(id_mir[1],3)),fontsize = 15,bbox = dict(facecolor = 'red', alpha = 0.5))\n",
        "        \n",
        "# Adds a subplot at the 3rd position\n",
        "fig.add_subplot(rows, columns, 3)\n",
        "  # showing image\n",
        "plt.imshow(id3f)\n",
        "plt.axis('off')\n",
        "plt.title('ด้านหน้ารถยนต์')\n",
        "\n",
        "  # Adds a subplot at the 4th position\n",
        "fig.add_subplot(rows, columns, 4)\n",
        "  # showing image\n",
        "plt.imshow(id3_1)\n",
        "plt.axis('off')\n",
        "plt.title('กระจกมองข้างเสียหาย')\n",
        "plt.text(200,400,'Distance = '+str(round(id_mir[3],3)),fontsize = 15,bbox = dict(facecolor = 'red', alpha = 0.5))"
      ],
      "metadata": {
        "id": "LQsqB-Yr3Oz-",
        "outputId": "45052d5e-7675-4718-bd77-d8cd8990458a",
        "colab": {
          "base_uri": "https://localhost:8080/",
          "height": 0
        }
      },
      "execution_count": 16,
      "outputs": [
        {
          "output_type": "execute_result",
          "data": {
            "text/plain": [
              "Text(200, 400, 'Distance = 25.223')"
            ]
          },
          "metadata": {},
          "execution_count": 16
        },
        {
          "output_type": "display_data",
          "data": {
            "image/png": "[encoded data removed]",
            "text/plain": [
              "<Figure size 1080x720 with 4 Axes>"
            ]
          },
          "metadata": {
            "needs_background": "light"
          }
        }
      ]
    },
    {
      "cell_type": "code",
      "source": [
        "id5f = cv2.imread('/content/drive/MyDrive/3D_Model/mirror/base/test/ID5F.png')\n",
        "id5_1 = cv2.imread('/content/drive/MyDrive/3D_Model/mirror/dmg/test/ID5_1.png')\n",
        "id8f = cv2.imread('/content/drive/MyDrive/3D_Model/mirror/base/test/ID8F.png')\n",
        "id8_1 = cv2.imread('/content/drive/MyDrive/3D_Model/mirror/dmg/test/ID8_1.png')"
      ],
      "metadata": {
        "id": "xEG0W33a6Qri"
      },
      "execution_count": 17,
      "outputs": []
    },
    {
      "cell_type": "code",
      "source": [
        "# create figure\n",
        "fig = plt.figure(figsize=(15, 10))\n",
        "  # setting values to rows and column variables\n",
        "rows = 2\n",
        "columns = 2\n",
        "  # Adds a subplot at the 1st position\n",
        "fig.add_subplot(rows, columns, 1)\n",
        "  # showing image\n",
        "plt.imshow(id5f)\n",
        "plt.axis('off')\n",
        "plt.title('ด้านหน้ารถยนต์')\n",
        "\n",
        "# Adds a subplot at the 2nd position\n",
        "fig.add_subplot(rows, columns, 2)  \n",
        "# showing image\n",
        "plt.imshow(id5_1)\n",
        "plt.axis('off')\n",
        "plt.title('กระจกมองข้างเสียหาย')\n",
        "plt.text(200,400,'Distance = '+str(round(id_mir[5],3)),fontsize = 15,bbox = dict(facecolor = 'red', alpha = 0.5))\n",
        "        \n",
        "# Adds a subplot at the 3rd position\n",
        "fig.add_subplot(rows, columns, 3)\n",
        "  # showing image\n",
        "plt.imshow(id8f)\n",
        "plt.axis('off')\n",
        "plt.title('ด้านหน้ารถยนต์')\n",
        "\n",
        "  # Adds a subplot at the 4th position\n",
        "fig.add_subplot(rows, columns, 4)\n",
        "  # showing image\n",
        "plt.imshow(id8_1)\n",
        "plt.axis('off')\n",
        "plt.title('กระจกมองข้างเสียหาย')\n",
        "plt.text(200,400,'Distance = '+str(round(id_mir[8],3)),fontsize = 15,bbox = dict(facecolor = 'red', alpha = 0.5))"
      ],
      "metadata": {
        "id": "l1Jw2Fl_4Hen",
        "outputId": "f0221c6e-3d4c-415b-c958-b6f7ef651df5",
        "colab": {
          "base_uri": "https://localhost:8080/",
          "height": 0
        }
      },
      "execution_count": 18,
      "outputs": [
        {
          "output_type": "execute_result",
          "data": {
            "text/plain": [
              "Text(200, 400, 'Distance = 5.219')"
            ]
          },
          "metadata": {},
          "execution_count": 18
        },
        {
          "output_type": "display_data",
          "data": {
            "image/png": "[encoded data removed]",
            "text/plain": [
              "<Figure size 1080x720 with 4 Axes>"
            ]
          },
          "metadata": {
            "needs_background": "light"
          }
        }
      ]
    },
    {
      "cell_type": "markdown",
      "source": [
        "# เปรียบด้านหน้ารถ"
      ],
      "metadata": {
        "id": "VKXWEC36i4Hf"
      }
    },
    {
      "cell_type": "code",
      "source": [
        "car2_dataset , car2_loader = get_dataset(r'/content/drive/MyDrive/3D_Model/front/base')\n",
        "dmg2_dataset , dmg2_loader = get_dataset(r'/content/drive/MyDrive/3D_Model/front/dmg')"
      ],
      "metadata": {
        "id": "AAK1mMow6VuQ"
      },
      "execution_count": 19,
      "outputs": []
    },
    {
      "cell_type": "code",
      "source": [
        "id2b = get_features(vgg,car2_loader)\n",
        "id2v = get_features(vgg,dmg2_loader)"
      ],
      "metadata": {
        "colab": {
          "base_uri": "https://localhost:8080/"
        },
        "id": "oblFPN0PjJzF",
        "outputId": "768afcfb-da29-4525-f625-cfd58d02e556"
      },
      "execution_count": 20,
      "outputs": [
        {
          "output_type": "stream",
          "name": "stderr",
          "text": [
            "100%|██████████| 1/1 [00:01<00:00,  1.42s/it]\n",
            "100%|██████████| 1/1 [00:02<00:00,  2.32s/it]\n"
          ]
        }
      ]
    },
    {
      "cell_type": "code",
      "source": [
        "id_front = get_euclidean(id2b,id2v)\n",
        "id_front"
      ],
      "metadata": {
        "colab": {
          "base_uri": "https://localhost:8080/"
        },
        "id": "_efeChXAjtO-",
        "outputId": "9de9f1ff-3a66-4d15-fca3-75a3d4aaec86"
      },
      "execution_count": 21,
      "outputs": [
        {
          "output_type": "execute_result",
          "data": {
            "text/plain": [
              "[4.731649875640869,\n",
              " 10.689799308776855,\n",
              " 13.018043518066406,\n",
              " 4.00739049911499,\n",
              " 6.044846534729004,\n",
              " 37.668819427490234,\n",
              " 11.454874038696289,\n",
              " 3.5701797008514404,\n",
              " 21.975290298461914]"
            ]
          },
          "metadata": {},
          "execution_count": 21
        }
      ]
    },
    {
      "cell_type": "code",
      "source": [
        "id1f = cv2.imread('/content/drive/MyDrive/3D_Model/mirror/base/test/ID1F.png')\n",
        "id1dmgf = cv2.imread('/content/drive/MyDrive/3D_Model/front/dmg/test/ID1dmgf.png')\n",
        "id3f = cv2.imread('/content/drive/MyDrive/3D_Model/front/base/test/ID3F.png')\n",
        "id3dmgf = cv2.imread('/content/drive/MyDrive/3D_Model/front/dmg/test/ID3dmgf.png')"
      ],
      "metadata": {
        "id": "cSv9BiiHjzAN"
      },
      "execution_count": 22,
      "outputs": []
    },
    {
      "cell_type": "code",
      "source": [
        "# create figure\n",
        "fig = plt.figure(figsize=(15, 10))\n",
        "  # setting values to rows and column variables\n",
        "rows = 2\n",
        "columns = 2\n",
        "  # Adds a subplot at the 1st position\n",
        "fig.add_subplot(rows, columns, 1)\n",
        "  # showing image\n",
        "plt.imshow(id1f)\n",
        "plt.axis('off')\n",
        "plt.title('ด้านหน้ารถยนต์')\n",
        "\n",
        "# Adds a subplot at the 2nd position\n",
        "fig.add_subplot(rows, columns, 2)  \n",
        "# showing image\n",
        "plt.imshow(id1dmgf)\n",
        "plt.axis('off')\n",
        "plt.title('หน้ารถยนต์เสียหาย')\n",
        "plt.text(200,400,'Distance = '+str(round(id_front[1],3)),fontsize = 15,bbox = dict(facecolor = 'red', alpha = 0.5))\n",
        "        \n",
        "# Adds a subplot at the 3rd position\n",
        "fig.add_subplot(rows, columns, 3)\n",
        "  # showing image\n",
        "plt.imshow(id3f)\n",
        "plt.axis('off')\n",
        "plt.title('ด้านหน้ารถยนต์')\n",
        "\n",
        "  # Adds a subplot at the 4th position\n",
        "fig.add_subplot(rows, columns, 4)\n",
        "  # showing image\n",
        "plt.imshow(id3dmgf)\n",
        "plt.axis('off')\n",
        "plt.title('หน้ารถยนต์เสียหาย')\n",
        "plt.text(200,400,'Distance = '+str(round(id_front[3],3)),fontsize = 15,bbox = dict(facecolor = 'red', alpha = 0.5))"
      ],
      "metadata": {
        "colab": {
          "base_uri": "https://localhost:8080/",
          "height": 609
        },
        "id": "40SCeV6WpafH",
        "outputId": "3d557536-db6a-450b-d984-55b9a5b37575"
      },
      "execution_count": 23,
      "outputs": [
        {
          "output_type": "execute_result",
          "data": {
            "text/plain": [
              "Text(200, 400, 'Distance = 4.007')"
            ]
          },
          "metadata": {},
          "execution_count": 23
        },
        {
          "output_type": "display_data",
          "data": {
            "image/png": "[encoded data removed]",
            "text/plain": [
              "<Figure size 1080x720 with 4 Axes>"
            ]
          },
          "metadata": {
            "needs_background": "light"
          }
        }
      ]
    },
    {
      "cell_type": "code",
      "source": [
        "min(id_front)"
      ],
      "metadata": {
        "colab": {
          "base_uri": "https://localhost:8080/"
        },
        "id": "wHzvPYhJpmK2",
        "outputId": "eb7528e0-b62e-4223-c808-a3401d8b93c7"
      },
      "execution_count": 24,
      "outputs": [
        {
          "output_type": "execute_result",
          "data": {
            "text/plain": [
              "3.5701797008514404"
            ]
          },
          "metadata": {},
          "execution_count": 24
        }
      ]
    },
    {
      "cell_type": "code",
      "source": [
        "max(id_front)"
      ],
      "metadata": {
        "colab": {
          "base_uri": "https://localhost:8080/"
        },
        "id": "jR-pgDIn-t1y",
        "outputId": "91834179-f3f0-4c34-a582-45f70011c9e7"
      },
      "execution_count": 25,
      "outputs": [
        {
          "output_type": "execute_result",
          "data": {
            "text/plain": [
              "37.668819427490234"
            ]
          },
          "metadata": {},
          "execution_count": 25
        }
      ]
    },
    {
      "cell_type": "markdown",
      "source": [
        "# Create Scale Normalize front car"
      ],
      "metadata": {
        "id": "P1MQKW3mBBl0"
      }
    },
    {
      "cell_type": "code",
      "source": [
        "def get_damage(distance):\n",
        "    f_car = ((distance[0] - 3.57)/(37.564-3.57)*100)\n",
        "    r_car = ((distance[1] - 4.308)/(37.966-4.308)*100)\n",
        "    b_car = ((distance[2] - 3.401)/(21.090-3.401)*100)\n",
        "    l_car = ((distance[3] - 4.308)/(37.564-4.308)*100)\n",
        "    print(f'ด้านหน้าของรถยนต์มีความเสียหาย {round(f_car,2)}%')\n",
        "    print(f'ด้านขวาของรถยนต์มีความเสียหาย {round(r_car,2)}%')\n",
        "    print(f'ด้านหลังของรถยนต์มีความเสียหาย {round(b_car,2)}%')\n",
        "    print(f'ด้านซ้ายของรถยนต์มีความเสียหาย {round(l_car,2)}%')"
      ],
      "metadata": {
        "id": "fAaveNNFAP4Z"
      },
      "execution_count": 26,
      "outputs": []
    },
    {
      "cell_type": "code",
      "source": [
        "get_damage(id_front)"
      ],
      "metadata": {
        "colab": {
          "base_uri": "https://localhost:8080/"
        },
        "id": "OLihMGzwCweR",
        "outputId": "b934925c-1a59-454d-a1bf-59ad35f2fe82"
      },
      "execution_count": 27,
      "outputs": [
        {
          "output_type": "stream",
          "name": "stdout",
          "text": [
            "ด้านหน้าของรถยนต์มีความเสียหาย 3.42%\n",
            "ด้านขวาของรถยนต์มีความเสียหาย 18.96%\n",
            "ด้านหลังของรถยนต์มีความเสียหาย 54.37%\n",
            "ด้านซ้ายของรถยนต์มีความเสียหาย -0.9%\n"
          ]
        }
      ]
    },
    {
      "cell_type": "markdown",
      "source": [
        "# เปรียบเทียบด้านขวารถยนต์"
      ],
      "metadata": {
        "id": "gUm_QP7YHpd4"
      }
    },
    {
      "cell_type": "code",
      "source": [
        "car3_dataset , car3_loader = get_dataset(r'/content/drive/MyDrive/3D_Model/right/base')\n",
        "dmg3_dataset , dmg3_loader = get_dataset(r'/content/drive/MyDrive/3D_Model/right/dmg')"
      ],
      "metadata": {
        "id": "4gEDXXvSH7qM"
      },
      "execution_count": 28,
      "outputs": []
    },
    {
      "cell_type": "code",
      "source": [
        "id3b = get_features(vgg,car3_loader)\n",
        "id3v = get_features(vgg,dmg3_loader)"
      ],
      "metadata": {
        "id": "S1Xzm1NOZCex",
        "outputId": "1af409a8-d7cf-4032-ab28-35ffd020a79e",
        "colab": {
          "base_uri": "https://localhost:8080/"
        }
      },
      "execution_count": 29,
      "outputs": [
        {
          "output_type": "stream",
          "name": "stderr",
          "text": [
            "100%|██████████| 1/1 [00:02<00:00,  2.54s/it]\n",
            "100%|██████████| 1/1 [00:02<00:00,  2.64s/it]\n"
          ]
        }
      ]
    },
    {
      "cell_type": "code",
      "source": [
        "id_right = get_euclidean(id3b,id3v)\n",
        "id_right"
      ],
      "metadata": {
        "id": "FmRHAsMFZZFe",
        "outputId": "c5c95ed7-8bcd-4436-e8e8-551ec2f6a03f",
        "colab": {
          "base_uri": "https://localhost:8080/"
        }
      },
      "execution_count": 30,
      "outputs": [
        {
          "output_type": "execute_result",
          "data": {
            "text/plain": [
              "[13.149837493896484,\n",
              " 7.669874668121338,\n",
              " 14.639954566955566,\n",
              " 37.9657096862793,\n",
              " 25.131519317626953,\n",
              " 6.752801895141602,\n",
              " 4.3077239990234375,\n",
              " 8.920160293579102,\n",
              " 10.341771125793457]"
            ]
          },
          "metadata": {},
          "execution_count": 30
        }
      ]
    },
    {
      "cell_type": "code",
      "source": [
        "max(id_right)"
      ],
      "metadata": {
        "id": "RlWNMe6OZfSD",
        "outputId": "3948a4c1-355c-4ec4-bb5d-b1907ce09d1e",
        "colab": {
          "base_uri": "https://localhost:8080/"
        }
      },
      "execution_count": 31,
      "outputs": [
        {
          "output_type": "execute_result",
          "data": {
            "text/plain": [
              "37.9657096862793"
            ]
          },
          "metadata": {},
          "execution_count": 31
        }
      ]
    },
    {
      "cell_type": "code",
      "source": [
        "min(id_right)"
      ],
      "metadata": {
        "id": "9jbIBcnVZ0q9",
        "outputId": "1d69f225-690d-451d-b9ba-8bcc48854d47",
        "colab": {
          "base_uri": "https://localhost:8080/"
        }
      },
      "execution_count": 32,
      "outputs": [
        {
          "output_type": "execute_result",
          "data": {
            "text/plain": [
              "4.3077239990234375"
            ]
          },
          "metadata": {},
          "execution_count": 32
        }
      ]
    },
    {
      "cell_type": "code",
      "source": [
        "id1r = cv2.imread('/content/drive/MyDrive/3D_Model/right/base/test/ID1R.png')\n",
        "id1dmgr = cv2.imread('/content/drive/MyDrive/3D_Model/right/dmg/test/ID1dmgr.png')\n",
        "id3r = cv2.imread('/content/drive/MyDrive/3D_Model/right/base/test/ID3R.png')\n",
        "id3dmgr = cv2.imread('/content/drive/MyDrive/3D_Model/right/dmg/test/ID3dmgr.png')"
      ],
      "metadata": {
        "id": "kxrYRQcJCnnV"
      },
      "execution_count": 38,
      "outputs": []
    },
    {
      "cell_type": "code",
      "source": [
        "# create figure\n",
        "fig = plt.figure(figsize=(15, 10))\n",
        "  # setting values to rows and column variables\n",
        "rows = 2\n",
        "columns = 2\n",
        "  # Adds a subplot at the 1st position\n",
        "fig.add_subplot(rows, columns, 1)\n",
        "  # showing image\n",
        "plt.imshow(id1r)\n",
        "plt.axis('off')\n",
        "plt.title('ด้านขวารถยนต์')\n",
        "\n",
        "# Adds a subplot at the 2nd position\n",
        "fig.add_subplot(rows, columns, 2)  \n",
        "# showing image\n",
        "plt.imshow(id1dmgr)\n",
        "plt.axis('off')\n",
        "plt.title('ด้านขวารถยนต์เสียหาย')\n",
        "plt.text(200,400,'Distance = '+str(round(id_right[1],3)),fontsize = 15,bbox = dict(facecolor = 'red', alpha = 0.5))\n",
        "        \n",
        "# Adds a subplot at the 3rd position\n",
        "fig.add_subplot(rows, columns, 3)\n",
        "  # showing image\n",
        "plt.imshow(id3r)\n",
        "plt.axis('off')\n",
        "plt.title('ด้านขวารถยนต์')\n",
        "\n",
        "  # Adds a subplot at the 4th position\n",
        "fig.add_subplot(rows, columns, 4)\n",
        "  # showing image\n",
        "plt.imshow(id3dmgr)\n",
        "plt.axis('off')\n",
        "plt.title('ด้านขวารถยนต์เสียหาย')\n",
        "plt.text(200,400,'Distance = '+str(round(id_right[3],3)),fontsize = 15,bbox = dict(facecolor = 'red', alpha = 0.5))"
      ],
      "metadata": {
        "id": "6nriCyo0DGvs",
        "outputId": "274f0a80-daeb-47a6-cfd5-135645ec66b3",
        "colab": {
          "base_uri": "https://localhost:8080/",
          "height": 609
        }
      },
      "execution_count": 42,
      "outputs": [
        {
          "output_type": "execute_result",
          "data": {
            "text/plain": [
              "Text(200, 400, 'Distance = 37.966')"
            ]
          },
          "metadata": {},
          "execution_count": 42
        },
        {
          "output_type": "display_data",
          "data": {
            "image/png": "[encoded data removed]",
            "text/plain": [
              "<Figure size 1080x720 with 4 Axes>"
            ]
          },
          "metadata": {
            "needs_background": "light"
          }
        }
      ]
    },
    {
      "cell_type": "markdown",
      "source": [
        "# เปรียบเทียบด้านหลังรถยนต์"
      ],
      "metadata": {
        "id": "CJex8wnDalC1"
      }
    },
    {
      "cell_type": "code",
      "source": [
        "car4_dataset , car4_loader = get_dataset(r'/content/drive/MyDrive/3D_Model/back/base')\n",
        "dmg4_dataset , dmg4_loader = get_dataset(r'/content/drive/MyDrive/3D_Model/back/dmg')"
      ],
      "metadata": {
        "id": "d7jvvDv3Z26s"
      },
      "execution_count": 33,
      "outputs": []
    },
    {
      "cell_type": "code",
      "source": [
        "id4b = get_features(vgg,car4_loader)\n",
        "id4v = get_features(vgg,dmg4_loader)"
      ],
      "metadata": {
        "id": "ELkKPn0xr0z6",
        "outputId": "244fbd97-8691-4aa5-e165-0d9c2ed3eb82",
        "colab": {
          "base_uri": "https://localhost:8080/"
        }
      },
      "execution_count": 34,
      "outputs": [
        {
          "output_type": "stream",
          "name": "stderr",
          "text": [
            "100%|██████████| 1/1 [00:03<00:00,  3.01s/it]\n",
            "100%|██████████| 1/1 [00:02<00:00,  2.68s/it]\n"
          ]
        }
      ]
    },
    {
      "cell_type": "code",
      "source": [
        "id_back = get_euclidean(id4b,id4v)\n",
        "id_back"
      ],
      "metadata": {
        "id": "bLminhTdr2pi",
        "outputId": "ab9db51d-080c-46e2-e714-5eef3e5e7e8b",
        "colab": {
          "base_uri": "https://localhost:8080/"
        }
      },
      "execution_count": 35,
      "outputs": [
        {
          "output_type": "execute_result",
          "data": {
            "text/plain": [
              "[3.4010446071624756,\n",
              " 10.535595893859863,\n",
              " 21.090316772460938,\n",
              " 18.096567153930664,\n",
              " 7.489353179931641,\n",
              " 9.452399253845215,\n",
              " 6.244676113128662,\n",
              " 6.499940395355225,\n",
              " 3.6292564868927]"
            ]
          },
          "metadata": {},
          "execution_count": 35
        }
      ]
    },
    {
      "cell_type": "code",
      "source": [
        "min(id_back)"
      ],
      "metadata": {
        "id": "iwxSFhK5r_XV",
        "outputId": "ce318258-c0eb-41ed-c277-8996737f9790",
        "colab": {
          "base_uri": "https://localhost:8080/"
        }
      },
      "execution_count": 36,
      "outputs": [
        {
          "output_type": "execute_result",
          "data": {
            "text/plain": [
              "3.4010446071624756"
            ]
          },
          "metadata": {},
          "execution_count": 36
        }
      ]
    },
    {
      "cell_type": "code",
      "source": [
        "max(id_back)"
      ],
      "metadata": {
        "id": "D0eQyoOzsCPz",
        "outputId": "e8b2fc63-447e-4b04-aac5-61f890c85b78",
        "colab": {
          "base_uri": "https://localhost:8080/"
        }
      },
      "execution_count": 37,
      "outputs": [
        {
          "output_type": "execute_result",
          "data": {
            "text/plain": [
              "21.090316772460938"
            ]
          },
          "metadata": {},
          "execution_count": 37
        }
      ]
    },
    {
      "cell_type": "code",
      "source": [
        "id1b    = cv2.imread('/content/drive/MyDrive/3D_Model/back/base/test/ID1B.png')\n",
        "id1dmgb = cv2.imread('/content/drive/MyDrive/3D_Model/back/dmg/test/ID1dmgb.png')\n",
        "id3b    = cv2.imread('/content/drive/MyDrive/3D_Model/back/base/test/ID3B.png')\n",
        "id3dmgb = cv2.imread('/content/drive/MyDrive/3D_Model/back/dmg/test/ID3dmgb.png')"
      ],
      "metadata": {
        "id": "zCoNIXvBsDqt"
      },
      "execution_count": 46,
      "outputs": []
    },
    {
      "cell_type": "code",
      "source": [
        "# create figure\n",
        "fig = plt.figure(figsize=(15, 10))\n",
        "  # setting values to rows and column variables\n",
        "rows = 2\n",
        "columns = 2\n",
        "  # Adds a subplot at the 1st position\n",
        "fig.add_subplot(rows, columns, 1)\n",
        "  # showing image\n",
        "plt.imshow(id1b)\n",
        "plt.axis('off')\n",
        "plt.title('ด้านหลังรถยนต์')\n",
        "\n",
        "# Adds a subplot at the 2nd position\n",
        "fig.add_subplot(rows, columns, 2)  \n",
        "# showing image\n",
        "plt.imshow(id1dmgb)\n",
        "plt.axis('off')\n",
        "plt.title('ด้านหลังรถยนต์เสียหาย')\n",
        "plt.text(200,400,'Distance = '+str(round(id_back[1],3)),fontsize = 15,bbox = dict(facecolor = 'red', alpha = 0.5))\n",
        "        \n",
        "# Adds a subplot at the 3rd position\n",
        "fig.add_subplot(rows, columns, 3)\n",
        "  # showing image\n",
        "plt.imshow(id3b)\n",
        "plt.axis('off')\n",
        "plt.title('ด้านหลังรถยนต์')\n",
        "\n",
        "  # Adds a subplot at the 4th position\n",
        "fig.add_subplot(rows, columns, 4)\n",
        "  # showing image\n",
        "plt.imshow(id3dmgb)\n",
        "plt.axis('off')\n",
        "plt.title('ด้านหลังรถยนต์เสียหาย')\n",
        "plt.text(200,400,'Distance = '+str(round(id_back[3],3)),fontsize = 15,bbox = dict(facecolor = 'red', alpha = 0.5))"
      ],
      "metadata": {
        "id": "2QZzAhjCENrg",
        "outputId": "b33f65ff-cf11-46cb-8c03-45c91f252000",
        "colab": {
          "base_uri": "https://localhost:8080/",
          "height": 609
        }
      },
      "execution_count": 47,
      "outputs": [
        {
          "output_type": "execute_result",
          "data": {
            "text/plain": [
              "Text(200, 400, 'Distance = 18.097')"
            ]
          },
          "metadata": {},
          "execution_count": 47
        },
        {
          "output_type": "display_data",
          "data": {
            "image/png": "[encoded data removed]",
            "text/plain": [
              "<Figure size 1080x720 with 4 Axes>"
            ]
          },
          "metadata": {
            "needs_background": "light"
          }
        }
      ]
    },
    {
      "cell_type": "markdown",
      "source": [
        "# Left\n"
      ],
      "metadata": {
        "id": "C475yNHtFzMT"
      }
    },
    {
      "cell_type": "code",
      "source": [
        "car4_dataset , car4_loader = get_dataset(r'/content/drive/MyDrive/3D_Model/Left/base')\n",
        "dmg4_dataset , dmg4_loader = get_dataset(r'/content/drive/MyDrive/3D_Model/Left/dmg')"
      ],
      "metadata": {
        "id": "ndraift8FLjv"
      },
      "execution_count": 48,
      "outputs": []
    },
    {
      "cell_type": "code",
      "source": [
        "id4b = get_features(vgg,car4_loader)\n",
        "id4v = get_features(vgg,dmg4_loader)"
      ],
      "metadata": {
        "id": "HfsrNuQPF01x",
        "outputId": "2c080015-e845-41c1-a634-30a56bfc9f34",
        "colab": {
          "base_uri": "https://localhost:8080/"
        }
      },
      "execution_count": 49,
      "outputs": [
        {
          "output_type": "stream",
          "name": "stderr",
          "text": [
            "100%|██████████| 1/1 [00:03<00:00,  3.07s/it]\n",
            "100%|██████████| 1/1 [00:02<00:00,  2.78s/it]\n"
          ]
        }
      ]
    },
    {
      "cell_type": "code",
      "source": [
        "id_left = get_euclidean(id4b,id4v)\n",
        "id_left"
      ],
      "metadata": {
        "id": "cNEt8bYRF2bT",
        "outputId": "07abf526-1197-4446-e27b-c231818229e5",
        "colab": {
          "base_uri": "https://localhost:8080/"
        }
      },
      "execution_count": 50,
      "outputs": [
        {
          "output_type": "execute_result",
          "data": {
            "text/plain": [
              "[29.44742202758789,\n",
              " 21.9086856842041,\n",
              " 14.33310317993164,\n",
              " 48.07469940185547,\n",
              " 29.056917190551758,\n",
              " 11.230436325073242,\n",
              " 15.83128833770752,\n",
              " 15.220380783081055,\n",
              " 23.24848747253418]"
            ]
          },
          "metadata": {},
          "execution_count": 50
        }
      ]
    },
    {
      "cell_type": "code",
      "source": [
        "id1l    = cv2.imread('/content/drive/MyDrive/3D_Model/Left/base/test/ID1L.png')\n",
        "id1dmgl = cv2.imread('/content/drive/MyDrive/3D_Model/Left/dmg/test/ID1dmgl.png')\n",
        "id3l    = cv2.imread('/content/drive/MyDrive/3D_Model/Left/base/test/ID3L.png')\n",
        "id3dmgl = cv2.imread('/content/drive/MyDrive/3D_Model/Left/dmg/test/ID3dmgl.png')"
      ],
      "metadata": {
        "id": "_0RIOTQ_F4Y_"
      },
      "execution_count": 51,
      "outputs": []
    },
    {
      "cell_type": "code",
      "source": [
        "# create figure\n",
        "fig = plt.figure(figsize=(15, 10))\n",
        "  # setting values to rows and column variables\n",
        "rows = 2\n",
        "columns = 2\n",
        "  # Adds a subplot at the 1st position\n",
        "fig.add_subplot(rows, columns, 1)\n",
        "  # showing image\n",
        "plt.imshow(id1l)\n",
        "plt.axis('off')\n",
        "plt.title('ด้านซ้ายรถยนต์')\n",
        "\n",
        "# Adds a subplot at the 2nd position\n",
        "fig.add_subplot(rows, columns, 2)  \n",
        "# showing image\n",
        "plt.imshow(id1dmgl)\n",
        "plt.axis('off')\n",
        "plt.title('ด้านซ้ายรถยนต์เสียหาย')\n",
        "plt.text(200,400,'Distance = '+str(round(id_left[1],3)),fontsize = 15,bbox = dict(facecolor = 'red', alpha = 0.5))\n",
        "        \n",
        "# Adds a subplot at the 3rd position\n",
        "fig.add_subplot(rows, columns, 3)\n",
        "  # showing image\n",
        "plt.imshow(id3l)\n",
        "plt.axis('off')\n",
        "plt.title('ด้านซ้ายรถยนต์')\n",
        "\n",
        "  # Adds a subplot at the 4th position\n",
        "fig.add_subplot(rows, columns, 4)\n",
        "  # showing image\n",
        "plt.imshow(id3dmgl)\n",
        "plt.axis('off')\n",
        "plt.title('ด้านซ้ายรถยนต์เสียหาย')\n",
        "plt.text(200,400,'Distance = '+str(round(id_left[3],3)),fontsize = 15,bbox = dict(facecolor = 'red', alpha = 0.5))"
      ],
      "metadata": {
        "id": "pVB8KOoaGF3t",
        "outputId": "30ed40ee-3473-4cf2-8550-caab7285f815",
        "colab": {
          "base_uri": "https://localhost:8080/",
          "height": 609
        }
      },
      "execution_count": 53,
      "outputs": [
        {
          "output_type": "execute_result",
          "data": {
            "text/plain": [
              "Text(200, 400, 'Distance = 48.075')"
            ]
          },
          "metadata": {},
          "execution_count": 53
        },
        {
          "output_type": "display_data",
          "data": {
            "image/png": "[encoded data removed]",
            "text/plain": [
              "<Figure size 1080x720 with 4 Axes>"
            ]
          },
          "metadata": {
            "needs_background": "light"
          }
        }
      ]
    },
    {
      "cell_type": "code",
      "source": [
        ""
      ],
      "metadata": {
        "id": "Vj0I0-WdGRb0"
      },
      "execution_count": null,
      "outputs": []
    }
  ]
}