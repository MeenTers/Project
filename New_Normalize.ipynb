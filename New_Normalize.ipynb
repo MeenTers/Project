{
  "nbformat": 4,
  "nbformat_minor": 0,
  "metadata": {
    "colab": {
      "name": "New_Normalize.ipynb",
      "provenance": [],
      "authorship_tag": "ABX9TyMuXWRFXUveArEHq4MgVqTP",
      "include_colab_link": true
    },
    "kernelspec": {
      "name": "python3",
      "display_name": "Python 3"
    },
    "language_info": {
      "name": "python"
    },
    "accelerator": "GPU",
    "widgets": {
      "application/vnd.jupyter.widget-state+json": {
        "f0b2e29dca9947fbaeae96af8e03885d": {
          "model_module": "@jupyter-widgets/controls",
          "model_name": "HBoxModel",
          "model_module_version": "1.5.0",
          "state": {
            "_view_name": "HBoxView",
            "_dom_classes": [],
            "_model_name": "HBoxModel",
            "_view_module": "@jupyter-widgets/controls",
            "_model_module_version": "1.5.0",
            "_view_count": null,
            "_view_module_version": "1.5.0",
            "box_style": "",
            "layout": "IPY_MODEL_c70c0e749ad8475297c252ff03fb0a41",
            "_model_module": "@jupyter-widgets/controls",
            "children": [
              "IPY_MODEL_15d145471bfc4c47a012c6620a219f75",
              "IPY_MODEL_2a43b6015dbc4061b21212e3e0c5b1fa",
              "IPY_MODEL_61571b8acb7348f68704946921bad114"
            ]
          }
        },
        "c70c0e749ad8475297c252ff03fb0a41": {
          "model_module": "@jupyter-widgets/base",
          "model_name": "LayoutModel",
          "model_module_version": "1.2.0",
          "state": {
            "_view_name": "LayoutView",
            "grid_template_rows": null,
            "right": null,
            "justify_content": null,
            "_view_module": "@jupyter-widgets/base",
            "overflow": null,
            "_model_module_version": "1.2.0",
            "_view_count": null,
            "flex_flow": null,
            "width": null,
            "min_width": null,
            "border": null,
            "align_items": null,
            "bottom": null,
            "_model_module": "@jupyter-widgets/base",
            "top": null,
            "grid_column": null,
            "overflow_y": null,
            "overflow_x": null,
            "grid_auto_flow": null,
            "grid_area": null,
            "grid_template_columns": null,
            "flex": null,
            "_model_name": "LayoutModel",
            "justify_items": null,
            "grid_row": null,
            "max_height": null,
            "align_content": null,
            "visibility": null,
            "align_self": null,
            "height": null,
            "min_height": null,
            "padding": null,
            "grid_auto_rows": null,
            "grid_gap": null,
            "max_width": null,
            "order": null,
            "_view_module_version": "1.2.0",
            "grid_template_areas": null,
            "object_position": null,
            "object_fit": null,
            "grid_auto_columns": null,
            "margin": null,
            "display": null,
            "left": null
          }
        },
        "15d145471bfc4c47a012c6620a219f75": {
          "model_module": "@jupyter-widgets/controls",
          "model_name": "HTMLModel",
          "model_module_version": "1.5.0",
          "state": {
            "_view_name": "HTMLView",
            "style": "IPY_MODEL_0099313a5a6b489cb9fcddeb870b37db",
            "_dom_classes": [],
            "description": "",
            "_model_name": "HTMLModel",
            "placeholder": "​",
            "_view_module": "@jupyter-widgets/controls",
            "_model_module_version": "1.5.0",
            "value": "100%",
            "_view_count": null,
            "_view_module_version": "1.5.0",
            "description_tooltip": null,
            "_model_module": "@jupyter-widgets/controls",
            "layout": "IPY_MODEL_48e1d3e62175413a89f7f2be1f7abb14"
          }
        },
        "2a43b6015dbc4061b21212e3e0c5b1fa": {
          "model_module": "@jupyter-widgets/controls",
          "model_name": "FloatProgressModel",
          "model_module_version": "1.5.0",
          "state": {
            "_view_name": "ProgressView",
            "style": "IPY_MODEL_933c3f6a0d4a415a8af2cce63e739ba3",
            "_dom_classes": [],
            "description": "",
            "_model_name": "FloatProgressModel",
            "bar_style": "success",
            "max": 574673361,
            "_view_module": "@jupyter-widgets/controls",
            "_model_module_version": "1.5.0",
            "value": 574673361,
            "_view_count": null,
            "_view_module_version": "1.5.0",
            "orientation": "horizontal",
            "min": 0,
            "description_tooltip": null,
            "_model_module": "@jupyter-widgets/controls",
            "layout": "IPY_MODEL_ce9b78bdc45a4eecb03d15d140228ed8"
          }
        },
        "61571b8acb7348f68704946921bad114": {
          "model_module": "@jupyter-widgets/controls",
          "model_name": "HTMLModel",
          "model_module_version": "1.5.0",
          "state": {
            "_view_name": "HTMLView",
            "style": "IPY_MODEL_42b2aed14d8d48c88ad56db021266b1c",
            "_dom_classes": [],
            "description": "",
            "_model_name": "HTMLModel",
            "placeholder": "​",
            "_view_module": "@jupyter-widgets/controls",
            "_model_module_version": "1.5.0",
            "value": " 548M/548M [00:03&lt;00:00, 177MB/s]",
            "_view_count": null,
            "_view_module_version": "1.5.0",
            "description_tooltip": null,
            "_model_module": "@jupyter-widgets/controls",
            "layout": "IPY_MODEL_0b3664d2c16646caac2180e5fd931b46"
          }
        },
        "0099313a5a6b489cb9fcddeb870b37db": {
          "model_module": "@jupyter-widgets/controls",
          "model_name": "DescriptionStyleModel",
          "model_module_version": "1.5.0",
          "state": {
            "_view_name": "StyleView",
            "_model_name": "DescriptionStyleModel",
            "description_width": "",
            "_view_module": "@jupyter-widgets/base",
            "_model_module_version": "1.5.0",
            "_view_count": null,
            "_view_module_version": "1.2.0",
            "_model_module": "@jupyter-widgets/controls"
          }
        },
        "48e1d3e62175413a89f7f2be1f7abb14": {
          "model_module": "@jupyter-widgets/base",
          "model_name": "LayoutModel",
          "model_module_version": "1.2.0",
          "state": {
            "_view_name": "LayoutView",
            "grid_template_rows": null,
            "right": null,
            "justify_content": null,
            "_view_module": "@jupyter-widgets/base",
            "overflow": null,
            "_model_module_version": "1.2.0",
            "_view_count": null,
            "flex_flow": null,
            "width": null,
            "min_width": null,
            "border": null,
            "align_items": null,
            "bottom": null,
            "_model_module": "@jupyter-widgets/base",
            "top": null,
            "grid_column": null,
            "overflow_y": null,
            "overflow_x": null,
            "grid_auto_flow": null,
            "grid_area": null,
            "grid_template_columns": null,
            "flex": null,
            "_model_name": "LayoutModel",
            "justify_items": null,
            "grid_row": null,
            "max_height": null,
            "align_content": null,
            "visibility": null,
            "align_self": null,
            "height": null,
            "min_height": null,
            "padding": null,
            "grid_auto_rows": null,
            "grid_gap": null,
            "max_width": null,
            "order": null,
            "_view_module_version": "1.2.0",
            "grid_template_areas": null,
            "object_position": null,
            "object_fit": null,
            "grid_auto_columns": null,
            "margin": null,
            "display": null,
            "left": null
          }
        },
        "933c3f6a0d4a415a8af2cce63e739ba3": {
          "model_module": "@jupyter-widgets/controls",
          "model_name": "ProgressStyleModel",
          "model_module_version": "1.5.0",
          "state": {
            "_view_name": "StyleView",
            "_model_name": "ProgressStyleModel",
            "description_width": "",
            "_view_module": "@jupyter-widgets/base",
            "_model_module_version": "1.5.0",
            "_view_count": null,
            "_view_module_version": "1.2.0",
            "bar_color": null,
            "_model_module": "@jupyter-widgets/controls"
          }
        },
        "ce9b78bdc45a4eecb03d15d140228ed8": {
          "model_module": "@jupyter-widgets/base",
          "model_name": "LayoutModel",
          "model_module_version": "1.2.0",
          "state": {
            "_view_name": "LayoutView",
            "grid_template_rows": null,
            "right": null,
            "justify_content": null,
            "_view_module": "@jupyter-widgets/base",
            "overflow": null,
            "_model_module_version": "1.2.0",
            "_view_count": null,
            "flex_flow": null,
            "width": null,
            "min_width": null,
            "border": null,
            "align_items": null,
            "bottom": null,
            "_model_module": "@jupyter-widgets/base",
            "top": null,
            "grid_column": null,
            "overflow_y": null,
            "overflow_x": null,
            "grid_auto_flow": null,
            "grid_area": null,
            "grid_template_columns": null,
            "flex": null,
            "_model_name": "LayoutModel",
            "justify_items": null,
            "grid_row": null,
            "max_height": null,
            "align_content": null,
            "visibility": null,
            "align_self": null,
            "height": null,
            "min_height": null,
            "padding": null,
            "grid_auto_rows": null,
            "grid_gap": null,
            "max_width": null,
            "order": null,
            "_view_module_version": "1.2.0",
            "grid_template_areas": null,
            "object_position": null,
            "object_fit": null,
            "grid_auto_columns": null,
            "margin": null,
            "display": null,
            "left": null
          }
        },
        "42b2aed14d8d48c88ad56db021266b1c": {
          "model_module": "@jupyter-widgets/controls",
          "model_name": "DescriptionStyleModel",
          "model_module_version": "1.5.0",
          "state": {
            "_view_name": "StyleView",
            "_model_name": "DescriptionStyleModel",
            "description_width": "",
            "_view_module": "@jupyter-widgets/base",
            "_model_module_version": "1.5.0",
            "_view_count": null,
            "_view_module_version": "1.2.0",
            "_model_module": "@jupyter-widgets/controls"
          }
        },
        "0b3664d2c16646caac2180e5fd931b46": {
          "model_module": "@jupyter-widgets/base",
          "model_name": "LayoutModel",
          "model_module_version": "1.2.0",
          "state": {
            "_view_name": "LayoutView",
            "grid_template_rows": null,
            "right": null,
            "justify_content": null,
            "_view_module": "@jupyter-widgets/base",
            "overflow": null,
            "_model_module_version": "1.2.0",
            "_view_count": null,
            "flex_flow": null,
            "width": null,
            "min_width": null,
            "border": null,
            "align_items": null,
            "bottom": null,
            "_model_module": "@jupyter-widgets/base",
            "top": null,
            "grid_column": null,
            "overflow_y": null,
            "overflow_x": null,
            "grid_auto_flow": null,
            "grid_area": null,
            "grid_template_columns": null,
            "flex": null,
            "_model_name": "LayoutModel",
            "justify_items": null,
            "grid_row": null,
            "max_height": null,
            "align_content": null,
            "visibility": null,
            "align_self": null,
            "height": null,
            "min_height": null,
            "padding": null,
            "grid_auto_rows": null,
            "grid_gap": null,
            "max_width": null,
            "order": null,
            "_view_module_version": "1.2.0",
            "grid_template_areas": null,
            "object_position": null,
            "object_fit": null,
            "grid_auto_columns": null,
            "margin": null,
            "display": null,
            "left": null
          }
        }
      }
    }
  },
  "cells": [
    {
      "cell_type": "markdown",
      "metadata": {
        "id": "view-in-github",
        "colab_type": "text"
      },
      "source": [
        "<a href=\"https://colab.research.google.com/github/MeenTers/Project/blob/main/New_Normalize.ipynb\" target=\"_parent\"><img src=\"https://colab.research.google.com/assets/colab-badge.svg\" alt=\"Open In Colab\"/></a>"
      ]
    },
    {
      "cell_type": "code",
      "execution_count": 1,
      "metadata": {
        "colab": {
          "base_uri": "https://localhost:8080/"
        },
        "id": "im-fOFP_MU8v",
        "outputId": "086bf5a0-b4f5-4369-fa09-b03111b619b6"
      },
      "outputs": [
        {
          "output_type": "stream",
          "name": "stdout",
          "text": [
            "Mounted at /content/drive\n"
          ]
        }
      ],
      "source": [
        "from google.colab import drive\n",
        "drive.mount('/content/drive')"
      ]
    },
    {
      "cell_type": "code",
      "source": [
        "import torch\n",
        "from torch import nn, load, utils\n",
        "from tqdm import tqdm\n",
        "import matplotlib.pyplot as plt\n",
        "import numpy as np\n",
        "from torchvision import datasets, transforms, models\n",
        "from torchvision.models.vgg import model_urls\n",
        "from os import path, listdir\n",
        "model_urls['vgg19'] = model_urls['vgg19'].replace('https://', 'http://')"
      ],
      "metadata": {
        "id": "owhVIFT6MaGi"
      },
      "execution_count": 2,
      "outputs": []
    },
    {
      "cell_type": "code",
      "source": [
        "from scipy.spatial import distance_matrix\n",
        "from scipy.spatial import distance\n",
        "import pandas as pd"
      ],
      "metadata": {
        "id": "GP-4s-cXMrrs"
      },
      "execution_count": 3,
      "outputs": []
    },
    {
      "cell_type": "code",
      "source": [
        "import matplotlib.image as mpimg\n",
        "import matplotlib.pyplot as plt\n",
        "import cv2"
      ],
      "metadata": {
        "id": "zMd8it4gMt0f"
      },
      "execution_count": 4,
      "outputs": []
    },
    {
      "cell_type": "code",
      "source": [
        "class VGG:\n",
        "\tdef __init__(self):\n",
        "\t\tmodel = models.vgg19(pretrained=True, progress=True)\n",
        "\t\tmodel.classifier = nn.Sequential(*list(model.classifier.children())[:3])\n",
        "\t\tself.model = model.cuda().eval()\n",
        "\n",
        "\tdef __call__(self, x):\n",
        "\t\treturn self.model(x)"
      ],
      "metadata": {
        "id": "vFAxdzUbMu-r"
      },
      "execution_count": 5,
      "outputs": []
    },
    {
      "cell_type": "code",
      "source": [
        "vgg = VGG()"
      ],
      "metadata": {
        "colab": {
          "base_uri": "https://localhost:8080/",
          "height": 66,
          "referenced_widgets": [
            "f0b2e29dca9947fbaeae96af8e03885d",
            "c70c0e749ad8475297c252ff03fb0a41",
            "15d145471bfc4c47a012c6620a219f75",
            "2a43b6015dbc4061b21212e3e0c5b1fa",
            "61571b8acb7348f68704946921bad114",
            "0099313a5a6b489cb9fcddeb870b37db",
            "48e1d3e62175413a89f7f2be1f7abb14",
            "933c3f6a0d4a415a8af2cce63e739ba3",
            "ce9b78bdc45a4eecb03d15d140228ed8",
            "42b2aed14d8d48c88ad56db021266b1c",
            "0b3664d2c16646caac2180e5fd931b46"
          ]
        },
        "id": "GeI66c-EMwrY",
        "outputId": "5f92c8bd-4333-41e5-cd60-5cf11bfaba19"
      },
      "execution_count": 6,
      "outputs": [
        {
          "output_type": "stream",
          "name": "stderr",
          "text": [
            "Downloading: \"http://download.pytorch.org/models/vgg19-dcbb9e9d.pth\" to /root/.cache/torch/hub/checkpoints/vgg19-dcbb9e9d.pth\n"
          ]
        },
        {
          "output_type": "display_data",
          "data": {
            "application/vnd.jupyter.widget-view+json": {
              "model_id": "f0b2e29dca9947fbaeae96af8e03885d",
              "version_minor": 0,
              "version_major": 2
            },
            "text/plain": [
              "  0%|          | 0.00/548M [00:00<?, ?B/s]"
            ]
          },
          "metadata": {}
        }
      ]
    },
    {
      "cell_type": "code",
      "source": [
        "!wget -q https://github.com/Phonbopit/sarabun-webfont/raw/master/fonts/thsarabunnew-webfont.ttf"
      ],
      "metadata": {
        "id": "9uE6naZgMx4z"
      },
      "execution_count": 7,
      "outputs": []
    },
    {
      "cell_type": "code",
      "source": [
        "# !pip install -U --pre matplotlib  \n",
        "import matplotlib as mpl\n",
        "mpl.font_manager.fontManager.addfont('thsarabunnew-webfont.ttf')\n",
        "mpl.rc('font', family='TH Sarabun New')"
      ],
      "metadata": {
        "id": "pGgHsRaVM1YR"
      },
      "execution_count": 8,
      "outputs": []
    },
    {
      "cell_type": "code",
      "source": [
        "def get_features(model, loader):\n",
        "    features = []\n",
        "    with torch.no_grad():\n",
        "        for batch, _ in tqdm(loader):\n",
        "            if torch.cuda.is_available():\n",
        "                batch = batch.cuda()\n",
        "            b_features = model(batch).detach().cpu().numpy()\n",
        "            for f in b_features:\n",
        "                features.append(f)\n",
        "\n",
        "    return features"
      ],
      "metadata": {
        "id": "4-a4Kk1RM4Cg"
      },
      "execution_count": 9,
      "outputs": []
    },
    {
      "cell_type": "code",
      "source": [
        "def get_dataset(images_path):\n",
        "  transform = transforms.Compose([\n",
        "    transforms.Resize(size=32),\n",
        "    transforms.ToTensor(),\n",
        "    transforms.Normalize((0.4914, 0.4822, 0.4465), (0.2023, 0.1994, 0.2010)),\n",
        "  ])\n",
        "\n",
        "  dataset = datasets.ImageFolder(images_path, transform=transform)\n",
        "  loader = utils.data.DataLoader(dataset, batch_size=100, shuffle=False, num_workers=1, pin_memory=True)\n",
        "  return loader"
      ],
      "metadata": {
        "id": "iBV5s_g8M5mb"
      },
      "execution_count": 10,
      "outputs": []
    },
    {
      "cell_type": "code",
      "source": [
        "def get_euclidean(base_car,diff_view):\n",
        "    A = []\n",
        "    for i in range(len(diff_view)):\n",
        "        x = distance.euclidean(base_car[i],diff_view[i])\n",
        "        A.append(x)\n",
        "    return(A)"
      ],
      "metadata": {
        "id": "4rhqVjVYM8hx"
      },
      "execution_count": 11,
      "outputs": []
    },
    {
      "cell_type": "code",
      "source": [
        "def get_damage(distance):\n",
        "    f_car = ((distance[0] - 3.57)/(37.564-3.57)*100)\n",
        "    r_car = ((distance[1] - 4.308)/(37.966-4.308)*100)\n",
        "    b_car = ((distance[2] - 3.401)/(21.090-3.401)*100)\n",
        "    l_car = ((distance[3] - 11.230)/(48.075-11.230)*100)\n",
        "    dmgs = [f_car,r_car,b_car,l_car]\n",
        "    return dmgs"
      ],
      "metadata": {
        "id": "JJMrso-KN4jx"
      },
      "execution_count": 12,
      "outputs": []
    },
    {
      "cell_type": "markdown",
      "source": [
        "# Mirror"
      ],
      "metadata": {
        "id": "rjThEEcLNCyj"
      }
    },
    {
      "cell_type": "code",
      "source": [
        "car1_loader = get_dataset(r'/content/drive/MyDrive/normalize/base/mir/')\n",
        "dmg1_loader = get_dataset(r'/content/drive/MyDrive/normalize/dmg/mirror/')"
      ],
      "metadata": {
        "id": "MrDxPUweM-nH"
      },
      "execution_count": 13,
      "outputs": []
    },
    {
      "cell_type": "code",
      "source": [
        "id1b = get_features(vgg,car1_loader)\n",
        "id1v = get_features(vgg,dmg1_loader)"
      ],
      "metadata": {
        "colab": {
          "base_uri": "https://localhost:8080/"
        },
        "id": "QXaMus1-NULT",
        "outputId": "370cce3d-f4a5-4523-d296-a4222fa93f7a"
      },
      "execution_count": 14,
      "outputs": [
        {
          "output_type": "stream",
          "name": "stderr",
          "text": [
            "100%|██████████| 1/1 [00:02<00:00,  2.66s/it]\n",
            "100%|██████████| 1/1 [00:03<00:00,  3.07s/it]\n"
          ]
        }
      ]
    },
    {
      "cell_type": "code",
      "source": [
        "id_mir = get_euclidean(id1b,id1v)\n",
        "id_mir"
      ],
      "metadata": {
        "colab": {
          "base_uri": "https://localhost:8080/"
        },
        "id": "RUhMFCUCNf0V",
        "outputId": "66984927-470c-4296-d608-ebd2df825652"
      },
      "execution_count": 15,
      "outputs": [
        {
          "output_type": "execute_result",
          "data": {
            "text/plain": [
              "[7.895974636077881,\n",
              " 10.863054275512695,\n",
              " 15.683631896972656,\n",
              " 18.249889373779297,\n",
              " 15.69296932220459,\n",
              " 0.5051827430725098,\n",
              " 20.419198989868164,\n",
              " 1.5713732242584229,\n",
              " 9.804802894592285]"
            ]
          },
          "metadata": {},
          "execution_count": 15
        }
      ]
    },
    {
      "cell_type": "code",
      "source": [
        "for i in range(len(id_mir)):\n",
        "    print(((id_mir[i] - 0.505)/(41.55-0.505)*100))"
      ],
      "metadata": {
        "colab": {
          "base_uri": "https://localhost:8080/"
        },
        "id": "UcK8JAGFOHvV",
        "outputId": "58ca5553-5edf-489e-d4f2-8367da2833ca"
      },
      "execution_count": 16,
      "outputs": [
        {
          "output_type": "stream",
          "name": "stdout",
          "text": [
            "18.007003620606362\n",
            "25.235849130253857\n",
            "36.980465091905614\n",
            "43.23276738647655\n",
            "37.003214331111195\n",
            "0.00044522614815388283\n",
            "48.517965622775414\n",
            "2.5980587751453847\n",
            "22.657578010944782\n"
          ]
        }
      ]
    },
    {
      "cell_type": "code",
      "source": [
        "id5f = cv2.imread('/content/drive/MyDrive/normalize/base/mir/mir/ID5f.png')\n",
        "id5_1 = cv2.imread('/content/drive/MyDrive/normalize/dmg/mirror/mirror/ID5dmgm.png')\n",
        "id7f = cv2.imread('/content/drive/MyDrive/normalize/base/mir/mir/ID7f.png')\n",
        "id7_1 = cv2.imread('/content/drive/MyDrive/normalize/dmg/mirror/mirror/ID7dmgm.png')"
      ],
      "metadata": {
        "id": "KmyU5C1vsvJ_"
      },
      "execution_count": 21,
      "outputs": []
    },
    {
      "cell_type": "code",
      "source": [
        "# create figure\n",
        "fig = plt.figure(figsize=(15, 10))\n",
        "  # setting values to rows and column variables\n",
        "rows = 2\n",
        "columns = 2\n",
        "  # Adds a subplot at the 1st position\n",
        "fig.add_subplot(rows, columns, 1)\n",
        "  # showing image\n",
        "plt.imshow(id5f)\n",
        "plt.axis('off')\n",
        "plt.title('ด้านหน้ารถยนต์')\n",
        "\n",
        "# Adds a subplot at the 2nd position\n",
        "fig.add_subplot(rows, columns, 2)  \n",
        "# showing image\n",
        "plt.imshow(id5_1)\n",
        "plt.axis('off')\n",
        "plt.title('กระจกมองข้างเสียหาย')\n",
        "plt.text(300,700,'Distance = '+str(round(id_mir[5],3)),fontsize = 15,bbox = dict(facecolor = 'red', alpha = 0.5))\n",
        "        \n",
        "# Adds a subplot at the 3rd position\n",
        "fig.add_subplot(rows, columns, 3)\n",
        "  # showing image\n",
        "plt.imshow(id7f)\n",
        "plt.axis('off')\n",
        "plt.title('ด้านหน้ารถยนต์')\n",
        "\n",
        "  # Adds a subplot at the 4th position\n",
        "fig.add_subplot(rows, columns, 4)\n",
        "  # showing image\n",
        "plt.imshow(id7_1)\n",
        "plt.axis('off')\n",
        "plt.title('กระจกมองข้างเสียหาย')\n",
        "plt.text(300,700,'Distance = '+str(round(id_mir[7],3)),fontsize = 15,bbox = dict(facecolor = 'red', alpha = 0.5))"
      ],
      "metadata": {
        "id": "9Tyu-ApAtT5O",
        "outputId": "7815b7fc-5d31-4355-c95c-fd0ef129e2df",
        "colab": {
          "base_uri": "https://localhost:8080/",
          "height": 609
        }
      },
      "execution_count": 25,
      "outputs": [
        {
          "output_type": "execute_result",
          "data": {
            "text/plain": [
              "Text(300, 700, 'Distance = 1.571')"
            ]
          },
          "metadata": {},
          "execution_count": 25
        },
        {
          "output_type": "display_data",
          "data": {
            "image/png": "[encoded data removed]",
            "text/plain": [
              "<Figure size 1080x720 with 4 Axes>"
            ]
          },
          "metadata": {
            "needs_background": "light"
          }
        }
      ]
    },
    {
      "cell_type": "markdown",
      "source": [
        "# front"
      ],
      "metadata": {
        "id": "HIeDQoK8gCs-"
      }
    },
    {
      "cell_type": "code",
      "source": [
        "car2_loader = get_dataset(r'/content/drive/MyDrive/normalize/base/front1/')\n",
        "dmg2_loader = get_dataset(r'/content/drive/MyDrive/normalize/dmg/front1/')"
      ],
      "metadata": {
        "id": "5wgXab-7OVjy"
      },
      "execution_count": 17,
      "outputs": []
    },
    {
      "cell_type": "code",
      "source": [
        "id2b = get_features(vgg,car2_loader)\n",
        "id2v = get_features(vgg,dmg2_loader)"
      ],
      "metadata": {
        "colab": {
          "base_uri": "https://localhost:8080/"
        },
        "id": "FDciZ6OSgV7M",
        "outputId": "4d4fc402-2d97-436c-b61c-02c78d22aa34"
      },
      "execution_count": 18,
      "outputs": [
        {
          "output_type": "stream",
          "name": "stderr",
          "text": [
            "100%|██████████| 1/1 [00:03<00:00,  3.23s/it]\n",
            "100%|██████████| 1/1 [00:03<00:00,  3.63s/it]\n"
          ]
        }
      ]
    },
    {
      "cell_type": "code",
      "source": [
        "id_front = get_euclidean(id2b,id2v)\n",
        "id_front"
      ],
      "metadata": {
        "colab": {
          "base_uri": "https://localhost:8080/"
        },
        "id": "DI3Lpyf4gYKs",
        "outputId": "10acf69c-28fb-4ee7-fc45-c33b0ef4a71e"
      },
      "execution_count": 19,
      "outputs": [
        {
          "output_type": "execute_result",
          "data": {
            "text/plain": [
              "[20.370634078979492,\n",
              " 11.851751327514648,\n",
              " 11.37433910369873,\n",
              " 12.546443939208984,\n",
              " 8.184654235839844,\n",
              " 15.816658020019531,\n",
              " 9.359212875366211,\n",
              " 7.7908525466918945,\n",
              " 6.412318229675293,\n",
              " 13.842572212219238]"
            ]
          },
          "metadata": {},
          "execution_count": 19
        }
      ]
    },
    {
      "cell_type": "code",
      "source": [
        "for i in range(len(id_front)):\n",
        "    print(((id_front[i] - 0.505)/(41.55-0.505)*100))"
      ],
      "metadata": {
        "colab": {
          "base_uri": "https://localhost:8080/"
        },
        "id": "iHLsmMADgc56",
        "outputId": "d1b98dcb-9a43-41e3-d794-2a597fa81e5a"
      },
      "execution_count": 20,
      "outputs": [
        {
          "output_type": "stream",
          "name": "stdout",
          "text": [
            "48.39964448527103\n",
            "27.644661536154587\n",
            "26.481518098912733\n",
            "29.33717612183941\n",
            "18.71032826371018\n",
            "37.30456333297486\n",
            "21.57196461290343\n",
            "17.750889381634536\n",
            "14.3922968197717\n",
            "32.49499868977765\n"
          ]
        }
      ]
    },
    {
      "cell_type": "code",
      "source": [
        "id10f = cv2.imread('/content/drive/MyDrive/normalize/base/front1/front1/ID10f.png')\n",
        "id10_1 = cv2.imread('/content/drive/MyDrive/normalize/dmg/front1/front1/ID10dmgf1.png')\n",
        "id9f = cv2.imread('/content/drive/MyDrive/normalize/base/front1/front1/ID9f.png')\n",
        "id9_1 = cv2.imread('/content/drive/MyDrive/normalize/dmg/front1/front1/ID9dmgf1.png')"
      ],
      "metadata": {
        "id": "wNDlx8PVlmNH"
      },
      "execution_count": 26,
      "outputs": []
    },
    {
      "cell_type": "code",
      "source": [
        "# create figure\n",
        "fig = plt.figure(figsize=(15, 10))\n",
        "  # setting values to rows and column variables\n",
        "rows = 2\n",
        "columns = 2\n",
        "  # Adds a subplot at the 1st position\n",
        "fig.add_subplot(rows, columns, 1)\n",
        "  # showing image\n",
        "plt.imshow(id10f)\n",
        "plt.axis('off')\n",
        "plt.title('ด้านหน้ารถยนต์')\n",
        "\n",
        "# Adds a subplot at the 2nd position\n",
        "fig.add_subplot(rows, columns, 2)  \n",
        "# showing image\n",
        "plt.imshow(id10_1)\n",
        "plt.axis('off')\n",
        "plt.title('ด้านหน้ารถยนต์เสียหาย')\n",
        "plt.text(300,700,'Distance = '+str(round(id_front[0],3)),fontsize = 15,bbox = dict(facecolor = 'red', alpha = 0.5))\n",
        "        \n",
        "# Adds a subplot at the 3rd position\n",
        "fig.add_subplot(rows, columns, 3)\n",
        "  # showing image\n",
        "plt.imshow(id9f)\n",
        "plt.axis('off')\n",
        "plt.title('ด้านหน้ารถยนต์')\n",
        "\n",
        "  # Adds a subplot at the 4th position\n",
        "fig.add_subplot(rows, columns, 4)\n",
        "  # showing image\n",
        "plt.imshow(id9_1)\n",
        "plt.axis('off')\n",
        "plt.title('ด้านหน้ารถยนต์เาียหาย')\n",
        "plt.text(300,700,'Distance = '+str(round(id_front[9],3)),fontsize = 15,bbox = dict(facecolor = 'red', alpha = 0.5))"
      ],
      "metadata": {
        "id": "c8WZKBugudKC",
        "outputId": "8c05e0a8-7ee4-4361-aa82-fe74e8e6a67c",
        "colab": {
          "base_uri": "https://localhost:8080/",
          "height": 609
        }
      },
      "execution_count": 28,
      "outputs": [
        {
          "output_type": "execute_result",
          "data": {
            "text/plain": [
              "Text(300, 700, 'Distance = 13.843')"
            ]
          },
          "metadata": {},
          "execution_count": 28
        },
        {
          "output_type": "display_data",
          "data": {
            "image/png": "[encoded data removed]",
            "text/plain": [
              "<Figure size 1080x720 with 4 Axes>"
            ]
          },
          "metadata": {
            "needs_background": "light"
          }
        }
      ]
    },
    {
      "cell_type": "code",
      "source": [
        ""
      ],
      "metadata": {
        "id": "rJpRMLCdutSP"
      },
      "execution_count": null,
      "outputs": []
    }
  ]
}