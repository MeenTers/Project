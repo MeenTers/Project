{
  "nbformat": 4,
  "nbformat_minor": 0,
  "metadata": {
    "colab": {
      "name": "Cross_Val_Min.ipynb",
      "provenance": [],
      "collapsed_sections": [],
      "authorship_tag": "ABX9TyNlr0UMRlZWxPLVTMTXDC7r",
      "include_colab_link": true
    },
    "kernelspec": {
      "name": "python3",
      "display_name": "Python 3"
    },
    "language_info": {
      "name": "python"
    },
    "accelerator": "GPU",
    "widgets": {
      "application/vnd.jupyter.widget-state+json": {
        "beb3ee6bbab543d0844a894d41e5dab5": {
          "model_module": "@jupyter-widgets/controls",
          "model_name": "HBoxModel",
          "model_module_version": "1.5.0",
          "state": {
            "_dom_classes": [],
            "_model_module": "@jupyter-widgets/controls",
            "_model_module_version": "1.5.0",
            "_model_name": "HBoxModel",
            "_view_count": null,
            "_view_module": "@jupyter-widgets/controls",
            "_view_module_version": "1.5.0",
            "_view_name": "HBoxView",
            "box_style": "",
            "children": [
              "IPY_MODEL_3877f625595d445dba4f4e64bf71b69a",
              "IPY_MODEL_158355800c8f48729b99bb8a78c3a785",
              "IPY_MODEL_28909a8f5c4d496992636254b05acf1f"
            ],
            "layout": "IPY_MODEL_6e437810c9f848f2ac94bddb1d4d72db"
          }
        },
        "3877f625595d445dba4f4e64bf71b69a": {
          "model_module": "@jupyter-widgets/controls",
          "model_name": "HTMLModel",
          "model_module_version": "1.5.0",
          "state": {
            "_dom_classes": [],
            "_model_module": "@jupyter-widgets/controls",
            "_model_module_version": "1.5.0",
            "_model_name": "HTMLModel",
            "_view_count": null,
            "_view_module": "@jupyter-widgets/controls",
            "_view_module_version": "1.5.0",
            "_view_name": "HTMLView",
            "description": "",
            "description_tooltip": null,
            "layout": "IPY_MODEL_78d3478f53b9405db563f28f42a00fb5",
            "placeholder": "​",
            "style": "IPY_MODEL_c292a6736162456b91f451874e02b924",
            "value": "100%"
          }
        },
        "158355800c8f48729b99bb8a78c3a785": {
          "model_module": "@jupyter-widgets/controls",
          "model_name": "FloatProgressModel",
          "model_module_version": "1.5.0",
          "state": {
            "_dom_classes": [],
            "_model_module": "@jupyter-widgets/controls",
            "_model_module_version": "1.5.0",
            "_model_name": "FloatProgressModel",
            "_view_count": null,
            "_view_module": "@jupyter-widgets/controls",
            "_view_module_version": "1.5.0",
            "_view_name": "ProgressView",
            "bar_style": "success",
            "description": "",
            "description_tooltip": null,
            "layout": "IPY_MODEL_515b31fe3d4e4bbe87445b560f8ea6dd",
            "max": 574673361,
            "min": 0,
            "orientation": "horizontal",
            "style": "IPY_MODEL_555642879e0c49b08d4420906d72cbf5",
            "value": 574673361
          }
        },
        "28909a8f5c4d496992636254b05acf1f": {
          "model_module": "@jupyter-widgets/controls",
          "model_name": "HTMLModel",
          "model_module_version": "1.5.0",
          "state": {
            "_dom_classes": [],
            "_model_module": "@jupyter-widgets/controls",
            "_model_module_version": "1.5.0",
            "_model_name": "HTMLModel",
            "_view_count": null,
            "_view_module": "@jupyter-widgets/controls",
            "_view_module_version": "1.5.0",
            "_view_name": "HTMLView",
            "description": "",
            "description_tooltip": null,
            "layout": "IPY_MODEL_1e4c3b6a5c62449b869d6171b612a1f1",
            "placeholder": "​",
            "style": "IPY_MODEL_57556daff2144a8a82fe663e067aef91",
            "value": " 548M/548M [00:05&lt;00:00, 121MB/s]"
          }
        },
        "6e437810c9f848f2ac94bddb1d4d72db": {
          "model_module": "@jupyter-widgets/base",
          "model_name": "LayoutModel",
          "model_module_version": "1.2.0",
          "state": {
            "_model_module": "@jupyter-widgets/base",
            "_model_module_version": "1.2.0",
            "_model_name": "LayoutModel",
            "_view_count": null,
            "_view_module": "@jupyter-widgets/base",
            "_view_module_version": "1.2.0",
            "_view_name": "LayoutView",
            "align_content": null,
            "align_items": null,
            "align_self": null,
            "border": null,
            "bottom": null,
            "display": null,
            "flex": null,
            "flex_flow": null,
            "grid_area": null,
            "grid_auto_columns": null,
            "grid_auto_flow": null,
            "grid_auto_rows": null,
            "grid_column": null,
            "grid_gap": null,
            "grid_row": null,
            "grid_template_areas": null,
            "grid_template_columns": null,
            "grid_template_rows": null,
            "height": null,
            "justify_content": null,
            "justify_items": null,
            "left": null,
            "margin": null,
            "max_height": null,
            "max_width": null,
            "min_height": null,
            "min_width": null,
            "object_fit": null,
            "object_position": null,
            "order": null,
            "overflow": null,
            "overflow_x": null,
            "overflow_y": null,
            "padding": null,
            "right": null,
            "top": null,
            "visibility": null,
            "width": null
          }
        },
        "78d3478f53b9405db563f28f42a00fb5": {
          "model_module": "@jupyter-widgets/base",
          "model_name": "LayoutModel",
          "model_module_version": "1.2.0",
          "state": {
            "_model_module": "@jupyter-widgets/base",
            "_model_module_version": "1.2.0",
            "_model_name": "LayoutModel",
            "_view_count": null,
            "_view_module": "@jupyter-widgets/base",
            "_view_module_version": "1.2.0",
            "_view_name": "LayoutView",
            "align_content": null,
            "align_items": null,
            "align_self": null,
            "border": null,
            "bottom": null,
            "display": null,
            "flex": null,
            "flex_flow": null,
            "grid_area": null,
            "grid_auto_columns": null,
            "grid_auto_flow": null,
            "grid_auto_rows": null,
            "grid_column": null,
            "grid_gap": null,
            "grid_row": null,
            "grid_template_areas": null,
            "grid_template_columns": null,
            "grid_template_rows": null,
            "height": null,
            "justify_content": null,
            "justify_items": null,
            "left": null,
            "margin": null,
            "max_height": null,
            "max_width": null,
            "min_height": null,
            "min_width": null,
            "object_fit": null,
            "object_position": null,
            "order": null,
            "overflow": null,
            "overflow_x": null,
            "overflow_y": null,
            "padding": null,
            "right": null,
            "top": null,
            "visibility": null,
            "width": null
          }
        },
        "c292a6736162456b91f451874e02b924": {
          "model_module": "@jupyter-widgets/controls",
          "model_name": "DescriptionStyleModel",
          "model_module_version": "1.5.0",
          "state": {
            "_model_module": "@jupyter-widgets/controls",
            "_model_module_version": "1.5.0",
            "_model_name": "DescriptionStyleModel",
            "_view_count": null,
            "_view_module": "@jupyter-widgets/base",
            "_view_module_version": "1.2.0",
            "_view_name": "StyleView",
            "description_width": ""
          }
        },
        "515b31fe3d4e4bbe87445b560f8ea6dd": {
          "model_module": "@jupyter-widgets/base",
          "model_name": "LayoutModel",
          "model_module_version": "1.2.0",
          "state": {
            "_model_module": "@jupyter-widgets/base",
            "_model_module_version": "1.2.0",
            "_model_name": "LayoutModel",
            "_view_count": null,
            "_view_module": "@jupyter-widgets/base",
            "_view_module_version": "1.2.0",
            "_view_name": "LayoutView",
            "align_content": null,
            "align_items": null,
            "align_self": null,
            "border": null,
            "bottom": null,
            "display": null,
            "flex": null,
            "flex_flow": null,
            "grid_area": null,
            "grid_auto_columns": null,
            "grid_auto_flow": null,
            "grid_auto_rows": null,
            "grid_column": null,
            "grid_gap": null,
            "grid_row": null,
            "grid_template_areas": null,
            "grid_template_columns": null,
            "grid_template_rows": null,
            "height": null,
            "justify_content": null,
            "justify_items": null,
            "left": null,
            "margin": null,
            "max_height": null,
            "max_width": null,
            "min_height": null,
            "min_width": null,
            "object_fit": null,
            "object_position": null,
            "order": null,
            "overflow": null,
            "overflow_x": null,
            "overflow_y": null,
            "padding": null,
            "right": null,
            "top": null,
            "visibility": null,
            "width": null
          }
        },
        "555642879e0c49b08d4420906d72cbf5": {
          "model_module": "@jupyter-widgets/controls",
          "model_name": "ProgressStyleModel",
          "model_module_version": "1.5.0",
          "state": {
            "_model_module": "@jupyter-widgets/controls",
            "_model_module_version": "1.5.0",
            "_model_name": "ProgressStyleModel",
            "_view_count": null,
            "_view_module": "@jupyter-widgets/base",
            "_view_module_version": "1.2.0",
            "_view_name": "StyleView",
            "bar_color": null,
            "description_width": ""
          }
        },
        "1e4c3b6a5c62449b869d6171b612a1f1": {
          "model_module": "@jupyter-widgets/base",
          "model_name": "LayoutModel",
          "model_module_version": "1.2.0",
          "state": {
            "_model_module": "@jupyter-widgets/base",
            "_model_module_version": "1.2.0",
            "_model_name": "LayoutModel",
            "_view_count": null,
            "_view_module": "@jupyter-widgets/base",
            "_view_module_version": "1.2.0",
            "_view_name": "LayoutView",
            "align_content": null,
            "align_items": null,
            "align_self": null,
            "border": null,
            "bottom": null,
            "display": null,
            "flex": null,
            "flex_flow": null,
            "grid_area": null,
            "grid_auto_columns": null,
            "grid_auto_flow": null,
            "grid_auto_rows": null,
            "grid_column": null,
            "grid_gap": null,
            "grid_row": null,
            "grid_template_areas": null,
            "grid_template_columns": null,
            "grid_template_rows": null,
            "height": null,
            "justify_content": null,
            "justify_items": null,
            "left": null,
            "margin": null,
            "max_height": null,
            "max_width": null,
            "min_height": null,
            "min_width": null,
            "object_fit": null,
            "object_position": null,
            "order": null,
            "overflow": null,
            "overflow_x": null,
            "overflow_y": null,
            "padding": null,
            "right": null,
            "top": null,
            "visibility": null,
            "width": null
          }
        },
        "57556daff2144a8a82fe663e067aef91": {
          "model_module": "@jupyter-widgets/controls",
          "model_name": "DescriptionStyleModel",
          "model_module_version": "1.5.0",
          "state": {
            "_model_module": "@jupyter-widgets/controls",
            "_model_module_version": "1.5.0",
            "_model_name": "DescriptionStyleModel",
            "_view_count": null,
            "_view_module": "@jupyter-widgets/base",
            "_view_module_version": "1.2.0",
            "_view_name": "StyleView",
            "description_width": ""
          }
        }
      }
    }
  },
  "cells": [
    {
      "cell_type": "markdown",
      "metadata": {
        "id": "view-in-github",
        "colab_type": "text"
      },
      "source": [
        "<a href=\"https://colab.research.google.com/github/MeenTers/Project/blob/main/Cross_Val_Min.ipynb\" target=\"_parent\"><img src=\"https://colab.research.google.com/assets/colab-badge.svg\" alt=\"Open In Colab\"/></a>"
      ]
    },
    {
      "cell_type": "code",
      "execution_count": 1,
      "metadata": {
        "colab": {
          "base_uri": "https://localhost:8080/"
        },
        "id": "AOb0ReRfjBCe",
        "outputId": "3238c70b-6628-4a32-e4eb-9b796becd56f"
      },
      "outputs": [
        {
          "output_type": "stream",
          "name": "stdout",
          "text": [
            "Mounted at /content/drive\n"
          ]
        }
      ],
      "source": [
        "from google.colab import drive\n",
        "drive.mount('/content/drive')"
      ]
    },
    {
      "cell_type": "code",
      "source": [
        "import torch\n",
        "from torch import nn, load, utils\n",
        "from tqdm import tqdm\n",
        "import matplotlib.pyplot as plt\n",
        "import numpy as np\n",
        "from torchvision import datasets, transforms, models\n",
        "from torchvision.models.vgg import model_urls\n",
        "from os import path, listdir\n",
        "model_urls['vgg19'] = model_urls['vgg19'].replace('https://', 'http://')"
      ],
      "metadata": {
        "id": "7gqcHB4wjjFU"
      },
      "execution_count": 2,
      "outputs": []
    },
    {
      "cell_type": "code",
      "source": [
        "from scipy.spatial import distance_matrix\n",
        "from scipy.spatial import distance\n",
        "import pandas as pd"
      ],
      "metadata": {
        "id": "9zM7smhNjuqb"
      },
      "execution_count": 3,
      "outputs": []
    },
    {
      "cell_type": "code",
      "source": [
        "import matplotlib.image as mpimg\n",
        "import matplotlib.pyplot as plt\n",
        "import cv2"
      ],
      "metadata": {
        "id": "a1SJQnBUjw2T"
      },
      "execution_count": 4,
      "outputs": []
    },
    {
      "cell_type": "code",
      "source": [
        "class VGG:\n",
        "\tdef __init__(self):\n",
        "\t\tmodel = models.vgg19(pretrained=True, progress=True)\n",
        "\t\tmodel.classifier = nn.Sequential(*list(model.classifier.children())[:3])\n",
        "\t\tself.model = model.cuda().eval()\n",
        "\n",
        "\tdef __call__(self, x):\n",
        "\t\treturn self.model(x)"
      ],
      "metadata": {
        "id": "VqZh6bMYjyFf"
      },
      "execution_count": 5,
      "outputs": []
    },
    {
      "cell_type": "code",
      "source": [
        "vgg = VGG()"
      ],
      "metadata": {
        "colab": {
          "base_uri": "https://localhost:8080/",
          "height": 66,
          "referenced_widgets": [
            "beb3ee6bbab543d0844a894d41e5dab5",
            "3877f625595d445dba4f4e64bf71b69a",
            "158355800c8f48729b99bb8a78c3a785",
            "28909a8f5c4d496992636254b05acf1f",
            "6e437810c9f848f2ac94bddb1d4d72db",
            "78d3478f53b9405db563f28f42a00fb5",
            "c292a6736162456b91f451874e02b924",
            "515b31fe3d4e4bbe87445b560f8ea6dd",
            "555642879e0c49b08d4420906d72cbf5",
            "1e4c3b6a5c62449b869d6171b612a1f1",
            "57556daff2144a8a82fe663e067aef91"
          ]
        },
        "id": "iZ9CGxpJjzeK",
        "outputId": "82d525cd-c49e-44b8-8202-5e4decec0ad3"
      },
      "execution_count": 6,
      "outputs": [
        {
          "output_type": "stream",
          "name": "stderr",
          "text": [
            "Downloading: \"http://download.pytorch.org/models/vgg19-dcbb9e9d.pth\" to /root/.cache/torch/hub/checkpoints/vgg19-dcbb9e9d.pth\n"
          ]
        },
        {
          "output_type": "display_data",
          "data": {
            "text/plain": [
              "  0%|          | 0.00/548M [00:00<?, ?B/s]"
            ],
            "application/vnd.jupyter.widget-view+json": {
              "version_major": 2,
              "version_minor": 0,
              "model_id": "beb3ee6bbab543d0844a894d41e5dab5"
            }
          },
          "metadata": {}
        }
      ]
    },
    {
      "cell_type": "code",
      "source": [
        "def get_features(model, loader):\n",
        "    features = []\n",
        "    with torch.no_grad():\n",
        "        for batch, _ in tqdm(loader):\n",
        "            if torch.cuda.is_available():\n",
        "                batch = batch.cuda()\n",
        "            b_features = model(batch).detach().cpu().numpy()\n",
        "            for f in b_features:\n",
        "                features.append(f)\n",
        "\n",
        "    return features"
      ],
      "metadata": {
        "id": "8J9chGeVj0ju"
      },
      "execution_count": 7,
      "outputs": []
    },
    {
      "cell_type": "code",
      "source": [
        "def get_dataset(images_path):\n",
        "  transform = transforms.Compose([\n",
        "    transforms.Resize(size=32),\n",
        "    transforms.ToTensor(),\n",
        "    transforms.Normalize((0.4914, 0.4822, 0.4465), (0.2023, 0.1994, 0.2010)),\n",
        "  ])\n",
        "\n",
        "  dataset = datasets.ImageFolder(images_path, transform=transform)\n",
        "  loader = utils.data.DataLoader(dataset, batch_size=100, shuffle=False, num_workers=1, pin_memory=True)\n",
        "  return loader"
      ],
      "metadata": {
        "id": "5zXqJduEj2By"
      },
      "execution_count": 8,
      "outputs": []
    },
    {
      "cell_type": "code",
      "source": [
        "def get_euclidean(base_car,diff_view):\n",
        "    A = []\n",
        "    for i in range(len(diff_view)):\n",
        "        x = distance.euclidean(base_car[i],diff_view[i])\n",
        "        A.append(x)\n",
        "    return(A)"
      ],
      "metadata": {
        "id": "SwvwoGUjj3Og"
      },
      "execution_count": 9,
      "outputs": []
    },
    {
      "cell_type": "code",
      "source": [
        "def get_dmg_F(eucli):\n",
        "          if eucli[0] < 9.6:\n",
        "              print('N')\n",
        "          elif   9.6 <= eucli[0] <= 21.92:\n",
        "              print('L')\n",
        "          elif 21.92 < eucli[0] <= 44.75:\n",
        "              print('M')\n",
        "          elif eucli[0] > 44.75:\n",
        "               print('H')"
      ],
      "metadata": {
        "id": "79UoMyooj4aI"
      },
      "execution_count": 101,
      "outputs": []
    },
    {
      "cell_type": "code",
      "source": [
        "def get_dmg_L(eucli):\n",
        "          if eucli[0] < 1.08:\n",
        "              print('N')\n",
        "          elif   1.08 <= eucli[0] <= 24.24:\n",
        "              print('L')\n",
        "          elif 24.24 < eucli[0] <= 35.84:\n",
        "              print('M')\n",
        "          elif eucli[0] > 35.84:\n",
        "               print('H')"
      ],
      "metadata": {
        "id": "qE54wdBxj6R9"
      },
      "execution_count": 102,
      "outputs": []
    },
    {
      "cell_type": "code",
      "source": [
        "def get_dmg_B(eucli):\n",
        "          if eucli[0] < 8.92:\n",
        "              print('N')\n",
        "          elif   8.92 <= eucli[0] <= 13.39:\n",
        "              print('L')\n",
        "          elif 13.39 < eucli[0] <= 49.03:\n",
        "              print('M')\n",
        "          elif eucli[0] > 49.03:\n",
        "               print('H')"
      ],
      "metadata": {
        "id": "oCPeuDjYkRiN"
      },
      "execution_count": 103,
      "outputs": []
    },
    {
      "cell_type": "code",
      "source": [
        "def get_dmg_R(eucli):\n",
        "          if eucli[0] < 4.48:\n",
        "              print('N')\n",
        "          elif   4.48 <= eucli[0] <= 24.76:\n",
        "              print('L')\n",
        "          elif 24.76 < eucli[0] <= 33.37:\n",
        "              print('M')\n",
        "          elif eucli[0] > 33.37:\n",
        "               print('H')"
      ],
      "metadata": {
        "id": "nZ8rhq7BkSyB"
      },
      "execution_count": 104,
      "outputs": []
    },
    {
      "cell_type": "code",
      "source": [
        "car1 = get_dataset(r'/content/drive/MyDrive/train_model/cross_val/Base/ID01/')\n",
        "dmg1 = get_dataset(r'/content/drive/MyDrive/train_model/cross_val/Damage/Little Damage/ID01/')"
      ],
      "metadata": {
        "id": "KXmEs-BGkUNf"
      },
      "execution_count": 16,
      "outputs": []
    },
    {
      "cell_type": "code",
      "source": [
        "id1b = get_features(vgg,car1)\n",
        "id1v = get_features(vgg,dmg1)"
      ],
      "metadata": {
        "colab": {
          "base_uri": "https://localhost:8080/"
        },
        "id": "tW4c0G6WklF9",
        "outputId": "9eb6805f-6289-43c4-dd43-5bef683ec4b0"
      },
      "execution_count": 17,
      "outputs": [
        {
          "output_type": "stream",
          "name": "stderr",
          "text": [
            "100%|██████████| 1/1 [00:01<00:00,  1.56s/it]\n",
            "100%|██████████| 1/1 [00:00<00:00,  1.15it/s]\n"
          ]
        }
      ]
    },
    {
      "cell_type": "code",
      "source": [
        "ldmg1 = get_euclidean(id1b,id1v)\n",
        "ldmg1"
      ],
      "metadata": {
        "colab": {
          "base_uri": "https://localhost:8080/"
        },
        "id": "2bJv-YNPmGaZ",
        "outputId": "6da96f82-21e3-488e-a26c-15eb853dfa1c"
      },
      "execution_count": 18,
      "outputs": [
        {
          "output_type": "execute_result",
          "data": {
            "text/plain": [
              "[5.3051629066467285, 1.2369433641433716, 8.860323905944824, 1.4821298122406006]"
            ]
          },
          "metadata": {},
          "execution_count": 18
        }
      ]
    },
    {
      "cell_type": "code",
      "source": [
        "car2 = get_dataset(r'/content/drive/MyDrive/train_model/cross_val/Base/ID02/')\n",
        "dmg2 = get_dataset(r'/content/drive/MyDrive/train_model/cross_val/Damage/Little Damage/ID02/')"
      ],
      "metadata": {
        "id": "Op2QLYXFmI7-"
      },
      "execution_count": 19,
      "outputs": []
    },
    {
      "cell_type": "code",
      "source": [
        "id2b = get_features(vgg,car2)\n",
        "id2v = get_features(vgg,dmg2)"
      ],
      "metadata": {
        "colab": {
          "base_uri": "https://localhost:8080/"
        },
        "id": "6Ca4J2jemMGF",
        "outputId": "fde3d0b0-c9fa-468f-d072-7054d0ee7a9c"
      },
      "execution_count": 20,
      "outputs": [
        {
          "output_type": "stream",
          "name": "stderr",
          "text": [
            "100%|██████████| 1/1 [00:01<00:00,  1.50s/it]\n",
            "100%|██████████| 1/1 [00:01<00:00,  1.22s/it]\n"
          ]
        }
      ]
    },
    {
      "cell_type": "code",
      "source": [
        "ldmg2 = get_euclidean(id2b,id2v)\n",
        "ldmg2"
      ],
      "metadata": {
        "colab": {
          "base_uri": "https://localhost:8080/"
        },
        "id": "VRw14hFNmQDp",
        "outputId": "ff1be4c8-84c4-4c49-d218-00a915a29ae7"
      },
      "execution_count": 21,
      "outputs": [
        {
          "output_type": "execute_result",
          "data": {
            "text/plain": [
              "[2.2762656211853027, 0.7317022085189819, 2.142988920211792, 12.65060043334961]"
            ]
          },
          "metadata": {},
          "execution_count": 21
        }
      ]
    },
    {
      "cell_type": "code",
      "source": [
        "car3 = get_dataset(r'/content/drive/MyDrive/train_model/cross_val/Base/ID03/')\n",
        "dmg3 = get_dataset(r'/content/drive/MyDrive/train_model/cross_val/Damage/Little Damage/ID03/')"
      ],
      "metadata": {
        "id": "3f4TkZKemSvw"
      },
      "execution_count": 22,
      "outputs": []
    },
    {
      "cell_type": "code",
      "source": [
        "id3b = get_features(vgg,car3)\n",
        "id3v = get_features(vgg,dmg3)"
      ],
      "metadata": {
        "colab": {
          "base_uri": "https://localhost:8080/"
        },
        "id": "hdtWhEzpmZ5K",
        "outputId": "bb6f1272-4540-45c3-9e83-a86b3a45b460"
      },
      "execution_count": 23,
      "outputs": [
        {
          "output_type": "stream",
          "name": "stderr",
          "text": [
            "100%|██████████| 1/1 [00:01<00:00,  1.32s/it]\n",
            "100%|██████████| 1/1 [00:00<00:00,  1.06it/s]\n"
          ]
        }
      ]
    },
    {
      "cell_type": "code",
      "source": [
        "ldmg3 = get_euclidean(id3b,id3v)\n",
        "ldmg3"
      ],
      "metadata": {
        "colab": {
          "base_uri": "https://localhost:8080/"
        },
        "id": "6QXieUz9mb_r",
        "outputId": "0cc9a811-90a7-4c12-ac7c-eaf4691c7f88"
      },
      "execution_count": 24,
      "outputs": [
        {
          "output_type": "execute_result",
          "data": {
            "text/plain": [
              "[6.874448776245117, 0.0, 2.4772825241088867, 0.0]"
            ]
          },
          "metadata": {},
          "execution_count": 24
        }
      ]
    },
    {
      "cell_type": "code",
      "source": [
        "car4 = get_dataset(r'/content/drive/MyDrive/train_model/cross_val/Base/ID04/')\n",
        "dmg4 = get_dataset(r'/content/drive/MyDrive/train_model/cross_val/Damage/Little Damage/ID04/')"
      ],
      "metadata": {
        "id": "2JMqeZKhmdbn"
      },
      "execution_count": 25,
      "outputs": []
    },
    {
      "cell_type": "code",
      "source": [
        "id4b = get_features(vgg,car4)\n",
        "id4v = get_features(vgg,dmg4)"
      ],
      "metadata": {
        "colab": {
          "base_uri": "https://localhost:8080/"
        },
        "id": "GDPhYE90mijW",
        "outputId": "9ed9c576-05a1-4303-9fd2-f7976a9ef386"
      },
      "execution_count": 26,
      "outputs": [
        {
          "output_type": "stream",
          "name": "stderr",
          "text": [
            "100%|██████████| 1/1 [00:00<00:00,  1.14it/s]\n",
            "100%|██████████| 1/1 [00:00<00:00,  1.13it/s]\n"
          ]
        }
      ]
    },
    {
      "cell_type": "code",
      "source": [
        "ldmg4 = get_euclidean(id4b,id4v)\n",
        "ldmg4"
      ],
      "metadata": {
        "colab": {
          "base_uri": "https://localhost:8080/"
        },
        "id": "XcYRos7TmkM8",
        "outputId": "a7109d4a-93a1-408f-c561-33d6a13ede3c"
      },
      "execution_count": 27,
      "outputs": [
        {
          "output_type": "execute_result",
          "data": {
            "text/plain": [
              "[10.913069725036621,\n",
              " 2.2288663387298584,\n",
              " 27.077857971191406,\n",
              " 0.14406171441078186]"
            ]
          },
          "metadata": {},
          "execution_count": 27
        }
      ]
    },
    {
      "cell_type": "code",
      "source": [
        "car5 = get_dataset(r'/content/drive/MyDrive/train_model/cross_val/Base/ID05/')\n",
        "dmg5 = get_dataset(r'/content/drive/MyDrive/train_model/cross_val/Damage/Little Damage/ID05/')"
      ],
      "metadata": {
        "id": "sefvbQtSmmBK"
      },
      "execution_count": 28,
      "outputs": []
    },
    {
      "cell_type": "code",
      "source": [
        "id5b = get_features(vgg,car5)\n",
        "id5v = get_features(vgg,dmg5)"
      ],
      "metadata": {
        "colab": {
          "base_uri": "https://localhost:8080/"
        },
        "id": "L5M2WMnbmtQZ",
        "outputId": "ffce11ed-c857-4223-8a9c-b4a0818afd19"
      },
      "execution_count": 29,
      "outputs": [
        {
          "output_type": "stream",
          "name": "stderr",
          "text": [
            "100%|██████████| 1/1 [00:01<00:00,  1.08s/it]\n",
            "100%|██████████| 1/1 [00:00<00:00,  1.08it/s]\n"
          ]
        }
      ]
    },
    {
      "cell_type": "code",
      "source": [
        "ldmg5 = get_euclidean(id5b,id5v)\n",
        "ldmg5"
      ],
      "metadata": {
        "colab": {
          "base_uri": "https://localhost:8080/"
        },
        "id": "vlZHKYtXmuyO",
        "outputId": "9c363ba8-3b9e-4ed5-d981-7b226b181d73"
      },
      "execution_count": 30,
      "outputs": [
        {
          "output_type": "execute_result",
          "data": {
            "text/plain": [
              "[14.467147827148438, 0.0, 1.421478509902954, 12.013274192810059]"
            ]
          },
          "metadata": {},
          "execution_count": 30
        }
      ]
    },
    {
      "cell_type": "code",
      "source": [
        "car7 = get_dataset(r'/content/drive/MyDrive/train_model/cross_val/Base/ID07/')\n",
        "dmg7 = get_dataset(r'/content/drive/MyDrive/train_model/cross_val/Damage/Little Damage/ID07/')"
      ],
      "metadata": {
        "id": "hQQOe4p-mxNi"
      },
      "execution_count": 31,
      "outputs": []
    },
    {
      "cell_type": "code",
      "source": [
        "id7b = get_features(vgg,car7)\n",
        "id7v = get_features(vgg,dmg7)"
      ],
      "metadata": {
        "colab": {
          "base_uri": "https://localhost:8080/"
        },
        "id": "RZ7WrH3Qm4Ui",
        "outputId": "9932a215-417c-47eb-ee3e-b40b44550065"
      },
      "execution_count": 32,
      "outputs": [
        {
          "output_type": "stream",
          "name": "stderr",
          "text": [
            "100%|██████████| 1/1 [00:00<00:00,  1.06it/s]\n",
            "100%|██████████| 1/1 [00:00<00:00,  1.08it/s]\n"
          ]
        }
      ]
    },
    {
      "cell_type": "code",
      "source": [
        "ldmg7 = get_euclidean(id7b,id7v)\n",
        "ldmg7"
      ],
      "metadata": {
        "colab": {
          "base_uri": "https://localhost:8080/"
        },
        "id": "2gMgx6vGm56u",
        "outputId": "60a9dd41-9fbe-4b9e-94b3-2bbddb538bc0"
      },
      "execution_count": 33,
      "outputs": [
        {
          "output_type": "execute_result",
          "data": {
            "text/plain": [
              "[9.235384941101074, 0.0, 10.339150428771973, 0.2787933647632599]"
            ]
          },
          "metadata": {},
          "execution_count": 33
        }
      ]
    },
    {
      "cell_type": "code",
      "source": [
        "car8 = get_dataset(r'/content/drive/MyDrive/train_model/cross_val/Base/ID08/')\n",
        "dmg8 = get_dataset(r'/content/drive/MyDrive/train_model/cross_val/Damage/Little Damage/ID08/')"
      ],
      "metadata": {
        "id": "-b6uhID_m7xQ"
      },
      "execution_count": 34,
      "outputs": []
    },
    {
      "cell_type": "code",
      "source": [
        "id8b = get_features(vgg,car8)\n",
        "id8v = get_features(vgg,dmg8)"
      ],
      "metadata": {
        "colab": {
          "base_uri": "https://localhost:8080/"
        },
        "id": "mvpbZepfm-Rg",
        "outputId": "5376bb28-913b-4842-bb86-fe5bb6cc824f"
      },
      "execution_count": 35,
      "outputs": [
        {
          "output_type": "stream",
          "name": "stderr",
          "text": [
            "100%|██████████| 1/1 [00:00<00:00,  1.13it/s]\n",
            "100%|██████████| 1/1 [00:00<00:00,  1.06it/s]\n"
          ]
        }
      ]
    },
    {
      "cell_type": "code",
      "source": [
        "ldmg8 = get_euclidean(id8b,id8v)\n",
        "ldmg8"
      ],
      "metadata": {
        "colab": {
          "base_uri": "https://localhost:8080/"
        },
        "id": "iQ03UD10m_1t",
        "outputId": "f34e1ff3-9ca5-45f2-cce0-897d42c3d432"
      },
      "execution_count": 36,
      "outputs": [
        {
          "output_type": "execute_result",
          "data": {
            "text/plain": [
              "[18.01740264892578,\n",
              " 0.1528698056936264,\n",
              " 10.107585906982422,\n",
              " 0.35800305008888245]"
            ]
          },
          "metadata": {},
          "execution_count": 36
        }
      ]
    },
    {
      "cell_type": "code",
      "source": [
        "car9 = get_dataset(r'/content/drive/MyDrive/train_model/cross_val/Base/ID01/')\n",
        "dmg9 = get_dataset(r'/content/drive/MyDrive/train_model/cross_val/Damage/Damage/ID01/')"
      ],
      "metadata": {
        "id": "vzmFBOJEnBv8"
      },
      "execution_count": 37,
      "outputs": []
    },
    {
      "cell_type": "code",
      "source": [
        "id9b = get_features(vgg,car9)\n",
        "id9v = get_features(vgg,dmg9)"
      ],
      "metadata": {
        "colab": {
          "base_uri": "https://localhost:8080/"
        },
        "id": "lkgYtGwGn1hM",
        "outputId": "4a44bae0-bfd3-4a80-c0db-6917ffff2186"
      },
      "execution_count": 38,
      "outputs": [
        {
          "output_type": "stream",
          "name": "stderr",
          "text": [
            "100%|██████████| 1/1 [00:00<00:00,  4.34it/s]\n",
            "100%|██████████| 1/1 [00:00<00:00,  1.06it/s]\n"
          ]
        }
      ]
    },
    {
      "cell_type": "code",
      "source": [
        "dmg1 = get_euclidean(id9b,id9v)\n",
        "dmg1"
      ],
      "metadata": {
        "colab": {
          "base_uri": "https://localhost:8080/"
        },
        "id": "N_xXMWy0n323",
        "outputId": "692d8bbf-0b9a-4fc1-b3e7-d8159191a461"
      },
      "execution_count": 39,
      "outputs": [
        {
          "output_type": "execute_result",
          "data": {
            "text/plain": [
              "[27.09781837463379, 19.150394439697266, 8.790336608886719, 13.211188316345215]"
            ]
          },
          "metadata": {},
          "execution_count": 39
        }
      ]
    },
    {
      "cell_type": "code",
      "source": [
        "car10 = get_dataset(r'/content/drive/MyDrive/train_model/cross_val/Base/ID02/')\n",
        "dmg10 = get_dataset(r'/content/drive/MyDrive/train_model/cross_val/Damage/Damage/ID02/')"
      ],
      "metadata": {
        "id": "EQFQ1Tytn8ic"
      },
      "execution_count": 40,
      "outputs": []
    },
    {
      "cell_type": "code",
      "source": [
        "id10b = get_features(vgg,car10)\n",
        "id10v = get_features(vgg,dmg10)"
      ],
      "metadata": {
        "colab": {
          "base_uri": "https://localhost:8080/"
        },
        "id": "-z_j9v5Soqee",
        "outputId": "9ddef1df-dba3-401f-fc8a-ddf0c6f2feb0"
      },
      "execution_count": 41,
      "outputs": [
        {
          "output_type": "stream",
          "name": "stderr",
          "text": [
            "100%|██████████| 1/1 [00:00<00:00,  2.34it/s]\n",
            "100%|██████████| 1/1 [00:01<00:00,  1.02s/it]\n"
          ]
        }
      ]
    },
    {
      "cell_type": "code",
      "source": [
        "dmg2 = get_euclidean(id10b,id10v)\n",
        "dmg2"
      ],
      "metadata": {
        "colab": {
          "base_uri": "https://localhost:8080/"
        },
        "id": "-jtsvaxGosCd",
        "outputId": "2326db46-29e0-43ad-e4a1-16f8efee3b1c"
      },
      "execution_count": 43,
      "outputs": [
        {
          "output_type": "execute_result",
          "data": {
            "text/plain": [
              "[9.429988861083984, 36.80332565307617, 11.450568199157715, 32.164066314697266]"
            ]
          },
          "metadata": {},
          "execution_count": 43
        }
      ]
    },
    {
      "cell_type": "code",
      "source": [
        "car11 = get_dataset(r'/content/drive/MyDrive/train_model/cross_val/Base/ID03/')\n",
        "dmg11 = get_dataset(r'/content/drive/MyDrive/train_model/cross_val/Damage/Damage/ID03/')"
      ],
      "metadata": {
        "id": "w9rSF1d0oun1"
      },
      "execution_count": 44,
      "outputs": []
    },
    {
      "cell_type": "code",
      "source": [
        "id11b = get_features(vgg,car11)\n",
        "id11v = get_features(vgg,dmg11)"
      ],
      "metadata": {
        "colab": {
          "base_uri": "https://localhost:8080/"
        },
        "id": "iRhS8mNso5O-",
        "outputId": "014f52d9-1b93-4365-eb42-87f733f95acf"
      },
      "execution_count": 45,
      "outputs": [
        {
          "output_type": "stream",
          "name": "stderr",
          "text": [
            "100%|██████████| 1/1 [00:00<00:00,  2.90it/s]\n",
            "100%|██████████| 1/1 [00:00<00:00,  1.10it/s]\n"
          ]
        }
      ]
    },
    {
      "cell_type": "code",
      "source": [
        "dmg3 = get_euclidean(id11b,id11v)\n",
        "dmg3"
      ],
      "metadata": {
        "colab": {
          "base_uri": "https://localhost:8080/"
        },
        "id": "xnu4IV9Yo7K1",
        "outputId": "d22e73c2-0df7-42cd-f4d1-2f7da74f2b07"
      },
      "execution_count": 46,
      "outputs": [
        {
          "output_type": "execute_result",
          "data": {
            "text/plain": [
              "[36.016483306884766,\n",
              " 24.716489791870117,\n",
              " 2.6083059310913086,\n",
              " 14.869647026062012]"
            ]
          },
          "metadata": {},
          "execution_count": 46
        }
      ]
    },
    {
      "cell_type": "code",
      "source": [
        "car12 = get_dataset(r'/content/drive/MyDrive/train_model/cross_val/Base/ID04/')\n",
        "dmg12 = get_dataset(r'/content/drive/MyDrive/train_model/cross_val/Damage/Damage/ID04/')"
      ],
      "metadata": {
        "id": "iMykfab1o-Ip"
      },
      "execution_count": 47,
      "outputs": []
    },
    {
      "cell_type": "code",
      "source": [
        "id12b = get_features(vgg,car12)\n",
        "id12v = get_features(vgg,dmg12)"
      ],
      "metadata": {
        "colab": {
          "base_uri": "https://localhost:8080/"
        },
        "id": "1p5_tU9epNOo",
        "outputId": "55b4d273-0207-419c-c10e-57e29350b992"
      },
      "execution_count": 48,
      "outputs": [
        {
          "output_type": "stream",
          "name": "stderr",
          "text": [
            "100%|██████████| 1/1 [00:00<00:00,  4.03it/s]\n",
            "100%|██████████| 1/1 [00:00<00:00,  1.05it/s]\n"
          ]
        }
      ]
    },
    {
      "cell_type": "code",
      "source": [
        "dmg4 = get_euclidean(id12b,id12v)\n",
        "dmg4"
      ],
      "metadata": {
        "colab": {
          "base_uri": "https://localhost:8080/"
        },
        "id": "2ZkK2z4NpPSQ",
        "outputId": "5c8b2154-d44d-4007-d8ba-a08263d75a25"
      },
      "execution_count": 49,
      "outputs": [
        {
          "output_type": "execute_result",
          "data": {
            "text/plain": [
              "[30.508310317993164, 27.392013549804688, 33.320701599121094, 21.87012481689453]"
            ]
          },
          "metadata": {},
          "execution_count": 49
        }
      ]
    },
    {
      "cell_type": "code",
      "source": [
        "car13 = get_dataset(r'/content/drive/MyDrive/train_model/cross_val/Base/ID05/')\n",
        "dmg13 = get_dataset(r'/content/drive/MyDrive/train_model/cross_val/Damage/Damage/ID05/')"
      ],
      "metadata": {
        "id": "ai24Gjo4pR2B"
      },
      "execution_count": 50,
      "outputs": []
    },
    {
      "cell_type": "code",
      "source": [
        "id13b = get_features(vgg,car13)\n",
        "id13v = get_features(vgg,dmg13)"
      ],
      "metadata": {
        "colab": {
          "base_uri": "https://localhost:8080/"
        },
        "id": "JtwUiPY7pZd7",
        "outputId": "f468be04-819d-4f3b-de5f-31d4684c18f0"
      },
      "execution_count": 51,
      "outputs": [
        {
          "output_type": "stream",
          "name": "stderr",
          "text": [
            "100%|██████████| 1/1 [00:00<00:00,  3.00it/s]\n",
            "100%|██████████| 1/1 [00:00<00:00,  1.17it/s]\n"
          ]
        }
      ]
    },
    {
      "cell_type": "code",
      "source": [
        "dmg5 = get_euclidean(id13b,id13v)\n",
        "dmg5"
      ],
      "metadata": {
        "colab": {
          "base_uri": "https://localhost:8080/"
        },
        "id": "-CgwD8eRpbVc",
        "outputId": "902e34e6-76d1-43e4-e2e6-72147c60b781"
      },
      "execution_count": 52,
      "outputs": [
        {
          "output_type": "execute_result",
          "data": {
            "text/plain": [
              "[15.178170204162598, 0.0, 7.946351528167725, 49.970458984375]"
            ]
          },
          "metadata": {},
          "execution_count": 52
        }
      ]
    },
    {
      "cell_type": "code",
      "source": [
        "car14 = get_dataset(r'/content/drive/MyDrive/train_model/cross_val/Base/ID07/')\n",
        "dmg14 = get_dataset(r'/content/drive/MyDrive/train_model/cross_val/Damage/Damage/ID07/')"
      ],
      "metadata": {
        "id": "u5z1pkp5pg2Y"
      },
      "execution_count": 53,
      "outputs": []
    },
    {
      "cell_type": "code",
      "source": [
        "id14b = get_features(vgg,car14)\n",
        "id14v = get_features(vgg,dmg14)"
      ],
      "metadata": {
        "colab": {
          "base_uri": "https://localhost:8080/"
        },
        "id": "Qyd7_HnTp_24",
        "outputId": "9d20d25f-2038-4017-d555-19a7dadb2d7b"
      },
      "execution_count": 57,
      "outputs": [
        {
          "output_type": "stream",
          "name": "stderr",
          "text": [
            "100%|██████████| 1/1 [00:00<00:00,  4.26it/s]\n",
            "100%|██████████| 1/1 [00:00<00:00,  1.13it/s]\n"
          ]
        }
      ]
    },
    {
      "cell_type": "code",
      "source": [
        "dmg7 = get_euclidean(id14b,id14v)\n",
        "dmg7"
      ],
      "metadata": {
        "colab": {
          "base_uri": "https://localhost:8080/"
        },
        "id": "W_nvCP6gplga",
        "outputId": "91f6e756-9355-4476-bdc4-8d8abbf94abd"
      },
      "execution_count": 58,
      "outputs": [
        {
          "output_type": "execute_result",
          "data": {
            "text/plain": [
              "[11.249828338623047,\n",
              " 16.894763946533203,\n",
              " 11.521631240844727,\n",
              " 24.162757873535156]"
            ]
          },
          "metadata": {},
          "execution_count": 58
        }
      ]
    },
    {
      "cell_type": "code",
      "source": [
        "car15 = get_dataset(r'/content/drive/MyDrive/train_model/cross_val/Base/ID08/')\n",
        "dmg15 = get_dataset(r'/content/drive/MyDrive/train_model/cross_val/Damage/Damage/ID08/')"
      ],
      "metadata": {
        "id": "iFDoXeFOpt9x"
      },
      "execution_count": 59,
      "outputs": []
    },
    {
      "cell_type": "code",
      "source": [
        "id15b = get_features(vgg,car15)\n",
        "id15v = get_features(vgg,dmg15)"
      ],
      "metadata": {
        "colab": {
          "base_uri": "https://localhost:8080/"
        },
        "id": "DiGaGCfoqFe2",
        "outputId": "17ca8833-1183-4395-ec0c-ac1f67462403"
      },
      "execution_count": 60,
      "outputs": [
        {
          "output_type": "stream",
          "name": "stderr",
          "text": [
            "100%|██████████| 1/1 [00:00<00:00,  4.41it/s]\n",
            "100%|██████████| 1/1 [00:01<00:00,  1.05s/it]\n"
          ]
        }
      ]
    },
    {
      "cell_type": "code",
      "source": [
        "dmg8 = get_euclidean(id15b,id15v)\n",
        "dmg8"
      ],
      "metadata": {
        "colab": {
          "base_uri": "https://localhost:8080/"
        },
        "id": "Hrf26i8Qp1zp",
        "outputId": "17d0c615-33a7-4dbe-a271-4fce1860c861"
      },
      "execution_count": 61,
      "outputs": [
        {
          "output_type": "execute_result",
          "data": {
            "text/plain": [
              "[23.930585861206055, 20.503942489624023, 18.107406616210938, 17.06003189086914]"
            ]
          },
          "metadata": {},
          "execution_count": 61
        }
      ]
    },
    {
      "cell_type": "code",
      "source": [
        "car16 = get_dataset(r'/content/drive/MyDrive/train_model/cross_val/Base/ID01/')\n",
        "dmg16 = get_dataset(r'/content/drive/MyDrive/train_model/cross_val/Damage/Most Damage/ID01/')"
      ],
      "metadata": {
        "id": "Ogg5qhx-p54g"
      },
      "execution_count": 65,
      "outputs": []
    },
    {
      "cell_type": "code",
      "source": [
        "id16b = get_features(vgg,car16)\n",
        "id16v = get_features(vgg,dmg16)"
      ],
      "metadata": {
        "colab": {
          "base_uri": "https://localhost:8080/"
        },
        "id": "KECiSe02qn8V",
        "outputId": "807c7d0a-244b-44b6-abe7-141b9401ca3f"
      },
      "execution_count": 66,
      "outputs": [
        {
          "output_type": "stream",
          "name": "stderr",
          "text": [
            "100%|██████████| 1/1 [00:00<00:00,  4.04it/s]\n",
            "100%|██████████| 1/1 [00:00<00:00,  1.06it/s]\n"
          ]
        }
      ]
    },
    {
      "cell_type": "code",
      "source": [
        "mdmg1 = get_euclidean(id16b,id16v)\n",
        "mdmg1"
      ],
      "metadata": {
        "colab": {
          "base_uri": "https://localhost:8080/"
        },
        "id": "vd8B0b4lqqCJ",
        "outputId": "50dc9b3e-c94c-434f-dcd7-d3b61a4c3ddc"
      },
      "execution_count": 67,
      "outputs": [
        {
          "output_type": "execute_result",
          "data": {
            "text/plain": [
              "[68.1958236694336, 38.6058235168457, 46.44422149658203, 27.74066925048828]"
            ]
          },
          "metadata": {},
          "execution_count": 67
        }
      ]
    },
    {
      "cell_type": "code",
      "source": [
        "car17 = get_dataset(r'/content/drive/MyDrive/train_model/cross_val/Base/ID02/')\n",
        "dmg17 = get_dataset(r'/content/drive/MyDrive/train_model/cross_val/Damage/Most Damage/ID02/')"
      ],
      "metadata": {
        "id": "8u9LlPqWquPo"
      },
      "execution_count": 68,
      "outputs": []
    },
    {
      "cell_type": "code",
      "source": [
        "id17b = get_features(vgg,car17)\n",
        "id17v = get_features(vgg,dmg17)"
      ],
      "metadata": {
        "colab": {
          "base_uri": "https://localhost:8080/"
        },
        "id": "P9YmydJ4rGfj",
        "outputId": "47955d9d-b8c0-4939-975a-845d18ed45cd"
      },
      "execution_count": 69,
      "outputs": [
        {
          "output_type": "stream",
          "name": "stderr",
          "text": [
            "100%|██████████| 1/1 [00:00<00:00,  3.84it/s]\n",
            "100%|██████████| 1/1 [00:00<00:00,  1.09it/s]\n"
          ]
        }
      ]
    },
    {
      "cell_type": "code",
      "source": [
        "mdmg2 = get_euclidean(id17b,id17v)\n",
        "mdmg2"
      ],
      "metadata": {
        "colab": {
          "base_uri": "https://localhost:8080/"
        },
        "id": "Scx5sBBerLmR",
        "outputId": "0dc9b18f-c8b0-44e5-d189-d5871ec058bf"
      },
      "execution_count": 70,
      "outputs": [
        {
          "output_type": "execute_result",
          "data": {
            "text/plain": [
              "[57.24567413330078, 42.035404205322266, 72.7228012084961, 29.784854888916016]"
            ]
          },
          "metadata": {},
          "execution_count": 70
        }
      ]
    },
    {
      "cell_type": "code",
      "source": [
        "car18 = get_dataset(r'/content/drive/MyDrive/train_model/cross_val/Base/ID03/')\n",
        "dmg18 = get_dataset(r'/content/drive/MyDrive/train_model/cross_val/Damage/Most Damage/ID03/')"
      ],
      "metadata": {
        "id": "3KyFOji4rPBw"
      },
      "execution_count": 71,
      "outputs": []
    },
    {
      "cell_type": "code",
      "source": [
        "id18b = get_features(vgg,car18)\n",
        "id18v = get_features(vgg,dmg18)"
      ],
      "metadata": {
        "colab": {
          "base_uri": "https://localhost:8080/"
        },
        "id": "9w0zMmxmrSi5",
        "outputId": "084c1da4-5443-46f5-a629-d6e5cd973b67"
      },
      "execution_count": 72,
      "outputs": [
        {
          "output_type": "stream",
          "name": "stderr",
          "text": [
            "100%|██████████| 1/1 [00:00<00:00,  3.85it/s]\n",
            "100%|██████████| 1/1 [00:01<00:00,  1.13s/it]\n"
          ]
        }
      ]
    },
    {
      "cell_type": "code",
      "source": [
        "mdmg3 = get_euclidean(id18b,id18v)\n",
        "mdmg3"
      ],
      "metadata": {
        "colab": {
          "base_uri": "https://localhost:8080/"
        },
        "id": "94HO7Vl0rWZl",
        "outputId": "e0cf0f59-d329-4868-d557-25e80944df01"
      },
      "execution_count": 73,
      "outputs": [
        {
          "output_type": "execute_result",
          "data": {
            "text/plain": [
              "[49.867042541503906, 53.78656005859375, 9.393472671508789, 36.26648712158203]"
            ]
          },
          "metadata": {},
          "execution_count": 73
        }
      ]
    },
    {
      "cell_type": "code",
      "source": [
        "car19 = get_dataset(r'/content/drive/MyDrive/train_model/cross_val/Base/ID04/')\n",
        "dmg19 = get_dataset(r'/content/drive/MyDrive/train_model/cross_val/Damage/Most Damage/ID04/')"
      ],
      "metadata": {
        "id": "V8AUJJN3rY4c"
      },
      "execution_count": 74,
      "outputs": []
    },
    {
      "cell_type": "code",
      "source": [
        "id19b = get_features(vgg,car19)\n",
        "id19v = get_features(vgg,dmg19)"
      ],
      "metadata": {
        "colab": {
          "base_uri": "https://localhost:8080/"
        },
        "id": "GA8uHDIercYs",
        "outputId": "9d28b172-d09d-4bec-f806-29e828f52f8d"
      },
      "execution_count": 75,
      "outputs": [
        {
          "output_type": "stream",
          "name": "stderr",
          "text": [
            "100%|██████████| 1/1 [00:00<00:00,  3.86it/s]\n",
            "100%|██████████| 1/1 [00:00<00:00,  1.03it/s]\n"
          ]
        }
      ]
    },
    {
      "cell_type": "code",
      "source": [
        "mdmg4 = get_euclidean(id19b,id19v)\n",
        "mdmg4"
      ],
      "metadata": {
        "colab": {
          "base_uri": "https://localhost:8080/"
        },
        "id": "F__1yUH0rd_O",
        "outputId": "c2824447-b61c-49ef-8d61-c765b214b43c"
      },
      "execution_count": 76,
      "outputs": [
        {
          "output_type": "execute_result",
          "data": {
            "text/plain": [
              "[46.6247673034668, 32.84585952758789, 51.96752166748047, 25.086597442626953]"
            ]
          },
          "metadata": {},
          "execution_count": 76
        }
      ]
    },
    {
      "cell_type": "code",
      "source": [
        "car20 = get_dataset(r'/content/drive/MyDrive/train_model/cross_val/Base/ID05/')\n",
        "dmg20 = get_dataset(r'/content/drive/MyDrive/train_model/cross_val/Damage/Most Damage/ID05/')"
      ],
      "metadata": {
        "id": "rbygb8yHrmSX"
      },
      "execution_count": 77,
      "outputs": []
    },
    {
      "cell_type": "code",
      "source": [
        "id20b = get_features(vgg,car20)\n",
        "id20v = get_features(vgg,dmg20)"
      ],
      "metadata": {
        "colab": {
          "base_uri": "https://localhost:8080/"
        },
        "id": "NfBWQXPzrvh9",
        "outputId": "51785a87-5b6e-48f7-dfe1-2ba46271888f"
      },
      "execution_count": 79,
      "outputs": [
        {
          "output_type": "stream",
          "name": "stderr",
          "text": [
            "100%|██████████| 1/1 [00:00<00:00,  4.21it/s]\n",
            "100%|██████████| 1/1 [00:01<00:00,  1.03s/it]\n"
          ]
        }
      ]
    },
    {
      "cell_type": "code",
      "source": [
        "mdmg5 = get_euclidean(id20b,id20v)\n",
        "mdmg5"
      ],
      "metadata": {
        "colab": {
          "base_uri": "https://localhost:8080/"
        },
        "id": "rjVouvxcrpTW",
        "outputId": "e76db5be-de56-4e75-933a-92d515613a39"
      },
      "execution_count": 80,
      "outputs": [
        {
          "output_type": "execute_result",
          "data": {
            "text/plain": [
              "[28.86748695373535, 25.846057891845703, 45.81979751586914, 45.920169830322266]"
            ]
          },
          "metadata": {},
          "execution_count": 80
        }
      ]
    },
    {
      "cell_type": "code",
      "source": [
        "car21 = get_dataset(r'/content/drive/MyDrive/train_model/cross_val/Base/ID07/')\n",
        "dmg21 = get_dataset(r'/content/drive/MyDrive/train_model/cross_val/Damage/Most Damage/ID07/')"
      ],
      "metadata": {
        "id": "p6l-GjXWrr6p"
      },
      "execution_count": 81,
      "outputs": []
    },
    {
      "cell_type": "code",
      "source": [
        "id21b = get_features(vgg,car21)\n",
        "id21v = get_features(vgg,dmg21)"
      ],
      "metadata": {
        "colab": {
          "base_uri": "https://localhost:8080/"
        },
        "id": "7EifMPayr1eE",
        "outputId": "82539df0-bebc-41d1-e135-7418a73d1184"
      },
      "execution_count": 82,
      "outputs": [
        {
          "output_type": "stream",
          "name": "stderr",
          "text": [
            "100%|██████████| 1/1 [00:00<00:00,  2.89it/s]\n",
            "100%|██████████| 1/1 [00:01<00:00,  1.11s/it]\n"
          ]
        }
      ]
    },
    {
      "cell_type": "code",
      "source": [
        "mdmg7 = get_euclidean(id21b,id21v)\n",
        "mdmg7"
      ],
      "metadata": {
        "colab": {
          "base_uri": "https://localhost:8080/"
        },
        "id": "eh7I18GKr3io",
        "outputId": "f6e572d0-207c-46a2-b4e8-11a9bb7457c1"
      },
      "execution_count": 83,
      "outputs": [
        {
          "output_type": "execute_result",
          "data": {
            "text/plain": [
              "[13.375085830688477, 23.109256744384766, 37.23313903808594, 24.59724998474121]"
            ]
          },
          "metadata": {},
          "execution_count": 83
        }
      ]
    },
    {
      "cell_type": "code",
      "source": [
        "car22 = get_dataset(r'/content/drive/MyDrive/train_model/cross_val/Base/ID08/')\n",
        "dmg22 = get_dataset(r'/content/drive/MyDrive/train_model/cross_val/Damage/Most Damage/ID08/')"
      ],
      "metadata": {
        "id": "Zkq72PG1r6st"
      },
      "execution_count": 84,
      "outputs": []
    },
    {
      "cell_type": "code",
      "source": [
        "id22b = get_features(vgg,car22)\n",
        "id22v = get_features(vgg,dmg22)"
      ],
      "metadata": {
        "colab": {
          "base_uri": "https://localhost:8080/"
        },
        "id": "OkawP7ZLr_Kh",
        "outputId": "3c9420d7-910a-4253-b441-3be56d7ffd12"
      },
      "execution_count": 85,
      "outputs": [
        {
          "output_type": "stream",
          "name": "stderr",
          "text": [
            "100%|██████████| 1/1 [00:00<00:00,  4.17it/s]\n",
            "100%|██████████| 1/1 [00:00<00:00,  1.10it/s]\n"
          ]
        }
      ]
    },
    {
      "cell_type": "code",
      "source": [
        "mdmg8 = get_euclidean(id22b,id22v)\n",
        "mdmg8"
      ],
      "metadata": {
        "colab": {
          "base_uri": "https://localhost:8080/"
        },
        "id": "UlvKZNL_sBBz",
        "outputId": "fe9b2e58-6553-4493-d1d3-f126716b89cc"
      },
      "execution_count": 86,
      "outputs": [
        {
          "output_type": "execute_result",
          "data": {
            "text/plain": [
              "[49.08564758300781, 34.61328125, 79.67522430419922, 44.16794204711914]"
            ]
          },
          "metadata": {},
          "execution_count": 86
        }
      ]
    },
    {
      "cell_type": "markdown",
      "source": [
        "# Test Min()"
      ],
      "metadata": {
        "id": "Z9xM_nKtsKnf"
      }
    },
    {
      "cell_type": "code",
      "source": [
        "get_dmg_F(ldmg1)\n",
        "get_dmg_L(ldmg1)\n",
        "get_dmg_B(ldmg1)\n",
        "get_dmg_R(ldmg1)\n",
        "get_dmg_F(ldmg2)\n",
        "get_dmg_L(ldmg2)\n",
        "get_dmg_B(ldmg2)\n",
        "get_dmg_R(ldmg2)\n",
        "get_dmg_F(ldmg3)\n",
        "get_dmg_L(ldmg3)\n",
        "get_dmg_B(ldmg3)\n",
        "get_dmg_R(ldmg3)\n",
        "get_dmg_F(ldmg4)\n",
        "get_dmg_L(ldmg4)\n",
        "get_dmg_B(ldmg4)\n",
        "get_dmg_R(ldmg4)\n",
        "get_dmg_F(ldmg5)\n",
        "get_dmg_L(ldmg5)\n",
        "get_dmg_B(ldmg5)\n",
        "get_dmg_R(ldmg5)\n",
        "get_dmg_F(ldmg7)\n",
        "get_dmg_L(ldmg7)\n",
        "get_dmg_B(ldmg7)\n",
        "get_dmg_R(ldmg7)\n",
        "get_dmg_F(ldmg8)\n",
        "get_dmg_L(ldmg8)\n",
        "get_dmg_B(ldmg8)\n",
        "get_dmg_R(ldmg8)"
      ],
      "metadata": {
        "colab": {
          "base_uri": "https://localhost:8080/"
        },
        "id": "VVoQvOLfsD00",
        "outputId": "ac42521a-ca38-4e19-d1cf-43bbc21f3992"
      },
      "execution_count": 105,
      "outputs": [
        {
          "output_type": "stream",
          "name": "stdout",
          "text": [
            "N\n",
            "L\n",
            "N\n",
            "L\n",
            "N\n",
            "L\n",
            "N\n",
            "N\n",
            "N\n",
            "L\n",
            "N\n",
            "L\n",
            "L\n",
            "L\n",
            "L\n",
            "L\n",
            "L\n",
            "L\n",
            "M\n",
            "L\n",
            "N\n",
            "L\n",
            "L\n",
            "L\n",
            "L\n",
            "L\n",
            "M\n",
            "L\n"
          ]
        }
      ]
    },
    {
      "cell_type": "code",
      "source": [
        "get_dmg_F(dmg1)\n",
        "get_dmg_L(dmg1)\n",
        "get_dmg_B(dmg1)\n",
        "get_dmg_R(dmg1)\n",
        "get_dmg_F(dmg2)\n",
        "get_dmg_L(dmg2)\n",
        "get_dmg_B(dmg2)\n",
        "get_dmg_R(dmg2)\n",
        "get_dmg_F(dmg3)\n",
        "get_dmg_L(dmg3)\n",
        "get_dmg_B(dmg3)\n",
        "get_dmg_R(dmg3)\n",
        "get_dmg_F(dmg4)\n",
        "get_dmg_L(dmg4)\n",
        "get_dmg_B(dmg4)\n",
        "get_dmg_R(dmg4)\n",
        "get_dmg_F(dmg5)\n",
        "get_dmg_L(dmg5)\n",
        "get_dmg_B(dmg5)\n",
        "get_dmg_R(dmg5)\n",
        "get_dmg_F(dmg7)\n",
        "get_dmg_L(dmg7)\n",
        "get_dmg_B(dmg7)\n",
        "get_dmg_R(dmg7)\n",
        "get_dmg_F(dmg8)\n",
        "get_dmg_L(dmg8)\n",
        "get_dmg_B(dmg8)\n",
        "get_dmg_R(dmg8)"
      ],
      "metadata": {
        "id": "FaHTK9mMsa18",
        "outputId": "57f9dae8-69dc-4e77-c30f-c7c7e218f48f",
        "colab": {
          "base_uri": "https://localhost:8080/"
        }
      },
      "execution_count": 106,
      "outputs": [
        {
          "output_type": "stream",
          "name": "stdout",
          "text": [
            "M\n",
            "M\n",
            "M\n",
            "M\n",
            "N\n",
            "L\n",
            "L\n",
            "L\n",
            "M\n",
            "H\n",
            "M\n",
            "H\n",
            "M\n",
            "M\n",
            "M\n",
            "M\n",
            "L\n",
            "L\n",
            "M\n",
            "L\n",
            "L\n",
            "L\n",
            "L\n",
            "L\n",
            "M\n",
            "L\n",
            "M\n",
            "L\n"
          ]
        }
      ]
    },
    {
      "cell_type": "code",
      "source": [
        "get_dmg_F(mdmg1)\n",
        "get_dmg_L(mdmg1)\n",
        "get_dmg_B(mdmg1)\n",
        "get_dmg_R(mdmg1)\n",
        "get_dmg_F(mdmg2)\n",
        "get_dmg_L(mdmg2)\n",
        "get_dmg_B(mdmg2)\n",
        "get_dmg_R(mdmg2)\n",
        "get_dmg_F(mdmg3)\n",
        "get_dmg_L(mdmg3)\n",
        "get_dmg_B(mdmg3)\n",
        "get_dmg_R(mdmg3)\n",
        "get_dmg_F(mdmg4)\n",
        "get_dmg_L(mdmg4)\n",
        "get_dmg_B(mdmg4)\n",
        "get_dmg_R(mdmg4)\n",
        "get_dmg_F(mdmg5)\n",
        "get_dmg_L(mdmg5)\n",
        "get_dmg_B(mdmg5)\n",
        "get_dmg_R(mdmg5)\n",
        "get_dmg_F(mdmg7)\n",
        "get_dmg_L(mdmg7)\n",
        "get_dmg_B(mdmg7)\n",
        "get_dmg_R(mdmg7)\n",
        "get_dmg_F(mdmg8)\n",
        "get_dmg_L(mdmg8)\n",
        "get_dmg_B(mdmg8)\n",
        "get_dmg_R(mdmg8)"
      ],
      "metadata": {
        "id": "zbm5cuKescot",
        "outputId": "4d7dc9b8-a4aa-4f31-a724-49bccef63132",
        "colab": {
          "base_uri": "https://localhost:8080/"
        }
      },
      "execution_count": 107,
      "outputs": [
        {
          "output_type": "stream",
          "name": "stdout",
          "text": [
            "H\n",
            "H\n",
            "H\n",
            "H\n",
            "H\n",
            "H\n",
            "H\n",
            "H\n",
            "H\n",
            "H\n",
            "H\n",
            "H\n",
            "H\n",
            "H\n",
            "M\n",
            "H\n",
            "M\n",
            "M\n",
            "M\n",
            "M\n",
            "L\n",
            "L\n",
            "L\n",
            "L\n",
            "H\n",
            "H\n",
            "H\n",
            "H\n"
          ]
        }
      ]
    },
    {
      "cell_type": "code",
      "source": [
        ""
      ],
      "metadata": {
        "id": "55hog33ftEkh"
      },
      "execution_count": null,
      "outputs": []
    }
  ]
}