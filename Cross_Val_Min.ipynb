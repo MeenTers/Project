{
  "nbformat": 4,
  "nbformat_minor": 0,
  "metadata": {
    "colab": {
      "name": "Cross_Val_Min.ipynb",
      "provenance": [],
      "collapsed_sections": [],
      "authorship_tag": "ABX9TyM9UAQFfvTplyrLCgZYIYKh",
      "include_colab_link": true
    },
    "kernelspec": {
      "name": "python3",
      "display_name": "Python 3"
    },
    "language_info": {
      "name": "python"
    },
    "accelerator": "GPU",
    "widgets": {
      "application/vnd.jupyter.widget-state+json": {
        "0235617f0e684ffb9acb38b6b6fe71db": {
          "model_module": "@jupyter-widgets/controls",
          "model_name": "HBoxModel",
          "model_module_version": "1.5.0",
          "state": {
            "_dom_classes": [],
            "_model_module": "@jupyter-widgets/controls",
            "_model_module_version": "1.5.0",
            "_model_name": "HBoxModel",
            "_view_count": null,
            "_view_module": "@jupyter-widgets/controls",
            "_view_module_version": "1.5.0",
            "_view_name": "HBoxView",
            "box_style": "",
            "children": [
              "IPY_MODEL_8c72ee3f926d4d05855aefa3f0612511",
              "IPY_MODEL_94a4d05ac4e64378a4bb4f0febcd8e4d",
              "IPY_MODEL_854966d2f26f472daa353bf3754e5551"
            ],
            "layout": "IPY_MODEL_b5602abe6edc4c52bb5ab75631b2fbf5"
          }
        },
        "8c72ee3f926d4d05855aefa3f0612511": {
          "model_module": "@jupyter-widgets/controls",
          "model_name": "HTMLModel",
          "model_module_version": "1.5.0",
          "state": {
            "_dom_classes": [],
            "_model_module": "@jupyter-widgets/controls",
            "_model_module_version": "1.5.0",
            "_model_name": "HTMLModel",
            "_view_count": null,
            "_view_module": "@jupyter-widgets/controls",
            "_view_module_version": "1.5.0",
            "_view_name": "HTMLView",
            "description": "",
            "description_tooltip": null,
            "layout": "IPY_MODEL_28800f6002b14c3fae2965adaa6d362c",
            "placeholder": "​",
            "style": "IPY_MODEL_45c9b134e00e414cb9a977194049072a",
            "value": "100%"
          }
        },
        "94a4d05ac4e64378a4bb4f0febcd8e4d": {
          "model_module": "@jupyter-widgets/controls",
          "model_name": "FloatProgressModel",
          "model_module_version": "1.5.0",
          "state": {
            "_dom_classes": [],
            "_model_module": "@jupyter-widgets/controls",
            "_model_module_version": "1.5.0",
            "_model_name": "FloatProgressModel",
            "_view_count": null,
            "_view_module": "@jupyter-widgets/controls",
            "_view_module_version": "1.5.0",
            "_view_name": "ProgressView",
            "bar_style": "success",
            "description": "",
            "description_tooltip": null,
            "layout": "IPY_MODEL_559c925be63d4f6f89ac76ae46b373c0",
            "max": 574673361,
            "min": 0,
            "orientation": "horizontal",
            "style": "IPY_MODEL_884a505073fa45c287042ac8ce8d6ec2",
            "value": 574673361
          }
        },
        "854966d2f26f472daa353bf3754e5551": {
          "model_module": "@jupyter-widgets/controls",
          "model_name": "HTMLModel",
          "model_module_version": "1.5.0",
          "state": {
            "_dom_classes": [],
            "_model_module": "@jupyter-widgets/controls",
            "_model_module_version": "1.5.0",
            "_model_name": "HTMLModel",
            "_view_count": null,
            "_view_module": "@jupyter-widgets/controls",
            "_view_module_version": "1.5.0",
            "_view_name": "HTMLView",
            "description": "",
            "description_tooltip": null,
            "layout": "IPY_MODEL_49b0d2ba8da84a7385d0ca8d09312e9f",
            "placeholder": "​",
            "style": "IPY_MODEL_aebeaf1bdd764e999a88332a6c2c4e27",
            "value": " 548M/548M [00:07&lt;00:00, 84.8MB/s]"
          }
        },
        "b5602abe6edc4c52bb5ab75631b2fbf5": {
          "model_module": "@jupyter-widgets/base",
          "model_name": "LayoutModel",
          "model_module_version": "1.2.0",
          "state": {
            "_model_module": "@jupyter-widgets/base",
            "_model_module_version": "1.2.0",
            "_model_name": "LayoutModel",
            "_view_count": null,
            "_view_module": "@jupyter-widgets/base",
            "_view_module_version": "1.2.0",
            "_view_name": "LayoutView",
            "align_content": null,
            "align_items": null,
            "align_self": null,
            "border": null,
            "bottom": null,
            "display": null,
            "flex": null,
            "flex_flow": null,
            "grid_area": null,
            "grid_auto_columns": null,
            "grid_auto_flow": null,
            "grid_auto_rows": null,
            "grid_column": null,
            "grid_gap": null,
            "grid_row": null,
            "grid_template_areas": null,
            "grid_template_columns": null,
            "grid_template_rows": null,
            "height": null,
            "justify_content": null,
            "justify_items": null,
            "left": null,
            "margin": null,
            "max_height": null,
            "max_width": null,
            "min_height": null,
            "min_width": null,
            "object_fit": null,
            "object_position": null,
            "order": null,
            "overflow": null,
            "overflow_x": null,
            "overflow_y": null,
            "padding": null,
            "right": null,
            "top": null,
            "visibility": null,
            "width": null
          }
        },
        "28800f6002b14c3fae2965adaa6d362c": {
          "model_module": "@jupyter-widgets/base",
          "model_name": "LayoutModel",
          "model_module_version": "1.2.0",
          "state": {
            "_model_module": "@jupyter-widgets/base",
            "_model_module_version": "1.2.0",
            "_model_name": "LayoutModel",
            "_view_count": null,
            "_view_module": "@jupyter-widgets/base",
            "_view_module_version": "1.2.0",
            "_view_name": "LayoutView",
            "align_content": null,
            "align_items": null,
            "align_self": null,
            "border": null,
            "bottom": null,
            "display": null,
            "flex": null,
            "flex_flow": null,
            "grid_area": null,
            "grid_auto_columns": null,
            "grid_auto_flow": null,
            "grid_auto_rows": null,
            "grid_column": null,
            "grid_gap": null,
            "grid_row": null,
            "grid_template_areas": null,
            "grid_template_columns": null,
            "grid_template_rows": null,
            "height": null,
            "justify_content": null,
            "justify_items": null,
            "left": null,
            "margin": null,
            "max_height": null,
            "max_width": null,
            "min_height": null,
            "min_width": null,
            "object_fit": null,
            "object_position": null,
            "order": null,
            "overflow": null,
            "overflow_x": null,
            "overflow_y": null,
            "padding": null,
            "right": null,
            "top": null,
            "visibility": null,
            "width": null
          }
        },
        "45c9b134e00e414cb9a977194049072a": {
          "model_module": "@jupyter-widgets/controls",
          "model_name": "DescriptionStyleModel",
          "model_module_version": "1.5.0",
          "state": {
            "_model_module": "@jupyter-widgets/controls",
            "_model_module_version": "1.5.0",
            "_model_name": "DescriptionStyleModel",
            "_view_count": null,
            "_view_module": "@jupyter-widgets/base",
            "_view_module_version": "1.2.0",
            "_view_name": "StyleView",
            "description_width": ""
          }
        },
        "559c925be63d4f6f89ac76ae46b373c0": {
          "model_module": "@jupyter-widgets/base",
          "model_name": "LayoutModel",
          "model_module_version": "1.2.0",
          "state": {
            "_model_module": "@jupyter-widgets/base",
            "_model_module_version": "1.2.0",
            "_model_name": "LayoutModel",
            "_view_count": null,
            "_view_module": "@jupyter-widgets/base",
            "_view_module_version": "1.2.0",
            "_view_name": "LayoutView",
            "align_content": null,
            "align_items": null,
            "align_self": null,
            "border": null,
            "bottom": null,
            "display": null,
            "flex": null,
            "flex_flow": null,
            "grid_area": null,
            "grid_auto_columns": null,
            "grid_auto_flow": null,
            "grid_auto_rows": null,
            "grid_column": null,
            "grid_gap": null,
            "grid_row": null,
            "grid_template_areas": null,
            "grid_template_columns": null,
            "grid_template_rows": null,
            "height": null,
            "justify_content": null,
            "justify_items": null,
            "left": null,
            "margin": null,
            "max_height": null,
            "max_width": null,
            "min_height": null,
            "min_width": null,
            "object_fit": null,
            "object_position": null,
            "order": null,
            "overflow": null,
            "overflow_x": null,
            "overflow_y": null,
            "padding": null,
            "right": null,
            "top": null,
            "visibility": null,
            "width": null
          }
        },
        "884a505073fa45c287042ac8ce8d6ec2": {
          "model_module": "@jupyter-widgets/controls",
          "model_name": "ProgressStyleModel",
          "model_module_version": "1.5.0",
          "state": {
            "_model_module": "@jupyter-widgets/controls",
            "_model_module_version": "1.5.0",
            "_model_name": "ProgressStyleModel",
            "_view_count": null,
            "_view_module": "@jupyter-widgets/base",
            "_view_module_version": "1.2.0",
            "_view_name": "StyleView",
            "bar_color": null,
            "description_width": ""
          }
        },
        "49b0d2ba8da84a7385d0ca8d09312e9f": {
          "model_module": "@jupyter-widgets/base",
          "model_name": "LayoutModel",
          "model_module_version": "1.2.0",
          "state": {
            "_model_module": "@jupyter-widgets/base",
            "_model_module_version": "1.2.0",
            "_model_name": "LayoutModel",
            "_view_count": null,
            "_view_module": "@jupyter-widgets/base",
            "_view_module_version": "1.2.0",
            "_view_name": "LayoutView",
            "align_content": null,
            "align_items": null,
            "align_self": null,
            "border": null,
            "bottom": null,
            "display": null,
            "flex": null,
            "flex_flow": null,
            "grid_area": null,
            "grid_auto_columns": null,
            "grid_auto_flow": null,
            "grid_auto_rows": null,
            "grid_column": null,
            "grid_gap": null,
            "grid_row": null,
            "grid_template_areas": null,
            "grid_template_columns": null,
            "grid_template_rows": null,
            "height": null,
            "justify_content": null,
            "justify_items": null,
            "left": null,
            "margin": null,
            "max_height": null,
            "max_width": null,
            "min_height": null,
            "min_width": null,
            "object_fit": null,
            "object_position": null,
            "order": null,
            "overflow": null,
            "overflow_x": null,
            "overflow_y": null,
            "padding": null,
            "right": null,
            "top": null,
            "visibility": null,
            "width": null
          }
        },
        "aebeaf1bdd764e999a88332a6c2c4e27": {
          "model_module": "@jupyter-widgets/controls",
          "model_name": "DescriptionStyleModel",
          "model_module_version": "1.5.0",
          "state": {
            "_model_module": "@jupyter-widgets/controls",
            "_model_module_version": "1.5.0",
            "_model_name": "DescriptionStyleModel",
            "_view_count": null,
            "_view_module": "@jupyter-widgets/base",
            "_view_module_version": "1.2.0",
            "_view_name": "StyleView",
            "description_width": ""
          }
        }
      }
    }
  },
  "cells": [
    {
      "cell_type": "markdown",
      "metadata": {
        "id": "view-in-github",
        "colab_type": "text"
      },
      "source": [
        "<a href=\"https://colab.research.google.com/github/MeenTers/Project/blob/main/Cross_Val_Min.ipynb\" target=\"_parent\"><img src=\"https://colab.research.google.com/assets/colab-badge.svg\" alt=\"Open In Colab\"/></a>"
      ]
    },
    {
      "cell_type": "code",
      "execution_count": 1,
      "metadata": {
        "colab": {
          "base_uri": "https://localhost:8080/"
        },
        "id": "AOb0ReRfjBCe",
        "outputId": "75ee330c-b2d3-4a67-e832-8b6f01aa4cc9"
      },
      "outputs": [
        {
          "output_type": "stream",
          "name": "stdout",
          "text": [
            "Mounted at /content/drive\n"
          ]
        }
      ],
      "source": [
        "from google.colab import drive\n",
        "drive.mount('/content/drive')"
      ]
    },
    {
      "cell_type": "code",
      "source": [
        "import torch\n",
        "from torch import nn, load, utils\n",
        "from tqdm import tqdm\n",
        "import matplotlib.pyplot as plt\n",
        "import numpy as np\n",
        "from torchvision import datasets, transforms, models\n",
        "from torchvision.models.vgg import model_urls\n",
        "from os import path, listdir\n",
        "model_urls['vgg19'] = model_urls['vgg19'].replace('https://', 'http://')"
      ],
      "metadata": {
        "id": "7gqcHB4wjjFU"
      },
      "execution_count": 2,
      "outputs": []
    },
    {
      "cell_type": "code",
      "source": [
        "from scipy.spatial import distance_matrix\n",
        "from scipy.spatial import distance\n",
        "import pandas as pd"
      ],
      "metadata": {
        "id": "9zM7smhNjuqb"
      },
      "execution_count": 3,
      "outputs": []
    },
    {
      "cell_type": "code",
      "source": [
        "import matplotlib.image as mpimg\n",
        "import matplotlib.pyplot as plt\n",
        "import cv2"
      ],
      "metadata": {
        "id": "a1SJQnBUjw2T"
      },
      "execution_count": 4,
      "outputs": []
    },
    {
      "cell_type": "code",
      "source": [
        "class VGG:\n",
        "\tdef __init__(self):\n",
        "\t\tmodel = models.vgg19(pretrained=True, progress=True)\n",
        "\t\tmodel.classifier = nn.Sequential(*list(model.classifier.children())[:3])\n",
        "\t\tself.model = model.cuda().eval()\n",
        "\n",
        "\tdef __call__(self, x):\n",
        "\t\treturn self.model(x)"
      ],
      "metadata": {
        "id": "VqZh6bMYjyFf"
      },
      "execution_count": 5,
      "outputs": []
    },
    {
      "cell_type": "code",
      "source": [
        "vgg = VGG()"
      ],
      "metadata": {
        "colab": {
          "base_uri": "https://localhost:8080/",
          "height": 66,
          "referenced_widgets": [
            "0235617f0e684ffb9acb38b6b6fe71db",
            "8c72ee3f926d4d05855aefa3f0612511",
            "94a4d05ac4e64378a4bb4f0febcd8e4d",
            "854966d2f26f472daa353bf3754e5551",
            "b5602abe6edc4c52bb5ab75631b2fbf5",
            "28800f6002b14c3fae2965adaa6d362c",
            "45c9b134e00e414cb9a977194049072a",
            "559c925be63d4f6f89ac76ae46b373c0",
            "884a505073fa45c287042ac8ce8d6ec2",
            "49b0d2ba8da84a7385d0ca8d09312e9f",
            "aebeaf1bdd764e999a88332a6c2c4e27"
          ]
        },
        "id": "iZ9CGxpJjzeK",
        "outputId": "f2fcfaa1-828f-4f41-b093-4fe0d787beb7"
      },
      "execution_count": 6,
      "outputs": [
        {
          "output_type": "stream",
          "name": "stderr",
          "text": [
            "Downloading: \"http://download.pytorch.org/models/vgg19-dcbb9e9d.pth\" to /root/.cache/torch/hub/checkpoints/vgg19-dcbb9e9d.pth\n"
          ]
        },
        {
          "output_type": "display_data",
          "data": {
            "text/plain": [
              "  0%|          | 0.00/548M [00:00<?, ?B/s]"
            ],
            "application/vnd.jupyter.widget-view+json": {
              "version_major": 2,
              "version_minor": 0,
              "model_id": "0235617f0e684ffb9acb38b6b6fe71db"
            }
          },
          "metadata": {}
        }
      ]
    },
    {
      "cell_type": "code",
      "source": [
        "def get_features(model, loader):\n",
        "    features = []\n",
        "    with torch.no_grad():\n",
        "        for batch, _ in tqdm(loader):\n",
        "            if torch.cuda.is_available():\n",
        "                batch = batch.cuda()\n",
        "            b_features = model(batch).detach().cpu().numpy()\n",
        "            for f in b_features:\n",
        "                features.append(f)\n",
        "\n",
        "    return features"
      ],
      "metadata": {
        "id": "8J9chGeVj0ju"
      },
      "execution_count": 7,
      "outputs": []
    },
    {
      "cell_type": "code",
      "source": [
        "def get_dataset(images_path):\n",
        "  transform = transforms.Compose([\n",
        "    transforms.Resize(size=32),\n",
        "    transforms.ToTensor(),\n",
        "    transforms.Normalize((0.4914, 0.4822, 0.4465), (0.2023, 0.1994, 0.2010)),\n",
        "  ])\n",
        "\n",
        "  dataset = datasets.ImageFolder(images_path, transform=transform)\n",
        "  loader = utils.data.DataLoader(dataset, batch_size=100, shuffle=False, num_workers=1, pin_memory=True)\n",
        "  return loader"
      ],
      "metadata": {
        "id": "5zXqJduEj2By"
      },
      "execution_count": 8,
      "outputs": []
    },
    {
      "cell_type": "code",
      "source": [
        "def get_euclidean(base_car,diff_view):\n",
        "    A = []\n",
        "    for i in range(len(diff_view)):\n",
        "        x = distance.euclidean(base_car[i],diff_view[i])\n",
        "        A.append(x)\n",
        "    return(A)"
      ],
      "metadata": {
        "id": "SwvwoGUjj3Og"
      },
      "execution_count": 9,
      "outputs": []
    },
    {
      "cell_type": "code",
      "source": [
        "car1 = get_dataset(r'/content/drive/MyDrive/train_model/cross_val/Base/ID01/')\n",
        "dmg1 = get_dataset(r'/content/drive/MyDrive/train_model/cross_val/Damage/Little Damage/ID01/')"
      ],
      "metadata": {
        "id": "KXmEs-BGkUNf"
      },
      "execution_count": 14,
      "outputs": []
    },
    {
      "cell_type": "code",
      "source": [
        "id1b = get_features(vgg,car1)\n",
        "id1v = get_features(vgg,dmg1)"
      ],
      "metadata": {
        "colab": {
          "base_uri": "https://localhost:8080/"
        },
        "id": "tW4c0G6WklF9",
        "outputId": "8f1f2db6-8504-4638-fa18-4505ea167737"
      },
      "execution_count": 15,
      "outputs": [
        {
          "output_type": "stream",
          "name": "stderr",
          "text": [
            "100%|██████████| 1/1 [00:03<00:00,  3.73s/it]\n",
            "100%|██████████| 1/1 [00:03<00:00,  3.57s/it]\n"
          ]
        }
      ]
    },
    {
      "cell_type": "code",
      "source": [
        "ldmg1 = get_euclidean(id1b,id1v)\n",
        "ldmg1"
      ],
      "metadata": {
        "colab": {
          "base_uri": "https://localhost:8080/"
        },
        "id": "2bJv-YNPmGaZ",
        "outputId": "b5a27756-af13-4a47-f69c-b8607e66dcb6"
      },
      "execution_count": 16,
      "outputs": [
        {
          "output_type": "execute_result",
          "data": {
            "text/plain": [
              "[5.305085182189941, 1.2369061708450317, 8.860304832458496, 1.4820032119750977]"
            ]
          },
          "metadata": {},
          "execution_count": 16
        }
      ]
    },
    {
      "cell_type": "code",
      "source": [
        "car2 = get_dataset(r'/content/drive/MyDrive/train_model/cross_val/Base/ID02/')\n",
        "dmg2 = get_dataset(r'/content/drive/MyDrive/train_model/cross_val/Damage/Little Damage/ID02/')"
      ],
      "metadata": {
        "id": "Op2QLYXFmI7-"
      },
      "execution_count": 17,
      "outputs": []
    },
    {
      "cell_type": "code",
      "source": [
        "id2b = get_features(vgg,car2)\n",
        "id2v = get_features(vgg,dmg2)"
      ],
      "metadata": {
        "colab": {
          "base_uri": "https://localhost:8080/"
        },
        "id": "6Ca4J2jemMGF",
        "outputId": "d1bb428e-2416-4392-8f64-a15926998061"
      },
      "execution_count": 18,
      "outputs": [
        {
          "output_type": "stream",
          "name": "stderr",
          "text": [
            "100%|██████████| 1/1 [00:02<00:00,  2.85s/it]\n",
            "100%|██████████| 1/1 [00:03<00:00,  3.70s/it]\n"
          ]
        }
      ]
    },
    {
      "cell_type": "code",
      "source": [
        "ldmg2 = get_euclidean(id2b,id2v)\n",
        "ldmg2"
      ],
      "metadata": {
        "colab": {
          "base_uri": "https://localhost:8080/"
        },
        "id": "VRw14hFNmQDp",
        "outputId": "10922d99-ef68-4193-dae5-c2ef604ff6ef"
      },
      "execution_count": 19,
      "outputs": [
        {
          "output_type": "execute_result",
          "data": {
            "text/plain": [
              "[2.2765514850616455,\n",
              " 0.7315961718559265,\n",
              " 2.1428089141845703,\n",
              " 12.650805473327637]"
            ]
          },
          "metadata": {},
          "execution_count": 19
        }
      ]
    },
    {
      "cell_type": "code",
      "source": [
        "car3 = get_dataset(r'/content/drive/MyDrive/train_model/cross_val/Base/ID03/')\n",
        "dmg3 = get_dataset(r'/content/drive/MyDrive/train_model/cross_val/Damage/Little Damage/ID03/')"
      ],
      "metadata": {
        "id": "3f4TkZKemSvw"
      },
      "execution_count": 20,
      "outputs": []
    },
    {
      "cell_type": "code",
      "source": [
        "id3b = get_features(vgg,car3)\n",
        "id3v = get_features(vgg,dmg3)"
      ],
      "metadata": {
        "colab": {
          "base_uri": "https://localhost:8080/"
        },
        "id": "hdtWhEzpmZ5K",
        "outputId": "01ac44bb-efb0-4b09-b76e-4ad85a9f187c"
      },
      "execution_count": 21,
      "outputs": [
        {
          "output_type": "stream",
          "name": "stderr",
          "text": [
            "100%|██████████| 1/1 [00:02<00:00,  2.88s/it]\n",
            "100%|██████████| 1/1 [00:03<00:00,  3.52s/it]\n"
          ]
        }
      ]
    },
    {
      "cell_type": "code",
      "source": [
        "ldmg3 = get_euclidean(id3b,id3v)\n",
        "ldmg3"
      ],
      "metadata": {
        "colab": {
          "base_uri": "https://localhost:8080/"
        },
        "id": "6QXieUz9mb_r",
        "outputId": "5d6a2c6c-a010-4af2-fe92-cf5ad5ac2ac6"
      },
      "execution_count": 22,
      "outputs": [
        {
          "output_type": "execute_result",
          "data": {
            "text/plain": [
              "[6.874865531921387, 0.5150604248046875, 2.4770703315734863, 0.0]"
            ]
          },
          "metadata": {},
          "execution_count": 22
        }
      ]
    },
    {
      "cell_type": "code",
      "source": [
        "car4 = get_dataset(r'/content/drive/MyDrive/train_model/cross_val/Base/ID04/')\n",
        "dmg4 = get_dataset(r'/content/drive/MyDrive/train_model/cross_val/Damage/Little Damage/ID04/')"
      ],
      "metadata": {
        "id": "2JMqeZKhmdbn"
      },
      "execution_count": 23,
      "outputs": []
    },
    {
      "cell_type": "code",
      "source": [
        "id4b = get_features(vgg,car4)\n",
        "id4v = get_features(vgg,dmg4)"
      ],
      "metadata": {
        "colab": {
          "base_uri": "https://localhost:8080/"
        },
        "id": "GDPhYE90mijW",
        "outputId": "c3fd3ab6-2159-4a80-b5f9-c90b17a87cc1"
      },
      "execution_count": 24,
      "outputs": [
        {
          "output_type": "stream",
          "name": "stderr",
          "text": [
            "100%|██████████| 1/1 [00:03<00:00,  3.51s/it]\n",
            "100%|██████████| 1/1 [00:03<00:00,  3.50s/it]\n"
          ]
        }
      ]
    },
    {
      "cell_type": "code",
      "source": [
        "ldmg4 = get_euclidean(id4b,id4v)\n",
        "ldmg4"
      ],
      "metadata": {
        "colab": {
          "base_uri": "https://localhost:8080/"
        },
        "id": "XcYRos7TmkM8",
        "outputId": "5c52a73f-aff9-467b-f5db-f3d318a326d9"
      },
      "execution_count": 25,
      "outputs": [
        {
          "output_type": "execute_result",
          "data": {
            "text/plain": [
              "[10.91299819946289,\n",
              " 2.2293736934661865,\n",
              " 27.077898025512695,\n",
              " 0.14396598935127258]"
            ]
          },
          "metadata": {},
          "execution_count": 25
        }
      ]
    },
    {
      "cell_type": "code",
      "source": [
        "car5 = get_dataset(r'/content/drive/MyDrive/train_model/cross_val/Base/ID05/')\n",
        "dmg5 = get_dataset(r'/content/drive/MyDrive/train_model/cross_val/Damage/Little Damage/ID05/')"
      ],
      "metadata": {
        "id": "sefvbQtSmmBK"
      },
      "execution_count": 26,
      "outputs": []
    },
    {
      "cell_type": "code",
      "source": [
        "id5b = get_features(vgg,car5)\n",
        "id5v = get_features(vgg,dmg5)"
      ],
      "metadata": {
        "colab": {
          "base_uri": "https://localhost:8080/"
        },
        "id": "L5M2WMnbmtQZ",
        "outputId": "cb9592bc-4d21-4a72-9f82-4a5e6e1a98b8"
      },
      "execution_count": 27,
      "outputs": [
        {
          "output_type": "stream",
          "name": "stderr",
          "text": [
            "100%|██████████| 1/1 [00:03<00:00,  3.54s/it]\n",
            "100%|██████████| 1/1 [00:03<00:00,  3.35s/it]\n"
          ]
        }
      ]
    },
    {
      "cell_type": "code",
      "source": [
        "ldmg5 = get_euclidean(id5b,id5v)\n",
        "ldmg5"
      ],
      "metadata": {
        "colab": {
          "base_uri": "https://localhost:8080/"
        },
        "id": "vlZHKYtXmuyO",
        "outputId": "4f0ffc01-7244-4043-b6db-72a753e164fa"
      },
      "execution_count": 28,
      "outputs": [
        {
          "output_type": "execute_result",
          "data": {
            "text/plain": [
              "[14.46715259552002, 0.492559552192688, 1.4209824800491333, 12.01363754272461]"
            ]
          },
          "metadata": {},
          "execution_count": 28
        }
      ]
    },
    {
      "cell_type": "code",
      "source": [
        "car7 = get_dataset(r'/content/drive/MyDrive/train_model/cross_val/Base/ID07/')\n",
        "dmg7 = get_dataset(r'/content/drive/MyDrive/train_model/cross_val/Damage/Little Damage/ID07/')"
      ],
      "metadata": {
        "id": "hQQOe4p-mxNi"
      },
      "execution_count": 29,
      "outputs": []
    },
    {
      "cell_type": "code",
      "source": [
        "id7b = get_features(vgg,car7)\n",
        "id7v = get_features(vgg,dmg7)"
      ],
      "metadata": {
        "colab": {
          "base_uri": "https://localhost:8080/"
        },
        "id": "RZ7WrH3Qm4Ui",
        "outputId": "1ca5ede5-17c9-426b-a7ee-e61c8a966419"
      },
      "execution_count": 30,
      "outputs": [
        {
          "output_type": "stream",
          "name": "stderr",
          "text": [
            "100%|██████████| 1/1 [00:03<00:00,  3.41s/it]\n",
            "100%|██████████| 1/1 [00:04<00:00,  4.30s/it]\n"
          ]
        }
      ]
    },
    {
      "cell_type": "code",
      "source": [
        "ldmg7 = get_euclidean(id7b,id7v)\n",
        "ldmg7"
      ],
      "metadata": {
        "colab": {
          "base_uri": "https://localhost:8080/"
        },
        "id": "2gMgx6vGm56u",
        "outputId": "85d2eaa7-3d36-4f58-ee44-d32c18618d52"
      },
      "execution_count": 31,
      "outputs": [
        {
          "output_type": "execute_result",
          "data": {
            "text/plain": [
              "[9.235045433044434, 6.485491752624512, 10.339686393737793, 0.2788983881473541]"
            ]
          },
          "metadata": {},
          "execution_count": 31
        }
      ]
    },
    {
      "cell_type": "code",
      "source": [
        "car8 = get_dataset(r'/content/drive/MyDrive/train_model/cross_val/Base/ID08/')\n",
        "dmg8 = get_dataset(r'/content/drive/MyDrive/train_model/cross_val/Damage/Little Damage/ID08/')"
      ],
      "metadata": {
        "id": "-b6uhID_m7xQ"
      },
      "execution_count": 32,
      "outputs": []
    },
    {
      "cell_type": "code",
      "source": [
        "id8b = get_features(vgg,car8)\n",
        "id8v = get_features(vgg,dmg8)"
      ],
      "metadata": {
        "colab": {
          "base_uri": "https://localhost:8080/"
        },
        "id": "mvpbZepfm-Rg",
        "outputId": "1587f6da-6073-48b9-e83c-143447e2a86c"
      },
      "execution_count": 33,
      "outputs": [
        {
          "output_type": "stream",
          "name": "stderr",
          "text": [
            "100%|██████████| 1/1 [00:03<00:00,  3.53s/it]\n",
            "100%|██████████| 1/1 [00:03<00:00,  3.72s/it]\n"
          ]
        }
      ]
    },
    {
      "cell_type": "code",
      "source": [
        "ldmg8 = get_euclidean(id8b,id8v)\n",
        "ldmg8"
      ],
      "metadata": {
        "colab": {
          "base_uri": "https://localhost:8080/"
        },
        "id": "iQ03UD10m_1t",
        "outputId": "fe522329-c027-4290-dec3-9a0fa9785b11"
      },
      "execution_count": 34,
      "outputs": [
        {
          "output_type": "execute_result",
          "data": {
            "text/plain": [
              "[18.017337799072266,\n",
              " 0.15300196409225464,\n",
              " 10.107491493225098,\n",
              " 0.35802122950553894]"
            ]
          },
          "metadata": {},
          "execution_count": 34
        }
      ]
    },
    {
      "cell_type": "code",
      "source": [
        "car9 = get_dataset(r'/content/drive/MyDrive/train_model/cross_val/Base/ID01/')\n",
        "dmg9 = get_dataset(r'/content/drive/MyDrive/train_model/cross_val/Damage/Damage/ID01/')"
      ],
      "metadata": {
        "id": "vzmFBOJEnBv8"
      },
      "execution_count": 35,
      "outputs": []
    },
    {
      "cell_type": "code",
      "source": [
        "id9b = get_features(vgg,car9)\n",
        "id9v = get_features(vgg,dmg9)"
      ],
      "metadata": {
        "colab": {
          "base_uri": "https://localhost:8080/"
        },
        "id": "lkgYtGwGn1hM",
        "outputId": "dafb0045-e55c-4fe4-821f-fbff97415743"
      },
      "execution_count": 36,
      "outputs": [
        {
          "output_type": "stream",
          "name": "stderr",
          "text": [
            "100%|██████████| 1/1 [00:00<00:00,  4.28it/s]\n",
            "100%|██████████| 1/1 [00:03<00:00,  3.54s/it]\n"
          ]
        }
      ]
    },
    {
      "cell_type": "code",
      "source": [
        "dmg1 = get_euclidean(id9b,id9v)\n",
        "dmg1"
      ],
      "metadata": {
        "colab": {
          "base_uri": "https://localhost:8080/"
        },
        "id": "N_xXMWy0n323",
        "outputId": "bb0d5abc-9376-4049-aa98-45624d53d9e1"
      },
      "execution_count": 37,
      "outputs": [
        {
          "output_type": "execute_result",
          "data": {
            "text/plain": [
              "[27.097370147705078, 19.150354385375977, 8.790205001831055, 13.21091365814209]"
            ]
          },
          "metadata": {},
          "execution_count": 37
        }
      ]
    },
    {
      "cell_type": "code",
      "source": [
        "car10 = get_dataset(r'/content/drive/MyDrive/train_model/cross_val/Base/ID02/')\n",
        "dmg10 = get_dataset(r'/content/drive/MyDrive/train_model/cross_val/Damage/Damage/ID02/')"
      ],
      "metadata": {
        "id": "EQFQ1Tytn8ic"
      },
      "execution_count": 38,
      "outputs": []
    },
    {
      "cell_type": "code",
      "source": [
        "id10b = get_features(vgg,car10)\n",
        "id10v = get_features(vgg,dmg10)"
      ],
      "metadata": {
        "colab": {
          "base_uri": "https://localhost:8080/"
        },
        "id": "-z_j9v5Soqee",
        "outputId": "81cc17ed-e2f7-430f-b88a-295434c953ad"
      },
      "execution_count": 39,
      "outputs": [
        {
          "output_type": "stream",
          "name": "stderr",
          "text": [
            "100%|██████████| 1/1 [00:00<00:00,  4.49it/s]\n",
            "100%|██████████| 1/1 [00:03<00:00,  3.57s/it]\n"
          ]
        }
      ]
    },
    {
      "cell_type": "code",
      "source": [
        "dmg2 = get_euclidean(id10b,id10v)\n",
        "dmg2"
      ],
      "metadata": {
        "colab": {
          "base_uri": "https://localhost:8080/"
        },
        "id": "-jtsvaxGosCd",
        "outputId": "1f3c38b1-608c-4f15-b7ae-3578d0ba07ac"
      },
      "execution_count": 40,
      "outputs": [
        {
          "output_type": "execute_result",
          "data": {
            "text/plain": [
              "[9.43013858795166, 36.80392074584961, 11.45029354095459, 32.164058685302734]"
            ]
          },
          "metadata": {},
          "execution_count": 40
        }
      ]
    },
    {
      "cell_type": "code",
      "source": [
        "car11 = get_dataset(r'/content/drive/MyDrive/train_model/cross_val/Base/ID03/')\n",
        "dmg11 = get_dataset(r'/content/drive/MyDrive/train_model/cross_val/Damage/Damage/ID03/')"
      ],
      "metadata": {
        "id": "w9rSF1d0oun1"
      },
      "execution_count": 41,
      "outputs": []
    },
    {
      "cell_type": "code",
      "source": [
        "id11b = get_features(vgg,car11)\n",
        "id11v = get_features(vgg,dmg11)"
      ],
      "metadata": {
        "colab": {
          "base_uri": "https://localhost:8080/"
        },
        "id": "iRhS8mNso5O-",
        "outputId": "89811c18-26cf-4075-93a8-8510f481de8a"
      },
      "execution_count": 42,
      "outputs": [
        {
          "output_type": "stream",
          "name": "stderr",
          "text": [
            "100%|██████████| 1/1 [00:00<00:00,  4.41it/s]\n",
            "100%|██████████| 1/1 [00:03<00:00,  3.37s/it]\n"
          ]
        }
      ]
    },
    {
      "cell_type": "code",
      "source": [
        "dmg3 = get_euclidean(id11b,id11v)\n",
        "dmg3"
      ],
      "metadata": {
        "colab": {
          "base_uri": "https://localhost:8080/"
        },
        "id": "xnu4IV9Yo7K1",
        "outputId": "87daa5b9-5bf5-42cd-eca1-6ea0fdbba96f"
      },
      "execution_count": 43,
      "outputs": [
        {
          "output_type": "execute_result",
          "data": {
            "text/plain": [
              "[36.01618576049805, 24.716630935668945, 2.6084513664245605, 14.86989974975586]"
            ]
          },
          "metadata": {},
          "execution_count": 43
        }
      ]
    },
    {
      "cell_type": "code",
      "source": [
        "car12 = get_dataset(r'/content/drive/MyDrive/train_model/cross_val/Base/ID04/')\n",
        "dmg12 = get_dataset(r'/content/drive/MyDrive/train_model/cross_val/Damage/Damage/ID04/')"
      ],
      "metadata": {
        "id": "iMykfab1o-Ip"
      },
      "execution_count": 44,
      "outputs": []
    },
    {
      "cell_type": "code",
      "source": [
        "id12b = get_features(vgg,car12)\n",
        "id12v = get_features(vgg,dmg12)"
      ],
      "metadata": {
        "colab": {
          "base_uri": "https://localhost:8080/"
        },
        "id": "1p5_tU9epNOo",
        "outputId": "e8bd57bd-b215-4969-da2a-b9bed2772d25"
      },
      "execution_count": 45,
      "outputs": [
        {
          "output_type": "stream",
          "name": "stderr",
          "text": [
            "100%|██████████| 1/1 [00:00<00:00,  4.35it/s]\n",
            "100%|██████████| 1/1 [00:03<00:00,  3.58s/it]\n"
          ]
        }
      ]
    },
    {
      "cell_type": "code",
      "source": [
        "dmg4 = get_euclidean(id12b,id12v)\n",
        "dmg4"
      ],
      "metadata": {
        "colab": {
          "base_uri": "https://localhost:8080/"
        },
        "id": "2ZkK2z4NpPSQ",
        "outputId": "6a97c793-fc3a-451e-ec4e-0a65d9fb9d98"
      },
      "execution_count": 46,
      "outputs": [
        {
          "output_type": "execute_result",
          "data": {
            "text/plain": [
              "[30.508220672607422,\n",
              " 27.392011642456055,\n",
              " 33.320682525634766,\n",
              " 21.870121002197266]"
            ]
          },
          "metadata": {},
          "execution_count": 46
        }
      ]
    },
    {
      "cell_type": "code",
      "source": [
        "car13 = get_dataset(r'/content/drive/MyDrive/train_model/cross_val/Base/ID05/')\n",
        "dmg13 = get_dataset(r'/content/drive/MyDrive/train_model/cross_val/Damage/Damage/ID05/')"
      ],
      "metadata": {
        "id": "ai24Gjo4pR2B"
      },
      "execution_count": 47,
      "outputs": []
    },
    {
      "cell_type": "code",
      "source": [
        "id13b = get_features(vgg,car13)\n",
        "id13v = get_features(vgg,dmg13)"
      ],
      "metadata": {
        "colab": {
          "base_uri": "https://localhost:8080/"
        },
        "id": "JtwUiPY7pZd7",
        "outputId": "16aeb2fc-44cb-40ef-c8fc-49c60d2b777d"
      },
      "execution_count": 48,
      "outputs": [
        {
          "output_type": "stream",
          "name": "stderr",
          "text": [
            "100%|██████████| 1/1 [00:00<00:00,  4.88it/s]\n",
            "100%|██████████| 1/1 [00:03<00:00,  3.39s/it]\n"
          ]
        }
      ]
    },
    {
      "cell_type": "code",
      "source": [
        "dmg5 = get_euclidean(id13b,id13v)\n",
        "dmg5"
      ],
      "metadata": {
        "colab": {
          "base_uri": "https://localhost:8080/"
        },
        "id": "-CgwD8eRpbVc",
        "outputId": "9f7b0e05-afb3-4e32-b99f-84ae6d803cea"
      },
      "execution_count": 49,
      "outputs": [
        {
          "output_type": "execute_result",
          "data": {
            "text/plain": [
              "[15.17813777923584, 2.4756529331207275, 7.946702480316162, 49.9705810546875]"
            ]
          },
          "metadata": {},
          "execution_count": 49
        }
      ]
    },
    {
      "cell_type": "code",
      "source": [
        "car14 = get_dataset(r'/content/drive/MyDrive/train_model/cross_val/Base/ID07/')\n",
        "dmg14 = get_dataset(r'/content/drive/MyDrive/train_model/cross_val/Damage/Damage/ID07/')"
      ],
      "metadata": {
        "id": "u5z1pkp5pg2Y"
      },
      "execution_count": 50,
      "outputs": []
    },
    {
      "cell_type": "code",
      "source": [
        "id14b = get_features(vgg,car14)\n",
        "id14v = get_features(vgg,dmg14)"
      ],
      "metadata": {
        "colab": {
          "base_uri": "https://localhost:8080/"
        },
        "id": "Qyd7_HnTp_24",
        "outputId": "bb7fd3a5-99be-4370-abec-338ee1c62a92"
      },
      "execution_count": 51,
      "outputs": [
        {
          "output_type": "stream",
          "name": "stderr",
          "text": [
            "100%|██████████| 1/1 [00:00<00:00,  4.79it/s]\n",
            "100%|██████████| 1/1 [00:04<00:00,  4.01s/it]\n"
          ]
        }
      ]
    },
    {
      "cell_type": "code",
      "source": [
        "dmg7 = get_euclidean(id14b,id14v)\n",
        "dmg7"
      ],
      "metadata": {
        "colab": {
          "base_uri": "https://localhost:8080/"
        },
        "id": "W_nvCP6gplga",
        "outputId": "c45a7355-e6c9-42d5-e4c3-485661fbc9d1"
      },
      "execution_count": 52,
      "outputs": [
        {
          "output_type": "execute_result",
          "data": {
            "text/plain": [
              "[11.249468803405762, 16.895282745361328, 11.52218246459961, 24.16269874572754]"
            ]
          },
          "metadata": {},
          "execution_count": 52
        }
      ]
    },
    {
      "cell_type": "code",
      "source": [
        "car15 = get_dataset(r'/content/drive/MyDrive/train_model/cross_val/Base/ID08/')\n",
        "dmg15 = get_dataset(r'/content/drive/MyDrive/train_model/cross_val/Damage/Damage/ID08/')"
      ],
      "metadata": {
        "id": "iFDoXeFOpt9x"
      },
      "execution_count": 53,
      "outputs": []
    },
    {
      "cell_type": "code",
      "source": [
        "id15b = get_features(vgg,car15)\n",
        "id15v = get_features(vgg,dmg15)"
      ],
      "metadata": {
        "colab": {
          "base_uri": "https://localhost:8080/"
        },
        "id": "DiGaGCfoqFe2",
        "outputId": "45ea1cd0-5066-4263-99cf-4caea9709deb"
      },
      "execution_count": 54,
      "outputs": [
        {
          "output_type": "stream",
          "name": "stderr",
          "text": [
            "100%|██████████| 1/1 [00:00<00:00,  4.69it/s]\n",
            "100%|██████████| 1/1 [00:03<00:00,  3.61s/it]\n"
          ]
        }
      ]
    },
    {
      "cell_type": "code",
      "source": [
        "dmg8 = get_euclidean(id15b,id15v)\n",
        "dmg8"
      ],
      "metadata": {
        "colab": {
          "base_uri": "https://localhost:8080/"
        },
        "id": "Hrf26i8Qp1zp",
        "outputId": "4f32e0af-71de-4f1b-a79c-bfceacae5ee7"
      },
      "execution_count": 55,
      "outputs": [
        {
          "output_type": "execute_result",
          "data": {
            "text/plain": [
              "[23.930448532104492, 20.50358772277832, 18.10749053955078, 17.059961318969727]"
            ]
          },
          "metadata": {},
          "execution_count": 55
        }
      ]
    },
    {
      "cell_type": "code",
      "source": [
        "car16 = get_dataset(r'/content/drive/MyDrive/train_model/cross_val/Base/ID01/')\n",
        "dmg16 = get_dataset(r'/content/drive/MyDrive/train_model/cross_val/Damage/Most Damage/ID01/')"
      ],
      "metadata": {
        "id": "Ogg5qhx-p54g"
      },
      "execution_count": 56,
      "outputs": []
    },
    {
      "cell_type": "code",
      "source": [
        "id16b = get_features(vgg,car16)\n",
        "id16v = get_features(vgg,dmg16)"
      ],
      "metadata": {
        "colab": {
          "base_uri": "https://localhost:8080/"
        },
        "id": "KECiSe02qn8V",
        "outputId": "0dc6508a-0368-4a15-e5c3-e901e64b14ce"
      },
      "execution_count": 57,
      "outputs": [
        {
          "output_type": "stream",
          "name": "stderr",
          "text": [
            "100%|██████████| 1/1 [00:00<00:00,  4.67it/s]\n",
            "100%|██████████| 1/1 [00:03<00:00,  3.57s/it]\n"
          ]
        }
      ]
    },
    {
      "cell_type": "code",
      "source": [
        "mdmg1 = get_euclidean(id16b,id16v)\n",
        "mdmg1"
      ],
      "metadata": {
        "colab": {
          "base_uri": "https://localhost:8080/"
        },
        "id": "vd8B0b4lqqCJ",
        "outputId": "266b1ceb-0d84-4821-aa97-1b50589e3cb3"
      },
      "execution_count": 58,
      "outputs": [
        {
          "output_type": "execute_result",
          "data": {
            "text/plain": [
              "[68.19578552246094, 38.60554885864258, 46.444061279296875, 27.74058723449707]"
            ]
          },
          "metadata": {},
          "execution_count": 58
        }
      ]
    },
    {
      "cell_type": "code",
      "source": [
        "car17 = get_dataset(r'/content/drive/MyDrive/train_model/cross_val/Base/ID02/')\n",
        "dmg17 = get_dataset(r'/content/drive/MyDrive/train_model/cross_val/Damage/Most Damage/ID02/')"
      ],
      "metadata": {
        "id": "8u9LlPqWquPo"
      },
      "execution_count": 59,
      "outputs": []
    },
    {
      "cell_type": "code",
      "source": [
        "id17b = get_features(vgg,car17)\n",
        "id17v = get_features(vgg,dmg17)"
      ],
      "metadata": {
        "colab": {
          "base_uri": "https://localhost:8080/"
        },
        "id": "P9YmydJ4rGfj",
        "outputId": "b3104591-23db-43c1-aad4-8edc866edcc7"
      },
      "execution_count": 60,
      "outputs": [
        {
          "output_type": "stream",
          "name": "stderr",
          "text": [
            "100%|██████████| 1/1 [00:00<00:00,  4.49it/s]\n",
            "100%|██████████| 1/1 [00:03<00:00,  3.59s/it]\n"
          ]
        }
      ]
    },
    {
      "cell_type": "code",
      "source": [
        "mdmg2 = get_euclidean(id17b,id17v)\n",
        "mdmg2"
      ],
      "metadata": {
        "colab": {
          "base_uri": "https://localhost:8080/"
        },
        "id": "Scx5sBBerLmR",
        "outputId": "6846a472-b9ca-4bd5-e9c9-bc8047c87478"
      },
      "execution_count": 61,
      "outputs": [
        {
          "output_type": "execute_result",
          "data": {
            "text/plain": [
              "[57.245243072509766, 42.035560607910156, 72.7227554321289, 29.784730911254883]"
            ]
          },
          "metadata": {},
          "execution_count": 61
        }
      ]
    },
    {
      "cell_type": "code",
      "source": [
        "car18 = get_dataset(r'/content/drive/MyDrive/train_model/cross_val/Base/ID03/')\n",
        "dmg18 = get_dataset(r'/content/drive/MyDrive/train_model/cross_val/Damage/Most Damage/ID03/')"
      ],
      "metadata": {
        "id": "3KyFOji4rPBw"
      },
      "execution_count": 62,
      "outputs": []
    },
    {
      "cell_type": "code",
      "source": [
        "id18b = get_features(vgg,car18)\n",
        "id18v = get_features(vgg,dmg18)"
      ],
      "metadata": {
        "colab": {
          "base_uri": "https://localhost:8080/"
        },
        "id": "9w0zMmxmrSi5",
        "outputId": "8be20d1e-90c0-4aff-f489-60d64db8e1f6"
      },
      "execution_count": 63,
      "outputs": [
        {
          "output_type": "stream",
          "name": "stderr",
          "text": [
            "100%|██████████| 1/1 [00:00<00:00,  4.50it/s]\n",
            "100%|██████████| 1/1 [00:03<00:00,  3.44s/it]\n"
          ]
        }
      ]
    },
    {
      "cell_type": "code",
      "source": [
        "mdmg3 = get_euclidean(id18b,id18v)\n",
        "mdmg3"
      ],
      "metadata": {
        "colab": {
          "base_uri": "https://localhost:8080/"
        },
        "id": "94HO7Vl0rWZl",
        "outputId": "78ea1584-d1bf-4655-9c5d-f74e33d80423"
      },
      "execution_count": 64,
      "outputs": [
        {
          "output_type": "execute_result",
          "data": {
            "text/plain": [
              "[49.86709976196289, 53.78657150268555, 9.393095016479492, 36.26686477661133]"
            ]
          },
          "metadata": {},
          "execution_count": 64
        }
      ]
    },
    {
      "cell_type": "code",
      "source": [
        "car19 = get_dataset(r'/content/drive/MyDrive/train_model/cross_val/Base/ID04/')\n",
        "dmg19 = get_dataset(r'/content/drive/MyDrive/train_model/cross_val/Damage/Most Damage/ID04/')"
      ],
      "metadata": {
        "id": "V8AUJJN3rY4c"
      },
      "execution_count": 65,
      "outputs": []
    },
    {
      "cell_type": "code",
      "source": [
        "id19b = get_features(vgg,car19)\n",
        "id19v = get_features(vgg,dmg19)"
      ],
      "metadata": {
        "colab": {
          "base_uri": "https://localhost:8080/"
        },
        "id": "GA8uHDIercYs",
        "outputId": "d2629eb3-c1f4-4e68-d719-ddf13c06dd6b"
      },
      "execution_count": 66,
      "outputs": [
        {
          "output_type": "stream",
          "name": "stderr",
          "text": [
            "100%|██████████| 1/1 [00:00<00:00,  4.54it/s]\n",
            "100%|██████████| 1/1 [00:03<00:00,  3.52s/it]\n"
          ]
        }
      ]
    },
    {
      "cell_type": "code",
      "source": [
        "mdmg4 = get_euclidean(id19b,id19v)\n",
        "mdmg4"
      ],
      "metadata": {
        "colab": {
          "base_uri": "https://localhost:8080/"
        },
        "id": "F__1yUH0rd_O",
        "outputId": "0087cb66-2f4d-4254-abdd-9d338339c493"
      },
      "execution_count": 67,
      "outputs": [
        {
          "output_type": "execute_result",
          "data": {
            "text/plain": [
              "[46.624610900878906, 32.84579849243164, 51.967506408691406, 25.08661460876465]"
            ]
          },
          "metadata": {},
          "execution_count": 67
        }
      ]
    },
    {
      "cell_type": "code",
      "source": [
        "car20 = get_dataset(r'/content/drive/MyDrive/train_model/cross_val/Base/ID05/')\n",
        "dmg20 = get_dataset(r'/content/drive/MyDrive/train_model/cross_val/Damage/Most Damage/ID05/')"
      ],
      "metadata": {
        "id": "rbygb8yHrmSX"
      },
      "execution_count": 68,
      "outputs": []
    },
    {
      "cell_type": "code",
      "source": [
        "id20b = get_features(vgg,car20)\n",
        "id20v = get_features(vgg,dmg20)"
      ],
      "metadata": {
        "colab": {
          "base_uri": "https://localhost:8080/"
        },
        "id": "NfBWQXPzrvh9",
        "outputId": "10364710-2b87-45d3-f3ee-08e9b5cff9a3"
      },
      "execution_count": 69,
      "outputs": [
        {
          "output_type": "stream",
          "name": "stderr",
          "text": [
            "100%|██████████| 1/1 [00:00<00:00,  4.81it/s]\n",
            "100%|██████████| 1/1 [00:03<00:00,  3.54s/it]\n"
          ]
        }
      ]
    },
    {
      "cell_type": "code",
      "source": [
        "mdmg5 = get_euclidean(id20b,id20v)\n",
        "mdmg5"
      ],
      "metadata": {
        "colab": {
          "base_uri": "https://localhost:8080/"
        },
        "id": "rjVouvxcrpTW",
        "outputId": "cb23556d-0bb9-4fc3-99d5-91c9c5d1d259"
      },
      "execution_count": 70,
      "outputs": [
        {
          "output_type": "execute_result",
          "data": {
            "text/plain": [
              "[28.866985321044922,\n",
              " 25.846038818359375,\n",
              " 45.819847106933594,\n",
              " 45.919986724853516]"
            ]
          },
          "metadata": {},
          "execution_count": 70
        }
      ]
    },
    {
      "cell_type": "code",
      "source": [
        "car21 = get_dataset(r'/content/drive/MyDrive/train_model/cross_val/Base/ID07/')\n",
        "dmg21 = get_dataset(r'/content/drive/MyDrive/train_model/cross_val/Damage/Most Damage/ID07/')"
      ],
      "metadata": {
        "id": "p6l-GjXWrr6p"
      },
      "execution_count": 71,
      "outputs": []
    },
    {
      "cell_type": "code",
      "source": [
        "id21b = get_features(vgg,car21)\n",
        "id21v = get_features(vgg,dmg21)"
      ],
      "metadata": {
        "colab": {
          "base_uri": "https://localhost:8080/"
        },
        "id": "7EifMPayr1eE",
        "outputId": "f40a2798-2013-4919-fb66-7eb2762c4be5"
      },
      "execution_count": 72,
      "outputs": [
        {
          "output_type": "stream",
          "name": "stderr",
          "text": [
            "100%|██████████| 1/1 [00:00<00:00,  4.72it/s]\n",
            "100%|██████████| 1/1 [00:03<00:00,  3.64s/it]\n"
          ]
        }
      ]
    },
    {
      "cell_type": "code",
      "source": [
        "mdmg7 = get_euclidean(id21b,id21v)\n",
        "mdmg7"
      ],
      "metadata": {
        "colab": {
          "base_uri": "https://localhost:8080/"
        },
        "id": "eh7I18GKr3io",
        "outputId": "336147eb-4396-4197-b1e8-fd619cc93bc3"
      },
      "execution_count": 73,
      "outputs": [
        {
          "output_type": "execute_result",
          "data": {
            "text/plain": [
              "[13.375405311584473, 23.109220504760742, 37.23287582397461, 24.597320556640625]"
            ]
          },
          "metadata": {},
          "execution_count": 73
        }
      ]
    },
    {
      "cell_type": "code",
      "source": [
        "car22 = get_dataset(r'/content/drive/MyDrive/train_model/cross_val/Base/ID08/')\n",
        "dmg22 = get_dataset(r'/content/drive/MyDrive/train_model/cross_val/Damage/Most Damage/ID08/')"
      ],
      "metadata": {
        "id": "Zkq72PG1r6st"
      },
      "execution_count": 74,
      "outputs": []
    },
    {
      "cell_type": "code",
      "source": [
        "id22b = get_features(vgg,car22)\n",
        "id22v = get_features(vgg,dmg22)"
      ],
      "metadata": {
        "colab": {
          "base_uri": "https://localhost:8080/"
        },
        "id": "OkawP7ZLr_Kh",
        "outputId": "07a5e9c9-dc65-4582-8ff3-b6d1a528685a"
      },
      "execution_count": 75,
      "outputs": [
        {
          "output_type": "stream",
          "name": "stderr",
          "text": [
            "100%|██████████| 1/1 [00:00<00:00,  4.55it/s]\n",
            "100%|██████████| 1/1 [00:03<00:00,  3.47s/it]\n"
          ]
        }
      ]
    },
    {
      "cell_type": "code",
      "source": [
        "mdmg8 = get_euclidean(id22b,id22v)\n",
        "mdmg8"
      ],
      "metadata": {
        "colab": {
          "base_uri": "https://localhost:8080/"
        },
        "id": "UlvKZNL_sBBz",
        "outputId": "1ad053de-f6a7-43aa-8d74-d150600603e5"
      },
      "execution_count": 76,
      "outputs": [
        {
          "output_type": "execute_result",
          "data": {
            "text/plain": [
              "[49.085609436035156, 34.61301040649414, 79.67511749267578, 44.16802978515625]"
            ]
          },
          "metadata": {},
          "execution_count": 76
        }
      ]
    },
    {
      "cell_type": "markdown",
      "source": [
        "![image.png](data:image/png;base64,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)"
      ],
      "metadata": {
        "id": "giYxGvQwe2_z"
      }
    },
    {
      "cell_type": "code",
      "source": [
        "def get_dmg_F(eucli):\n",
        "          if eucli[0] <2.28:\n",
        "              print('N')\n",
        "          elif  2.28 <= eucli[0] <= 9.43:\n",
        "              print('L')\n",
        "          elif 9.43 < eucli[0] <= 13.38:\n",
        "              print('M')\n",
        "          elif eucli[0] > 13.38:\n",
        "               print('H')"
      ],
      "metadata": {
        "id": "79UoMyooj4aI"
      },
      "execution_count": 152,
      "outputs": []
    },
    {
      "cell_type": "code",
      "source": [
        "def get_dmg_L(eucli):\n",
        "          if eucli[0] <0.49:\n",
        "              print('N')\n",
        "          elif  0.49 <= eucli[0] <= 12.48:\n",
        "              print('L')\n",
        "          elif 12.48 < eucli[0] <= 23.11:\n",
        "              print('M')\n",
        "          elif eucli[0] > 23.11:\n",
        "               print('H')"
      ],
      "metadata": {
        "id": "qE54wdBxj6R9"
      },
      "execution_count": 153,
      "outputs": []
    },
    {
      "cell_type": "code",
      "source": [
        "def get_dmg_B(eucli):\n",
        "          if eucli[0] < 1.42:\n",
        "              print('N')\n",
        "          elif   1.42 <= eucli[0] <= 2.61:\n",
        "              print('L')\n",
        "          elif 2.61 < eucli[0] <= 9.39:\n",
        "              print('M')\n",
        "          elif eucli[0] > 9.39:\n",
        "               print('H')"
      ],
      "metadata": {
        "id": "kW9cICMtd3Hl"
      },
      "execution_count": 154,
      "outputs": []
    },
    {
      "cell_type": "code",
      "source": [
        "def get_dmg_R(eucli):\n",
        "          if eucli[0] < 0.14:\n",
        "              print('N')\n",
        "          elif   0.14 <= eucli[0] <= 13.21:\n",
        "              print('L')\n",
        "          elif 13.21 < eucli[0] <= 24.6:\n",
        "              print('M')\n",
        "          elif eucli[0] > 24.6:\n",
        "               print('H')"
      ],
      "metadata": {
        "id": "gZQw7J_Ld56D"
      },
      "execution_count": 155,
      "outputs": []
    },
    {
      "cell_type": "code",
      "source": [
        "get_dmg_F(mdmg8)\n",
        "get_dmg_L(mdmg8)\n",
        "get_dmg_B(mdmg8)\n",
        "get_dmg_R(mdmg8)"
      ],
      "metadata": {
        "colab": {
          "base_uri": "https://localhost:8080/"
        },
        "id": "VVoQvOLfsD00",
        "outputId": "425587c4-fb84-4b51-8ebd-fe8ff58f7798"
      },
      "execution_count": 157,
      "outputs": [
        {
          "output_type": "stream",
          "name": "stdout",
          "text": [
            "H\n",
            "H\n",
            "H\n",
            "H\n"
          ]
        }
      ]
    },
    {
      "cell_type": "code",
      "source": [
        ""
      ],
      "metadata": {
        "id": "bgQrV9pZfC_9"
      },
      "execution_count": null,
      "outputs": []
    }
  ]
}