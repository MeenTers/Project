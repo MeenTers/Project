{
  "nbformat": 4,
  "nbformat_minor": 0,
  "metadata": {
    "colab": {
      "name": "Car_DMG.ipynb",
      "provenance": [],
      "authorship_tag": "ABX9TyM0wec4OIqvV/n/wiDjVljt",
      "include_colab_link": true
    },
    "kernelspec": {
      "name": "python3",
      "display_name": "Python 3"
    },
    "language_info": {
      "name": "python"
    },
    "accelerator": "GPU",
    "widgets": {
      "application/vnd.jupyter.widget-state+json": {
        "f81f55c212c64dea95a280ecef5ee1ee": {
          "model_module": "@jupyter-widgets/controls",
          "model_name": "HBoxModel",
          "model_module_version": "1.5.0",
          "state": {
            "_view_name": "HBoxView",
            "_dom_classes": [],
            "_model_name": "HBoxModel",
            "_view_module": "@jupyter-widgets/controls",
            "_model_module_version": "1.5.0",
            "_view_count": null,
            "_view_module_version": "1.5.0",
            "box_style": "",
            "layout": "IPY_MODEL_cf8e3682badb46ad8c9e1a1ae8716dc7",
            "_model_module": "@jupyter-widgets/controls",
            "children": [
              "IPY_MODEL_ec427bbfa44540b5a255cfdc5973515b",
              "IPY_MODEL_aec266cb6b0f4196bb192613f861bac3",
              "IPY_MODEL_1fbbd66bc517440aa1bb3a146fb62a69"
            ]
          }
        },
        "cf8e3682badb46ad8c9e1a1ae8716dc7": {
          "model_module": "@jupyter-widgets/base",
          "model_name": "LayoutModel",
          "model_module_version": "1.2.0",
          "state": {
            "_view_name": "LayoutView",
            "grid_template_rows": null,
            "right": null,
            "justify_content": null,
            "_view_module": "@jupyter-widgets/base",
            "overflow": null,
            "_model_module_version": "1.2.0",
            "_view_count": null,
            "flex_flow": null,
            "width": null,
            "min_width": null,
            "border": null,
            "align_items": null,
            "bottom": null,
            "_model_module": "@jupyter-widgets/base",
            "top": null,
            "grid_column": null,
            "overflow_y": null,
            "overflow_x": null,
            "grid_auto_flow": null,
            "grid_area": null,
            "grid_template_columns": null,
            "flex": null,
            "_model_name": "LayoutModel",
            "justify_items": null,
            "grid_row": null,
            "max_height": null,
            "align_content": null,
            "visibility": null,
            "align_self": null,
            "height": null,
            "min_height": null,
            "padding": null,
            "grid_auto_rows": null,
            "grid_gap": null,
            "max_width": null,
            "order": null,
            "_view_module_version": "1.2.0",
            "grid_template_areas": null,
            "object_position": null,
            "object_fit": null,
            "grid_auto_columns": null,
            "margin": null,
            "display": null,
            "left": null
          }
        },
        "ec427bbfa44540b5a255cfdc5973515b": {
          "model_module": "@jupyter-widgets/controls",
          "model_name": "HTMLModel",
          "model_module_version": "1.5.0",
          "state": {
            "_view_name": "HTMLView",
            "style": "IPY_MODEL_b004bef39f3448bdb0c39a62e2372fc0",
            "_dom_classes": [],
            "description": "",
            "_model_name": "HTMLModel",
            "placeholder": "​",
            "_view_module": "@jupyter-widgets/controls",
            "_model_module_version": "1.5.0",
            "value": "100%",
            "_view_count": null,
            "_view_module_version": "1.5.0",
            "description_tooltip": null,
            "_model_module": "@jupyter-widgets/controls",
            "layout": "IPY_MODEL_47524c44e9734029af15f3aefb9bdb99"
          }
        },
        "aec266cb6b0f4196bb192613f861bac3": {
          "model_module": "@jupyter-widgets/controls",
          "model_name": "FloatProgressModel",
          "model_module_version": "1.5.0",
          "state": {
            "_view_name": "ProgressView",
            "style": "IPY_MODEL_8368770a5ce842ae8596d250d143b987",
            "_dom_classes": [],
            "description": "",
            "_model_name": "FloatProgressModel",
            "bar_style": "success",
            "max": 574673361,
            "_view_module": "@jupyter-widgets/controls",
            "_model_module_version": "1.5.0",
            "value": 574673361,
            "_view_count": null,
            "_view_module_version": "1.5.0",
            "orientation": "horizontal",
            "min": 0,
            "description_tooltip": null,
            "_model_module": "@jupyter-widgets/controls",
            "layout": "IPY_MODEL_7daca4257db64e859310c3aab3ece01d"
          }
        },
        "1fbbd66bc517440aa1bb3a146fb62a69": {
          "model_module": "@jupyter-widgets/controls",
          "model_name": "HTMLModel",
          "model_module_version": "1.5.0",
          "state": {
            "_view_name": "HTMLView",
            "style": "IPY_MODEL_9ab6779b0bb3465687120dd3bd666a62",
            "_dom_classes": [],
            "description": "",
            "_model_name": "HTMLModel",
            "placeholder": "​",
            "_view_module": "@jupyter-widgets/controls",
            "_model_module_version": "1.5.0",
            "value": " 548M/548M [00:02&lt;00:00, 288MB/s]",
            "_view_count": null,
            "_view_module_version": "1.5.0",
            "description_tooltip": null,
            "_model_module": "@jupyter-widgets/controls",
            "layout": "IPY_MODEL_e7f818ac33db49e691d92551f07b516e"
          }
        },
        "b004bef39f3448bdb0c39a62e2372fc0": {
          "model_module": "@jupyter-widgets/controls",
          "model_name": "DescriptionStyleModel",
          "model_module_version": "1.5.0",
          "state": {
            "_view_name": "StyleView",
            "_model_name": "DescriptionStyleModel",
            "description_width": "",
            "_view_module": "@jupyter-widgets/base",
            "_model_module_version": "1.5.0",
            "_view_count": null,
            "_view_module_version": "1.2.0",
            "_model_module": "@jupyter-widgets/controls"
          }
        },
        "47524c44e9734029af15f3aefb9bdb99": {
          "model_module": "@jupyter-widgets/base",
          "model_name": "LayoutModel",
          "model_module_version": "1.2.0",
          "state": {
            "_view_name": "LayoutView",
            "grid_template_rows": null,
            "right": null,
            "justify_content": null,
            "_view_module": "@jupyter-widgets/base",
            "overflow": null,
            "_model_module_version": "1.2.0",
            "_view_count": null,
            "flex_flow": null,
            "width": null,
            "min_width": null,
            "border": null,
            "align_items": null,
            "bottom": null,
            "_model_module": "@jupyter-widgets/base",
            "top": null,
            "grid_column": null,
            "overflow_y": null,
            "overflow_x": null,
            "grid_auto_flow": null,
            "grid_area": null,
            "grid_template_columns": null,
            "flex": null,
            "_model_name": "LayoutModel",
            "justify_items": null,
            "grid_row": null,
            "max_height": null,
            "align_content": null,
            "visibility": null,
            "align_self": null,
            "height": null,
            "min_height": null,
            "padding": null,
            "grid_auto_rows": null,
            "grid_gap": null,
            "max_width": null,
            "order": null,
            "_view_module_version": "1.2.0",
            "grid_template_areas": null,
            "object_position": null,
            "object_fit": null,
            "grid_auto_columns": null,
            "margin": null,
            "display": null,
            "left": null
          }
        },
        "8368770a5ce842ae8596d250d143b987": {
          "model_module": "@jupyter-widgets/controls",
          "model_name": "ProgressStyleModel",
          "model_module_version": "1.5.0",
          "state": {
            "_view_name": "StyleView",
            "_model_name": "ProgressStyleModel",
            "description_width": "",
            "_view_module": "@jupyter-widgets/base",
            "_model_module_version": "1.5.0",
            "_view_count": null,
            "_view_module_version": "1.2.0",
            "bar_color": null,
            "_model_module": "@jupyter-widgets/controls"
          }
        },
        "7daca4257db64e859310c3aab3ece01d": {
          "model_module": "@jupyter-widgets/base",
          "model_name": "LayoutModel",
          "model_module_version": "1.2.0",
          "state": {
            "_view_name": "LayoutView",
            "grid_template_rows": null,
            "right": null,
            "justify_content": null,
            "_view_module": "@jupyter-widgets/base",
            "overflow": null,
            "_model_module_version": "1.2.0",
            "_view_count": null,
            "flex_flow": null,
            "width": null,
            "min_width": null,
            "border": null,
            "align_items": null,
            "bottom": null,
            "_model_module": "@jupyter-widgets/base",
            "top": null,
            "grid_column": null,
            "overflow_y": null,
            "overflow_x": null,
            "grid_auto_flow": null,
            "grid_area": null,
            "grid_template_columns": null,
            "flex": null,
            "_model_name": "LayoutModel",
            "justify_items": null,
            "grid_row": null,
            "max_height": null,
            "align_content": null,
            "visibility": null,
            "align_self": null,
            "height": null,
            "min_height": null,
            "padding": null,
            "grid_auto_rows": null,
            "grid_gap": null,
            "max_width": null,
            "order": null,
            "_view_module_version": "1.2.0",
            "grid_template_areas": null,
            "object_position": null,
            "object_fit": null,
            "grid_auto_columns": null,
            "margin": null,
            "display": null,
            "left": null
          }
        },
        "9ab6779b0bb3465687120dd3bd666a62": {
          "model_module": "@jupyter-widgets/controls",
          "model_name": "DescriptionStyleModel",
          "model_module_version": "1.5.0",
          "state": {
            "_view_name": "StyleView",
            "_model_name": "DescriptionStyleModel",
            "description_width": "",
            "_view_module": "@jupyter-widgets/base",
            "_model_module_version": "1.5.0",
            "_view_count": null,
            "_view_module_version": "1.2.0",
            "_model_module": "@jupyter-widgets/controls"
          }
        },
        "e7f818ac33db49e691d92551f07b516e": {
          "model_module": "@jupyter-widgets/base",
          "model_name": "LayoutModel",
          "model_module_version": "1.2.0",
          "state": {
            "_view_name": "LayoutView",
            "grid_template_rows": null,
            "right": null,
            "justify_content": null,
            "_view_module": "@jupyter-widgets/base",
            "overflow": null,
            "_model_module_version": "1.2.0",
            "_view_count": null,
            "flex_flow": null,
            "width": null,
            "min_width": null,
            "border": null,
            "align_items": null,
            "bottom": null,
            "_model_module": "@jupyter-widgets/base",
            "top": null,
            "grid_column": null,
            "overflow_y": null,
            "overflow_x": null,
            "grid_auto_flow": null,
            "grid_area": null,
            "grid_template_columns": null,
            "flex": null,
            "_model_name": "LayoutModel",
            "justify_items": null,
            "grid_row": null,
            "max_height": null,
            "align_content": null,
            "visibility": null,
            "align_self": null,
            "height": null,
            "min_height": null,
            "padding": null,
            "grid_auto_rows": null,
            "grid_gap": null,
            "max_width": null,
            "order": null,
            "_view_module_version": "1.2.0",
            "grid_template_areas": null,
            "object_position": null,
            "object_fit": null,
            "grid_auto_columns": null,
            "margin": null,
            "display": null,
            "left": null
          }
        }
      }
    }
  },
  "cells": [
    {
      "cell_type": "markdown",
      "metadata": {
        "id": "view-in-github",
        "colab_type": "text"
      },
      "source": [
        "<a href=\"https://colab.research.google.com/github/MeenTers/Project/blob/main/Car_DMG.ipynb\" target=\"_parent\"><img src=\"https://colab.research.google.com/assets/colab-badge.svg\" alt=\"Open In Colab\"/></a>"
      ]
    },
    {
      "cell_type": "markdown",
      "source": [
        "# Setup "
      ],
      "metadata": {
        "id": "_maYuD_Nfnmp"
      }
    },
    {
      "cell_type": "code",
      "execution_count": 1,
      "metadata": {
        "colab": {
          "base_uri": "https://localhost:8080/"
        },
        "id": "OiVvR_TSe50-",
        "outputId": "c763e38d-d398-4388-960f-ca48fcac06fc"
      },
      "outputs": [
        {
          "output_type": "stream",
          "name": "stdout",
          "text": [
            "  % Total    % Received % Xferd  Average Speed   Time    Time     Time  Current\n",
            "                                 Dload  Upload   Total   Spent    Left  Speed\n",
            "100   118  100   118    0     0    280      0 --:--:-- --:--:-- --:--:--   280\n",
            "100  404k    0  404k    0     0   679k      0 --:--:-- --:--:-- --:--:--  679k\n",
            "Collecting git+https://github.com/facebookresearch/pytorch3d.git@stable\n",
            "  Cloning https://github.com/facebookresearch/pytorch3d.git (to revision stable) to /tmp/pip-req-build-mnt6978d\n",
            "  Running command git clone -q https://github.com/facebookresearch/pytorch3d.git /tmp/pip-req-build-mnt6978d\n",
            "  Running command git checkout -q 3fc3ea507bfbf7e1c2d5023a6db202698206f91d\n",
            "Collecting fvcore\n",
            "  Downloading fvcore-0.1.5.post20220119.tar.gz (55 kB)\n",
            "\u001b[K     |████████████████████████████████| 55 kB 3.5 MB/s \n",
            "\u001b[?25hCollecting iopath\n",
            "  Downloading iopath-0.1.9-py3-none-any.whl (27 kB)\n",
            "Requirement already satisfied: numpy in /usr/local/lib/python3.7/dist-packages (from fvcore->pytorch3d==0.6.1) (1.19.5)\n",
            "Collecting yacs>=0.1.6\n",
            "  Downloading yacs-0.1.8-py3-none-any.whl (14 kB)\n",
            "Collecting pyyaml>=5.1\n",
            "  Downloading PyYAML-6.0-cp37-cp37m-manylinux_2_5_x86_64.manylinux1_x86_64.manylinux_2_12_x86_64.manylinux2010_x86_64.whl (596 kB)\n",
            "\u001b[K     |████████████████████████████████| 596 kB 65.7 MB/s \n",
            "\u001b[?25hRequirement already satisfied: tqdm in /usr/local/lib/python3.7/dist-packages (from fvcore->pytorch3d==0.6.1) (4.62.3)\n",
            "Requirement already satisfied: termcolor>=1.1 in /usr/local/lib/python3.7/dist-packages (from fvcore->pytorch3d==0.6.1) (1.1.0)\n",
            "Requirement already satisfied: Pillow in /usr/local/lib/python3.7/dist-packages (from fvcore->pytorch3d==0.6.1) (7.1.2)\n",
            "Requirement already satisfied: tabulate in /usr/local/lib/python3.7/dist-packages (from fvcore->pytorch3d==0.6.1) (0.8.9)\n",
            "Collecting portalocker\n",
            "  Downloading portalocker-2.3.2-py2.py3-none-any.whl (15 kB)\n",
            "Building wheels for collected packages: pytorch3d, fvcore\n",
            "  Building wheel for pytorch3d (setup.py) ... \u001b[?25l\u001b[?25hdone\n",
            "  Created wheel for pytorch3d: filename=pytorch3d-0.6.1-cp37-cp37m-linux_x86_64.whl size=30527351 sha256=11f62fc4ebb3d1f82153fbd6dc2ddaab4abedfe7aee29a67ea1d8350b8653f32\n",
            "  Stored in directory: /tmp/pip-ephem-wheel-cache-s5xgq5ne/wheels/4c/03/f0/326bb241eb86a155a12f217c81e163fbba48424bb84fa22074\n",
            "  Building wheel for fvcore (setup.py) ... \u001b[?25l\u001b[?25hdone\n",
            "  Created wheel for fvcore: filename=fvcore-0.1.5.post20220119-py3-none-any.whl size=65267 sha256=58d7e22087c02f6ca101684266e43bbad8646e950bc183ed596ec49c38c8119c\n",
            "  Stored in directory: /root/.cache/pip/wheels/f3/b8/eb/61ed840f80d7198725bc061872b6019a7b3e9db4dbadf68083\n",
            "Successfully built pytorch3d fvcore\n",
            "Installing collected packages: pyyaml, portalocker, yacs, iopath, fvcore, pytorch3d\n",
            "  Attempting uninstall: pyyaml\n",
            "    Found existing installation: PyYAML 3.13\n",
            "    Uninstalling PyYAML-3.13:\n",
            "      Successfully uninstalled PyYAML-3.13\n",
            "Successfully installed fvcore-0.1.5.post20220119 iopath-0.1.9 portalocker-2.3.2 pytorch3d-0.6.1 pyyaml-6.0 yacs-0.1.8\n"
          ]
        }
      ],
      "source": [
        "import os\n",
        "import sys\n",
        "import torch\n",
        "import numpy as np\n",
        "import json\n",
        "if torch.__version__=='1.6.0+cu101' and sys.platform.startswith('linux'):\n",
        "    !pip install pytorch3d\n",
        "else:\n",
        "    need_pytorch3d=False\n",
        "    try:\n",
        "        import pytorch3d\n",
        "    except ModuleNotFoundError:\n",
        "        need_pytorch3d=True\n",
        "    if need_pytorch3d:\n",
        "        !curl -LO https://github.com/NVIDIA/cub/archive/1.10.0.tar.gz\n",
        "        !tar xzf 1.10.0.tar.gz\n",
        "        os.environ[\"CUB_HOME\"] = os.getcwd() + \"/cub-1.10.0\"\n",
        "        !pip install 'git+https://github.com/facebookresearch/pytorch3d.git@stable'"
      ]
    },
    {
      "cell_type": "code",
      "source": [
        "!pip install utils"
      ],
      "metadata": {
        "colab": {
          "base_uri": "https://localhost:8080/"
        },
        "id": "054kFIg3kG7H",
        "outputId": "595e3d64-fe84-4386-ede5-1b455998004f"
      },
      "execution_count": 2,
      "outputs": [
        {
          "output_type": "stream",
          "name": "stdout",
          "text": [
            "Collecting utils\n",
            "  Downloading utils-1.0.1-py2.py3-none-any.whl (21 kB)\n",
            "Installing collected packages: utils\n",
            "Successfully installed utils-1.0.1\n"
          ]
        }
      ]
    },
    {
      "cell_type": "code",
      "source": [
        "!pip install Params"
      ],
      "metadata": {
        "colab": {
          "base_uri": "https://localhost:8080/"
        },
        "id": "PtimBxdDkOQ0",
        "outputId": "176c69cf-52db-4953-980f-5d14dbda1b7c"
      },
      "execution_count": 5,
      "outputs": [
        {
          "output_type": "stream",
          "name": "stdout",
          "text": [
            "Collecting Params\n",
            "  Downloading params-0.9.0-py3-none-any.whl (11 kB)\n",
            "Requirement already satisfied: six in /usr/local/lib/python3.7/dist-packages (from Params) (1.15.0)\n",
            "Installing collected packages: Params\n",
            "Successfully installed Params-0.9.0\n"
          ]
        }
      ]
    },
    {
      "cell_type": "code",
      "source": [
        "import matplotlib.pyplot as plt\n",
        "from skimage.io import imread\n",
        "from utils import *\n",
        "\n",
        "# Util function for loading meshes\n",
        "from pytorch3d.io import load_obj\n",
        "\n",
        "# Data structures and functions for rendering\n",
        "from pytorch3d.structures import Meshes\n",
        "from pytorch3d.renderer import (\n",
        "    look_at_view_transform,\n",
        "    FoVPerspectiveCameras, \n",
        "    FoVOrthographicCameras, \n",
        "    Materials, \n",
        "    RasterizationSettings, \n",
        "    MeshRenderer, \n",
        "    MeshRasterizer,  \n",
        "    SoftPhongShader,\n",
        "    TexturesVertex,\n",
        "    TexturesAtlas,\n",
        "    PointsRenderer,\n",
        "    PointsRasterizationSettings,\n",
        "    PointsRasterizer\n",
        ")"
      ],
      "metadata": {
        "id": "L63sKbkLkImz"
      },
      "execution_count": 3,
      "outputs": []
    },
    {
      "cell_type": "code",
      "source": [
        "# Set our device:\n",
        "if torch.cuda.is_available():\n",
        "    device = torch.device(\"cuda:0\")\n",
        "    torch.cuda.set_device(device)\n",
        "else:\n",
        "    device = torch.device(\"cpu\")"
      ],
      "metadata": {
        "id": "xOOzM2G4kKOo"
      },
      "execution_count": 4,
      "outputs": []
    },
    {
      "cell_type": "markdown",
      "source": [
        "# Install TH SARABUN"
      ],
      "metadata": {
        "id": "OS-TyDPEkyyt"
      }
    },
    {
      "cell_type": "code",
      "source": [
        "!wget -q https://github.com/Phonbopit/sarabun-webfont/raw/master/fonts/thsarabunnew-webfont.ttf"
      ],
      "metadata": {
        "id": "YXocQ9Unkviy"
      },
      "execution_count": 14,
      "outputs": []
    },
    {
      "cell_type": "code",
      "source": [
        "# !pip install -U --pre matplotlib  \n",
        "import matplotlib as mpl\n",
        "mpl.font_manager.fontManager.addfont('thsarabunnew-webfont.ttf')\n",
        "mpl.rc('font', family='TH Sarabun New')"
      ],
      "metadata": {
        "id": "atcr8pbWk1vV"
      },
      "execution_count": 15,
      "outputs": []
    },
    {
      "cell_type": "markdown",
      "source": [
        "# Import Functions"
      ],
      "metadata": {
        "id": "S7q_oZNCkR4b"
      }
    },
    {
      "cell_type": "code",
      "source": [
        "import torch\n",
        "from torch import nn, load, utils\n",
        "from tqdm import tqdm\n",
        "import matplotlib.pyplot as plt\n",
        "import numpy as np\n",
        "from torchvision import datasets, transforms, models\n",
        "from torchvision.models.vgg import model_urls\n",
        "from os import path, listdir\n",
        "model_urls['vgg19'] = model_urls['vgg19'].replace('https://', 'http://')"
      ],
      "metadata": {
        "id": "toMlxzAckL9v"
      },
      "execution_count": 6,
      "outputs": []
    },
    {
      "cell_type": "code",
      "source": [
        "from scipy.spatial import distance_matrix\n",
        "from scipy.spatial import distance\n",
        "import pandas as pd\n",
        "import matplotlib.image as mpimg\n",
        "import matplotlib.pyplot as plt\n",
        "import cv2"
      ],
      "metadata": {
        "id": "E0stXKjfkWU0"
      },
      "execution_count": 7,
      "outputs": []
    },
    {
      "cell_type": "code",
      "source": [
        "from PIL import Image \n",
        "import PIL\n",
        "import os"
      ],
      "metadata": {
        "id": "vgJZTps9kXzI"
      },
      "execution_count": 71,
      "outputs": []
    },
    {
      "cell_type": "markdown",
      "source": [
        "# VGG Model"
      ],
      "metadata": {
        "id": "2-GCrTCykfSN"
      }
    },
    {
      "cell_type": "code",
      "source": [
        "class VGG:\n",
        "\tdef __init__(self):\n",
        "\t\tmodel = models.vgg19(pretrained=True, progress=True)\n",
        "\t\tmodel.classifier = nn.Sequential(*list(model.classifier.children())[:3])\n",
        "\t\tself.model = model.cuda().eval()\n",
        "\n",
        "\tdef __call__(self, x):\n",
        "\t\treturn self.model(x)"
      ],
      "metadata": {
        "id": "YBBA6aofkiuu"
      },
      "execution_count": 9,
      "outputs": []
    },
    {
      "cell_type": "code",
      "source": [
        "vgg = VGG()"
      ],
      "metadata": {
        "colab": {
          "base_uri": "https://localhost:8080/",
          "height": 66,
          "referenced_widgets": [
            "f81f55c212c64dea95a280ecef5ee1ee",
            "cf8e3682badb46ad8c9e1a1ae8716dc7",
            "ec427bbfa44540b5a255cfdc5973515b",
            "aec266cb6b0f4196bb192613f861bac3",
            "1fbbd66bc517440aa1bb3a146fb62a69",
            "b004bef39f3448bdb0c39a62e2372fc0",
            "47524c44e9734029af15f3aefb9bdb99",
            "8368770a5ce842ae8596d250d143b987",
            "7daca4257db64e859310c3aab3ece01d",
            "9ab6779b0bb3465687120dd3bd666a62",
            "e7f818ac33db49e691d92551f07b516e"
          ]
        },
        "id": "cuR_BcOSkknf",
        "outputId": "1b5c5b00-88ed-4c40-c391-77ee1b45c410"
      },
      "execution_count": 10,
      "outputs": [
        {
          "output_type": "stream",
          "name": "stderr",
          "text": [
            "Downloading: \"http://download.pytorch.org/models/vgg19-dcbb9e9d.pth\" to /root/.cache/torch/hub/checkpoints/vgg19-dcbb9e9d.pth\n"
          ]
        },
        {
          "output_type": "display_data",
          "data": {
            "application/vnd.jupyter.widget-view+json": {
              "model_id": "f81f55c212c64dea95a280ecef5ee1ee",
              "version_minor": 0,
              "version_major": 2
            },
            "text/plain": [
              "  0%|          | 0.00/548M [00:00<?, ?B/s]"
            ]
          },
          "metadata": {}
        }
      ]
    },
    {
      "cell_type": "markdown",
      "source": [
        "# Create Functions"
      ],
      "metadata": {
        "id": "hL6ieeeokaRR"
      }
    },
    {
      "cell_type": "code",
      "source": [
        "def get_features(model, loader):\n",
        "    features = []\n",
        "    with torch.no_grad():\n",
        "        for batch, _ in tqdm(loader):\n",
        "            if torch.cuda.is_available():\n",
        "                batch = batch.cuda()\n",
        "            b_features = model(batch).detach().cpu().numpy()\n",
        "            for f in b_features:\n",
        "                features.append(f)\n",
        "\n",
        "    return features"
      ],
      "metadata": {
        "id": "J_FKgVehkZQC"
      },
      "execution_count": 11,
      "outputs": []
    },
    {
      "cell_type": "code",
      "source": [
        "def get_dataset(images_path):\n",
        "  transform = transforms.Compose([\n",
        "    transforms.Resize(size=32),\n",
        "    transforms.ToTensor(),\n",
        "    transforms.Normalize((0.4914, 0.4822, 0.4465), (0.2023, 0.1994, 0.2010)),\n",
        "  ])\n",
        "\n",
        "  dataset = datasets.ImageFolder(images_path, transform=transform)\n",
        "  loader = utils.data.DataLoader(dataset, batch_size=100, shuffle=False, num_workers=1, pin_memory=True)\n",
        "  return dataset, loader"
      ],
      "metadata": {
        "id": "Ui0nIJGTkqDJ"
      },
      "execution_count": 12,
      "outputs": []
    },
    {
      "cell_type": "code",
      "source": [
        "def get_euclidean(base_car,diff_view):\n",
        "    dist = []\n",
        "    for i in range(len(diff_view)):\n",
        "        x = distance.euclidean(base_car[i],diff_view[i])\n",
        "        dist.append(x)\n",
        "    return(dist)"
      ],
      "metadata": {
        "id": "mHJDr1SOks1V"
      },
      "execution_count": 16,
      "outputs": []
    },
    {
      "cell_type": "code",
      "source": [
        "def get_damage(distance):\n",
        "    f_car = ((distance[0] - 3.57)/(37.564-3.57)*100)\n",
        "    r_car = ((distance[1] - 4.308)/(37.966-4.308)*100)\n",
        "    b_car = ((distance[2] - 3.401)/(21.090-3.401)*100)\n",
        "    l_car = ((distance[3] - 11.230)/(48.075-11.230)*100)\n",
        "    print(f'ด้านหน้าของรถยนต์มีความเสียหาย {round(f_car,2)}%')\n",
        "    print(f'ด้านขวาของรถยนต์มีความเสียหาย {round(r_car,2)}%')\n",
        "    print(f'ด้านหลังของรถยนต์มีความเสียหาย {round(b_car,2)}%')\n",
        "    print(f'ด้านซ้ายของรถยนต์มีความเสียหาย {round(l_car,2)}%')"
      ],
      "metadata": {
        "id": "StNPO_xFyusM"
      },
      "execution_count": 94,
      "outputs": []
    },
    {
      "cell_type": "code",
      "source": [
        "def tensor_to_image(tensor):\n",
        "    tensor = tensor*255\n",
        "    tensor = np.array(tensor, dtype=np.uint8)\n",
        "    if np.ndim(tensor)>3:\n",
        "        assert tensor.shape[0] == 1\n",
        "        tensor = tensor[0]\n",
        "    return PIL.Image.fromarray(tensor)"
      ],
      "metadata": {
        "id": "7MtKLxEXoktj"
      },
      "execution_count": 31,
      "outputs": []
    },
    {
      "cell_type": "code",
      "source": [
        "def get_image_base(obj_filename,image_size,dist,device=device):\n",
        "    verts, faces, aux = load_obj(\n",
        "        obj_filename,\n",
        "        device=device,\n",
        "        load_textures=True,\n",
        "        create_texture_atlas=True,\n",
        "        texture_atlas_size=4,\n",
        "        texture_wrap=\"repeat\"\n",
        "         )\n",
        "    \n",
        "    atlas = aux.texture_atlas\n",
        "   \n",
        "    mesh = Meshes(\n",
        "        verts=[verts],\n",
        "        faces=[faces.verts_idx],\n",
        "        textures=TexturesAtlas(atlas=[atlas]),) \n",
        "    R, T = look_at_view_transform(dist = 0, elev = \n",
        "                              0, azim = 0) \n",
        "    cameras = FoVPerspectiveCameras(device=device, R=R, T=T)\n",
        "\n",
        " \n",
        "    raster_settings = RasterizationSettings(\n",
        "                      image_size = image_size, \n",
        "                      blur_radius = 0.0, \n",
        "                      faces_per_pixel = 1, \n",
        "                      )\n",
        "\n",
        "\n",
        "    rasterizer = MeshRasterizer(\n",
        "                  cameras=cameras, \n",
        "                  raster_settings=raster_settings\n",
        "        )\n",
        "    shader = SoftPhongShader(device , cameras = cameras)\n",
        "    renderer = MeshRenderer(rasterizer, shader)\n",
        "    batch_size = 4\n",
        "    meshes = mesh.extend(batch_size)\n",
        "    elev = torch.linspace(0, 360, batch_size)\n",
        "    azim = [0,90,180,270]\n",
        "    R, T = look_at_view_transform(dist = dist, elev = 0, azim = azim)\n",
        "    cameras = FoVPerspectiveCameras(device=device, R=R, T=T)\n",
        "    images = renderer(meshes, cameras=cameras)\n",
        "    save = []\n",
        "    for i in range(len(images)) :\n",
        "        ims =  tensor_to_image(images[i].cpu().numpy())\n",
        "        save.append(ims)\n",
        "    !mkdir -p \"base/base_car/\"\n",
        "    for i in range(len(save)) :\n",
        "        save[i].save(\"base/base_car/\"+'ID1_'+str(i)+\".png\")"
      ],
      "metadata": {
        "id": "RfZliQmlk6OY"
      },
      "execution_count": 84,
      "outputs": []
    },
    {
      "cell_type": "code",
      "source": [
        "def get_image_dmg(obj_filename,image_size,dist,device=device):\n",
        "    verts, faces, aux = load_obj(\n",
        "        obj_filename,\n",
        "        device=device,\n",
        "        load_textures=True,\n",
        "        create_texture_atlas=True,\n",
        "        texture_atlas_size=4,\n",
        "        texture_wrap=\"repeat\"\n",
        "         )\n",
        "    \n",
        "    atlas = aux.texture_atlas\n",
        "   \n",
        "    mesh = Meshes(\n",
        "        verts=[verts],\n",
        "        faces=[faces.verts_idx],\n",
        "        textures=TexturesAtlas(atlas=[atlas]),) \n",
        "    R, T = look_at_view_transform(dist = 0, elev = \n",
        "                              0, azim = 0) \n",
        "    cameras = FoVPerspectiveCameras(device=device, R=R, T=T)\n",
        "\n",
        " \n",
        "    raster_settings = RasterizationSettings(\n",
        "                      image_size = image_size, \n",
        "                      blur_radius = 0.0, \n",
        "                      faces_per_pixel = 1, \n",
        "                      )\n",
        "\n",
        "\n",
        "    rasterizer = MeshRasterizer(\n",
        "                  cameras=cameras, \n",
        "                  raster_settings=raster_settings\n",
        "        )\n",
        "    shader = SoftPhongShader(device , cameras = cameras)\n",
        "    renderer = MeshRenderer(rasterizer, shader)\n",
        "    batch_size = 4\n",
        "    meshes = mesh.extend(batch_size)\n",
        "    elev = torch.linspace(0, 360, batch_size)\n",
        "    azim = [0,90,180,270]\n",
        "    R, T = look_at_view_transform(dist = dist, elev = 0, azim = azim)\n",
        "    cameras = FoVPerspectiveCameras(device=device, R=R, T=T)\n",
        "    images = renderer(meshes, cameras=cameras)\n",
        "    save = []\n",
        "    for i in range(len(images)) :\n",
        "        ims =  tensor_to_image(images[i].cpu().numpy())\n",
        "        save.append(ims)\n",
        "    !mkdir -p \"dmg/car_dmg/\"\n",
        "    for i in range(len(save)) :\n",
        "        save[i].save(\"dmg/car_dmg/\"+'ID1_'+str(i)+\".png\")"
      ],
      "metadata": {
        "id": "2ACzeKgbxymv"
      },
      "execution_count": 87,
      "outputs": []
    },
    {
      "cell_type": "code",
      "source": [
        "obj1 = '/content/ID1.obj'\n",
        "obj2 = '/content/ID1dmgf.obj'"
      ],
      "metadata": {
        "id": "QP0I5rZDnOi5"
      },
      "execution_count": 88,
      "outputs": []
    },
    {
      "cell_type": "code",
      "source": [
        "get_image_base(obj1,1024,5)"
      ],
      "metadata": {
        "colab": {
          "base_uri": "https://localhost:8080/"
        },
        "id": "AgGR-a2YnJCQ",
        "outputId": "5ca2950c-dc7c-4a98-a58c-00e3972b5eb6"
      },
      "execution_count": 86,
      "outputs": [
        {
          "output_type": "stream",
          "name": "stderr",
          "text": [
            "/usr/local/lib/python3.7/dist-packages/pytorch3d/io/obj_io.py:533: UserWarning: Mtl file does not exist: /content/ID1.mtl\n",
            "  warnings.warn(f\"Mtl file does not exist: {f}\")\n"
          ]
        }
      ]
    },
    {
      "cell_type": "code",
      "source": [
        "get_image_dmg(obj2,1024,5)"
      ],
      "metadata": {
        "colab": {
          "base_uri": "https://localhost:8080/"
        },
        "id": "UecubRPVuM_L",
        "outputId": "e23dae19-b735-4fb2-c424-57876d6ac17c"
      },
      "execution_count": 89,
      "outputs": [
        {
          "output_type": "stream",
          "name": "stderr",
          "text": [
            "/usr/local/lib/python3.7/dist-packages/pytorch3d/io/obj_io.py:533: UserWarning: Mtl file does not exist: /content/ID1dmgf.mtl\n",
            "  warnings.warn(f\"Mtl file does not exist: {f}\")\n"
          ]
        }
      ]
    },
    {
      "cell_type": "code",
      "source": [
        "car1_dataset , car1_loader = get_dataset(r'/content/base')\n",
        "dmg1_dataset , dmg1_loader = get_dataset(r'/content/dmg')"
      ],
      "metadata": {
        "id": "QefoYubqyL9d"
      },
      "execution_count": 91,
      "outputs": []
    },
    {
      "cell_type": "code",
      "source": [
        "id1b = get_features(vgg,car1_loader)\n",
        "id1d = get_features(vgg,dmg1_loader)"
      ],
      "metadata": {
        "colab": {
          "base_uri": "https://localhost:8080/"
        },
        "id": "o5RuVIv2yfwi",
        "outputId": "9f7dd802-1990-4f77-84aa-9fb7eea1f2d3"
      },
      "execution_count": 92,
      "outputs": [
        {
          "output_type": "stream",
          "name": "stderr",
          "text": [
            "100%|██████████| 1/1 [00:00<00:00,  2.59it/s]\n",
            "100%|██████████| 1/1 [00:00<00:00,  3.82it/s]\n"
          ]
        }
      ]
    },
    {
      "cell_type": "code",
      "source": [
        "id1 = get_euclidean(id1b,id1d)\n",
        "id1"
      ],
      "metadata": {
        "colab": {
          "base_uri": "https://localhost:8080/"
        },
        "id": "HfHzAWLGyqTo",
        "outputId": "ece82b02-fd57-4144-e90e-7e811d0fd742"
      },
      "execution_count": 93,
      "outputs": [
        {
          "output_type": "execute_result",
          "data": {
            "text/plain": [
              "[23.755023956298828, 9.630194664001465, 0.0, 4.260119438171387]"
            ]
          },
          "metadata": {},
          "execution_count": 93
        }
      ]
    },
    {
      "cell_type": "code",
      "source": [
        "get_damage(id1)"
      ],
      "metadata": {
        "colab": {
          "base_uri": "https://localhost:8080/"
        },
        "id": "aX4CBN92ysS8",
        "outputId": "8530d71d-10f6-401c-8cd2-47d478268cfa"
      },
      "execution_count": 95,
      "outputs": [
        {
          "output_type": "stream",
          "name": "stdout",
          "text": [
            "ด้านหน้าของรถยนต์มีความเสียหาย 59.38%\n",
            "ด้านขวาของรถยนต์มีความเสียหาย 15.81%\n",
            "ด้านหลังของรถยนต์มีความเสียหาย -19.23%\n",
            "ด้านซ้ายของรถยนต์มีความเสียหาย -18.92%\n"
          ]
        }
      ]
    },
    {
      "cell_type": "code",
      "source": [
        ""
      ],
      "metadata": {
        "id": "ons4d4wyy4AQ"
      },
      "execution_count": null,
      "outputs": []
    }
  ]
}