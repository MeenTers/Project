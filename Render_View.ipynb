{
  "nbformat": 4,
  "nbformat_minor": 0,
  "metadata": {
    "colab": {
      "name": "Render_View.ipynb",
      "provenance": [],
      "mount_file_id": "https://github.com/MeenTers/Project/blob/main/Render_View.ipynb",
      "authorship_tag": "ABX9TyOPRr3xPEjnjvENHpYXP5fd",
      "include_colab_link": true
    },
    "kernelspec": {
      "name": "python3",
      "display_name": "Python 3"
    },
    "language_info": {
      "name": "python"
    },
    "accelerator": "GPU"
  },
  "cells": [
    {
      "cell_type": "markdown",
      "metadata": {
        "id": "view-in-github",
        "colab_type": "text"
      },
      "source": [
        "<a href=\"https://colab.research.google.com/github/MeenTers/Project/blob/main/Render_View.ipynb\" target=\"_parent\"><img src=\"https://colab.research.google.com/assets/colab-badge.svg\" alt=\"Open In Colab\"/></a>"
      ]
    },
    {
      "cell_type": "markdown",
      "source": [
        "# Setup pytorch 3D"
      ],
      "metadata": {
        "id": "DkisllfsSeFq"
      }
    },
    {
      "cell_type": "code",
      "execution_count": 1,
      "metadata": {
        "colab": {
          "base_uri": "https://localhost:8080/"
        },
        "id": "4HwKOuquSQuA",
        "outputId": "9dbd3af0-9b58-43a2-f05c-66320a0c2850"
      },
      "outputs": [
        {
          "output_type": "stream",
          "name": "stdout",
          "text": [
            "  % Total    % Received % Xferd  Average Speed   Time    Time     Time  Current\n",
            "                                 Dload  Upload   Total   Spent    Left  Speed\n",
            "100   128  100   128    0     0    677      0 --:--:-- --:--:-- --:--:--   677\n",
            "100  404k    0  404k    0     0   328k      0 --:--:--  0:00:01 --:--:--  444k\n",
            "Collecting git+https://github.com/facebookresearch/pytorch3d.git@stable\n",
            "  Cloning https://github.com/facebookresearch/pytorch3d.git (to revision stable) to /tmp/pip-req-build-oz9k2efc\n",
            "  Running command git clone -q https://github.com/facebookresearch/pytorch3d.git /tmp/pip-req-build-oz9k2efc\n",
            "  Running command git checkout -q 3fc3ea507bfbf7e1c2d5023a6db202698206f91d\n",
            "Collecting fvcore\n",
            "  Downloading fvcore-0.1.5.post20220305.tar.gz (50 kB)\n",
            "\u001b[K     |████████████████████████████████| 50 kB 2.8 MB/s \n",
            "\u001b[?25hCollecting iopath\n",
            "  Downloading iopath-0.1.9-py3-none-any.whl (27 kB)\n",
            "Requirement already satisfied: numpy in /usr/local/lib/python3.7/dist-packages (from fvcore->pytorch3d==0.6.1) (1.21.5)\n",
            "Collecting yacs>=0.1.6\n",
            "  Downloading yacs-0.1.8-py3-none-any.whl (14 kB)\n",
            "Collecting pyyaml>=5.1\n",
            "  Downloading PyYAML-6.0-cp37-cp37m-manylinux_2_5_x86_64.manylinux1_x86_64.manylinux_2_12_x86_64.manylinux2010_x86_64.whl (596 kB)\n",
            "\u001b[K     |████████████████████████████████| 596 kB 11.0 MB/s \n",
            "\u001b[?25hRequirement already satisfied: tqdm in /usr/local/lib/python3.7/dist-packages (from fvcore->pytorch3d==0.6.1) (4.63.0)\n",
            "Requirement already satisfied: termcolor>=1.1 in /usr/local/lib/python3.7/dist-packages (from fvcore->pytorch3d==0.6.1) (1.1.0)\n",
            "Requirement already satisfied: Pillow in /usr/local/lib/python3.7/dist-packages (from fvcore->pytorch3d==0.6.1) (7.1.2)\n",
            "Requirement already satisfied: tabulate in /usr/local/lib/python3.7/dist-packages (from fvcore->pytorch3d==0.6.1) (0.8.9)\n",
            "Collecting portalocker\n",
            "  Downloading portalocker-2.4.0-py2.py3-none-any.whl (16 kB)\n",
            "Building wheels for collected packages: pytorch3d, fvcore\n",
            "  Building wheel for pytorch3d (setup.py) ... \u001b[?25l\u001b[?25hdone\n",
            "  Created wheel for pytorch3d: filename=pytorch3d-0.6.1-cp37-cp37m-linux_x86_64.whl size=30325402 sha256=b61320366a9c65a11b60a3494e2e5d6276a34a3ff190ba1085dc9daa0b8e6aba\n",
            "  Stored in directory: /tmp/pip-ephem-wheel-cache-5i5g6n4s/wheels/4c/03/f0/326bb241eb86a155a12f217c81e163fbba48424bb84fa22074\n",
            "  Building wheel for fvcore (setup.py) ... \u001b[?25l\u001b[?25hdone\n",
            "  Created wheel for fvcore: filename=fvcore-0.1.5.post20220305-py3-none-any.whl size=61214 sha256=f2fb10f9b1da5f17aaefb50100cb32610922fff7ad15f1f0bd1efe4dbff49403\n",
            "  Stored in directory: /root/.cache/pip/wheels/b5/b7/6e/43b1693d06fac3633af48db68557513b0a37ab38b0a8b798f9\n",
            "Successfully built pytorch3d fvcore\n",
            "Installing collected packages: pyyaml, portalocker, yacs, iopath, fvcore, pytorch3d\n",
            "  Attempting uninstall: pyyaml\n",
            "    Found existing installation: PyYAML 3.13\n",
            "    Uninstalling PyYAML-3.13:\n",
            "      Successfully uninstalled PyYAML-3.13\n",
            "Successfully installed fvcore-0.1.5.post20220305 iopath-0.1.9 portalocker-2.4.0 pytorch3d-0.6.1 pyyaml-6.0 yacs-0.1.8\n"
          ]
        }
      ],
      "source": [
        "import os\n",
        "import sys\n",
        "import torch\n",
        "import numpy as np\n",
        "import json\n",
        "if torch.__version__=='1.6.0+cu101' and sys.platform.startswith('linux'):\n",
        "    !pip install pytorch3d\n",
        "else:\n",
        "    need_pytorch3d=False\n",
        "    try:\n",
        "        import pytorch3d\n",
        "    except ModuleNotFoundError:\n",
        "        need_pytorch3d=True\n",
        "    if need_pytorch3d:\n",
        "        !curl -LO https://github.com/NVIDIA/cub/archive/1.10.0.tar.gz\n",
        "        !tar xzf 1.10.0.tar.gz\n",
        "        os.environ[\"CUB_HOME\"] = os.getcwd() + \"/cub-1.10.0\"\n",
        "        !pip install 'git+https://github.com/facebookresearch/pytorch3d.git@stable'"
      ]
    },
    {
      "cell_type": "code",
      "source": [
        "!pip install utils"
      ],
      "metadata": {
        "colab": {
          "base_uri": "https://localhost:8080/"
        },
        "id": "-gil_Y7ESn_w",
        "outputId": "96fe7cc9-e6f4-45ff-86cf-9bb6a92f5f86"
      },
      "execution_count": 2,
      "outputs": [
        {
          "output_type": "stream",
          "name": "stdout",
          "text": [
            "Collecting utils\n",
            "  Downloading utils-1.0.1-py2.py3-none-any.whl (21 kB)\n",
            "Installing collected packages: utils\n",
            "Successfully installed utils-1.0.1\n"
          ]
        }
      ]
    },
    {
      "cell_type": "code",
      "source": [
        "!pip install Params"
      ],
      "metadata": {
        "colab": {
          "base_uri": "https://localhost:8080/"
        },
        "id": "h8TULfH-aBhX",
        "outputId": "6a51930d-e6c3-4e72-a914-e2aa657e11bb"
      },
      "execution_count": 3,
      "outputs": [
        {
          "output_type": "stream",
          "name": "stdout",
          "text": [
            "Collecting Params\n",
            "  Downloading params-0.9.0-py3-none-any.whl (11 kB)\n",
            "Requirement already satisfied: six in /usr/local/lib/python3.7/dist-packages (from Params) (1.15.0)\n",
            "Installing collected packages: Params\n",
            "Successfully installed Params-0.9.0\n"
          ]
        }
      ]
    },
    {
      "cell_type": "code",
      "source": [
        "from PIL import Image \n",
        "import PIL"
      ],
      "metadata": {
        "id": "2bWvkIR9mqYK"
      },
      "execution_count": 4,
      "outputs": []
    },
    {
      "cell_type": "code",
      "source": [
        "import matplotlib.pyplot as plt\n",
        "from skimage.io import imread\n",
        "from utils import *\n",
        "\n",
        "# Util function for loading meshes\n",
        "from pytorch3d.io import load_obj\n",
        "\n",
        "# Data structures and functions for rendering\n",
        "from pytorch3d.structures import Meshes\n",
        "from pytorch3d.renderer import (\n",
        "    look_at_view_transform,\n",
        "    FoVPerspectiveCameras, \n",
        "    FoVOrthographicCameras, \n",
        "    Materials, \n",
        "    RasterizationSettings, \n",
        "    MeshRenderer, \n",
        "    MeshRasterizer,  \n",
        "    SoftPhongShader,\n",
        "    TexturesVertex,\n",
        "    TexturesAtlas,\n",
        "    PointsRenderer,\n",
        "    PointsRasterizationSettings,\n",
        "    PointsRasterizer\n",
        ")"
      ],
      "metadata": {
        "id": "BGNMJrRBaCu7"
      },
      "execution_count": 5,
      "outputs": []
    },
    {
      "cell_type": "code",
      "source": [
        "# Set our device:\n",
        "if torch.cuda.is_available():\n",
        "    device = torch.device(\"cuda:0\")\n",
        "    torch.cuda.set_device(device)\n",
        "else:\n",
        "    device = torch.device(\"cpu\")"
      ],
      "metadata": {
        "id": "ynNjdktOaEVi"
      },
      "execution_count": 6,
      "outputs": []
    },
    {
      "cell_type": "code",
      "source": [
        "!wget -q https://github.com/Phonbopit/sarabun-webfont/raw/master/fonts/thsarabunnew-webfont.ttf"
      ],
      "metadata": {
        "id": "30R1W5c_aGC1"
      },
      "execution_count": null,
      "outputs": []
    },
    {
      "cell_type": "code",
      "source": [
        "# !pip install -U --pre matplotlib  \n",
        "import matplotlib as mpl\n",
        "mpl.font_manager.fontManager.addfont('thsarabunnew-webfont.ttf')\n",
        "mpl.rc('font', family='TH Sarabun New')"
      ],
      "metadata": {
        "id": "zMb69oYKaH9p"
      },
      "execution_count": null,
      "outputs": []
    },
    {
      "cell_type": "code",
      "source": [
        "def tensor_to_image(tensor):\n",
        "    tensor = tensor*255\n",
        "    tensor = np.array(tensor, dtype=np.uint8)\n",
        "    if np.ndim(tensor)>3:\n",
        "        assert tensor.shape[0] == 1\n",
        "        tensor = tensor[0]\n",
        "    return PIL.Image.fromarray(tensor)"
      ],
      "metadata": {
        "id": "btSLz2QKaNak"
      },
      "execution_count": 7,
      "outputs": []
    },
    {
      "cell_type": "code",
      "source": [
        "!unzip '/content/drive/MyDrive/train_model/3D Model/Right/Most Damage.zip'"
      ],
      "metadata": {
        "id": "vkUaC_A4gLju",
        "outputId": "831c4230-995f-4f3a-acdb-3862eb3ec08f",
        "colab": {
          "base_uri": "https://localhost:8080/"
        }
      },
      "execution_count": 450,
      "outputs": [
        {
          "output_type": "stream",
          "name": "stdout",
          "text": [
            "Archive:  /content/drive/MyDrive/train_model/3D Model/Right/Most Damage.zip\n",
            "replace ID01.obj? [y]es, [n]o, [A]ll, [N]one, [r]ename: A\n",
            "  inflating: ID01.obj                \n",
            "  inflating: ID02.obj                \n",
            "  inflating: ID03.obj                \n",
            "  inflating: ID04.obj                \n",
            "  inflating: ID05.obj                \n",
            "  inflating: ID07.obj                \n",
            "  inflating: ID08.obj                \n"
          ]
        }
      ]
    },
    {
      "cell_type": "code",
      "source": [
        "obj1 = '/content/ID08.obj'"
      ],
      "metadata": {
        "id": "sJlbys7LaYHf"
      },
      "execution_count": 493,
      "outputs": []
    },
    {
      "cell_type": "code",
      "source": [
        "# Get vertices, faces, and auxiliary information:\n",
        "verts, faces, aux = load_obj(\n",
        "    obj1,\n",
        "    device=device,\n",
        "    load_textures=True,\n",
        "    create_texture_atlas=True,\n",
        "    texture_atlas_size=4,\n",
        "    texture_wrap=\"repeat\"\n",
        "     )\n",
        "\n",
        "# Create a textures object\n",
        "atlas = aux.texture_atlas\n",
        "\n",
        "# Initialize the mesh with vertices, faces, and textures.\n",
        "# Created Meshes object\n",
        "capsule_mesh = Meshes(\n",
        "    verts=[verts],\n",
        "    faces=[faces.verts_idx],\n",
        "    textures=TexturesAtlas(atlas=[atlas]),)"
      ],
      "metadata": {
        "colab": {
          "base_uri": "https://localhost:8080/"
        },
        "id": "ky-o1Qm4a7YO",
        "outputId": "7412f7f8-e8c9-4c6c-a94c-e0839792ef95"
      },
      "execution_count": 494,
      "outputs": [
        {
          "output_type": "stream",
          "name": "stderr",
          "text": [
            "/usr/local/lib/python3.7/dist-packages/pytorch3d/io/obj_io.py:533: UserWarning: Mtl file does not exist: /content/ID08.mtl\n",
            "  warnings.warn(f\"Mtl file does not exist: {f}\")\n"
          ]
        }
      ]
    },
    {
      "cell_type": "code",
      "source": [
        "# Initialize the camera with camera distance, elevation, and azimuth angle\n",
        "R, T = look_at_view_transform(dist = 0, elev = \n",
        "                              0, azim = 0) \n",
        "cameras = FoVPerspectiveCameras(device=device, R=R, T=T)\n",
        "\n",
        "# Here we set the output image to be of size 256 x 256 based on config.json \n",
        "raster_settings = RasterizationSettings(\n",
        "    image_size = 1024, \n",
        "    blur_radius = 0.0, \n",
        "    faces_per_pixel = 1, \n",
        ")\n",
        "\n",
        "# Initialize rasterizer by using a MeshRasterizer class\n",
        "rasterizer = MeshRasterizer(\n",
        "        cameras=cameras, \n",
        "        raster_settings=raster_settings\n",
        "    )"
      ],
      "metadata": {
        "id": "pZtjWlmKa-ke"
      },
      "execution_count": 495,
      "outputs": []
    },
    {
      "cell_type": "code",
      "source": [
        "# The textured phong shader interpolates the texture uv coordinates for \n",
        "# each vertex, and samples from a texture image.\n",
        "shader = SoftPhongShader(device = device, cameras = cameras)\n",
        "\n",
        "# Create a mesh renderer by composing a rasterizer and a shader\n",
        "renderer = MeshRenderer(rasterizer, shader)"
      ],
      "metadata": {
        "id": "ePdLKFkBbCbd"
      },
      "execution_count": 496,
      "outputs": []
    },
    {
      "cell_type": "code",
      "source": [
        "# The batch size represents the number of different viewpoints from which we \n",
        "# want to render the mesh.\n",
        "batch_size = 1\n",
        "\n",
        "# Create a batch of meshes by repeating the capsule mesh and associated textures. \n",
        "# Meshes has a useful `extend` method which allows us do this very easily. \n",
        "meshes = capsule_mesh.extend(batch_size)\n",
        "\n",
        "# Get a batch of viewing angles. \n",
        "elev = torch.linspace(0, 360,batch_size)\n",
        "azim = [270]\n",
        "\n",
        "# All the cameras helper methods support mixed type inputs and broadcasting. So we can \n",
        "# view the camera from the same distance and then specify elevation and azimuth angles \n",
        "# for each viewpoint as tensors. \n",
        "R, T = look_at_view_transform(dist = 5, elev = 0, azim = azim)\n",
        "cameras = FoVPerspectiveCameras(device=device, R=R, T=T)\n",
        "# We can pass arbirary keyword arguments to the rasterizer/shader via the renderer\n",
        "# so the renderer does not need to be reinitialized if any of the settings change.\n",
        "images = renderer(meshes, cameras=cameras)"
      ],
      "metadata": {
        "id": "9DnLJJEabEbR"
      },
      "execution_count": 497,
      "outputs": []
    },
    {
      "cell_type": "code",
      "source": [
        "save = []\n",
        "for i in range(len(images)) :\n",
        " ims =  tensor_to_image(images[i].cpu().numpy())\n",
        " save.append(ims)"
      ],
      "metadata": {
        "id": "Fo4jMh7LbIxt"
      },
      "execution_count": 498,
      "outputs": []
    },
    {
      "cell_type": "code",
      "source": [
        "for i in range(len(save)) :\n",
        "  save[i].save('/content/drive/MyDrive/train_model/Damage/Right/Most Damage/Test01/'+'ID08_'+str(3)+\".png\")"
      ],
      "metadata": {
        "id": "bzgY8ik2mmap"
      },
      "execution_count": 499,
      "outputs": []
    },
    {
      "cell_type": "code",
      "source": [
        ""
      ],
      "metadata": {
        "id": "qGxKtDfdmywr"
      },
      "execution_count": null,
      "outputs": []
    }
  ]
}